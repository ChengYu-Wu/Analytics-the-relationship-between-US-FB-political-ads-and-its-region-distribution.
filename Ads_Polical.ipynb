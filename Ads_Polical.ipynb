{
 "cells": [
  {
   "cell_type": "code",
   "execution_count": 1,
   "id": "a2065e47",
   "metadata": {},
   "outputs": [],
   "source": [
    "from pyspark.sql import SparkSession\n",
    "spark = SparkSession\n",
    "spark = SparkSession.builder.appName('project_test3').getOrCreate()"
   ]
  },
  {
   "cell_type": "code",
   "execution_count": 2,
   "id": "4fb1f856",
   "metadata": {},
   "outputs": [],
   "source": [
    "def day_month(m):\n",
    "    if m in [1,3,5,7,8,10,12]:\n",
    "        day = 31\n",
    "    elif m == 2:\n",
    "        day = 28\n",
    "    else:\n",
    "        day = 30\n",
    "    return day\n",
    "\n",
    "day_month(12)\n",
    "\n",
    "year = '2021'\n",
    "month = ('1','2','3','4','5','6','7','8','9','10', '11', '12')\n",
    "day = lambda m: [x+1 for x in range(day_month(m))]\n",
    "\n",
    "hour = ('05', '17')\n",
    "file_names = [f'/data/ProjectDatasetFacebook/FBads-US-{year}{m}{d:02d}-{h}_00_01' for m in month for d in day(m) for h in hour]"
   ]
  },
  {
   "cell_type": "code",
   "execution_count": 140,
   "id": "674dcf41",
   "metadata": {},
   "outputs": [
    {
     "name": "stdout",
     "output_type": "stream",
     "text": [
      "/data/ProjectDatasetFacebook/FBads-US-2021121-17_00_01\n",
      "/data/ProjectDatasetFacebook/FBads-US-2021130-17_00_01\n",
      "/data/ProjectDatasetFacebook/FBads-US-2021201-17_00_01\n",
      "/data/ProjectDatasetFacebook/FBads-US-2021205-05_00_01\n",
      "/data/ProjectDatasetFacebook/FBads-US-2021209-05_00_01\n",
      "/data/ProjectDatasetFacebook/FBads-US-2021214-05_00_01\n",
      "/data/ProjectDatasetFacebook/FBads-US-2021216-17_00_01\n",
      "/data/ProjectDatasetFacebook/FBads-US-2021226-05_00_01\n",
      "/data/ProjectDatasetFacebook/FBads-US-2021229-05_00_01\n",
      "/data/ProjectDatasetFacebook/FBads-US-2021230-05_00_01\n",
      "/data/ProjectDatasetFacebook/FBads-US-2021518-05_00_01\n",
      "/data/ProjectDatasetFacebook/FBads-US-2021603-17_00_01\n",
      "/data/ProjectDatasetFacebook/FBads-US-2021625-17_00_01\n",
      "/data/ProjectDatasetFacebook/FBads-US-2021708-17_00_01\n",
      "/data/ProjectDatasetFacebook/FBads-US-2021715-17_00_01\n",
      "/data/ProjectDatasetFacebook/FBads-US-2021724-05_00_01\n",
      "/data/ProjectDatasetFacebook/FBads-US-2021725-17_00_01\n",
      "/data/ProjectDatasetFacebook/FBads-US-2021804-05_00_01\n",
      "/data/ProjectDatasetFacebook/FBads-US-2021824-05_00_01\n",
      "/data/ProjectDatasetFacebook/FBads-US-2021830-05_00_01\n",
      "/data/ProjectDatasetFacebook/FBads-US-2021901-05_00_01\n",
      "/data/ProjectDatasetFacebook/FBads-US-2021907-05_00_01\n",
      "/data/ProjectDatasetFacebook/FBads-US-2021908-17_00_01\n",
      "/data/ProjectDatasetFacebook/FBads-US-2021925-17_00_01\n",
      "/data/ProjectDatasetFacebook/FBads-US-20211004-17_00_01\n",
      "/data/ProjectDatasetFacebook/FBads-US-20211015-17_00_01\n",
      "/data/ProjectDatasetFacebook/FBads-US-20211018-17_00_01\n",
      "/data/ProjectDatasetFacebook/FBads-US-20211021-05_00_01\n",
      "/data/ProjectDatasetFacebook/FBads-US-20211024-17_00_01\n",
      "/data/ProjectDatasetFacebook/FBads-US-20211028-05_00_01\n",
      "/data/ProjectDatasetFacebook/FBads-US-20211114-05_00_01\n",
      "/data/ProjectDatasetFacebook/FBads-US-20211204-05_00_01\n",
      "/data/ProjectDatasetFacebook/FBads-US-20211212-05_00_01\n"
     ]
    }
   ],
   "source": [
    "for file in file_names:\n",
    "    if path_exists(file) == False:\n",
    "        file_names.remove(file)\n",
    "        print(file)"
   ]
  },
  {
   "cell_type": "code",
   "execution_count": 3,
   "id": "1d17173e",
   "metadata": {},
   "outputs": [],
   "source": [
    "def path_exists(path):\n",
    "    # spark is a SparkSession\n",
    "    sc = spark.sparkContext\n",
    "    fs = sc._jvm.org.apache.hadoop.fs.FileSystem.get(\n",
    "        sc._jvm.java.net.URI.create(path),\n",
    "        sc._jsc.hadoopConfiguration(),\n",
    "    )\n",
    "    return fs.exists(sc._jvm.org.apache.hadoop.fs.Path(path))"
   ]
  },
  {
   "cell_type": "code",
   "execution_count": 39,
   "id": "05508851",
   "metadata": {
    "scrolled": false
   },
   "outputs": [
    {
     "name": "stderr",
     "output_type": "stream",
     "text": [
      "2022-05-22 16:11:58,122 WARN cluster.YarnSchedulerBackend$YarnSchedulerEndpoint: Requesting driver to remove executor 528 for reason Container marked as failed: container_1652753568617_1728_01_000597 on host: ip-100-64-74-141.ap-southeast-2.compute.internal. Exit status: -100. Diagnostics: Container released on a *lost* node.\n",
      "2022-05-22 16:11:58,122 WARN cluster.YarnSchedulerBackend$YarnSchedulerEndpoint: Requesting driver to remove executor 526 for reason Container marked as failed: container_1652753568617_1728_01_000595 on host: ip-100-64-74-141.ap-southeast-2.compute.internal. Exit status: -100. Diagnostics: Container released on a *lost* node.\n",
      "2022-05-22 16:11:58,123 ERROR cluster.YarnScheduler: Lost executor 528 on ip-100-64-74-141.ap-southeast-2.compute.internal: Container marked as failed: container_1652753568617_1728_01_000597 on host: ip-100-64-74-141.ap-southeast-2.compute.internal. Exit status: -100. Diagnostics: Container released on a *lost* node.\n",
      "2022-05-22 16:11:58,125 ERROR cluster.YarnScheduler: Lost executor 526 on ip-100-64-74-141.ap-southeast-2.compute.internal: Container marked as failed: container_1652753568617_1728_01_000595 on host: ip-100-64-74-141.ap-southeast-2.compute.internal. Exit status: -100. Diagnostics: Container released on a *lost* node.\n",
      "                                                                                \r"
     ]
    },
    {
     "data": {
      "text/plain": [
       "DataFrame[ad_creation_time: string, ad_creative_body: string, ad_creative_link_caption: string, ad_creative_link_description: string, ad_creative_link_title: string, ad_delivery_start_time: string, ad_delivery_stop_time: string, ad_snapshot_url: string, currency: string, demographic_distribution: array<struct<age:string,gender:string,percentage:string>>, funding_entity: string, id: string, impressions: struct<lower_bound:string,upper_bound:string>, page_id: string, page_name: string, region_distribution: array<struct<percentage:string,region:string>>, spend: struct<lower_bound:string,upper_bound:string>]"
      ]
     },
     "execution_count": 39,
     "metadata": {},
     "output_type": "execute_result"
    }
   ],
   "source": [
    "for file in file_names:\n",
    "    if path_exists(file) == False:\n",
    "        file_names.remove(file)\n",
    "\n",
    "df=spark.read.json(file_names)\n",
    "df"
   ]
  },
  {
   "cell_type": "code",
   "execution_count": 41,
   "id": "4df444f4",
   "metadata": {},
   "outputs": [
    {
     "name": "stderr",
     "output_type": "stream",
     "text": [
      "[Stage 134:==========================================>          (159 + 6) / 200]\r"
     ]
    },
    {
     "name": "stdout",
     "output_type": "stream",
     "text": [
      "+--------------------------------------+-------+\n",
      "|ad_creative_link_caption              |count  |\n",
      "+--------------------------------------+-------+\n",
      "|secure.actblue.com                    |3378263|\n",
      "|null                                  |3185105|\n",
      "|fb.me                                 |1473974|\n",
      "|facebook.com                          |1161745|\n",
      "|secure.winred.com                     |395407 |\n",
      "|p2a.co                                |379224 |\n",
      "|democrats.org                         |304071 |\n",
      "|secure.ngpvan.com                     |267692 |\n",
      "|aclu.org                              |260462 |\n",
      "|about.fb.com/regulations              |246830 |\n",
      "|fb.com                                |236891 |\n",
      "|NRDCActionFund.org/Act-Now            |227285 |\n",
      "|www.newsbreakapp.com                  |216502 |\n",
      "|americansforprosperity.ivolunteers.com|201114 |\n",
      "|andersonadvocates.com                 |170550 |\n",
      "|energyforprogress.org                 |165563 |\n",
      "|takeaction.doctorswithoutborders.org  |157315 |\n",
      "|action.aclu.org                       |149921 |\n",
      "|screamingfreedom.com                  |149741 |\n",
      "|nrsc.org                              |141617 |\n",
      "+--------------------------------------+-------+\n",
      "only showing top 20 rows\n",
      "\n"
     ]
    },
    {
     "name": "stderr",
     "output_type": "stream",
     "text": [
      "                                                                                \r"
     ]
    }
   ],
   "source": [
    "df_caption = df.groupby(\"ad_creative_link_caption\").count().orderBy(\"count\", ascending=False)\n",
    "df_caption.show(truncate=False)"
   ]
  },
  {
   "cell_type": "code",
   "execution_count": 51,
   "id": "2fe2dcef",
   "metadata": {},
   "outputs": [
    {
     "name": "stdout",
     "output_type": "stream",
     "text": [
      "+----------------+--------------------------------------------------------------------------------------------------------------------------------------------------------------------------------------------------------------------------------------------------------------------------+------------------------+---------------------------------------------------------------------------------------------------------------------------+----------------------+----------------------+---------------------+-----------------------------------------------------------------------------------------------------------------------------------------------------------------------------------------------------------------------------------------------------------------------------+--------+---------------------------------------------------------------------------------------------------------------------------------------------------------------------------------------------------------------------+-------------------------------+----------------+-----------+---------------+---------------------------+----------------------------------------------------------------------------------------------------------------------------------------------------------------------------------------------------------------------------------------------------------------------------------------------------------------------------------------------------------------------------------------------------------------------------------------------------------------------------------------------------------------------------------------------------------------------------------------------------------------------------------------------------------------------------------------------------------------------------------------------------------------------------------------------------------------------------------------------------------------------------------------------------------------------------------------------------------------------------------------------------------------------------------------------------------------------------------------------------------------------+-------+\n",
      "|ad_creation_time|ad_creative_body                                                                                                                                                                                                                                                          |ad_creative_link_caption|ad_creative_link_description                                                                                               |ad_creative_link_title|ad_delivery_start_time|ad_delivery_stop_time|ad_snapshot_url                                                                                                                                                                                                                                                              |currency|demographic_distribution                                                                                                                                                                                             |funding_entity                 |id              |impressions|page_id        |page_name                  |region_distribution                                                                                                                                                                                                                                                                                                                                                                                                                                                                                                                                                                                                                                                                                                                                                                                                                                                                                                                                                                                                                                                                                                   |spend  |\n",
      "+----------------+--------------------------------------------------------------------------------------------------------------------------------------------------------------------------------------------------------------------------------------------------------------------------+------------------------+---------------------------------------------------------------------------------------------------------------------------+----------------------+----------------------+---------------------+-----------------------------------------------------------------------------------------------------------------------------------------------------------------------------------------------------------------------------------------------------------------------------+--------+---------------------------------------------------------------------------------------------------------------------------------------------------------------------------------------------------------------------+-------------------------------+----------------+-----------+---------------+---------------------------+----------------------------------------------------------------------------------------------------------------------------------------------------------------------------------------------------------------------------------------------------------------------------------------------------------------------------------------------------------------------------------------------------------------------------------------------------------------------------------------------------------------------------------------------------------------------------------------------------------------------------------------------------------------------------------------------------------------------------------------------------------------------------------------------------------------------------------------------------------------------------------------------------------------------------------------------------------------------------------------------------------------------------------------------------------------------------------------------------------------------+-------+\n",
      "|2021-04-06      |🚨 NEW ITEM ALERT! 🚨 \n",
      "\n",
      "GET OUR NEW MUG!\n",
      "\n",
      "Shop our Second Amendment Foundation store today!                                                                                                                                                                               |secure.winred.com       |Made in USA 11 oz. Ceramic Handwash only                                                                                   |SHOP NOW >>>>         |2021-04-07            |null                 |https://www.facebook.com/ads/archive/render_ad/?id=132596942178344&access_token=EAAG7mM7GdIsBAC1ByeBkQOjjGyZBzK1ZCL6XZAcNy74O6NZAcDOs28PkOL9FdMlynGYLBDZAOBZCg0UeVXY9hTeIZAL6drC8dM5WtwTls5lO2H03zOWZAD8AeANfOaepBluUL8gpHQC9sPV5hVf6diq5397L261mdfZCZBR4RgkTlqTIZAhKdJtTb2L |USD     |[{55-64, male, 0.071429}, {45-54, male, 0.035714}, {65+, male, 0.535714}, {55-64, female, 0.107143}, {65+, female, 0.25}]                                                                                            |SECOND AMENDMENT FOUNDATION INC|132596942178344 |{0, 999}   |86071521216    |Second Amendment Foundation|[{0.04, Alabama}, {0.04, New Hampshire}, {0.08, Texas}, {0.04, Tennessee}, {0.08, Pennsylvania}, {0.04, Oklahoma}, {0.04, North Carolina}, {0.04, New York}, {0.04, New Jersey}, {0.04, Minnesota}, {0.04, Arizona}, {0.08, Maryland}, {0.04, Kansas}, {0.04, Iowa}, {0.04, Indiana}, {0.04, Illinois}, {0.04, Colorado}, {0.08, California}, {0.04, Arkansas}, {0.08, Virginia}]                                                                                                                                                                                                                                                                                                                                                                                                                                                                                                                                                                                                                                                                                                                                     |{0, 99}|\n",
      "|2021-04-06      |🚨 NEW ITEM ALERT! 🚨 \n",
      "\n",
      "GET OUR NEW MUG!\n",
      "\n",
      "Shop our Second Amendment Foundation store today!                                                                                                                                                                               |secure.winred.com       |Made in USA 11 oz. Ceramic Handwash only                                                                                   |SHOP NOW >>>>         |2021-04-07            |null                 |https://www.facebook.com/ads/archive/render_ad/?id=286991969467236&access_token=EAAG7mM7GdIsBAC1ByeBkQOjjGyZBzK1ZCL6XZAcNy74O6NZAcDOs28PkOL9FdMlynGYLBDZAOBZCg0UeVXY9hTeIZAL6drC8dM5WtwTls5lO2H03zOWZAD8AeANfOaepBluUL8gpHQC9sPV5hVf6diq5397L261mdfZCZBR4RgkTlqTIZAhKdJtTb2L |USD     |[{25-34, male, 0.071429}, {65+, male, 0.5}, {55-64, male, 0.214286}, {65+, female, 0.214286}]                                                                                                                        |SECOND AMENDMENT FOUNDATION INC|286991969467236 |{0, 999}   |86071521216    |Second Amendment Foundation|[{0.153846, Alabama}, {0.076923, Arizona}, {0.076923, Georgia}, {0.076923, Kentucky}, {0.076923, Louisiana}, {0.076923, Missouri}, {0.076923, Montana}, {0.076923, Nebraska}, {0.153846, New York}, {0.076923, Pennsylvania}, {0.076923, Texas}]                                                                                                                                                                                                                                                                                                                                                                                                                                                                                                                                                                                                                                                                                                                                                                                                                                                                      |{0, 99}|\n",
      "|2021-04-06      |🚨 NEW ITEM ALERT! 🚨 \n",
      "\n",
      "GET OUR NEW CAR DECAL!\n",
      "\n",
      "Shop our Second Amendment Foundation store today!                                                                                                                                                                         |secure.winred.com       |Made in USA White vinyl, rear adhesive Set of 2 4” x 4”                                                                    |SHOP NOW >>>>         |2021-04-07            |null                 |https://www.facebook.com/ads/archive/render_ad/?id=352964699478051&access_token=EAAG7mM7GdIsBAC1ByeBkQOjjGyZBzK1ZCL6XZAcNy74O6NZAcDOs28PkOL9FdMlynGYLBDZAOBZCg0UeVXY9hTeIZAL6drC8dM5WtwTls5lO2H03zOWZAD8AeANfOaepBluUL8gpHQC9sPV5hVf6diq5397L261mdfZCZBR4RgkTlqTIZAhKdJtTb2L |USD     |[{65+, male, 1}]                                                                                                                                                                                                     |SECOND AMENDMENT FOUNDATION INC|352964699478051 |{0, 999}   |86071521216    |Second Amendment Foundation|[{0.5, Arizona}, {0.5, Wyoming}]                                                                                                                                                                                                                                                                                                                                                                                                                                                                                                                                                                                                                                                                                                                                                                                                                                                                                                                                                                                                                                                                                      |{0, 99}|\n",
      "|2021-04-06      |🚨 NEW ITEM ALERT! 🚨 \n",
      "\n",
      "GET OUR NEW MUG!\n",
      "\n",
      "Shop our Second Amendment Foundation store today!                                                                                                                                                                               |secure.winred.com       |Made in USA 11 oz. Ceramic Handwash only                                                                                   |SHOP NOW >>>>         |2021-04-07            |null                 |https://www.facebook.com/ads/archive/render_ad/?id=442194533541927&access_token=EAAG7mM7GdIsBAC1ByeBkQOjjGyZBzK1ZCL6XZAcNy74O6NZAcDOs28PkOL9FdMlynGYLBDZAOBZCg0UeVXY9hTeIZAL6drC8dM5WtwTls5lO2H03zOWZAD8AeANfOaepBluUL8gpHQC9sPV5hVf6diq5397L261mdfZCZBR4RgkTlqTIZAhKdJtTb2L |USD     |[{65+, female, 0.25}, {45-54, female, 0.25}, {55-64, male, 0.25}, {65+, male, 0.25}]                                                                                                                                 |SECOND AMENDMENT FOUNDATION INC|442194533541927 |{0, 999}   |86071521216    |Second Amendment Foundation|[{0.75, California}, {0.25, Iowa}]                                                                                                                                                                                                                                                                                                                                                                                                                                                                                                                                                                                                                                                                                                                                                                                                                                                                                                                                                                                                                                                                                    |{0, 99}|\n",
      "|2021-04-06      |🚨 NEW ITEM ALERT! 🚨 \n",
      "\n",
      "GET OUR NEW CAMO HAT!\n",
      "\n",
      "Shop our Second Amendment Foundation store today!                                                                                                                                                                          |secure.winred.com       |Made in USA 100% cotton chino twill Structured, six-panel, mid-profile Pre-curved visor Sewn eyelets Hook-and-loop closure |SHOP NOW >>>>         |2021-04-07            |null                 |https://www.facebook.com/ads/archive/render_ad/?id=461199678424274&access_token=EAAG7mM7GdIsBAC1ByeBkQOjjGyZBzK1ZCL6XZAcNy74O6NZAcDOs28PkOL9FdMlynGYLBDZAOBZCg0UeVXY9hTeIZAL6drC8dM5WtwTls5lO2H03zOWZAD8AeANfOaepBluUL8gpHQC9sPV5hVf6diq5397L261mdfZCZBR4RgkTlqTIZAhKdJtTb2L |USD     |[{65+, female, 0.090909}, {45-54, female, 0.090909}, {35-44, male, 0.136364}, {55-64, male, 0.227273}, {45-54, male, 0.090909}, {55-64, female, 0.090909}, {25-34, male, 0.045455}, {65+, male, 0.227273}]           |SECOND AMENDMENT FOUNDATION INC|461199678424274 |{0, 999}   |86071521216    |Second Amendment Foundation|[{0.045455, Alabama}, {0.090909, Alaska}, {0.045455, Arizona}, {0.045455, Arkansas}, {0.045455, Colorado}, {0.045455, Georgia}, {0.090909, Idaho}, {0.045455, Indiana}, {0.045455, Kentucky}, {0.045455, North Dakota}, {0.090909, Oregon}, {0.090909, Texas}, {0.227273, Washington}, {0.045455, Wisconsin}]                                                                                                                                                                                                                                                                                                                                                                                                                                                                                                                                                                                                                                                                                                                                                                                                         |{0, 99}|\n",
      "|2021-04-06      |🚨 NEW ITEM ALERT! 🚨 \n",
      "\n",
      "GET OUR NEW CAMO HAT!\n",
      "\n",
      "Shop our Second Amendment Foundation store today!                                                                                                                                                                          |secure.winred.com       |Made in USA 100% cotton chino twill Structured, six-panel, mid-profile Pre-curved visor Sewn eyelets Hook-and-loop closure |SHOP NOW >>>>         |2021-04-07            |null                 |https://www.facebook.com/ads/archive/render_ad/?id=485037869520445&access_token=EAAG7mM7GdIsBAC1ByeBkQOjjGyZBzK1ZCL6XZAcNy74O6NZAcDOs28PkOL9FdMlynGYLBDZAOBZCg0UeVXY9hTeIZAL6drC8dM5WtwTls5lO2H03zOWZAD8AeANfOaepBluUL8gpHQC9sPV5hVf6diq5397L261mdfZCZBR4RgkTlqTIZAhKdJtTb2L |USD     |[{65+, male, 0.533333}, {55-64, male, 0.3}, {45-54, male, 0.033333}, {65+, female, 0.133333}]                                                                                                                        |SECOND AMENDMENT FOUNDATION INC|485037869520445 |{0, 999}   |86071521216    |Second Amendment Foundation|[{0.035714, Arkansas}, {0.035714, Michigan}, {0.035714, Utah}, {0.142857, Texas}, {0.071429, Pennsylvania}, {0.035714, North Carolina}, {0.035714, New Mexico}, {0.035714, Nevada}, {0.035714, Indiana}, {0.178571, California}, {0.035714, Illinois}, {0.071429, Idaho}, {0.035714, Georgia}, {0.071429, Florida}, {0.035714, Connecticut}, {0.035714, Colorado}, {0.071429, Virginia}]                                                                                                                                                                                                                                                                                                                                                                                                                                                                                                                                                                                                                                                                                                                              |{0, 99}|\n",
      "|2021-04-06      |🚨 NEW ITEM ALERT! 🚨 \n",
      "\n",
      "GET OUR NEW CAMO HAT!\n",
      "\n",
      "Shop our Second Amendment Foundation store today!                                                                                                                                                                          |secure.winred.com       |Made in USA 100% cotton chino twill Structured, six-panel, mid-profile Pre-curved visor Sewn eyelets Hook-and-loop closure |SHOP NOW >>>>         |2021-04-07            |null                 |https://www.facebook.com/ads/archive/render_ad/?id=502246877443811&access_token=EAAG7mM7GdIsBAC1ByeBkQOjjGyZBzK1ZCL6XZAcNy74O6NZAcDOs28PkOL9FdMlynGYLBDZAOBZCg0UeVXY9hTeIZAL6drC8dM5WtwTls5lO2H03zOWZAD8AeANfOaepBluUL8gpHQC9sPV5hVf6diq5397L261mdfZCZBR4RgkTlqTIZAhKdJtTb2L |USD     |[{55-64, female, 0.333333}, {55-64, male, 0.333333}, {65+, female, 0.333333}]                                                                                                                                        |SECOND AMENDMENT FOUNDATION INC|502246877443811 |{0, 999}   |86071521216    |Second Amendment Foundation|[{0.333333, California}, {0.333333, Indiana}, {0.333333, Washington}]                                                                                                                                                                                                                                                                                                                                                                                                                                                                                                                                                                                                                                                                                                                                                                                                                                                                                                                                                                                                                                                 |{0, 99}|\n",
      "|2021-04-06      |🚨 NEW ITEM ALERT! 🚨 \n",
      "\n",
      "GET OUR NEW MUG!\n",
      "\n",
      "Shop our Second Amendment Foundation store today!                                                                                                                                                                               |secure.winred.com       |Made in USA 11 oz. Ceramic Handwash only                                                                                   |SHOP NOW >>>>         |2021-04-07            |null                 |https://www.facebook.com/ads/archive/render_ad/?id=532884324367471&access_token=EAAG7mM7GdIsBAC1ByeBkQOjjGyZBzK1ZCL6XZAcNy74O6NZAcDOs28PkOL9FdMlynGYLBDZAOBZCg0UeVXY9hTeIZAL6drC8dM5WtwTls5lO2H03zOWZAD8AeANfOaepBluUL8gpHQC9sPV5hVf6diq5397L261mdfZCZBR4RgkTlqTIZAhKdJtTb2L |USD     |[{55-64, female, 0.066667}, {45-54, male, 0.066667}, {55-64, male, 0.18}, {65+, male, 0.38}, {25-34, male, 0.04}, {35-44, male, 0.06}, {65+, female, 0.193333}, {35-44, female, 0.006667}, {25-34, female, 0.006667}]|SECOND AMENDMENT FOUNDATION INC|532884324367471 |{0, 999}   |86071521216    |Second Amendment Foundation|[{0.013986, Alabama}, {0.020979, Oregon}, {0.006993, Nevada}, {0.034965, New Hampshire}, {0.034965, New Jersey}, {0.006993, New Mexico}, {0.027972, New York}, {0.027972, North Carolina}, {0.006993, North Dakota}, {0.013986, Ohio}, {0.013986, Oklahoma}, {0.027972, Pennsylvania}, {0.006993, Montana}, {0.006993, Rhode Island}, {0.020979, South Carolina}, {0.013986, South Dakota}, {0.020979, Tennessee}, {0.111888, Texas}, {0.013986, Utah}, {0.013986, Virginia}, {0.048951, Washington}, {0.013986, West Virginia}, {0.006993, Nebraska}, {0.013986, Missouri}, {0.006993, Alaska}, {0.013986, Idaho}, {0.041958, Arizona}, {0.013986, Arkansas}, {0.055944, California}, {0.034965, Colorado}, {0.013986, Connecticut}, {0.006993, Delaware}, {0.034965, Florida}, {0.013986, Georgia}, {0.006993, Hawaii}, {0.048951, Illinois}, {0.006993, Mississippi}, {0.006993, Indiana}, {0.020979, Iowa}, {0.006993, Kansas}, {0.006993, Kentucky}, {0.027972, Louisiana}, {0.006993, Maine}, {0.006993, Maryland}, {0.006993, Massachusetts}, {0.027972, Michigan}, {0.034965, Minnesota}, {0.013986, Wyoming}]|{0, 99}|\n",
      "|2021-04-06      |🚨 NEW ITEM ALERT! 🚨 \n",
      "\n",
      "GET OUR NEW CAR DECAL!\n",
      "\n",
      "Shop our Second Amendment Foundation store today!                                                                                                                                                                         |secure.winred.com       |Made in USA White vinyl, rear adhesive Set of 2 4” x 4”                                                                    |SHOP NOW >>>>         |2021-04-07            |null                 |https://www.facebook.com/ads/archive/render_ad/?id=672628184140114&access_token=EAAG7mM7GdIsBAC1ByeBkQOjjGyZBzK1ZCL6XZAcNy74O6NZAcDOs28PkOL9FdMlynGYLBDZAOBZCg0UeVXY9hTeIZAL6drC8dM5WtwTls5lO2H03zOWZAD8AeANfOaepBluUL8gpHQC9sPV5hVf6diq5397L261mdfZCZBR4RgkTlqTIZAhKdJtTb2L |USD     |[{65+, male, 1}]                                                                                                                                                                                                     |SECOND AMENDMENT FOUNDATION INC|672628184140114 |{0, 999}   |86071521216    |Second Amendment Foundation|[{1, California}]                                                                                                                                                                                                                                                                                                                                                                                                                                                                                                                                                                                                                                                                                                                                                                                                                                                                                                                                                                                                                                                                                                     |{0, 99}|\n",
      "|2021-04-06      |🚨 NEW ITEM ALERT! 🚨 \n",
      "\n",
      "GET OUR NEW CAR DECAL!\n",
      "\n",
      "Shop our Second Amendment Foundation store today!                                                                                                                                                                         |secure.winred.com       |Made in USA White vinyl, rear adhesive Set of 2 4” x 4”                                                                    |SHOP NOW >>>>         |2021-04-07            |null                 |https://www.facebook.com/ads/archive/render_ad/?id=721567868535827&access_token=EAAG7mM7GdIsBAC1ByeBkQOjjGyZBzK1ZCL6XZAcNy74O6NZAcDOs28PkOL9FdMlynGYLBDZAOBZCg0UeVXY9hTeIZAL6drC8dM5WtwTls5lO2H03zOWZAD8AeANfOaepBluUL8gpHQC9sPV5hVf6diq5397L261mdfZCZBR4RgkTlqTIZAhKdJtTb2L |USD     |[{45-54, male, 0.2}, {65+, male, 0.6}, {55-64, male, 0.2}]                                                                                                                                                           |SECOND AMENDMENT FOUNDATION INC|721567868535827 |{0, 999}   |86071521216    |Second Amendment Foundation|[{0.4, California}, {0.2, Indiana}, {0.2, Oregon}, {0.2, Texas}]                                                                                                                                                                                                                                                                                                                                                                                                                                                                                                                                                                                                                                                                                                                                                                                                                                                                                                                                                                                                                                                      |{0, 99}|\n",
      "|2021-04-06      |🚨 NEW ITEM ALERT! 🚨 \n",
      "\n",
      "GET OUR NEW CAMO HAT!\n",
      "\n",
      "Shop our Second Amendment Foundation store today!                                                                                                                                                                          |secure.winred.com       |Made in USA 100% cotton chino twill Structured, six-panel, mid-profile Pre-curved visor Sewn eyelets Hook-and-loop closure |SHOP NOW >>>>         |2021-04-07            |null                 |https://www.facebook.com/ads/archive/render_ad/?id=1070600553766149&access_token=EAAG7mM7GdIsBAC1ByeBkQOjjGyZBzK1ZCL6XZAcNy74O6NZAcDOs28PkOL9FdMlynGYLBDZAOBZCg0UeVXY9hTeIZAL6drC8dM5WtwTls5lO2H03zOWZAD8AeANfOaepBluUL8gpHQC9sPV5hVf6diq5397L261mdfZCZBR4RgkTlqTIZAhKdJtTb2L|USD     |[{45-54, male, 0.2}, {55-64, male, 0.2}, {65+, male, 0.6}]                                                                                                                                                           |SECOND AMENDMENT FOUNDATION INC|1070600553766149|{0, 999}   |86071521216    |Second Amendment Foundation|[{0.2, Kansas}, {0.2, Michigan}, {0.2, New Hampshire}, {0.4, Washington}]                                                                                                                                                                                                                                                                                                                                                                                                                                                                                                                                                                                                                                                                                                                                                                                                                                                                                                                                                                                                                                             |{0, 99}|\n",
      "|2021-04-06      |🚨 NEW ITEM ALERT! 🚨 \n",
      "\n",
      "GET OUR NEW CAR DECAL!\n",
      "\n",
      "Shop our Second Amendment Foundation store today!                                                                                                                                                                         |secure.winred.com       |Made in USA White vinyl, rear adhesive Set of 2 4” x 4”                                                                    |SHOP NOW >>>>         |2021-04-07            |null                 |https://www.facebook.com/ads/archive/render_ad/?id=1294790124255656&access_token=EAAG7mM7GdIsBAC1ByeBkQOjjGyZBzK1ZCL6XZAcNy74O6NZAcDOs28PkOL9FdMlynGYLBDZAOBZCg0UeVXY9hTeIZAL6drC8dM5WtwTls5lO2H03zOWZAD8AeANfOaepBluUL8gpHQC9sPV5hVf6diq5397L261mdfZCZBR4RgkTlqTIZAhKdJtTb2L|USD     |[{65+, male, 1}]                                                                                                                                                                                                     |SECOND AMENDMENT FOUNDATION INC|1294790124255656|{0, 999}   |86071521216    |Second Amendment Foundation|[{0.5, Arizona}, {0.5, California}]                                                                                                                                                                                                                                                                                                                                                                                                                                                                                                                                                                                                                                                                                                                                                                                                                                                                                                                                                                                                                                                                                   |{0, 99}|\n",
      "|2021-04-06      |🚨 BREAKING NEWS 🚨\n",
      "\n",
      "HUNTER BIDEN MUST BE INVESTIGATED\n",
      "\n",
      "There is evidence that Hunter Biden used drugs when he purchased a handgun. He LIED in order to pass a background check.\n",
      "We must DEMAND that Hunter is investigated!                                              |secure.winred.com       |WinRed - Our technology changes how conservative & center-right groups fundraise online. Join now to start winning in 2020!|DONATE NOW>>>>        |2021-04-07            |null                 |https://www.facebook.com/ads/archive/render_ad/?id=294804838835492&access_token=EAAG7mM7GdIsBAC1ByeBkQOjjGyZBzK1ZCL6XZAcNy74O6NZAcDOs28PkOL9FdMlynGYLBDZAOBZCg0UeVXY9hTeIZAL6drC8dM5WtwTls5lO2H03zOWZAD8AeANfOaepBluUL8gpHQC9sPV5hVf6diq5397L261mdfZCZBR4RgkTlqTIZAhKdJtTb2L |USD     |[{65+, female, 1}]                                                                                                                                                                                                   |SECOND AMENDMENT FOUNDATION INC|294804838835492 |{0, 999}   |86071521216    |Second Amendment Foundation|[{1, California}]                                                                                                                                                                                                                                                                                                                                                                                                                                                                                                                                                                                                                                                                                                                                                                                                                                                                                                                                                                                                                                                                                                     |{0, 99}|\n",
      "|2021-04-06      |🚨 BREAKING: The Radical Left Wants Your Guns 🚨\n",
      "\n",
      "BREAKING NEWS: Congress is going to take your guns!\n",
      "\n",
      "We MUST stop them. You can trust the Second Amendment Foundation to help defend our gun rights in the courts. \n",
      "\n",
      "Donate ANY AMOUNT to stop the radical gun grabbers.|secure.winred.com       |Donate to the Second Amendment Foundation today!                                                                           |DONATE NOW>>>>        |2021-04-07            |null                 |https://www.facebook.com/ads/archive/render_ad/?id=485398259312277&access_token=EAAG7mM7GdIsBAC1ByeBkQOjjGyZBzK1ZCL6XZAcNy74O6NZAcDOs28PkOL9FdMlynGYLBDZAOBZCg0UeVXY9hTeIZAL6drC8dM5WtwTls5lO2H03zOWZAD8AeANfOaepBluUL8gpHQC9sPV5hVf6diq5397L261mdfZCZBR4RgkTlqTIZAhKdJtTb2L |USD     |[{65+, female, 1}]                                                                                                                                                                                                   |SECOND AMENDMENT FOUNDATION INC|485398259312277 |{0, 999}   |86071521216    |Second Amendment Foundation|[{0.5, New Mexico}, {0.5, Washington}]                                                                                                                                                                                                                                                                                                                                                                                                                                                                                                                                                                                                                                                                                                                                                                                                                                                                                                                                                                                                                                                                                |{0, 99}|\n",
      "|2021-04-06      |🚨 BREAKING: The Radical Left Wants Your Guns 🚨\n",
      "\n",
      "BREAKING NEWS: Congress is going to take your guns!\n",
      "\n",
      "We MUST stop them. You can trust the Second Amendment Foundation to help defend our gun rights in the courts. \n",
      "\n",
      "Donate ANY AMOUNT to stop the radical gun grabbers.|secure.winred.com       |Donate to the Second Amendment Foundation today!                                                                           |DONATE NOW>>>>        |2021-04-07            |null                 |https://www.facebook.com/ads/archive/render_ad/?id=810834409641293&access_token=EAAG7mM7GdIsBAC1ByeBkQOjjGyZBzK1ZCL6XZAcNy74O6NZAcDOs28PkOL9FdMlynGYLBDZAOBZCg0UeVXY9hTeIZAL6drC8dM5WtwTls5lO2H03zOWZAD8AeANfOaepBluUL8gpHQC9sPV5hVf6diq5397L261mdfZCZBR4RgkTlqTIZAhKdJtTb2L |USD     |[{65+, female, 0.25}, {65+, male, 0.25}, {55-64, male, 0.25}, {55-64, female, 0.25}]                                                                                                                                 |SECOND AMENDMENT FOUNDATION INC|810834409641293 |{0, 999}   |86071521216    |Second Amendment Foundation|[{0.75, California}, {0.25, Ohio}]                                                                                                                                                                                                                                                                                                                                                                                                                                                                                                                                                                                                                                                                                                                                                                                                                                                                                                                                                                                                                                                                                    |{0, 99}|\n",
      "|2021-04-06      |🚨 The Radical Left Wants Your Guns 🚨\n",
      "\n",
      "BREAKING NEWS: Congress is going to take your guns!\n",
      "\n",
      "We MUST stop them. You can trust the Second Amendment Foundation to help defend our gun rights in the courts. \n",
      "\n",
      "Donate ANY AMOUNT to stop the radical gun grabbers.          |secure.winred.com       |Donate to the Second Amendment Foundation today!                                                                           |DONATE NOW>>>         |2021-04-07            |null                 |https://www.facebook.com/ads/archive/render_ad/?id=955122368588527&access_token=EAAG7mM7GdIsBAC1ByeBkQOjjGyZBzK1ZCL6XZAcNy74O6NZAcDOs28PkOL9FdMlynGYLBDZAOBZCg0UeVXY9hTeIZAL6drC8dM5WtwTls5lO2H03zOWZAD8AeANfOaepBluUL8gpHQC9sPV5hVf6diq5397L261mdfZCZBR4RgkTlqTIZAhKdJtTb2L |USD     |[{65+, female, 0.5}, {65+, unknown, 0.5}]                                                                                                                                                                            |SECOND AMENDMENT FOUNDATION INC|955122368588527 |{0, 999}   |86071521216    |Second Amendment Foundation|[{0.5, Louisiana}, {0.5, Oregon}]                                                                                                                                                                                                                                                                                                                                                                                                                                                                                                                                                                                                                                                                                                                                                                                                                                                                                                                                                                                                                                                                                     |{0, 99}|\n",
      "|2021-04-06      |🚨 BREAKING: The Radical Left Wants Your Guns 🚨\n",
      "\n",
      "BREAKING NEWS: Congress is going to take your guns!\n",
      "\n",
      "We MUST stop them. You can trust the Second Amendment Foundation to help defend our gun rights in the courts. \n",
      "\n",
      "Donate ANY AMOUNT to stop the radical gun grabbers.|secure.winred.com       |Donate to the Second Amendment Foundation today!                                                                           |DONATE NOW>>>>        |2021-04-07            |null                 |https://www.facebook.com/ads/archive/render_ad/?id=1208934052842867&access_token=EAAG7mM7GdIsBAC1ByeBkQOjjGyZBzK1ZCL6XZAcNy74O6NZAcDOs28PkOL9FdMlynGYLBDZAOBZCg0UeVXY9hTeIZAL6drC8dM5WtwTls5lO2H03zOWZAD8AeANfOaepBluUL8gpHQC9sPV5hVf6diq5397L261mdfZCZBR4RgkTlqTIZAhKdJtTb2L|USD     |[{65+, male, 1}]                                                                                                                                                                                                     |SECOND AMENDMENT FOUNDATION INC|1208934052842867|{0, 999}   |86071521216    |Second Amendment Foundation|[{1, Maryland}]                                                                                                                                                                                                                                                                                                                                                                                                                                                                                                                                                                                                                                                                                                                                                                                                                                                                                                                                                                                                                                                                                                       |{0, 99}|\n",
      "|2021-04-06      |🚨 BREAKING: The Radical Left Wants Your Guns 🚨\n",
      "\n",
      "BREAKING NEWS: Congress is going to take your guns!\n",
      "\n",
      "We MUST stop them. You can trust the Second Amendment Foundation to help defend our gun rights in the courts. \n",
      "\n",
      "Donate ANY AMOUNT to stop the radical gun grabbers.|secure.winred.com       |Donate to the Second Amendment Foundation today!                                                                           |DONATE NOW>>>>        |2021-04-07            |null                 |https://www.facebook.com/ads/archive/render_ad/?id=2846765922236734&access_token=EAAG7mM7GdIsBAC1ByeBkQOjjGyZBzK1ZCL6XZAcNy74O6NZAcDOs28PkOL9FdMlynGYLBDZAOBZCg0UeVXY9hTeIZAL6drC8dM5WtwTls5lO2H03zOWZAD8AeANfOaepBluUL8gpHQC9sPV5hVf6diq5397L261mdfZCZBR4RgkTlqTIZAhKdJtTb2L|USD     |[{65+, female, 0.5}, {65+, male, 0.5}]                                                                                                                                                                               |SECOND AMENDMENT FOUNDATION INC|2846765922236734|{0, 999}   |86071521216    |Second Amendment Foundation|[{0.5, Colorado}, {0.5, Wisconsin}]                                                                                                                                                                                                                                                                                                                                                                                                                                                                                                                                                                                                                                                                                                                                                                                                                                                                                                                                                                                                                                                                                   |{0, 99}|\n",
      "|2021-04-06      |🚨 BREAKING: The Radical Left Wants Your Guns 🚨\n",
      "\n",
      "BREAKING NEWS: Congress is going to take your guns!\n",
      "\n",
      "We MUST stop them. You can trust the Second Amendment Foundation to help defend our gun rights in the courts. \n",
      "\n",
      "Donate ANY AMOUNT to stop the radical gun grabbers.|secure.winred.com       |Donate to the Second Amendment Foundation today!                                                                           |DONATE NOW>>>>        |2021-04-07            |null                 |https://www.facebook.com/ads/archive/render_ad/?id=3981077261931228&access_token=EAAG7mM7GdIsBAC1ByeBkQOjjGyZBzK1ZCL6XZAcNy74O6NZAcDOs28PkOL9FdMlynGYLBDZAOBZCg0UeVXY9hTeIZAL6drC8dM5WtwTls5lO2H03zOWZAD8AeANfOaepBluUL8gpHQC9sPV5hVf6diq5397L261mdfZCZBR4RgkTlqTIZAhKdJtTb2L|USD     |[{45-54, male, 0.035714}, {55-64, male, 0.178571}, {65+, male, 0.535714}, {55-64, female, 0.107143}, {65+, female, 0.142857}]                                                                                        |SECOND AMENDMENT FOUNDATION INC|3981077261931228|{0, 999}   |86071521216    |Second Amendment Foundation|[{0.037037, Arizona}, {0.037037, North Carolina}, {0.037037, Virginia}, {0.037037, Texas}, {0.037037, Tennessee}, {0.037037, Pennsylvania}, {0.074074, Oregon}, {0.111111, Ohio}, {0.037037, Nebraska}, {0.037037, Arkansas}, {0.148148, Michigan}, {0.037037, Maryland}, {0.037037, Illinois}, {0.037037, Georgia}, {0.037037, Florida}, {0.037037, Colorado}, {0.111111, California}, {0.074074, Washington}]                                                                                                                                                                                                                                                                                                                                                                                                                                                                                                                                                                                                                                                                                                       |{0, 99}|\n",
      "|2021-04-06      |{{product.brand}}                                                                                                                                                                                                                                                         |secure.actblue.com      |{{product.description}}                                                                                                    |{{product.name}}      |2021-04-06            |null                 |https://www.facebook.com/ads/archive/render_ad/?id=779088466073313&access_token=EAAG7mM7GdIsBAC1ByeBkQOjjGyZBzK1ZCL6XZAcNy74O6NZAcDOs28PkOL9FdMlynGYLBDZAOBZCg0UeVXY9hTeIZAL6drC8dM5WtwTls5lO2H03zOWZAD8AeANfOaepBluUL8gpHQC9sPV5hVf6diq5397L261mdfZCZBR4RgkTlqTIZAhKdJtTb2L |USD     |[{65+, male, 0.244444}, {65+, unknown, 0.044444}, {45-54, female, 0.044444}, {55-64, male, 0.2}, {65+, female, 0.377778}, {55-64, female, 0.066667}, {45-54, male, 0.022222}]                                        |MUST GO FUND                   |779088466073313 |{0, 999}   |107404951440597|Boebert Must Go            |[{0.022727, Alabama}, {0.022727, Oregon}, {0.045455, Florida}, {0.022727, Wisconsin}, {0.113636, Washington}, {0.022727, Virginia}, {0.045455, Texas}, {0.022727, Tennessee}, {0.022727, South Carolina}, {0.022727, Ohio}, {0.022727, Arizona}, {0.022727, New Mexico}, {0.022727, Missouri}, {0.045455, Michigan}, {0.022727, Iowa}, {0.022727, Idaho}, {0.022727, Washington, District of Columbia}, {0.068182, Colorado}, {0.363636, California}, {0.022727, New York}]                                                                                                                                                                                                                                                                                                                                                                                                                                                                                                                                                                                                                                           |{0, 99}|\n",
      "+----------------+--------------------------------------------------------------------------------------------------------------------------------------------------------------------------------------------------------------------------------------------------------------------------+------------------------+---------------------------------------------------------------------------------------------------------------------------+----------------------+----------------------+---------------------+-----------------------------------------------------------------------------------------------------------------------------------------------------------------------------------------------------------------------------------------------------------------------------+--------+---------------------------------------------------------------------------------------------------------------------------------------------------------------------------------------------------------------------+-------------------------------+----------------+-----------+---------------+---------------------------+----------------------------------------------------------------------------------------------------------------------------------------------------------------------------------------------------------------------------------------------------------------------------------------------------------------------------------------------------------------------------------------------------------------------------------------------------------------------------------------------------------------------------------------------------------------------------------------------------------------------------------------------------------------------------------------------------------------------------------------------------------------------------------------------------------------------------------------------------------------------------------------------------------------------------------------------------------------------------------------------------------------------------------------------------------------------------------------------------------------------+-------+\n",
      "only showing top 20 rows\n",
      "\n"
     ]
    },
    {
     "name": "stderr",
     "output_type": "stream",
     "text": [
      "2022-05-23 14:09:53,521 ERROR cluster.YarnScheduler: Lost executor 750 on ip-100-64-74-150.ap-southeast-2.compute.internal: Container marked as failed: container_1652753568617_1728_01_000825 on host: ip-100-64-74-150.ap-southeast-2.compute.internal. Exit status: -100. Diagnostics: Container released on a *lost* node.\n",
      "2022-05-23 14:09:53,523 WARN cluster.YarnSchedulerBackend$YarnSchedulerEndpoint: Requesting driver to remove executor 750 for reason Container marked as failed: container_1652753568617_1728_01_000825 on host: ip-100-64-74-150.ap-southeast-2.compute.internal. Exit status: -100. Diagnostics: Container released on a *lost* node.\n",
      "2022-05-23 14:12:14,696 WARN cluster.YarnSchedulerBackend$YarnSchedulerEndpoint: Requesting driver to remove executor 822 for reason Container marked as failed: container_1652753568617_1728_01_000897 on host: ip-100-64-74-206.ap-southeast-2.compute.internal. Exit status: -100. Diagnostics: Container released on a *lost* node.\n",
      "2022-05-23 14:12:14,696 WARN cluster.YarnSchedulerBackend$YarnSchedulerEndpoint: Requesting driver to remove executor 832 for reason Container marked as failed: container_1652753568617_1728_01_000907 on host: ip-100-64-74-206.ap-southeast-2.compute.internal. Exit status: -100. Diagnostics: Container released on a *lost* node.\n",
      "2022-05-23 14:12:14,696 WARN cluster.YarnSchedulerBackend$YarnSchedulerEndpoint: Requesting driver to remove executor 821 for reason Container marked as failed: container_1652753568617_1728_01_000896 on host: ip-100-64-74-206.ap-southeast-2.compute.internal. Exit status: -100. Diagnostics: Container released on a *lost* node.\n",
      "2022-05-23 14:12:14,696 WARN cluster.YarnSchedulerBackend$YarnSchedulerEndpoint: Requesting driver to remove executor 823 for reason Container marked as failed: container_1652753568617_1728_01_000898 on host: ip-100-64-74-206.ap-southeast-2.compute.internal. Exit status: -100. Diagnostics: Container released on a *lost* node.\n",
      "2022-05-23 14:12:14,696 WARN cluster.YarnSchedulerBackend$YarnSchedulerEndpoint: Requesting driver to remove executor 831 for reason Container marked as failed: container_1652753568617_1728_01_000906 on host: ip-100-64-74-206.ap-southeast-2.compute.internal. Exit status: -100. Diagnostics: Container released on a *lost* node.\n",
      "2022-05-23 14:12:14,696 ERROR cluster.YarnScheduler: Lost executor 822 on ip-100-64-74-206.ap-southeast-2.compute.internal: Container marked as failed: container_1652753568617_1728_01_000897 on host: ip-100-64-74-206.ap-southeast-2.compute.internal. Exit status: -100. Diagnostics: Container released on a *lost* node.\n",
      "2022-05-23 14:12:14,697 ERROR cluster.YarnScheduler: Lost executor 832 on ip-100-64-74-206.ap-southeast-2.compute.internal: Container marked as failed: container_1652753568617_1728_01_000907 on host: ip-100-64-74-206.ap-southeast-2.compute.internal. Exit status: -100. Diagnostics: Container released on a *lost* node.\n",
      "2022-05-23 14:12:14,698 ERROR cluster.YarnScheduler: Lost executor 821 on ip-100-64-74-206.ap-southeast-2.compute.internal: Container marked as failed: container_1652753568617_1728_01_000896 on host: ip-100-64-74-206.ap-southeast-2.compute.internal. Exit status: -100. Diagnostics: Container released on a *lost* node.\n",
      "2022-05-23 14:12:14,698 ERROR cluster.YarnScheduler: Lost executor 823 on ip-100-64-74-206.ap-southeast-2.compute.internal: Container marked as failed: container_1652753568617_1728_01_000898 on host: ip-100-64-74-206.ap-southeast-2.compute.internal. Exit status: -100. Diagnostics: Container released on a *lost* node.\n",
      "2022-05-23 14:12:14,698 ERROR cluster.YarnScheduler: Lost executor 831 on ip-100-64-74-206.ap-southeast-2.compute.internal: Container marked as failed: container_1652753568617_1728_01_000906 on host: ip-100-64-74-206.ap-southeast-2.compute.internal. Exit status: -100. Diagnostics: Container released on a *lost* node.\n",
      "2022-05-23 14:12:14,715 WARN cluster.YarnSchedulerBackend$YarnSchedulerEndpoint: Requesting driver to remove executor 812 for reason Container marked as failed: container_1652753568617_1728_01_000887 on host: ip-100-64-74-206.ap-southeast-2.compute.internal. Exit status: -100. Diagnostics: Container released on a *lost* node.\n",
      "2022-05-23 14:12:14,715 ERROR cluster.YarnScheduler: Lost executor 820 on ip-100-64-74-206.ap-southeast-2.compute.internal: Container marked as failed: container_1652753568617_1728_01_000895 on host: ip-100-64-74-206.ap-southeast-2.compute.internal. Exit status: -100. Diagnostics: Container released on a *lost* node.\n",
      "2022-05-23 14:12:14,715 WARN cluster.YarnSchedulerBackend$YarnSchedulerEndpoint: Requesting driver to remove executor 820 for reason Container marked as failed: container_1652753568617_1728_01_000895 on host: ip-100-64-74-206.ap-southeast-2.compute.internal. Exit status: -100. Diagnostics: Container released on a *lost* node.\n",
      "2022-05-23 14:12:14,716 ERROR cluster.YarnScheduler: Lost executor 812 on ip-100-64-74-206.ap-southeast-2.compute.internal: Container marked as failed: container_1652753568617_1728_01_000887 on host: ip-100-64-74-206.ap-southeast-2.compute.internal. Exit status: -100. Diagnostics: Container released on a *lost* node.\n",
      "2022-05-23 14:13:05,247 ERROR cluster.YarnScheduler: Lost executor 755 on ip-100-64-74-110.ap-southeast-2.compute.internal: Container marked as failed: container_1652753568617_1728_01_000830 on host: ip-100-64-74-110.ap-southeast-2.compute.internal. Exit status: -100. Diagnostics: Container released on a *lost* node.\n",
      "2022-05-23 14:13:05,247 WARN cluster.YarnSchedulerBackend$YarnSchedulerEndpoint: Requesting driver to remove executor 755 for reason Container marked as failed: container_1652753568617_1728_01_000830 on host: ip-100-64-74-110.ap-southeast-2.compute.internal. Exit status: -100. Diagnostics: Container released on a *lost* node.\n",
      "2022-05-23 14:13:05,247 WARN cluster.YarnSchedulerBackend$YarnSchedulerEndpoint: Requesting driver to remove executor 775 for reason Container marked as failed: container_1652753568617_1728_01_000850 on host: ip-100-64-74-110.ap-southeast-2.compute.internal. Exit status: -100. Diagnostics: Container released on a *lost* node.\n",
      "2022-05-23 14:13:05,248 ERROR cluster.YarnScheduler: Lost executor 775 on ip-100-64-74-110.ap-southeast-2.compute.internal: Container marked as failed: container_1652753568617_1728_01_000850 on host: ip-100-64-74-110.ap-southeast-2.compute.internal. Exit status: -100. Diagnostics: Container released on a *lost* node.\n",
      "2022-05-23 14:13:54,649 ERROR cluster.YarnScheduler: Lost executor 796 on ip-100-64-74-163.ap-southeast-2.compute.internal: Container marked as failed: container_1652753568617_1728_01_000871 on host: ip-100-64-74-163.ap-southeast-2.compute.internal. Exit status: -100. Diagnostics: Container released on a *lost* node.\n",
      "2022-05-23 14:13:54,649 WARN cluster.YarnSchedulerBackend$YarnSchedulerEndpoint: Requesting driver to remove executor 796 for reason Container marked as failed: container_1652753568617_1728_01_000871 on host: ip-100-64-74-163.ap-southeast-2.compute.internal. Exit status: -100. Diagnostics: Container released on a *lost* node.\n",
      "2022-05-23 14:17:03,047 ERROR cluster.YarnScheduler: Lost executor 781 on ip-100-64-74-115.ap-southeast-2.compute.internal: Container marked as failed: container_1652753568617_1728_01_000856 on host: ip-100-64-74-115.ap-southeast-2.compute.internal. Exit status: -100. Diagnostics: Container released on a *lost* node.\n",
      "2022-05-23 14:17:03,047 WARN cluster.YarnSchedulerBackend$YarnSchedulerEndpoint: Requesting driver to remove executor 781 for reason Container marked as failed: container_1652753568617_1728_01_000856 on host: ip-100-64-74-115.ap-southeast-2.compute.internal. Exit status: -100. Diagnostics: Container released on a *lost* node.\n",
      "[Stage 146:================================================>    (183 + 2) / 200]\r"
     ]
    },
    {
     "name": "stdout",
     "output_type": "stream",
     "text": [
      "+------------------------+-------+\n",
      "|ad_creative_link_caption|  count|\n",
      "+------------------------+-------+\n",
      "|      secure.actblue.com|3378263|\n",
      "|       secure.winred.com| 395407|\n",
      "+------------------------+-------+\n",
      "\n"
     ]
    },
    {
     "name": "stderr",
     "output_type": "stream",
     "text": [
      "                                                                                \r"
     ]
    }
   ],
   "source": [
    "df_caption_rb = df.where('ad_creative_link_caption = \"secure.actblue.com\" or ad_creative_link_caption = \"secure.winred.com\"')\n",
    "df_caption_rb.show(truncate=False)\n",
    "df_caption_rb.groupby(\"ad_creative_link_caption\").count().orderBy(\"count\", ascending=False).show()"
   ]
  },
  {
   "cell_type": "code",
   "execution_count": null,
   "id": "366bab50",
   "metadata": {},
   "outputs": [],
   "source": []
  },
  {
   "cell_type": "code",
   "execution_count": null,
   "id": "f47eac78",
   "metadata": {},
   "outputs": [],
   "source": [
    "df_title = df.select('ad_creative_link_title').dropna()\n",
    "df_title_1 = df_title.groupby(\"ad_creative_link_title\").count().orderBy(\"count\", ascending=False).limit(20)\n",
    "df_title_1.show(truncate=False)"
   ]
  },
  {
   "cell_type": "code",
   "execution_count": null,
   "id": "5e07ff36",
   "metadata": {},
   "outputs": [],
   "source": [
    "df.createOrReplaceTempView(\"table_ad\")\n",
    "df_ad_BT = spark.sql('select * from table_ad where ad_creative_body like \"%Biden%\" or ad_creative_body like \"%Trump%\"')\n",
    "#df_ad_BT.show()\n",
    "df_ad_BT.createOrReplaceTempView(\"table_ad_BT\")\n",
    "spark.sql('select count(*) from table_ad').show()\n",
    "#spark.sql('select count(*) from table_ad_BT').show()"
   ]
  },
  {
   "cell_type": "code",
   "execution_count": null,
   "id": "aafe3665",
   "metadata": {},
   "outputs": [],
   "source": [
    "spark.sql('select count(*) from table_ad_BT').show()"
   ]
  },
  {
   "cell_type": "code",
   "execution_count": 5,
   "id": "2f02b2ad",
   "metadata": {},
   "outputs": [],
   "source": [
    "file_names_1 = [f'/data/ProjectDatasetFacebook/FBads-US-{year}1{d:02d}-{h}_00_01' for d in day(1) for h in hour]\n",
    "file_names_2 = [f'/data/ProjectDatasetFacebook/FBads-US-{year}2{d:02d}-{h}_00_01' for d in day(2) for h in hour]\n",
    "file_names_3 = [f'/data/ProjectDatasetFacebook/FBads-US-{year}3{d:02d}-{h}_00_01' for d in day(3) for h in hour]\n",
    "file_names_4 = [f'/data/ProjectDatasetFacebook/FBads-US-{year}4{d:02d}-{h}_00_01' for d in day(4) for h in hour]\n",
    "file_names_5 = [f'/data/ProjectDatasetFacebook/FBads-US-{year}5{d:02d}-{h}_00_01' for d in day(5) for h in hour]\n",
    "file_names_6 = [f'/data/ProjectDatasetFacebook/FBads-US-{year}6{d:02d}-{h}_00_01' for d in day(6) for h in hour]\n",
    "file_names_7 = [f'/data/ProjectDatasetFacebook/FBads-US-{year}7{d:02d}-{h}_00_01' for d in day(7) for h in hour]\n",
    "file_names_8 = [f'/data/ProjectDatasetFacebook/FBads-US-{year}8{d:02d}-{h}_00_01' for d in day(8) for h in hour]\n",
    "file_names_9 = [f'/data/ProjectDatasetFacebook/FBads-US-{year}9{d:02d}-{h}_00_01' for d in day(9) for h in hour]\n",
    "file_names_10 = [f'/data/ProjectDatasetFacebook/FBads-US-{year}10{d:02d}-{h}_00_01' for d in day(10) for h in hour]\n",
    "file_names_11 = [f'/data/ProjectDatasetFacebook/FBads-US-{year}11{d:02d}-{h}_00_01' for d in day(11) for h in hour]\n",
    "file_names_12 = [f'/data/ProjectDatasetFacebook/FBads-US-{year}12{d:02d}-{h}_00_01' for d in day(12) for h in hour]\n",
    "file_names_months = [file_names_1,file_names_2,file_names_3,file_names_4,file_names_5,file_names_6,file_names_7,file_names_8,file_names_9,file_names_10,file_names_11,file_names_12]"
   ]
  },
  {
   "cell_type": "code",
   "execution_count": 51,
   "id": "926ba366",
   "metadata": {},
   "outputs": [],
   "source": [
    "for i, file_month in enumerate(file_names_months):\n",
    "    for file in file_month:\n",
    "        if path_exists(file) == False:\n",
    "            file_names_months[i].remove(file)"
   ]
  },
  {
   "cell_type": "code",
   "execution_count": 7,
   "id": "187bc505",
   "metadata": {},
   "outputs": [
    {
     "name": "stderr",
     "output_type": "stream",
     "text": [
      "[Stage 2:============================================>              (3 + 1) / 4]\r"
     ]
    },
    {
     "name": "stdout",
     "output_type": "stream",
     "text": [
      "1 finish\n"
     ]
    },
    {
     "name": "stderr",
     "output_type": "stream",
     "text": [
      "                                                                                \r"
     ]
    }
   ],
   "source": [
    "df_1 =spark.read.json(file_names_1)\n",
    "print(\"1 finish\")"
   ]
  },
  {
   "cell_type": "code",
   "execution_count": null,
   "id": "077a1573",
   "metadata": {},
   "outputs": [],
   "source": [
    "df_1.show(truncate=False)"
   ]
  },
  {
   "cell_type": "code",
   "execution_count": 19,
   "id": "024e0d9f",
   "metadata": {},
   "outputs": [
    {
     "name": "stderr",
     "output_type": "stream",
     "text": [
      "                                                                                \r"
     ]
    },
    {
     "name": "stdout",
     "output_type": "stream",
     "text": [
      "+--------+\n",
      "|count(1)|\n",
      "+--------+\n",
      "|   32407|\n",
      "+--------+\n",
      "\n"
     ]
    },
    {
     "name": "stderr",
     "output_type": "stream",
     "text": [
      "[Stage 69:==========================================>           (156 + 4) / 200]\r"
     ]
    },
    {
     "name": "stdout",
     "output_type": "stream",
     "text": [
      "+--------+\n",
      "|count(1)|\n",
      "+--------+\n",
      "|      60|\n",
      "|      60|\n",
      "|      60|\n",
      "|      60|\n",
      "|      60|\n",
      "|      60|\n",
      "|      60|\n",
      "|      60|\n",
      "|      60|\n",
      "|      60|\n",
      "|      60|\n",
      "|      60|\n",
      "|      60|\n",
      "|      60|\n",
      "|      60|\n",
      "|      60|\n",
      "|      60|\n",
      "|      60|\n",
      "|      60|\n",
      "|      60|\n",
      "+--------+\n",
      "only showing top 20 rows\n",
      "\n"
     ]
    },
    {
     "name": "stderr",
     "output_type": "stream",
     "text": [
      "                                                                                \r"
     ]
    }
   ],
   "source": [
    "df_1.createOrReplaceTempView('Table_1')\n",
    "spark.sql('select count(*) from Table_1').show()\n",
    "spark.sql('select count(*) from Table_1 group by id order by count(1) DESC').show()"
   ]
  },
  {
   "cell_type": "code",
   "execution_count": 20,
   "id": "1d53874d",
   "metadata": {},
   "outputs": [
    {
     "name": "stderr",
     "output_type": "stream",
     "text": [
      "                                                                                \r"
     ]
    },
    {
     "name": "stdout",
     "output_type": "stream",
     "text": [
      "2 finish\n"
     ]
    },
    {
     "name": "stderr",
     "output_type": "stream",
     "text": [
      "                                                                                \r"
     ]
    },
    {
     "name": "stdout",
     "output_type": "stream",
     "text": [
      "3 finish\n"
     ]
    },
    {
     "name": "stderr",
     "output_type": "stream",
     "text": [
      "                                                                                \r"
     ]
    },
    {
     "name": "stdout",
     "output_type": "stream",
     "text": [
      "4 finish\n"
     ]
    },
    {
     "name": "stderr",
     "output_type": "stream",
     "text": [
      "                                                                                \r"
     ]
    },
    {
     "name": "stdout",
     "output_type": "stream",
     "text": [
      "5 finish\n"
     ]
    },
    {
     "name": "stderr",
     "output_type": "stream",
     "text": [
      "                                                                                \r"
     ]
    },
    {
     "name": "stdout",
     "output_type": "stream",
     "text": [
      "6 finish\n"
     ]
    },
    {
     "name": "stderr",
     "output_type": "stream",
     "text": [
      "                                                                                \r"
     ]
    },
    {
     "name": "stdout",
     "output_type": "stream",
     "text": [
      "7 finish\n"
     ]
    },
    {
     "name": "stderr",
     "output_type": "stream",
     "text": [
      "[Stage 35:=======================================================>(67 + 1) / 68]\r"
     ]
    },
    {
     "name": "stdout",
     "output_type": "stream",
     "text": [
      "8 finish\n"
     ]
    },
    {
     "name": "stderr",
     "output_type": "stream",
     "text": [
      "                                                                                \r"
     ]
    }
   ],
   "source": [
    "df_2 =spark.read.json(file_names_2)\n",
    "print(\"2 finish\")\n",
    "df_3 =spark.read.json(file_names_3)\n",
    "print(\"3 finish\")\n",
    "df_4 =spark.read.json(file_names_4)\n",
    "print(\"4 finish\")\n",
    "df_5 =spark.read.json(file_names_5)\n",
    "print(\"5 finish\")\n",
    "df_6 =spark.read.json(file_names_6)\n",
    "print(\"6 finish\")\n",
    "df_7 =spark.read.json(file_names_7)\n",
    "print(\"7 finish\")\n",
    "df_8 =spark.read.json(file_names_8)\n",
    "print(\"8 finish\")\n"
   ]
  },
  {
   "cell_type": "code",
   "execution_count": 52,
   "id": "38688d09",
   "metadata": {},
   "outputs": [
    {
     "name": "stderr",
     "output_type": "stream",
     "text": [
      "                                                                                \r"
     ]
    },
    {
     "name": "stdout",
     "output_type": "stream",
     "text": [
      "9 finish\n"
     ]
    },
    {
     "name": "stderr",
     "output_type": "stream",
     "text": [
      "                                                                                \r"
     ]
    },
    {
     "name": "stdout",
     "output_type": "stream",
     "text": [
      "10 finish\n"
     ]
    },
    {
     "name": "stderr",
     "output_type": "stream",
     "text": [
      "                                                                                \r"
     ]
    },
    {
     "name": "stdout",
     "output_type": "stream",
     "text": [
      "11 finish\n"
     ]
    },
    {
     "name": "stderr",
     "output_type": "stream",
     "text": [
      "[Stage 54:=====================================================>(253 + 1) / 254]\r"
     ]
    },
    {
     "name": "stdout",
     "output_type": "stream",
     "text": [
      "12 finish\n"
     ]
    },
    {
     "name": "stderr",
     "output_type": "stream",
     "text": [
      "                                                                                \r"
     ]
    }
   ],
   "source": [
    "df_9 =spark.read.json(file_names_9)\n",
    "print(\"9 finish\")\n",
    "df_10 =spark.read.json(file_names_10)\n",
    "print(\"10 finish\")\n",
    "df_11 =spark.read.json(file_names_11)\n",
    "print(\"11 finish\")\n",
    "df_12 =spark.read.json(file_names_12)\n",
    "print(\"12 finish\")"
   ]
  },
  {
   "cell_type": "code",
   "execution_count": 53,
   "id": "c9c6a134",
   "metadata": {},
   "outputs": [
    {
     "name": "stdout",
     "output_type": "stream",
     "text": [
      "1 finsh\n",
      "2 finsh\n",
      "3 finsh\n",
      "4 finsh\n",
      "5 finsh\n",
      "6 finsh\n",
      "7 finsh\n",
      "8 finsh\n",
      "9 finsh\n",
      "10 finsh\n",
      "11 finsh\n",
      "12 finsh\n"
     ]
    }
   ],
   "source": [
    "for i in range(1,13):\n",
    "    globals()['df_'+str(i)].createOrReplaceTempView(\"table_{}\".format(i))\n",
    "    print('{} finsh'.format(i))"
   ]
  },
  {
   "cell_type": "code",
   "execution_count": 101,
   "id": "dfc32628",
   "metadata": {},
   "outputs": [
    {
     "name": "stderr",
     "output_type": "stream",
     "text": [
      "[Stage 104:>                                                        (0 + 1) / 1]\r"
     ]
    },
    {
     "name": "stdout",
     "output_type": "stream",
     "text": [
      "+----------------------+--------------------+--------------------+----------+--------------+\n",
      "|ad_creative_link_title|    ad_creative_body|      funding_entity|percentage|        region|\n",
      "+----------------------+--------------------+--------------------+----------+--------------+\n",
      "|   New South Super PAC|Georgia - Tuesday...|Community Change ...|         1|       Georgia|\n",
      "|  Everything you ne...|Georgia - Tuesday...|Community Change ...|         1|       Georgia|\n",
      "|  Everything you ne...|Georgia - Tuesday...|Community Change ...|         1|       Georgia|\n",
      "|  Everything you ne...|Georgia - Tuesday...|Community Change ...|         1|       Georgia|\n",
      "|  Everything you ne...|Georgia - Tuesday...|Community Change ...|         1|       Georgia|\n",
      "|   New South Super PAC|Georgia - Tuesday...|Community Change ...|         1|       Georgia|\n",
      "|  Everything you ne...|Georgia - Tuesday...|Community Change ...|         1|       Georgia|\n",
      "|  Why does Kelly Lo...|Why does Kelly Lo...|Robert Emmette Th...|         1|       Georgia|\n",
      "|  Joe Biden on Twitter|Joe Biden says, “...| David None Auerbach|         1|       Georgia|\n",
      "|  'Disgusting': Per...|David Perdue is “...| David None Auerbach|         1|       Georgia|\n",
      "|  Loeffler says she...|Really? She wants...| David None Auerbach|         1|       Georgia|\n",
      "|                  null|We support Jon Os...|  NEW MORAL MAJORITY|  0.910951|       Georgia|\n",
      "|                  null|We support Jon Os...|  NEW MORAL MAJORITY|  0.089049|South Carolina|\n",
      "|  Georgia Deserves ...|Perdue Will Conti...|REPUBLICAN NATION...|         1|       Georgia|\n",
      "|  Georgia Deserves ...|Senator Perdue an...|REPUBLICAN NATION...|         1|       Georgia|\n",
      "|  Georgia Deserves ...|Perdue Will Conti...|REPUBLICAN NATION...|         1|       Georgia|\n",
      "|  Georgia Deserves ...|Ossoff Is Another...|REPUBLICAN NATION...|         1|       Georgia|\n",
      "|  Georgia Deserves ...|Perdue Will Conti...|REPUBLICAN NATION...|         1|       Georgia|\n",
      "|  Georgia Deserves ...|Perdue Will Conti...|REPUBLICAN NATION...|         1|       Georgia|\n",
      "|  Georgia Deserves ...|Ossoff Is Another...|REPUBLICAN NATION...|         1|       Georgia|\n",
      "+----------------------+--------------------+--------------------+----------+--------------+\n",
      "only showing top 20 rows\n",
      "\n"
     ]
    },
    {
     "name": "stderr",
     "output_type": "stream",
     "text": [
      "                                                                                \r"
     ]
    }
   ],
   "source": [
    "from pyspark.sql.functions import arrays_zip, col, explode\n",
    "df_region_1 = df_1.withColumn(\"region_distribution_x\", arrays_zip(\"region_distribution.percentage\",\"region_distribution.region\"))\n",
    "df_region_1 = df_region_1.select(\"ad_creative_link_title\", \"ad_creative_body\", \"funding_entity\",\"region_distribution_x\", explode(\"region_distribution\").alias(\"t_region_distribution\"))\n",
    "df_region_1 = df_region_1.select(\"ad_creative_link_title\", \"ad_creative_body\", \"funding_entity\", \"t_region_distribution.percentage\", \"t_region_distribution.region\")\n",
    "df_region_1.show()"
   ]
  },
  {
   "cell_type": "code",
   "execution_count": 105,
   "id": "34fcd114",
   "metadata": {},
   "outputs": [
    {
     "name": "stderr",
     "output_type": "stream",
     "text": [
      "[Stage 106:===============================================>     (180 + 2) / 200]\r"
     ]
    },
    {
     "name": "stdout",
     "output_type": "stream",
     "text": [
      "+---------------------------------------------------+-----------------------------+\n",
      "|ad_creative_link_title                             |count(ad_creative_link_title)|\n",
      "+---------------------------------------------------+-----------------------------+\n",
      "|{{product.name}}                                   |1991                         |\n",
      "|Patriots, Georgia NEEDS you!                       |1154                         |\n",
      "|Everything you need to vote                        |1026                         |\n",
      "|Be A Voter                                         |584                          |\n",
      "|Get conservative news today that you can trust.    |535                          |\n",
      "|News for conservatives you can trust.              |529                          |\n",
      "|Vote Warnock for Senate. Election Day is January 5 |486                          |\n",
      "|Chip in to help flip the U.S. Senate               |395                          |\n",
      "|Vote for Ossoff and Warnock!                       |388                          |\n",
      "|Vote Perdue/Loeffler on Jan. 5th                   |303                          |\n",
      "|Haz un plan para VOTAR EL 5 DE ENERO               |274                          |\n",
      "|Vote by January 5th!                               |264                          |\n",
      "|Vote TUESDAY, January 5th in the runoff election   |259                          |\n",
      "|Vote.                                              |240                          |\n",
      "|Vote Ossoff & Warnock                              |238                          |\n",
      "|Make a plan to vote.                               |236                          |\n",
      "|Early Voting Has Started. Election Day is January 5|236                          |\n",
      "|Para hacer un plan para votar                      |216                          |\n",
      "|Election Day is January 5th. Make a Plan to Vote   |191                          |\n",
      "|Comenzar prueba                                    |185                          |\n",
      "+---------------------------------------------------+-----------------------------+\n",
      "only showing top 20 rows\n",
      "\n"
     ]
    },
    {
     "name": "stderr",
     "output_type": "stream",
     "text": [
      "                                                                                \r"
     ]
    }
   ],
   "source": [
    "df_region_1.createOrReplaceTempView(\"Table_Georgia_1\")\n",
    "df_region_1_Georgia = spark.sql('select ad_creative_link_title, count(ad_creative_link_title) from Table_Georgia_1 where region = \"Georgia\" group by ad_creative_link_title order by count(ad_creative_link_title) desc')\n",
    "df_region_1_Georgia.show(truncate=False)"
   ]
  },
  {
   "cell_type": "code",
   "execution_count": 138,
   "id": "afaa6f8e",
   "metadata": {},
   "outputs": [
    {
     "name": "stderr",
     "output_type": "stream",
     "text": [
      "                                                                                \r"
     ]
    },
    {
     "data": {
      "text/plain": [
       "[32407, 11945, 14389]"
      ]
     },
     "execution_count": 138,
     "metadata": {},
     "output_type": "execute_result"
    }
   ],
   "source": [
    "df_1_count = df_1.count()\n",
    "title_vote = df_region_1.where('ad_creative_link_title like \"%Vote%\" or ad_creative_link_title like \"%vote%\"').count()\n",
    "body_vote = df_region_1.where('ad_creative_body like \"%Vote%\" or ad_creative_body like \"%vote%\"').count()\n",
    "[df_1_count, title_vote, body_vote]"
   ]
  },
  {
   "cell_type": "code",
   "execution_count": 145,
   "id": "c4dc9079",
   "metadata": {},
   "outputs": [
    {
     "data": {
      "text/html": [
       "<div>\n",
       "<style scoped>\n",
       "    .dataframe tbody tr th:only-of-type {\n",
       "        vertical-align: middle;\n",
       "    }\n",
       "\n",
       "    .dataframe tbody tr th {\n",
       "        vertical-align: top;\n",
       "    }\n",
       "\n",
       "    .dataframe thead th {\n",
       "        text-align: right;\n",
       "    }\n",
       "</style>\n",
       "<table border=\"1\" class=\"dataframe\">\n",
       "  <thead>\n",
       "    <tr style=\"text-align: right;\">\n",
       "      <th></th>\n",
       "      <th>number of January ads in Georgia</th>\n",
       "      <th>number of titles with 'vote'</th>\n",
       "      <th>number of bodies with 'vote'</th>\n",
       "    </tr>\n",
       "  </thead>\n",
       "  <tbody>\n",
       "    <tr>\n",
       "      <th>0</th>\n",
       "      <td>32407</td>\n",
       "      <td>11945</td>\n",
       "      <td>14389</td>\n",
       "    </tr>\n",
       "  </tbody>\n",
       "</table>\n",
       "</div>"
      ],
      "text/plain": [
       "   number of January ads in Georgia  number of titles with 'vote'  \\\n",
       "0                             32407                         11945   \n",
       "\n",
       "   number of bodies with 'vote'  \n",
       "0                         14389  "
      ]
     },
     "execution_count": 145,
     "metadata": {},
     "output_type": "execute_result"
    }
   ],
   "source": [
    "import pandas as pd\n",
    "import numpy as np\n",
    "df_count_1 = pd.DataFrame(np.array([[df_1_count, title_vote, body_vote]]), columns = [\"number of January ads in Georgia\", \"number of titles with 'vote'\", \"number of bodies with 'vote'\"])\n",
    "df_count_1"
   ]
  },
  {
   "cell_type": "code",
   "execution_count": 147,
   "id": "f646c00d",
   "metadata": {},
   "outputs": [
    {
     "data": {
      "text/html": [
       "<div>\n",
       "<style scoped>\n",
       "    .dataframe tbody tr th:only-of-type {\n",
       "        vertical-align: middle;\n",
       "    }\n",
       "\n",
       "    .dataframe tbody tr th {\n",
       "        vertical-align: top;\n",
       "    }\n",
       "\n",
       "    .dataframe thead th {\n",
       "        text-align: right;\n",
       "    }\n",
       "</style>\n",
       "<table border=\"1\" class=\"dataframe\">\n",
       "  <thead>\n",
       "    <tr style=\"text-align: right;\">\n",
       "      <th></th>\n",
       "      <th>% of January ads in Georgia</th>\n",
       "      <th>% of titles with 'vote'</th>\n",
       "      <th>% of bodies with 'vote'</th>\n",
       "    </tr>\n",
       "  </thead>\n",
       "  <tbody>\n",
       "    <tr>\n",
       "      <th>0</th>\n",
       "      <td>1.0</td>\n",
       "      <td>0.368593</td>\n",
       "      <td>0.444009</td>\n",
       "    </tr>\n",
       "  </tbody>\n",
       "</table>\n",
       "</div>"
      ],
      "text/plain": [
       "       % of January ads in Georgia      % of titles with 'vote'  \\\n",
       "0                              1.0                     0.368593   \n",
       "\n",
       "       % of bodies with 'vote'  \n",
       "0                     0.444009  "
      ]
     },
     "execution_count": 147,
     "metadata": {},
     "output_type": "execute_result"
    }
   ],
   "source": [
    "df_per_1 = pd.DataFrame(np.array([[df_1_count/df_1_count, title_vote/df_1_count, body_vote/df_1_count]]), columns = [\"    % of January ads in Georgia\", \"    % of titles with 'vote'\", \"    % of bodies with 'vote'\"])\n",
    "df_per_1"
   ]
  },
  {
   "cell_type": "code",
   "execution_count": 113,
   "id": "b5b189a8",
   "metadata": {},
   "outputs": [
    {
     "name": "stderr",
     "output_type": "stream",
     "text": [
      "[Stage 134:====================================================>(198 + 2) / 200]\r"
     ]
    },
    {
     "name": "stdout",
     "output_type": "stream",
     "text": [
      "+--------------------------------+---------------------+\n",
      "|funding_entity                  |count(funding_entity)|\n",
      "+--------------------------------+---------------------+\n",
      "|Fight For The Base              |2491                 |\n",
      "|Our Friendly Forest             |2137                 |\n",
      "|Black Voters Matter Fund Inc    |1789                 |\n",
      "|REPUBLICAN NATIONAL COMMITTEE   |1671                 |\n",
      "|MAJORITY FORWARD                |1544                 |\n",
      "|MASTV EL PLANETA LLC            |1385                 |\n",
      "|WARNOCK FOR GEORGIA             |1363                 |\n",
      "|Real Voices Media               |1350                 |\n",
      "|WorkMoney                       |1254                 |\n",
      "|BizPac Review                   |1064                 |\n",
      "|JON OSSOFF FOR SENATE           |1032                 |\n",
      "|Democratic Party of Georgia     |950                  |\n",
      "|AB PAC                          |877                  |\n",
      "|Asian American Advocacy Fund PAC|863                  |\n",
      "|TED CRUZ FOR SENATE             |767                  |\n",
      "|RESTORATION PAC                 |743                  |\n",
      "|Asian American Advocacy Fund    |667                  |\n",
      "|Future Coalition                |623                  |\n",
      "|Progress Georgia, Inc.          |620                  |\n",
      "|Feel Good Action                |556                  |\n",
      "+--------------------------------+---------------------+\n",
      "only showing top 20 rows\n",
      "\n"
     ]
    },
    {
     "name": "stderr",
     "output_type": "stream",
     "text": [
      "                                                                                \r"
     ]
    }
   ],
   "source": [
    "df_title_1_Georgia = spark.sql('select funding_entity, count(funding_entity) from Table_Georgia_1 group by funding_entity order by count(funding_entity) desc')\n",
    "df_title_1_Georgia.show(truncate=False)"
   ]
  },
  {
   "cell_type": "code",
   "execution_count": 122,
   "id": "7d28c5a5",
   "metadata": {},
   "outputs": [
    {
     "name": "stderr",
     "output_type": "stream",
     "text": [
      "[Stage 184:============================================>          (60 + 2) / 75]\r"
     ]
    },
    {
     "name": "stdout",
     "output_type": "stream",
     "text": [
      "+--------------------+-------------------+\n",
      "|    ad_creative_body|     funding_entity|\n",
      "+--------------------+-------------------+\n",
      "|Hey Georgia!  Do ...|   MAJORITY FORWARD|\n",
      "|\"Me and Trump Fis...|Our Friendly Forest|\n",
      "|Hey Georgia! Show...|   MAJORITY FORWARD|\n",
      "|Make your plan to...|   MAJORITY FORWARD|\n",
      "|Haga un plan para...|   MAJORITY FORWARD|\n",
      "|Your vote is bigg...| Fight For The Base|\n",
      "|Georgia, we’ve co...| Fight For The Base|\n",
      "|Georgia, we’ve co...| Fight For The Base|\n",
      "|Haz tu plan para ...|   MAJORITY FORWARD|\n",
      "|Healthcare is on ...| Fight For The Base|\n",
      "|Haga su plan para...|   MAJORITY FORWARD|\n",
      "|\"I hit the button...|Our Friendly Forest|\n",
      "|¡Hola Georgia!  H...|   MAJORITY FORWARD|\n",
      "|\"I'm on the road ...|Our Friendly Forest|\n",
      "|Make a plan to vo...|   MAJORITY FORWARD|\n",
      "|   {{product.brand}}|   MAJORITY FORWARD|\n",
      "|We owe it ourselv...| Fight For The Base|\n",
      "|Who you vote for ...|   MAJORITY FORWARD|\n",
      "+--------------------+-------------------+\n",
      "\n"
     ]
    },
    {
     "name": "stderr",
     "output_type": "stream",
     "text": [
      "                                                                                \r"
     ]
    }
   ],
   "source": [
    "fight = spark.sql('select distinct(ad_creative_body), funding_entity from Table_Georgia_1 where funding_entity = \"Fight For The Base\" or funding_entity = \"Our Friendly Forest\" or funding_entity = \"MAJORITY FORWARD\"')\n",
    "fight.show()"
   ]
  },
  {
   "cell_type": "code",
   "execution_count": 110,
   "id": "e49d1ece",
   "metadata": {},
   "outputs": [
    {
     "name": "stderr",
     "output_type": "stream",
     "text": [
      "                                                                                \r"
     ]
    },
    {
     "data": {
      "text/plain": [
       "1438"
      ]
     },
     "execution_count": 110,
     "metadata": {},
     "output_type": "execute_result"
    }
   ],
   "source": [
    "df_1_count = df_1.count()\n",
    "df_1_count\n",
    "df_1_entity_count = df_region_1.where('funding_entity = \"REPUBLICAN NATIONAL COMMITTEE\" AND region = \"Georgia\"').count()\n",
    "df_1_entity_count"
   ]
  },
  {
   "cell_type": "code",
   "execution_count": null,
   "id": "15f9ef6b",
   "metadata": {},
   "outputs": [],
   "source": [
    "df_1.createOrReplaceTempView(\"table_1\")\n",
    "df_title_1 =  spark.sql('SELECT * FROM table_1 Where \"region_distribution.region\" in ([\"Georgia\"])')\n",
    "df_title_1.show()"
   ]
  },
  {
   "cell_type": "code",
   "execution_count": 28,
   "id": "8f277369",
   "metadata": {},
   "outputs": [
    {
     "name": "stdout",
     "output_type": "stream",
     "text": [
      "+----------------+----------------+------------------------+----------------------------+----------------------+----------------------+---------------------+---------------+--------+------------------------+--------------+---+-----------+-------+---------+-------------------+-----+\n",
      "|ad_creation_time|ad_creative_body|ad_creative_link_caption|ad_creative_link_description|ad_creative_link_title|ad_delivery_start_time|ad_delivery_stop_time|ad_snapshot_url|currency|demographic_distribution|funding_entity| id|impressions|page_id|page_name|region_distribution|spend|\n",
      "+----------------+----------------+------------------------+----------------------------+----------------------+----------------------+---------------------+---------------+--------+------------------------+--------------+---+-----------+-------+---------+-------------------+-----+\n",
      "+----------------+----------------+------------------------+----------------------------+----------------------+----------------------+---------------------+---------------+--------+------------------------+--------------+---+-----------+-------+---------+-------------------+-----+\n",
      "\n"
     ]
    }
   ],
   "source": [
    "df_2.createOrReplaceTempView(\"table_2\")\n",
    "df_title_2 =  spark.sql('SELECT * FROM table_2 Where \"region_distribution.region\" = \"Georgia\"')\n",
    "df_title_2.show()"
   ]
  },
  {
   "cell_type": "code",
   "execution_count": null,
   "id": "51230597",
   "metadata": {},
   "outputs": [],
   "source": [
    "df_BT_1 = spark.sql('Select * from table_1 where ad_creative_body like \"%Biden%\" or ad_creative_body like \"%Trump%\"')\n",
    "df_BT_1.createOrReplaceTempView(\"table_BT_1\")\n",
    "spark.sql('Select count(*) from table_1').show()\n",
    "spark.sql('Select count(*) from table_BT_1').show()\n",
    "df_BT_2 = spark.sql('Select * from table_2 where ad_creative_body like \"%Biden%\" or ad_creative_body like \"%Trump%\"')\n",
    "df_BT_2.createOrReplaceTempView(\"table_BT_2\")\n",
    "spark.sql('Select count(*) from table_2').show()\n",
    "spark.sql('Select count(*) from table_BT_2').show()\n",
    "df_BT_3 = spark.sql('Select * from table_3 where ad_creative_body like \"%Biden%\" or ad_creative_body like \"%Trump%\"')\n",
    "df_BT_3.createOrReplaceTempView(\"table_BT_3\")\n",
    "spark.sql('Select count(*) from table_3').show()\n",
    "spark.sql('Select count(*) from table_BT_3').show()\n",
    "df_BT_4 = spark.sql('Select * from table_4 where ad_creative_body like \"%Biden%\" or ad_creative_body like \"%Trump%\"')\n",
    "df_BT_4.createOrReplaceTempView(\"table_BT_4\")\n",
    "spark.sql('Select count(*) from table_4').show()\n",
    "spark.sql('Select count(*) from table_BT_4').show()\n",
    "df_BT_5 = spark.sql('Select * from table_5 where ad_creative_body like \"%Biden%\" or ad_creative_body like \"%Trump%\"')\n",
    "df_BT_5.createOrReplaceTempView(\"table_BT_5\")\n",
    "spark.sql('Select count(*) from table_5').show()\n",
    "spark.sql('Select count(*) from table_BT_5').show()\n",
    "df_BT_6 = spark.sql('Select * from table_6 where ad_creative_body like \"%Biden%\" or ad_creative_body like \"%Trump%\"')\n",
    "df_BT_6.createOrReplaceTempView(\"table_BT_6\")\n",
    "spark.sql('Select count(*) from table_6').show()\n",
    "spark.sql('Select count(*) from table_BT_6').show()\n",
    "df_BT_7 = spark.sql('Select * from table_7 where ad_creative_body like \"%Biden%\" or ad_creative_body like \"%Trump%\"')\n",
    "df_BT_7.createOrReplaceTempView(\"table_BT_7\")\n",
    "spark.sql('Select count(*) from table_7').show()\n",
    "spark.sql('Select count(*) from table_BT_7').show()\n",
    "df_BT_8 = spark.sql('Select * from table_8 where ad_creative_body like \"%Biden%\" or ad_creative_body like \"%Trump%\"')\n",
    "df_BT_8.createOrReplaceTempView(\"table_BT_8\")\n",
    "spark.sql('Select count(*) from table_8').show()\n",
    "spark.sql('Select count(*) from table_BT_8').show()\n",
    "df_BT_9 = spark.sql('Select * from table_9 where ad_creative_body like \"%Biden%\" or ad_creative_body like \"%Trump%\"')\n",
    "df_BT_9.createOrReplaceTempView(\"table_BT_9\")\n",
    "spark.sql('Select count(*) from table_9').show()\n",
    "spark.sql('Select count(*) from table_BT_9').show()\n",
    "df_BT_10 = spark.sql('Select * from table_10 where ad_creative_body like \"%Biden%\" or ad_creative_body like \"%Trump%\"')\n",
    "df_BT_10.createOrReplaceTempView(\"table_BT_10\")\n",
    "spark.sql('Select count(*) from table_10').show()\n",
    "spark.sql('Select count(*) from table_BT_10').show()\n",
    "df_BT_11 = spark.sql('Select * from table_11 where ad_creative_body like \"%Biden%\" or ad_creative_body like \"%Trump%\"')\n",
    "df_BT_11.createOrReplaceTempView(\"table_BT_11\")\n",
    "spark.sql('Select count(*) from table_11').show()\n",
    "spark.sql('Select count(*) from table_BT_11').show()\n",
    "df_BT_12 = spark.sql('Select * from table_12 where ad_creative_body like \"%Biden%\" or ad_creative_body like \"%Trump%\"')\n",
    "df_BT_12.createOrReplaceTempView(\"table_BT_12\")\n",
    "spark.sql('Select count(*) from table_12').show()\n",
    "spark.sql('Select count(*) from table_BT_12').show()\n",
    "\n",
    "count_BT_1 = df_BT_1.count()\n",
    "count_BT_2 = df_BT_2.count()\n",
    "count_BT_3 = df_BT_3.count()\n",
    "count_BT_4 = df_BT_4.count()\n",
    "count_BT_5 = df_BT_5.count()\n",
    "count_BT_6 = df_BT_6.count()\n",
    "count_BT_7 = df_BT_7.count()\n",
    "count_BT_8 = df_BT_8.count()\n",
    "count_BT_9 = df_BT_9.count()\n",
    "count_BT_10 = df_BT_10.count()\n",
    "count_BT_11 = df_BT_11.count()\n",
    "count_BT_12 = df_BT_12.count()\n",
    "\n",
    "count_BT_months = [count_BT_1,count_BT_2,count_BT_3,count_BT_4,count_BT_5,count_BT_6,count_BT_7,count_BT_8,count_BT_9,count_BT_10,count_BT_11,count_BT_12]\n",
    "print(count_BT_months)"
   ]
  },
  {
   "cell_type": "code",
   "execution_count": 23,
   "id": "ad4bc506",
   "metadata": {},
   "outputs": [
    {
     "name": "stderr",
     "output_type": "stream",
     "text": [
      "[Stage 105:>                                                        (0 + 1) / 1]\r"
     ]
    },
    {
     "name": "stdout",
     "output_type": "stream",
     "text": [
      "[32407, 4484, 1234375, 4020413, 2539841, 3127192, 2615254, 2636431, 2839149, 3202097, 4495940, 9595408]\n"
     ]
    },
    {
     "name": "stderr",
     "output_type": "stream",
     "text": [
      "                                                                                \r"
     ]
    }
   ],
   "source": [
    "count_1 = df_1.count()\n",
    "count_2 = df_2.count()\n",
    "count_3 = df_3.count()\n",
    "count_4 = df_4.count()\n",
    "count_5 = df_5.count()\n",
    "count_6 = df_6.count()\n",
    "count_7 = df_7.count()\n",
    "count_8 = df_8.count()\n",
    "count_9 = df_9.count()\n",
    "count_10 = df_10.count()\n",
    "count_11 = df_11.count()\n",
    "count_12 = df_12.count()\n",
    "\n",
    "count_months = [count_1,count_2,count_3,count_4,count_5,count_6,count_7,count_8,count_9,count_10,count_11,count_12]\n",
    "\n",
    "print(count_months)"
   ]
  },
  {
   "cell_type": "code",
   "execution_count": 33,
   "id": "57f72401",
   "metadata": {},
   "outputs": [
    {
     "data": {
      "image/png": "[encoded data removed]",
      "text/plain": [
       "<Figure size 1080x720 with 2 Axes>"
      ]
     },
     "metadata": {
      "needs_background": "light"
     },
     "output_type": "display_data"
    }
   ],
   "source": [
    "months_2021 = ['2021.01','2021.02','2021.03','2021.04','2021.05','2021.06','2021.07','2021.08','2021.09','2021.10','2021.11','2021.12']\n",
    "\n",
    "import pandas as pd\n",
    "import matplotlib.pyplot as plt\n",
    "\n",
    "plt.figure(figsize = (15,10))\n",
    "plt.rcParams['axes.unicode_minus'] = False\n",
    "\n",
    "x = months_2021\n",
    "y1 = count_months\n",
    "y2 = count_BT_months\n",
    "plt.bar(x, y1, width=0.6, color = 'b', label = 'all ads')  \n",
    "plt.legend(loc = 'upper left', fontsize = 15)  \n",
    "plt.xticks(rotation = 315)\n",
    "plt.title(label='AD / AD with \"Trump or \"Biden\" in body', fontdict={'color': 'k', 'size': 30}, loc='center')\n",
    "\n",
    "# 使用twinx()函式為圖表新增次座標軸\n",
    "plt.twinx()  \n",
    "plt.plot(x, y2, color = 'r', linewidth = 3, label = 'ads(Trump/Biden)')  \n",
    "plt.legend(loc = 'upper right', fontsize = 15)  \n",
    "\n",
    "plt.show()"
   ]
  },
  {
   "cell_type": "code",
   "execution_count": 261,
   "id": "2f207d22",
   "metadata": {},
   "outputs": [
    {
     "name": "stderr",
     "output_type": "stream",
     "text": [
      "[Stage 458:================================================>    (183 + 2) / 200]\r"
     ]
    },
    {
     "name": "stdout",
     "output_type": "stream",
     "text": [
      "+-----------------------+------------------+\n",
      "|region                 |sum(percentage)   |\n",
      "+-----------------------+------------------+\n",
      "|Georgia                |26079.984713999904|\n",
      "|All (Automated App Ads)|2802.999951       |\n",
      "|California             |313.5507540000001 |\n",
      "|Texas                  |205.9812960000004 |\n",
      "|Florida                |177.1716649999999 |\n",
      "|New York               |175.2848379999999 |\n",
      "|Pennsylvania           |145.19182699999988|\n",
      "|New Jersey             |136.94606599999992|\n",
      "|Washington             |111.04802800000016|\n",
      "|Ohio                   |108.776818        |\n",
      "|Alabama                |106.12985800000003|\n",
      "|Tennessee              |94.6330399999999  |\n",
      "|Kentucky               |83.98667499999995 |\n",
      "|Massachusetts          |83.88824299999999 |\n",
      "|Colorado               |81.84181099999986 |\n",
      "|Connecticut            |80.457387         |\n",
      "|Oklahoma               |79.31084500000004 |\n",
      "|Missouri               |77.963374         |\n",
      "|Illinois               |75.75543700000009 |\n",
      "|Mississippi            |71.40323499999992 |\n",
      "+-----------------------+------------------+\n",
      "only showing top 20 rows\n",
      "\n"
     ]
    },
    {
     "name": "stderr",
     "output_type": "stream",
     "text": [
      "                                                                                \r"
     ]
    }
   ],
   "source": [
    "from pyspark.sql.functions import arrays_zip, col, explode\n",
    "df_region_1 = df_1.withColumn(\"region_distribution_x\", arrays_zip(\"region_distribution.percentage\",\"region_distribution.region\"))\n",
    "df_region_1 = df_region_1.select(\"ad_creative_link_title\", explode(\"region_distribution\").alias(\"t_region_distribution\"))\n",
    "df_region_1 = df_region_1.select(\"ad_creative_link_title\", \"t_region_distribution.percentage\", \"t_region_distribution.region\")\n",
    "df_region_1 = df_region_1.withColumn(\"percentage\",col(\"percentage\").cast('double')).groupby(\"region\").sum('percentage').orderBy(\"sum(percentage)\", ascending=False)\n",
    "df_region_1.show(truncate=False)"
   ]
  },
  {
   "cell_type": "code",
   "execution_count": 262,
   "id": "7dfa3d7a",
   "metadata": {},
   "outputs": [
    {
     "name": "stderr",
     "output_type": "stream",
     "text": [
      "[Stage 460:=============================================>       (170 + 2) / 200]\r"
     ]
    },
    {
     "name": "stdout",
     "output_type": "stream",
     "text": [
      "+-----------------------+------------------+\n",
      "|region                 |sum(percentage)   |\n",
      "+-----------------------+------------------+\n",
      "|All (Automated App Ads)|2438.999979       |\n",
      "|Georgia                |204.893847        |\n",
      "|Texas                  |112.65848900000012|\n",
      "|Pennsylvania           |93.56942999999998 |\n",
      "|Washington             |89.60202800000008 |\n",
      "|Florida                |88.57675100000013 |\n",
      "|New Jersey             |75.02955499999993 |\n",
      "|North Carolina         |74.19804399999994 |\n",
      "|New York               |69.24729399999998 |\n",
      "|California             |62.36373199999998 |\n",
      "|Virginia               |59.00088199999997 |\n",
      "|Indiana                |57.830943         |\n",
      "|Tennessee              |57.77667299999998 |\n",
      "|Colorado               |56.58316000000001 |\n",
      "|Alabama                |51.86113499999997 |\n",
      "|Ohio                   |51.78692400000003 |\n",
      "|Kentucky               |42.36288899999997 |\n",
      "|South Carolina         |42.27581499999998 |\n",
      "|Wisconsin              |40.84297499999997 |\n",
      "|Missouri               |40.21193199999999 |\n",
      "+-----------------------+------------------+\n",
      "only showing top 20 rows\n",
      "\n"
     ]
    },
    {
     "name": "stderr",
     "output_type": "stream",
     "text": [
      "                                                                                \r"
     ]
    }
   ],
   "source": [
    "df_region_2 = df_2.withColumn(\"region_distribution_x\", arrays_zip(\"region_distribution.percentage\",\"region_distribution.region\")).select(\"ad_creative_link_title\", explode(\"region_distribution\").alias(\"t_region_distribution\")).select(\"ad_creative_link_title\", \"t_region_distribution.percentage\", \"t_region_distribution.region\").withColumn(\"percentage\",col(\"percentage\").cast('double')).groupby(\"region\").sum('percentage').orderBy(\"sum(percentage)\", ascending=False)\n",
    "df_region_2.show(truncate=False)"
   ]
  },
  {
   "cell_type": "code",
   "execution_count": 264,
   "id": "37d1dd67",
   "metadata": {},
   "outputs": [
    {
     "name": "stderr",
     "output_type": "stream",
     "text": [
      "[Stage 462:============================================>       (171 + 29) / 200]\r"
     ]
    },
    {
     "name": "stdout",
     "output_type": "stream",
     "text": [
      "+--------------+------------------+\n",
      "|region        |sum(percentage)   |\n",
      "+--------------+------------------+\n",
      "|California    |122508.35652200018|\n",
      "|Texas         |99782.1742890002  |\n",
      "|New York      |72904.38195800017 |\n",
      "|Illinois      |66725.55082500026 |\n",
      "|Florida       |65636.39886400026 |\n",
      "|Pennsylvania  |50423.198108000215|\n",
      "|Virginia      |40665.275193000125|\n",
      "|North Carolina|39094.49179200015 |\n",
      "|Ohio          |35106.70256500006 |\n",
      "|Washington    |34154.2267200001  |\n",
      "|Michigan      |33176.99180000007 |\n",
      "|Georgia       |32822.64157500009 |\n",
      "|Wisconsin     |32585.51853000009 |\n",
      "|New Jersey    |28160.91632800004 |\n",
      "|Arizona       |27341.392702000037|\n",
      "|Missouri      |27259.88384400001 |\n",
      "|Massachusetts |26836.80534200004 |\n",
      "|Colorado      |26573.70410600005 |\n",
      "|Maryland      |24170.97458799999 |\n",
      "|Oregon        |23275.042314000002|\n",
      "+--------------+------------------+\n",
      "only showing top 20 rows\n",
      "\n"
     ]
    },
    {
     "name": "stderr",
     "output_type": "stream",
     "text": [
      "                                                                                \r"
     ]
    }
   ],
   "source": [
    "df_region_3 = df_3.withColumn(\"region_distribution_x\", arrays_zip(\"region_distribution.percentage\",\"region_distribution.region\")).select(\"ad_creative_link_title\", explode(\"region_distribution\").alias(\"t_region_distribution\")).select(\"ad_creative_link_title\", \"t_region_distribution.percentage\", \"t_region_distribution.region\").withColumn(\"percentage\",col(\"percentage\").cast('double')).groupby(\"region\").sum('percentage').orderBy(\"sum(percentage)\", ascending=False)\n",
    "df_region_3.show(truncate=False)"
   ]
  },
  {
   "cell_type": "code",
   "execution_count": 27,
   "id": "40990f67",
   "metadata": {},
   "outputs": [
    {
     "name": "stderr",
     "output_type": "stream",
     "text": [
      "[Stage 113:================================================>    (184 + 2) / 200]\r"
     ]
    },
    {
     "name": "stdout",
     "output_type": "stream",
     "text": [
      "+--------------+------------------+\n",
      "|region        |sum(percentage)   |\n",
      "+--------------+------------------+\n",
      "|California    |391382.42463300057|\n",
      "|Texas         |363413.8894320003 |\n",
      "|New York      |243610.14313400027|\n",
      "|Florida       |225830.41031100063|\n",
      "|Pennsylvania  |178350.34806200035|\n",
      "|Illinois      |161493.14645200045|\n",
      "|Virginia      |139491.2911000006 |\n",
      "|Washington    |130919.21464700047|\n",
      "|Ohio          |124048.22757900038|\n",
      "|Michigan      |113774.25765600023|\n",
      "|North Carolina|109502.73120600033|\n",
      "|Georgia       |105717.04025000024|\n",
      "|New Jersey    |100385.5104970003 |\n",
      "|Arizona       |97618.91255900018 |\n",
      "|Minnesota     |90128.84778800003 |\n",
      "|Colorado      |84003.77927499996 |\n",
      "|Oregon        |83917.41390600009 |\n",
      "|Maryland      |82298.66872900001 |\n",
      "|Massachusetts |81984.72256499984 |\n",
      "|Wisconsin     |79110.61072600017 |\n",
      "+--------------+------------------+\n",
      "only showing top 20 rows\n",
      "\n"
     ]
    },
    {
     "name": "stderr",
     "output_type": "stream",
     "text": [
      "                                                                                \r"
     ]
    }
   ],
   "source": [
    "df_region_4 = df_4.withColumn(\"region_distribution_x\", arrays_zip(\"region_distribution.percentage\",\"region_distribution.region\")).select(\"ad_creative_link_title\", explode(\"region_distribution\").alias(\"t_region_distribution\")).select(\"ad_creative_link_title\", \"t_region_distribution.percentage\", \"t_region_distribution.region\").withColumn(\"percentage\",col(\"percentage\").cast('double')).groupby(\"region\").sum('percentage').orderBy(\"sum(percentage)\", ascending=False)\n",
    "df_region_4.show(truncate=False)"
   ]
  },
  {
   "cell_type": "code",
   "execution_count": 28,
   "id": "6d4f3d90",
   "metadata": {},
   "outputs": [
    {
     "name": "stderr",
     "output_type": "stream",
     "text": [
      "[Stage 115:===================================================> (194 + 2) / 200]\r"
     ]
    },
    {
     "name": "stdout",
     "output_type": "stream",
     "text": [
      "+--------------+------------------+\n",
      "|region        |sum(percentage)   |\n",
      "+--------------+------------------+\n",
      "|California    |264205.66366600036|\n",
      "|New York      |207224.31806200033|\n",
      "|Texas         |197595.69104100048|\n",
      "|Pennsylvania  |132262.94148700032|\n",
      "|Florida       |130558.33649200051|\n",
      "|Virginia      |103176.08130200056|\n",
      "|Illinois      |88799.50502300022 |\n",
      "|New Jersey    |81758.3571090003  |\n",
      "|Michigan      |75984.21998900016 |\n",
      "|Ohio          |73344.04532700016 |\n",
      "|North Carolina|68504.8512110001  |\n",
      "|Georgia       |67446.22190200016 |\n",
      "|Colorado      |63165.746453000116|\n",
      "|Arizona       |58764.26123500016 |\n",
      "|Washington    |57905.72972900013 |\n",
      "|Oregon        |54756.061716000055|\n",
      "|Massachusetts |49008.53105700004 |\n",
      "|Maryland      |48515.706813000026|\n",
      "|Minnesota     |48234.98134900001 |\n",
      "|Wisconsin     |42926.39541399999 |\n",
      "+--------------+------------------+\n",
      "only showing top 20 rows\n",
      "\n"
     ]
    },
    {
     "name": "stderr",
     "output_type": "stream",
     "text": [
      "                                                                                \r"
     ]
    }
   ],
   "source": [
    "df_region_5 = df_5.withColumn(\"region_distribution_x\", arrays_zip(\"region_distribution.percentage\",\"region_distribution.region\")).select(\"ad_creative_link_title\", explode(\"region_distribution\").alias(\"t_region_distribution\")).select(\"ad_creative_link_title\", \"t_region_distribution.percentage\", \"t_region_distribution.region\").withColumn(\"percentage\",col(\"percentage\").cast('double')).groupby(\"region\").sum('percentage').orderBy(\"sum(percentage)\", ascending=False)\n",
    "df_region_5.show(truncate=False)"
   ]
  },
  {
   "cell_type": "code",
   "execution_count": 29,
   "id": "dfbbe88d",
   "metadata": {},
   "outputs": [
    {
     "name": "stderr",
     "output_type": "stream",
     "text": [
      "[Stage 117:====================================================>(199 + 1) / 200]\r"
     ]
    },
    {
     "name": "stdout",
     "output_type": "stream",
     "text": [
      "+--------------+------------------+\n",
      "|region        |sum(percentage)   |\n",
      "+--------------+------------------+\n",
      "|California    |334619.7972590006 |\n",
      "|New York      |311628.4904420007 |\n",
      "|Texas         |209242.88424600087|\n",
      "|Florida       |164842.79785500042|\n",
      "|Pennsylvania  |148388.3677300005 |\n",
      "|Virginia      |111337.73031000061|\n",
      "|Illinois      |105723.27258400031|\n",
      "|New Jersey    |104051.3854100004 |\n",
      "|Ohio          |95398.43588000032 |\n",
      "|North Carolina|92815.18233700038 |\n",
      "|Michigan      |91455.80078900032 |\n",
      "|Georgia       |87815.53251100033 |\n",
      "|Arizona       |81778.85722600033 |\n",
      "|Colorado      |76632.28890200015 |\n",
      "|Washington    |70409.34460100025 |\n",
      "|Oregon        |65901.18613000009 |\n",
      "|Maryland      |64993.28678300004 |\n",
      "|Minnesota     |57371.83930600005 |\n",
      "|Massachusetts |55356.378750000134|\n",
      "|Wisconsin     |51915.15647000003 |\n",
      "+--------------+------------------+\n",
      "only showing top 20 rows\n",
      "\n"
     ]
    },
    {
     "name": "stderr",
     "output_type": "stream",
     "text": [
      "                                                                                \r"
     ]
    }
   ],
   "source": [
    "df_region_6 = df_6.withColumn(\"region_distribution_x\", arrays_zip(\"region_distribution.percentage\",\"region_distribution.region\")).select(\"ad_creative_link_title\", explode(\"region_distribution\").alias(\"t_region_distribution\")).select(\"ad_creative_link_title\", \"t_region_distribution.percentage\", \"t_region_distribution.region\").withColumn(\"percentage\",col(\"percentage\").cast('double')).groupby(\"region\").sum('percentage').orderBy(\"sum(percentage)\", ascending=False)\n",
    "df_region_6.show(truncate=False)"
   ]
  },
  {
   "cell_type": "code",
   "execution_count": 30,
   "id": "959cf4dd",
   "metadata": {},
   "outputs": [
    {
     "name": "stderr",
     "output_type": "stream",
     "text": [
      "2022-05-22 12:49:21,023 ERROR cluster.YarnScheduler: Lost executor 360 on ip-100-64-74-210.ap-southeast-2.compute.internal: Container marked as failed: container_1652753568617_1728_01_000415 on host: ip-100-64-74-210.ap-southeast-2.compute.internal. Exit status: -100. Diagnostics: Container released on a *lost* node.\n",
      "2022-05-22 12:49:21,536 WARN cluster.YarnSchedulerBackend$YarnSchedulerEndpoint: Requesting driver to remove executor 360 for reason Container marked as failed: container_1652753568617_1728_01_000415 on host: ip-100-64-74-210.ap-southeast-2.compute.internal. Exit status: -100. Diagnostics: Container released on a *lost* node.\n",
      "[Stage 119:====================================================>(198 + 2) / 200]\r"
     ]
    },
    {
     "name": "stdout",
     "output_type": "stream",
     "text": [
      "+--------------+------------------+\n",
      "|region        |sum(percentage)   |\n",
      "+--------------+------------------+\n",
      "|California    |277752.74681300047|\n",
      "|Texas         |183083.04519100097|\n",
      "|Florida       |154936.84743100038|\n",
      "|New York      |135728.51462500056|\n",
      "|Pennsylvania  |104797.49024500033|\n",
      "|Michigan      |99893.92901900045 |\n",
      "|Virginia      |94743.98661900035 |\n",
      "|Ohio          |91236.80202000022 |\n",
      "|Arizona       |89966.23071500055 |\n",
      "|Illinois      |88764.08655300028 |\n",
      "|North Carolina|81789.42472400035 |\n",
      "|Georgia       |81460.66110600029 |\n",
      "|Washington    |68739.66913700018 |\n",
      "|New Jersey    |64972.97179600007 |\n",
      "|Colorado      |61075.08623300013 |\n",
      "|Maryland      |59117.66695600007 |\n",
      "|Massachusetts |54199.258960000094|\n",
      "|Oregon        |50524.810092000014|\n",
      "|Wisconsin     |46030.61979900002 |\n",
      "|Minnesota     |45790.19122100003 |\n",
      "+--------------+------------------+\n",
      "only showing top 20 rows\n",
      "\n"
     ]
    },
    {
     "name": "stderr",
     "output_type": "stream",
     "text": [
      "                                                                                \r"
     ]
    }
   ],
   "source": [
    "df_region_7 = df_7.withColumn(\"region_distribution_x\", arrays_zip(\"region_distribution.percentage\",\"region_distribution.region\")).select(\"ad_creative_link_title\", explode(\"region_distribution\").alias(\"t_region_distribution\")).select(\"ad_creative_link_title\", \"t_region_distribution.percentage\", \"t_region_distribution.region\").withColumn(\"percentage\",col(\"percentage\").cast('double')).groupby(\"region\").sum('percentage').orderBy(\"sum(percentage)\", ascending=False)\n",
    "df_region_7.show(truncate=False)"
   ]
  },
  {
   "cell_type": "code",
   "execution_count": 31,
   "id": "aaa8f526",
   "metadata": {},
   "outputs": [
    {
     "name": "stderr",
     "output_type": "stream",
     "text": [
      "2022-05-22 14:04:58,181 ERROR cluster.YarnScheduler: Lost executor 399 on ip-100-64-74-100.ap-southeast-2.compute.internal: Container marked as failed: container_1652753568617_1728_01_000457 on host: ip-100-64-74-100.ap-southeast-2.compute.internal. Exit status: -100. Diagnostics: Container released on a *lost* node.\n",
      "2022-05-22 14:04:58,181 WARN cluster.YarnSchedulerBackend$YarnSchedulerEndpoint: Requesting driver to remove executor 399 for reason Container marked as failed: container_1652753568617_1728_01_000457 on host: ip-100-64-74-100.ap-southeast-2.compute.internal. Exit status: -100. Diagnostics: Container released on a *lost* node.\n",
      "[Stage 121:===============================================>     (180 + 2) / 200]\r"
     ]
    },
    {
     "name": "stdout",
     "output_type": "stream",
     "text": [
      "+--------------+------------------+\n",
      "|region        |sum(percentage)   |\n",
      "+--------------+------------------+\n",
      "|California    |273119.2187660002 |\n",
      "|Texas         |170281.14109900052|\n",
      "|Florida       |138569.37975000037|\n",
      "|New York      |121566.1193860003 |\n",
      "|Pennsylvania  |98218.78825900018 |\n",
      "|Virginia      |95699.45013000046 |\n",
      "|Illinois      |90283.13089200018 |\n",
      "|Ohio          |83330.5872240002  |\n",
      "|Arizona       |80974.18951600036 |\n",
      "|Georgia       |80352.54971100023 |\n",
      "|North Carolina|77432.95388400016 |\n",
      "|Michigan      |77427.5983190002  |\n",
      "|New Jersey    |62889.287905000034|\n",
      "|Washington    |62598.36091800013 |\n",
      "|Colorado      |58432.209886000055|\n",
      "|Massachusetts |50044.82938399998 |\n",
      "|Wisconsin     |48493.113055999966|\n",
      "|Maryland      |48219.474899999936|\n",
      "|Oregon        |45031.78003799996 |\n",
      "|Minnesota     |41404.675682999994|\n",
      "+--------------+------------------+\n",
      "only showing top 20 rows\n",
      "\n"
     ]
    },
    {
     "name": "stderr",
     "output_type": "stream",
     "text": [
      "                                                                                \r"
     ]
    }
   ],
   "source": [
    "df_region_8 = df_8.withColumn(\"region_distribution_x\", arrays_zip(\"region_distribution.percentage\",\"region_distribution.region\")).select(\"ad_creative_link_title\", explode(\"region_distribution\").alias(\"t_region_distribution\")).select(\"ad_creative_link_title\", \"t_region_distribution.percentage\", \"t_region_distribution.region\").withColumn(\"percentage\",col(\"percentage\").cast('double')).groupby(\"region\").sum('percentage').orderBy(\"sum(percentage)\", ascending=False)\n",
    "df_region_8.show(truncate=False)"
   ]
  },
  {
   "cell_type": "code",
   "execution_count": 32,
   "id": "33f732fa",
   "metadata": {},
   "outputs": [
    {
     "name": "stderr",
     "output_type": "stream",
     "text": [
      "[Stage 123:==================================================>  (189 + 2) / 200]\r"
     ]
    },
    {
     "name": "stdout",
     "output_type": "stream",
     "text": [
      "+--------------+------------------+\n",
      "|region        |sum(percentage)   |\n",
      "+--------------+------------------+\n",
      "|California    |258616.54933800024|\n",
      "|Texas         |163175.1681570001 |\n",
      "|Florida       |127670.70988400017|\n",
      "|New York      |124719.20474300014|\n",
      "|Virginia      |103970.48239400037|\n",
      "|Pennsylvania  |97231.7962790001  |\n",
      "|Ohio          |87024.97830300017 |\n",
      "|Georgia       |84867.8004410003  |\n",
      "|New Jersey    |82330.65815200024 |\n",
      "|Michigan      |74130.46756699997 |\n",
      "|Arizona       |72897.98663300011 |\n",
      "|Illinois      |72724.47949700007 |\n",
      "|North Carolina|71495.76629700008 |\n",
      "|Washington    |61597.302721000044|\n",
      "|Colorado      |50930.94101599998 |\n",
      "|Wisconsin     |47980.85542299995 |\n",
      "|Massachusetts |46547.73010700007 |\n",
      "|Minnesota     |44526.45405299994 |\n",
      "|Maryland      |44344.26851799995 |\n",
      "|Oregon        |43975.27198799994 |\n",
      "+--------------+------------------+\n",
      "only showing top 20 rows\n",
      "\n"
     ]
    },
    {
     "name": "stderr",
     "output_type": "stream",
     "text": [
      "                                                                                \r"
     ]
    }
   ],
   "source": [
    "df_region_9 = df_9.withColumn(\"region_distribution_x\", arrays_zip(\"region_distribution.percentage\",\"region_distribution.region\")).select(\"ad_creative_link_title\", explode(\"region_distribution\").alias(\"t_region_distribution\")).select(\"ad_creative_link_title\", \"t_region_distribution.percentage\", \"t_region_distribution.region\").withColumn(\"percentage\",col(\"percentage\").cast('double')).groupby(\"region\").sum('percentage').orderBy(\"sum(percentage)\", ascending=False)\n",
    "df_region_9.show(truncate=False)"
   ]
  },
  {
   "cell_type": "code",
   "execution_count": 33,
   "id": "1d71b3d6",
   "metadata": {
    "scrolled": true
   },
   "outputs": [
    {
     "name": "stderr",
     "output_type": "stream",
     "text": [
      "[Stage 125:====================================================>(198 + 2) / 200]\r"
     ]
    },
    {
     "name": "stdout",
     "output_type": "stream",
     "text": [
      "+--------------+------------------+\n",
      "|region        |sum(percentage)   |\n",
      "+--------------+------------------+\n",
      "|California    |222221.73289200012|\n",
      "|New York      |183004.36150600004|\n",
      "|Texas         |179591.42728900036|\n",
      "|Virginia      |179059.63189400034|\n",
      "|Florida       |139019.21538800027|\n",
      "|Pennsylvania  |137393.64342600002|\n",
      "|New Jersey    |118480.27307800023|\n",
      "|Ohio          |114923.54481200011|\n",
      "|Georgia       |93724.38841700013 |\n",
      "|Michigan      |88008.39265300008 |\n",
      "|Arizona       |73816.36581500008 |\n",
      "|North Carolina|71751.77968700006 |\n",
      "|Illinois      |68979.464819      |\n",
      "|Colorado      |64897.37302500005 |\n",
      "|Washington    |63758.65598000006 |\n",
      "|Minnesota     |56694.75414900001 |\n",
      "|Massachusetts |50223.81004900004 |\n",
      "|Wisconsin     |47521.274568999914|\n",
      "|Indiana       |45459.76467799994 |\n",
      "|Maryland      |40596.10421199999 |\n",
      "+--------------+------------------+\n",
      "only showing top 20 rows\n",
      "\n"
     ]
    },
    {
     "name": "stderr",
     "output_type": "stream",
     "text": [
      "                                                                                \r"
     ]
    }
   ],
   "source": [
    "df_region_10 = df_10.withColumn(\"region_distribution_x\", arrays_zip(\"region_distribution.percentage\",\"region_distribution.region\")).select(\"ad_creative_link_title\", explode(\"region_distribution\").alias(\"t_region_distribution\")).select(\"ad_creative_link_title\", \"t_region_distribution.percentage\", \"t_region_distribution.region\").withColumn(\"percentage\",col(\"percentage\").cast('double')).groupby(\"region\").sum('percentage').orderBy(\"sum(percentage)\", ascending=False)\n",
    "df_region_10.show(truncate=False)"
   ]
  },
  {
   "cell_type": "code",
   "execution_count": 34,
   "id": "b7706ad8",
   "metadata": {
    "scrolled": true
   },
   "outputs": [
    {
     "name": "stderr",
     "output_type": "stream",
     "text": [
      "2022-05-22 14:48:58,310 ERROR cluster.YarnScheduler: Lost executor 476 on ip-100-64-74-100.ap-southeast-2.compute.internal: Container marked as failed: container_1652753568617_1728_01_000543 on host: ip-100-64-74-100.ap-southeast-2.compute.internal. Exit status: -100. Diagnostics: Container released on a *lost* node.\n",
      "2022-05-22 14:48:58,311 WARN cluster.YarnSchedulerBackend$YarnSchedulerEndpoint: Requesting driver to remove executor 476 for reason Container marked as failed: container_1652753568617_1728_01_000543 on host: ip-100-64-74-100.ap-southeast-2.compute.internal. Exit status: -100. Diagnostics: Container released on a *lost* node.\n",
      "[Stage 127:==================================================>  (189 + 6) / 200]\r"
     ]
    },
    {
     "name": "stdout",
     "output_type": "stream",
     "text": [
      "+--------------+------------------+\n",
      "|region        |sum(percentage)   |\n",
      "+--------------+------------------+\n",
      "|California    |391053.9342650006 |\n",
      "|Texas         |303801.4630510008 |\n",
      "|New York      |218174.507111     |\n",
      "|Florida       |214715.8669770003 |\n",
      "|Pennsylvania  |176613.3596749999 |\n",
      "|New Jersey    |124172.88049700008|\n",
      "|Georgia       |124108.98280400013|\n",
      "|Ohio          |124035.64568499995|\n",
      "|Michigan      |123603.31997700025|\n",
      "|Illinois      |116045.69484199985|\n",
      "|Virginia      |115808.31328200012|\n",
      "|Arizona       |114626.85167300029|\n",
      "|North Carolina|111773.58232499995|\n",
      "|Washington    |96312.53511600007 |\n",
      "|Maryland      |79245.5574820001  |\n",
      "|Indiana       |73408.00278799997 |\n",
      "|Wisconsin     |72950.8519359999  |\n",
      "|Colorado      |70737.77742799996 |\n",
      "|Missouri      |67918.53748699992 |\n",
      "|Oregon        |64826.85190199993 |\n",
      "+--------------+------------------+\n",
      "only showing top 20 rows\n",
      "\n"
     ]
    },
    {
     "name": "stderr",
     "output_type": "stream",
     "text": [
      "                                                                                \r"
     ]
    }
   ],
   "source": [
    "df_region_11 = df_11.withColumn(\"region_distribution_x\", arrays_zip(\"region_distribution.percentage\",\"region_distribution.region\")).select(\"ad_creative_link_title\", explode(\"region_distribution\").alias(\"t_region_distribution\")).select(\"ad_creative_link_title\", \"t_region_distribution.percentage\", \"t_region_distribution.region\").withColumn(\"percentage\",col(\"percentage\").cast('double')).groupby(\"region\").sum('percentage').orderBy(\"sum(percentage)\", ascending=False)\n",
    "df_region_11.show(truncate=False)"
   ]
  },
  {
   "cell_type": "code",
   "execution_count": 228,
   "id": "7a58ef5a",
   "metadata": {},
   "outputs": [
    {
     "name": "stderr",
     "output_type": "stream",
     "text": [
      "[Stage 391:================================================>   (186 + 14) / 200]\r"
     ]
    },
    {
     "name": "stdout",
     "output_type": "stream",
     "text": [
      "+--------------+------------------+\n",
      "|region        |sum(percentage)   |\n",
      "+--------------+------------------+\n",
      "|California    |868967.6006620014 |\n",
      "|Texas         |705217.3655630006 |\n",
      "|Florida       |509900.5986710011 |\n",
      "|New York      |410235.6159839998 |\n",
      "|Pennsylvania  |378541.81566099933|\n",
      "|Michigan      |290629.75776200014|\n",
      "|Ohio          |264571.6957830001 |\n",
      "|Georgia       |260412.82226200006|\n",
      "|Illinois      |250478.36880300028|\n",
      "|North Carolina|249662.4327309998 |\n",
      "|Arizona       |241321.33125800084|\n",
      "|Washington    |237188.81765799975|\n",
      "|Virginia      |233981.26176799997|\n",
      "|New Jersey    |203838.67170200043|\n",
      "|South Carolina|166785.77958800015|\n",
      "|Wisconsin     |156122.59390899984|\n",
      "|Colorado      |155910.24263799988|\n",
      "|Indiana       |154488.77924399983|\n",
      "|Missouri      |153397.12664399986|\n",
      "|Maryland      |149063.8915959998 |\n",
      "+--------------+------------------+\n",
      "only showing top 20 rows\n",
      "\n"
     ]
    },
    {
     "name": "stderr",
     "output_type": "stream",
     "text": [
      "                                                                                \r"
     ]
    }
   ],
   "source": [
    "df_region_12 = df_12.withColumn(\"region_distribution_x\", arrays_zip(\"region_distribution.percentage\",\"region_distribution.region\")).select(\"ad_creative_link_title\", explode(\"region_distribution\").alias(\"t_region_distribution\")).select(\"ad_creative_link_title\", \"t_region_distribution.percentage\", \"t_region_distribution.region\").withColumn(\"percentage\",col(\"percentage\").cast('double')).groupby(\"region\").sum('percentage').orderBy(\"sum(percentage)\", ascending=False)\n",
    "df_region_12.show(truncate=False)"
   ]
  },
  {
   "cell_type": "code",
   "execution_count": 55,
   "id": "6eb71eec",
   "metadata": {},
   "outputs": [],
   "source": [
    "df_region_list = [df_region_1, df_region_2, df_region_3, df_region_4, df_region_5, df_region_6, df_region_7, df_region_8,df_region_9,df_region_10, df_region_11,df_region_12]"
   ]
  },
  {
   "cell_type": "code",
   "execution_count": 82,
   "id": "55cce92a",
   "metadata": {},
   "outputs": [
    {
     "name": "stderr",
     "output_type": "stream",
     "text": [
      "[Stage 171:====================================================>(198 + 2) / 200]\r"
     ]
    },
    {
     "name": "stdout",
     "output_type": "stream",
     "text": [
      "313.5507540000001\n"
     ]
    },
    {
     "name": "stderr",
     "output_type": "stream",
     "text": [
      "                                                                                \r"
     ]
    }
   ],
   "source": [
    "x = df_region_1.select(\"sum(percentage)\").where('region = \"California\"').first()[0]\n",
    "print(x)"
   ]
  },
  {
   "cell_type": "code",
   "execution_count": 229,
   "id": "98edf6c6",
   "metadata": {},
   "outputs": [
    {
     "name": "stderr",
     "output_type": "stream",
     "text": [
      "[Stage 396:=====================================================> (49 + 1) / 50]\r"
     ]
    },
    {
     "name": "stdout",
     "output_type": "stream",
     "text": [
      "['California', 'Texas', 'Florida', 'New York', 'Pennsylvania', 'Michigan', 'Ohio', 'Georgia', 'Illinois', 'North Carolina', 'Arizona', 'Washington', 'Virginia', 'New Jersey', 'South Carolina', 'Wisconsin', 'Colorado', 'Indiana', 'Missouri', 'Maryland', 'Tennessee', 'Oregon', 'Massachusetts', 'Minnesota', 'Louisiana', 'Nevada', 'Kentucky', 'Oklahoma', 'Alabama', 'Iowa', 'Kansas', 'New Hampshire', 'Arkansas', 'Connecticut', 'New Mexico', 'Idaho', 'Mississippi', 'Utah', 'Maine', 'West Virginia', 'Montana', 'Nebraska', 'Alaska', 'Delaware', 'Hawaii', 'South Dakota', 'Vermont', 'Wyoming', 'North Dakota', 'Rhode Island']\n"
     ]
    },
    {
     "name": "stderr",
     "output_type": "stream",
     "text": [
      "                                                                                \r"
     ]
    }
   ],
   "source": [
    "US_states = df_region_12.select(\"region\").where('region = \"Alabama\" or region = \"Alaska\" or region = \"Arizona\" or region = \"Arkansas\" or region = \"California\" or region = \"Colorado\" or region = \"Connecticut\" or region = \"Delaware\" or region = \"Florida\" or region = \"Georgia\" or region = \"Hawaii\" or region = \"Idaho\" or region = \"Illinois\" or region = \"Indiana\" or region = \"Iowa\" or region = \"Kansas\" or region = \"Kentucky\" or region = \"Louisiana\" or region = \"Maine\" or region = \"Maryland\" or region = \"Massachusetts\" or region = \"Michigan\" or region = \"Minnesota\" or region = \"Mississippi\" or region = \"Missouri\" or region = \"Montana\" or region = \"Nebraska\" or region = \"Nevada\" or region = \"New Hampshire\" or region = \"New Jersey\" or region = \"New Mexico\" or region = \"New York\" or region = \"North Carolina\" or region = \"North Dakota\" or region = \"Ohio\" or region = \"Oklahoma\" or region = \"Oregon\" or region = \"Pennsylvania\" or region = \"Rhode Island\" or region = \"South Carolina\" or region = \"South Dakota\" or region = \"Tennessee\" or region = \"Texas\" or region = \"Utah\" or region = \"Vermont\" or region = \"Virginia\" or region = \"Washington\" or region = \"West Virginia\" or region = \"Wisconsin\" or region = \"Wyoming\"').rdd.flatMap(lambda x: x).collect()\n",
    "print(US_states)"
   ]
  },
  {
   "cell_type": "code",
   "execution_count": 113,
   "id": "da08692d",
   "metadata": {},
   "outputs": [
    {
     "name": "stdout",
     "output_type": "stream",
     "text": [
      "50\n"
     ]
    }
   ],
   "source": [
    "print(len(US_states))"
   ]
  },
  {
   "cell_type": "code",
   "execution_count": 95,
   "id": "7fcd289f",
   "metadata": {},
   "outputs": [
    {
     "name": "stderr",
     "output_type": "stream",
     "text": [
      "[Stage 208:====================================================>(199 + 1) / 200]\r"
     ]
    },
    {
     "name": "stdout",
     "output_type": "stream",
     "text": [
      "['California', 'Texas', 'Florida', 'New York', 'Pennsylvania', 'Michigan', 'Ohio', 'Georgia', 'Illinois', 'North Carolina', 'Arizona', 'Washington', 'Virginia', 'New Jersey', 'South Carolina', 'Wisconsin', 'Colorado', 'Indiana', 'Missouri', 'Maryland', 'Tennessee', 'Oregon', 'Massachusetts', 'Minnesota', 'Louisiana', 'Nevada', 'Kentucky', 'Oklahoma', 'Alabama', 'Iowa', 'Washington, District of Columbia', 'Kansas', 'New Hampshire', 'Arkansas', 'Connecticut', 'New Mexico', 'Idaho', 'Mississippi', 'Utah', 'Maine', 'West Virginia', 'Montana', 'Nebraska', 'Alaska', 'Delaware', 'Hawaii', 'South Dakota', 'Vermont', 'Wyoming', 'North Dakota', 'Rhode Island', 'All (Automated App Ads)', 'San Juan', 'Bayamón', 'Guam', 'Unknown', 'Ponce', 'Caguas', 'Carolina', 'Baja California', 'England', 'Mayagüez', 'Guaynabo', 'Distrito Nacional', 'Ontario', 'Arecibo', 'Buenos Aires', 'Distrito Federal', 'Jalisco', 'Distrito Especial', 'State of Mexico', 'Lisbon District', 'Quebec', 'Santiago Metropolitan Region', 'Nuevo León', 'Tamaulipas', 'Lima Region', 'Antioquia', 'Chihuahua', 'Flemish Region', 'Andalusia', 'Jerusalem', 'British Columbia', 'Trujillo Alto', 'Aguadilla', 'Cataluña', 'Humacao', 'US Virgin Islands', 'Sonora', 'Île-de-France', 'Cabo Rojo', 'Toa Baja', 'Guanajuato', 'Valle del Cauca', 'Guayama', 'Vega Baja', 'Santiago Province', 'Lombardia', 'Comunidad de Madrid', 'Cayey', 'Dublin', 'Michoacán de Ocampo', 'Metro Manila', 'Veracruz', 'Lazio', 'Isabela', 'Sinaloa', 'Dorado', 'Tel Aviv', 'Coahuila de Zaragoza', 'Central District', 'San Sebastián', 'Guayas Province', 'Ciudad Autónoma de Buenos Aires', 'Nordrhein-Westfalen', 'Alberta', 'Aguada', 'Hong Kong', 'Manatí', 'Guatemala Department', 'Moca', 'Fajardo', 'Masovian Voivodeship', 'Puebla', 'Maharashtra', 'Río Grande', 'Juana Díaz', 'Hatillo', 'Santa Cruz Department', 'Corozal', 'Atlantico', 'Porto District', 'Yauco', 'Pichincha Province', 'Bangkok', 'Cidra', 'Wallonia', 'Budapest', 'Coamo', 'Capital Region of Denmark', 'São Paulo (state)', 'Juncos', 'Aibonito', 'Camuy', 'Veneto', 'Emilia-Romagna', 'Morovis', 'Barranquitas', 'San Germán', 'Las Piedras', 'Cataño', 'Añasco', 'Canóvanas', 'New South Wales', 'Prague', 'Comunidad Valenciana', 'Vega Alta', 'Lares', 'Salinas', 'Yangon', 'Bayern', 'Ho Chi Minh City', 'Piedmont', 'Gurabo', 'Berlin', 'Baden-Württemberg', 'Queensland', 'Guayanilla', 'Victoria', 'San Luis Potosi', 'Attica (region)', 'Guerrero', 'Uttar Pradesh', 'Lajas', 'Barceloneta', 'Bratislava Region', 'Tuscany', 'Singapore', 'Rhône-Alpes', 'Luquillo', 'Cortés Department', 'Loíza', 'Utuado', 'Yabucoa', 'San José Province', 'Sabana Grande', 'San Lorenzo', 'Oaxaca', 'Querétaro Arteaga', 'Uusimaa', 'Heifa', 'Capital District', 'Valparaíso Region', 'Villalba', 'Brussels', 'Naranjito', 'Quebradillas', 'Santander', 'Campania', 'Bío Bío Region', 'West Bengal', 'Córdoba', 'Panamá Province', 'Managua Department', 'Hidalgo', 'Central Denmark Region', 'Santa Isabel', 'Chiapas', 'Gujarat', 'Karnataka', 'San Salvador Department', 'Quintana Roo', 'Montevideo Department', 'Naguabo', 'Peñuelas', \"Provence-Alpes-Côte d'Azur\", 'Islas Canarias', 'Gauteng', 'Kerala', 'Aguas Buenas', 'Yucatán', 'Durango', 'Northern District', 'Bolivar', 'Arroyo', 'Orocovis', 'Central Department', 'Santo Domingo Province', 'Rincón', 'Hormigueros', 'Sicilia', 'Zuid-Holland', 'Silesian Voivodeship', 'Moscow', 'Francisco Morazán Department', 'Faro District', 'Morelos', 'Santa Fe', 'Vienna', 'Tamil Nadu', 'Hessen', 'Comerío', 'Dhaka Division', 'Galicia', 'Zacatecas', 'Rajasthan', 'Region of Southern Denmark', 'La Vega Province', 'Scotland', 'Stockholm County', 'Zagreb', 'Cundinamarca', 'Norte de Santander', 'Auckland Region', 'Taipei', 'Adjuntas', 'Setúbal District', 'Puerto Plata province', 'Southern District', 'La Paz Department', 'Kyiv', 'Nayarit', 'Western Australia', 'Ciales', 'Patillas', 'Liguria', 'Castilla y Leon', 'Guánica', 'Delhi', 'Tabasco', 'Baja California Sur', 'Jayuya', 'Azuay Province', 'San Cristóbal Province', 'Meta', 'Madhya Pradesh', 'Addis Ababa', 'Cochabamba Department', 'País Vasco', 'Harju County', 'Manabí Province', 'Pays de la Loire', 'Alajuela Province', 'Aguascalientes', 'Lower Silesian Voivodeship', 'La Altagracia Province', 'Central Visayas', 'Sofia City Province', 'Duarte Province', 'Schleswig-Holstein', 'Tripoli District', 'Luxembourg District', 'Risaralda', 'County Cork', 'Greater Poland Voivodeship', 'South Moravian Region', 'Bucharest', 'Castilla-La Mancha', 'Zulia', 'Maule Region', 'Lesser Poland Voivodeship', 'Calabarzon', 'Noord-Holland', 'Region of Murcia', 'Analamanga', 'Rio de Janeiro (state)', 'San Pedro de Macorís Province', 'Wellington Region', 'Central Luzon', 'Magdalena', \"O'Higgins Region\", 'Heredia Province', 'Cesar', 'Vilnius County', 'Kabul Province', 'Marche', 'Bihar', 'Aquitaine', 'Istanbul Province', 'Kuala Lumpur', 'Saskatchewan', 'Niedersachsen', 'Asunción', 'Vieques', 'Tolima', 'Puglia', 'Coquimbo Region', 'Mandalay', 'Capital Region', 'Yoro Department', 'Midi-Pyrénées', 'Ceiba', 'Aveiro District', 'Jammu and Kashmir', 'Cordoba', 'Bretagne', 'Jakarta', 'La Romana Province', 'Baghdad Governorate', 'Algiers Province', 'Santa Catarina', 'Calabria', 'Aragón', 'Hanoi', 'Assam', 'Manitoba', 'Araucanía Region', 'Espaillat Province', 'La Libertad Department', 'Punjab region', 'Alto Paraná Department', 'Braga District', 'Abidjan', 'Antofagasta Region', 'Nova Scotia', 'Carabobo', 'Pomeranian Voivodeship', 'Nord-Pas-de-Calais', 'Umbria', 'Punjab', 'South Australia', 'Haryana', 'Los Lagos Region', 'Friuli-Venezia Giulia', 'San Miguel Department', 'Huila', 'Centre', 'Monseñor Nouel Province', 'Colima', 'Sucre', 'Zürich', 'North Brabant', 'Central Slovenia Statistical Region', 'Rheinland-Pfalz', 'Cartago Province', 'Paraná', 'Sardinia', 'Maunabo', 'Madeira', 'Łódź Voivodeship', 'Coimbra District', 'Cauca', 'Västra Götaland County', 'Mendoza', 'Alsace', 'South Province', 'Nairobi', 'Hamburg', 'Western Cape', 'Odisha', 'Telangana', 'Santarém District', 'Boyaca', 'Minas Gerais', 'Brunei-Muara District', 'Balearic Islands', 'El Oro Province', 'Zealand Region', 'Kaunas County', 'Tbilisi', 'Canton of Geneva', 'Australian Capital Territory', 'Caldas', 'Pest County', 'Valverde Province', 'Sachsen', 'Shan State', 'La Libertad Region', 'Tucuman', 'Wales', 'Selangor', 'Bagmati Zone', 'Narino', 'La Guajira', 'Skåne County', 'Gyeonggi-do', 'Peravia Province', \"Sana'a Governorate\", 'Atlántida Department', 'Bourgogne', 'Campeche', 'Bamako', 'Ústí nad Labem Region', 'Santa Ana Department', 'Aragua', 'Riga Planning Region', 'Tlaxcala', 'Central Serbia', 'Quindio', 'Utrecht', 'Principality of Asturias', 'Shanghai', 'Okinawa Prefecture', 'Anzoátegui', 'Northern Ostrobothnia', 'Grand Casablanca', 'Réunion', 'Languedoc-Roussillon', 'Beja District', 'María Trinidad Sánchez Province', 'Los Ríos Province', 'Arequipa Region', 'Lara', 'Lorraine', 'Maricao', 'Luanda Province', 'Basel-City', 'Sindh', 'Tunis Governorate', 'Viana do Castelo District', 'Rio Grande do Sul', 'Bolívar (state)', 'Östergötland County', 'Lublin Voivodeship', 'Kadiogo', 'Galway', 'Košice Region', 'Aichi Prefecture', 'Entre Rios', 'New Brunswick', 'Pernambuco', 'Kanagawa Prefecture', 'Newfoundland and Labrador', 'Khyber Pakhtunkhwa', 'Tangier-Tetouan', 'Táchira', 'Limerick', 'Guanacaste Province', 'Abruzzo', 'Tungurahua Province', 'Andhra Pradesh', 'Tasmania', 'Western Area', 'Leiria District', 'Cluj County', 'Vaud', 'Extremadura', 'North Denmark Region', 'West Java', 'Oslo', 'Western Province', 'Bern', 'Western Visayas', 'Tokyo', 'Phnom Penh', 'Canelones Department', 'New Taipei City', 'Miranda (state)', 'Piura Region', 'Friesland', 'Comayagua Department', 'Central Macedonia', 'Windward Islands', 'Northern Mindanao', 'Chittagong Division', 'Trentino-Alto Adige', 'Sánchez Ramírez Province', 'Isle Of Man', 'Ulan Bator', 'Lambayeque Region', 'Himachal Pradesh', 'Tarapacá Region', 'Bahia', 'Jharkhand', 'Žilina Region', 'Puntarenas Province', 'Cairo Governorate', 'Quetzaltenango Department', 'Lower Austria', 'Callao', 'West Pomeranian Voivodeship', 'Kaafu Atoll', 'Kildare', 'Gelderland', 'Banaadir', 'Usulután Department', 'Guangdong', 'Marrakesh-Tensift-El Haouz', 'Dar es Salaam', 'Souss-Massa-Drâa', 'Los Ríos Region', 'Hordaland', 'Nouakchott', 'Federal District', 'Taoyuan City', 'La Unión Department', 'Azua Province', 'Djelfa Province', 'Salta', 'San Juan Province (Dominican Republic)', 'Oromia Region', 'Podkarpackie Voivodeship', 'Haute-Normandie', 'Chaco', 'La Rioja', 'Monte Plata Province', 'Barahona Province', 'Viseu District', 'Cusco Region', 'Djibouti', 'Yerevan', 'Azores', 'Central Bohemian Region', 'Nicosia District', 'Cantabria', 'Uttarakhand', 'Baranya County', 'South Bohemian Region', 'Copán Department', 'Warmian-Masurian Voivodeship', 'Loja Province', 'Estelí Department', 'Santo Domingo de los Tsáchilas Province', 'Nitra Region', 'Iași County', 'Choco', 'Davao Region', 'Misiones', 'East Java', 'Chalatenango Department', 'County Clare', 'Lviv Oblast', 'Sonsonate Department', 'Imbabura Province', 'Drava Statistical Region', 'Salcedo', 'Olancho Department', 'Navarra', 'Corrientes', 'Chubut', 'Atacama Region', 'Curaçao', 'Lâm Đồng Province', 'Southwest Finland', 'Aydın Province', 'Örebro County', 'Ica Region', 'Santa Bárbara Department', 'Junín Region', 'County Meath', 'Styria', 'Fejér County', 'Poitou-Charentes', 'Bago Region', 'Olomouc Region', 'Colón Department', 'Overijssel', 'Casanare', 'Oriental', 'Eastern Macedonia and Thrace', 'Basra Governorate', 'Esmeraldas Province', 'Ancash Region', 'Neuquén', 'Tiaret Province', 'León Department', 'Izabal Department', 'Moravian-Silesian Region', 'Bali', 'Plzeň Region', 'Rabat-Salé-Zemmour-Zaer', 'Pirkanmaa', 'Trnava Region', 'Limón Province', 'Tarija Department', 'Chiriquí Province', 'Samaná Province', 'Uppsala County', 'Basilicata', 'Sfax', 'Sagaing', 'Río Negro', \"M'Sila Province\", 'Cañar Province', 'Sermersooq', 'Maldonado Department', 'Mérida', 'Minsk', 'Riau Islands Province', 'Monte Cristi Province', 'Canterbury', 'Southern Nations', 'Constantine Province', 'Arica y Parinacota Region', 'Chimborazo Province', 'Pará', 'Saarland', 'San Marcos Department', 'Vientiane Prefecture', 'Brandenburg', 'Akershus', 'Valais', 'Jutiapa Department', 'Caqueta', 'Castelo Branco District', 'Timiș County', 'Falcón', 'Montserrado County', 'Matagalpa Department', 'Aruba', 'Kaohsiung', 'Ouest Department', 'Chinandega Department', 'Chiang Mai', 'Vila Real District', 'Goa', 'Zadar County', 'Conakry', 'Choluteca Department', 'Tyrol', 'Ceará', 'Da Nang', 'Itapúa Department', 'Picardie', 'Monagas', 'Portuguesa', 'Makkah Region', 'Barinas', 'Central Region', 'Mon State', 'Nueva Esparta', 'Ankara Province', 'Ahuachapán Department', 'Soccsksargen', 'Beni Department', 'Otago', 'Escuintla Department', 'Capital Governorate', 'Santa Elena Province', 'Kymenlaakso', 'Ghardaïa Province', 'Guarda District', 'Chuquisaca Department', 'San Luis', 'Mechi Zone', 'Flevoland', 'Culebra', 'Seoul', 'Huehuetenango Department', 'Streymoy', 'Groningen', 'San Martín Region', 'Jijel Province', 'Maputo', 'Upper Austria', 'Kinshasa', 'Oruro Department', 'Chiquimula Department', 'Zeeland', 'Cabañas Department', 'Trenčín Region', 'Pointe-Noire', 'Portalegre District', 'Goiás', 'Dakar Region', 'Nakhon Phanom', 'Thüringen', 'Odessa Oblast', 'Zamboanga Peninsula', 'Nonthaburi', 'İzmir Province', 'Hato Mayor Province', 'Mureș County', 'Caaguazú Department', 'Presov', 'Kilkenny', 'San Vicente Department', 'Borsod-Abaúj-Zemplén County', 'Kiev Oblast', 'Amman Governorate', 'Gibraltar', 'Sarawak', 'Norrbotten County', 'Northern Ireland', 'Chhattisgarh', 'Khulna Division', 'Ilhas', 'Dubai', 'Belize District', 'Dohuk Governorate', 'Hamilton Parish', 'Mykolaiv Oblast', 'Saint Peter Port', 'Lubusz Voivodeship', 'Magallanes y la Antártica Chilena Region', 'Moscow Oblast', 'South Eastern Region', 'Ariana Governorate', 'Northeastern Region', 'Morazán Department', 'Tierra del Fuego', 'Penang', 'Granada Department', 'South-East District', 'Waikato', 'Doukkala-Abda', 'Franche-Comté', \"N'Djamena\", 'Novosibirsk Oblast', 'Alexandria Governorate', 'Crete', 'Honiara', 'Yaracuy', 'Kronoberg County', 'Banská Bystrica Region', 'Basel-Landschaft', 'Upper Carniola Statistical Region', 'Saxony-Anhalt', 'Lusaka Province', 'Formosa', 'Chon Buri', 'Ayeyarwady Region', 'Kerry', 'Cajamarca Region', 'Wicklow', 'Jeju-do', 'Jász-Nagykun-Szolnok County', 'Cotopaxi Province', 'Kemerovo Oblast', 'Petén Department', 'Saint Mary', 'Tartu County', 'Zlín Region', 'Santa Cruz', 'Tacna Region', 'Magwe', 'Orange Walk District', 'Fès-Boulemane', 'Limburg', 'Yamaguchi Prefecture', 'Dajabón Province', 'Meknès-Tafilalet', 'Baoruco Province', 'Cuscatlán Department', 'Maranhão', 'El Paraíso Department', 'Putumayo', 'Amambay Department', 'El Seibo Province', 'Sousse Governorate', 'Sør-Trøndelag', 'Niamey', 'Oum El Bouaghi Province', 'Gharb-Chrarda-Béni Hssen', 'Rakhine State', 'Cayo District', 'Sacatepéquez Department', 'Vojvodina', 'Colonia Department', 'Jujuy', 'Arauca', 'Santiago del Estero', 'Northern Territory', 'Bizerte Governorate', 'Lagos State', 'Kachin State', 'Vargas', 'Maseru District', 'Bishkek', 'Jinotega Department', 'Imereti', 'Masaya Department', 'Kuyavian-Pomeranian Voivodeship', 'Hradec Králové Region', 'Bay Islands Department', 'Rajshahi Division', 'Saladin Governorate', 'Phitsanulok', 'La Pampa', 'Braganca', 'Benghazi', 'Kandahar Province', 'Chernihiv Oblast', 'Lumbini Zone', 'Sikkim', 'KwaZulu-Natal', 'Ahmadi Governorate', 'Central Province', 'British Virgin Islands', 'Ilocos Region', 'Osijek-Baranja County', 'Kaliningrad Oblast', 'Liberec Region', 'Piauí', 'Sétif Province', 'Etelä-Savo', 'Taichung', 'Zacapa Department', 'Gandaki Zone', 'Västerbotten County', 'Sylhet Division', 'Huánuco Region', 'Greater Accra Region', 'Phuket', 'Molise', 'Chongqing', 'Tashkent Region', 'Colón Province', 'Zhejiang', 'Salto Department', 'Cordillera Department', 'Suchitepéquez Department', 'Santiago Rodríguez Province', 'Paramaribo District', 'Loreto Region', 'Narayani Zone', 'Ucayali Region', 'Riyadh Region', 'Fukui Prefecture', 'Saint Petersburg', 'Qeqqata', 'Tipaza Province', 'Rift Valley Province', 'Thimphu District', 'Timor-Leste', 'Al Rayyan', 'Nabeul Governorate', 'Lempira Department', 'Potosí Department', 'Varna Province', 'Nueva Segovia Department', 'Guárico', 'Morona-Santiago Province', 'Eastern Cape', 'Jalapa Department', 'Mato Grosso do Sul', 'Vestfold', 'Rivera Department', 'Ocotepeque Department', 'Paphos District', 'Paysandú Department', 'Bujumbura', 'Gafsa Governorate', 'Ben Arous Governorate', 'Saraburi', 'Guadeloupe', 'Chaouia-Ouardigha', 'Limousin', 'Carinthia', 'Chontales Department', 'Baku', 'San José de Ocoa Province', 'Aargau', 'Caraga', 'Erbil Governorate', 'Tébessa Province', 'Port Moresby', 'Kampala District', 'Salzburg', 'Paraíba', 'Nakhon Pathom', 'Abu Dhabi', 'San Andres y Providencia', 'Rogaland', 'Ibb Governorate', 'Liaoning', 'Rivas Department', 'Évora District', 'Beijing', 'Herat Province', 'Alta Verapaz Department', 'Auvergne', 'Hsinchu', 'Hsinchu City', 'Csongrád County', 'Gävleborg County', 'Diekirch District', 'Antalya Province', 'Oran Province', 'Chimaltenango Department', 'Bheri Zone', 'Quiché Department', 'North West', 'Canindeyú Department', 'Wexford', 'Nakhon Ratchasima', 'Carazo Department', 'Aysén Region', 'Trujillo', 'Coast Province', 'Tadla-Azilal', 'Medenine Governorate', 'Karan State', 'Northern Mariana Islands', 'Podlaskie Voivodeship', 'Houet', 'Mecklenburg-Vorpommern', 'County Mayo', 'Chișinău', 'Thurgau', 'Cagayan Valley', 'Al Anbar Governorate', 'Brazzaville', 'Tainan', 'Southland', 'Centre Region', 'Retalhuleu Department', 'Södermanland County', 'Canton of St. Gallen', 'Basse-Normandie', 'Vorarlberg', 'Santa Rosa Department', 'Arima', 'Solothurn', 'Boaco Department', 'Taiz Governorate', 'Tripura', 'Artigas Department', 'Balochistan', 'Drenthe', 'Ostrobothnia (region)', 'County Westmeath', 'French Guiana', 'Manipur', 'Littoral Department', 'Nakhon Si Thammarat', 'Rangpur Division', 'Grande Comore', 'Bicol Region', 'Annaba Province', 'Soriano Department', 'Amazonas', 'Beirut Governorate', 'Blida Province', 'Ninh Thuận Province', 'Tutong District', 'Valle Department', 'Giza Governorate', 'Nineveh Governorate', 'Quảng Trị Province', 'Western Greece', 'Adrar Province', 'Prince Edward Island', 'Gia Lai Province', 'Kosi Zone', 'Muscat Governorate', 'Tlemcen Province', 'Serravalle', 'Limassol District', 'Woqooyi Galbeed', 'Cerro Largo Department', 'Souk Ahras Province', 'Eastern Province', 'Khomas Region', 'Mascara Province', 'Tacuarembó Department', 'Fribourg', 'Bay of Plenty Region', 'Copperbelt Province', 'Mura Statistical Region', 'Henan', 'Aïn Témouchent Province', 'San Pedro Department', 'Andorra la Vella', 'Mizoram', 'Eastern Visayas', 'County Tipperary', 'Saint Pierre and Miquelon', 'Bissau', 'Batna Province', 'Relizane Province', 'Puno Region', 'Gisborne District', 'Catamarca', 'Cherkasy Oblast', 'Aden Governorate', 'Belait District', 'Świętokrzyskie Voivodeship', 'Kairouan Governorate', 'Akmola Region', 'Khánh Hòa Province', 'Tavastia Proper', 'Espírito Santo', 'Nordland', 'Grand Cayman', 'Champagne-Ardenne', 'Heves County', 'Chandigarh', 'Doha', 'Veraguas Province', 'Ogooué-Maritime Province', 'Somali Region', 'Meghalaya', 'Médéa Province', 'Dalarna County', 'Sololá Department', 'Apure', 'Atlantique Department', 'Haiphong', 'Mila Province', 'Rocha Department', 'Coclé Province', 'Kasserine Governorate', 'Grevenmacher District', 'Guairá Department', 'El Progreso Department', 'Taranaki', 'Mostaganem Province', 'Bouïra Province', 'Epirus (region)', 'Katanga', 'Saïda Province', 'Kharkiv Oblast', 'Acre (state)', 'North Sumatra', 'Central Java', 'Región Autónoma del Atlántico Sur', 'Lilongwe District', 'Skikda Province', 'Sălaj County', 'Virovitica-Podravina County', 'Central Sava Statistical Region', 'Dolj County', 'Islamabad Capital Territory', 'Labé Region', 'Ayacucho Region', 'El Oued Province', 'Zala County', 'San José Department', 'Alagoas', 'Intibucá Department', 'Zawiya District', 'Goriška Statistical Region', 'Bordj Bou Arréridj Province', 'Misrata District', 'Florida Department', 'Amhara Region', 'Littoral–Inner Carniola Statistical Region', 'Ticino', 'Rivne Oblast', 'Bình Phước Province', 'Bremen', 'Vysočina Region', 'Gozo', 'Tanintharyi Region', 'Durazno Department', 'West Bank', 'Balıkesir Province', 'Barisal Division', 'Roscommon', 'Orellana Province', 'Southern Aegean', 'Prahova County', 'Maysan Governorate', 'Arunachal Pradesh', 'Chiang Rai', 'Taza-Al Hoceima-Taounate', 'Mont Buxton', 'Poltava Oblast', 'Blekinge County', 'Central Division', 'Brașov County', 'Littoral Region', 'Samut Prakan', 'Pastaza Province', 'Santiago', 'Baja Verapaz Department', 'Turks and Caicos Islands', 'Vidzeme', 'Babil Governorate', 'Río Negro Department', 'Bà Rịa–Vũng Tàu Province', 'North Karelia', 'Yên Bái Province', 'Vágar', 'Harare Province', 'Sucumbíos Province', 'Guelma Province', 'Sergipe', 'Moquegua Region', 'Rio Grande do Norte', 'Nuqat al Khams', 'Primorje-Gorski Kotar County', 'Saint George Basseterre', 'Seti Zone', 'Chlef Province', 'Hajdú-Bihar County', \"Hawke's Bay\", 'Atsinanana', 'Rivière du Rempart District', 'Durrës County', 'Central Finland', 'Béjaïa Province', 'Demerara-Mahaica', 'Klaipėda County', 'Kirkuk Governorate', 'Pathum Thani', 'Ouargla Province', 'Tumbes Region', 'Győr-Moson-Sopron County', 'Beheira Governorate', 'Tolna County', 'Treinta y Tres Department', 'Tizi Ouzou Province', 'West Nusa Tenggara', 'Sligo', 'Northern Region', 'Savanes', 'Manawatu-Wanganui', 'Bolívar Province', 'Nam Định Province', 'Martinique', 'Dadra and Nagar Haveli', 'Monastir Governorate', 'Concepción Department (Paraguay)', 'Mubarak Al-Kabeer Governorate', 'Suðuroy', 'Osaka Prefecture', 'Värmland County', 'Lavalleja Department', 'Papua (province)', 'Puducherry', 'Buskerud', 'Västernorrland County', 'Bình Định Province', 'Bioko Norte Province', 'Almaty Region', 'Aust-Agder', 'Región Autónoma del Atlántico Norte', 'Mato Grosso', 'Dakahlia Governorate', 'Mimaropa', 'Biskra Province', 'Saint Helier', 'Ashanti Region', 'Couva-Tabaquite-Talparo Regional Corporation', 'Marj District', 'Edirne Province', 'Independencia Province', 'Istria County', 'Quảng Ninh Province', 'Pohjois-Savo', 'Misiones Department', 'Al Wahat District', 'Southern Ostrobothnia', 'Totonicapán Department', 'Songkhla', 'Saratov Oblast', 'Galápagos Province', 'Dnipropetrovsk Oblast', 'Ondo State', 'City of San Marino', 'Sibiu County', 'Adjara', 'Ubon Ratchathani', 'Åland Islands', 'Buzău County', 'Western Macedonia', 'Vakinankaratra', 'Isparta Province', 'Gaza Strip', 'Savannakhet Province', 'Sulaymaniyah Governorate', 'Ilfov County', 'Northland Region', 'Mwanza', 'Jahra Governorate', 'Chiba Prefecture', 'Rivière Noire District', 'Badakhshan Province', 'Busan', 'Plovdiv Province', 'Gabès Governorate', 'Sud-Kivu', 'Banteay Meanchey Province', 'Sirte District', 'Minya Governorate', 'Madre de Dios Region', 'Plaines Wilhems District', 'Bursa Province', 'Mayotte', 'Districts of Republican Subordination', 'Sofala Province', 'Sabha District', 'Bonaire, Sint Eustatius and Saba', 'Pahang', 'Napo Province', 'Perm Krai', 'Al Sharqia Governorate', 'Namangan Region', 'Peloponnese (region)', 'Herrera Province', 'Opole Voivodeship', 'Kafr el-Sheikh Governorate', 'County Louth', 'Jigawa State', 'Jiangsu', 'Zamora-Chinchipe Province', 'Maritime Region', 'Nagasaki Prefecture', 'Saare County', 'Port of Spain', 'Municipality of Centar (Skopje)', 'Faryab Province', 'South Karelia', 'Vidin Province', 'Ordu Province', 'Paraguarí Department', 'Vas County', 'Samsun Province', 'Kindia Region', 'Dire Dawa', 'Sabah', 'Sidi Bel Abbès Province', 'Johor', 'Jönköping County', 'Sassandra-Marahoué District', 'Béja Governorate', 'Sichuan', 'Madriz Department', 'Stann Creek District', 'Nagaland', 'Hadhramaut Governorate', 'Blantyre District', 'Varaždin County', 'Tissemsilt Province', 'Murqub District', 'Cordillera Administrative Region', 'Mahdia Governorate', 'Boumerdès Province', 'Orkhon Province', 'Telemark', 'Västmanland County', 'Kosovo', 'Nyanza Province', 'Cojedes', 'Luxor Governorate', 'Guaviare', 'Tochigi Prefecture', 'Szabolcs-Szatmár-Bereg County', 'Changhua', 'Savinja Statistical Region', 'Phetchaburi', \"Grand'Anse Mahé\", 'Balkh Province', 'Naypyidaw', 'Westfjords', 'Aomori Prefecture', 'Saint George', 'Ionian Islands (region)', 'Carinthia Statistical Region', 'Lop Buri', 'Sagarmatha Zone', 'Apurímac Region', 'Zarqa Governorate', 'Adana Province', 'Amazonas Region', 'Cần Thơ', 'Østfold', 'Kebili Governorate', 'Kilimanjaro', 'Khost Province', 'Maputo Province', 'Bocas del Toro Province', 'Finnmark', 'Atyrau Region', 'Veliko Tarnovo Province', 'Xorazm Region', 'Khmelnytskyi Oblast', 'Samtse District', 'Luzern', 'Tamanrasset Province', 'Møre og Romsdal', 'Jendouba Governorate', 'Khammouane Province', 'Kyustendil Province', 'Tirana County', 'Kirovohrad Oblast', 'Sidi Bouzid Governorate', 'Đồng Nai Province', 'Pardubice Region', 'Khon Kaen', 'Guelmim-Es Semara', 'Lagunes District', 'Bács-Kiskun County', 'Rapti Zone', 'Brong-Ahafo Region', 'Pärnu County', 'Burgas Province', 'Tataouine Governorate', 'Kalmar County', 'Eastern District', 'Escaldes-Engordany', 'Kwajalein Atoll', 'Chelyabinsk Oblast', 'Surat Thani', 'Nógrád County', 'Togdheer', 'Yukon', 'Bangui', 'Special Region of Yogyakarta', 'Siliana Governorate', 'Nelson Province', 'Päijät-Häme', 'Asyut Governorate', 'Caazapá Department', 'Montana Province', 'Mamou Region', 'Saint-Louis Region', 'Pando Department', 'Oyo State', 'Aswan Governorate', 'Bulawayo', 'Fresh Creek', 'Phichit', 'Zaghouan Governorate', 'Hyōgo Prefecture', 'Udon Thani', 'Tozeur Governorate', 'Punakha District', 'Qena Governorate', 'Darkhan-Uul Province', 'Grouville', 'Southern Province', 'Flores Department', 'Aïn Defla Province', 'Tavush Province', 'Neuchâtel', 'Muharraq Governorate', 'Mudug', 'Boquerón department', 'Vologda Oblast', 'Alif Alif Atoll', 'Warwick Parish', 'Zagreb County', 'Lampung', 'Qaasuitsup', 'Los Santos Province', 'Pedernales Province', 'Sofia Province', 'Central Greece (region)', 'Hunedoara County', 'Carchi Province', 'Hà Tĩnh Province', 'Presidente Hayes Department', 'Gharbia Governorate', 'An Giang Province', 'Najaf Governorate', 'Sint Maarten', 'Kiên Giang Province', 'Estuaire Province', 'Zug', 'Koprivnica-Križevci County', 'Bas-Sassandra', 'Tindouf Province', 'Northwest Region', 'Banten', 'Murzuq District', 'Atsimo-Andrefana', 'Donegal', 'Banjul', 'Pasco Region', 'Sikasso Region', 'Sisaket', 'Samarqand Region', 'Békés County', 'Ñeembucú Department', 'Northern Province', 'Mashonaland West Province', 'Putrajaya', 'Vest-Agder', 'Dhi Qar Governorate', 'Bihor County', 'Toledo District', 'Rayong', 'Halland County', 'Hawalli Governorate', 'Hubei', 'Nangarhar Province', 'Corse', 'Manouba Governorate', 'Nord Department', 'Sverdlovsk Oblast', 'Erongo Region', 'Laghouat Province', 'Litoral Province', 'Kigali', 'Northern Aegean', 'Ibaraki Prefecture', 'Federation of Bosnia and Herzegovina', 'North-East District', 'Al Hudaydah Governorate', 'Split-Dalmatia County', 'Artibonite Department', 'Thessaly', 'Labuan', 'Rondônia', 'Mahakali Zone', 'Tocantins', 'Blagoevgrad Province', 'Qalyubia Governorate', 'West Coast', 'County Laois', 'Huíla Province', 'Muğla Province', 'Mount Lebanon Governorate', 'Saint Clement', 'Kamphaeng Phet', 'Derna District', 'Saint George Parish', 'Sant Julià de Lòria', 'Kocaeli Province', 'Bình Dương Province', 'Chin State', 'South Sinai Governorate', 'Kurzeme Region', 'Haute Matsiatra', 'Hualien', 'Irbid Governorate', 'Lapland (Finland)', 'Elías Piña Province', 'Ouaddaï Region', 'Caraș-Severin County', 'Pamplemousses District', 'Vallée du Bandama', 'North Central Province', 'Waterford', 'Šiauliai County', 'Satakunta', 'Boulkiemde', 'Kankan Region', 'Negeri Sembilan', 'Janakpur Zone', 'Flacq District', 'Mbeya', 'Eskişehir Province', 'Malacca', 'Vaduz', 'Veszprém County', 'Béchar Province', 'La Massana', 'Võru County', 'Nalut District', 'Equatoria', 'Ordino', 'El Bayadh Province', 'Bengkulu', 'Kyoto Prefecture', 'Kweneng District', 'Anambra State', 'Gyeongsangnam-do', 'Chumphon', 'Western Division', 'Trà Vinh Province', 'Ouémé Department', 'Southern Region', 'Akita Prefecture', 'Roraima', 'Panevėžys County', 'North Governorate', 'Famagusta District', \"'Amran Governorate\", 'North-West District', 'Shefa Province', 'Shumen Province', 'Eastern Region', 'Damietta Governorate', 'Ghazni Province', 'Toa Alta', 'Buriram', 'Somogy County', 'Komárom-Esztergom County', 'Harari Region', 'Manzini Region', 'Matrouh Governorate', 'Borgou Department', 'Azad Kashmir', 'Emirate of Sharjah', 'Al-Qādisiyyah Governorate', 'Zambezia Province', 'Falkland Islands', 'Nampula Province', 'Yamoussoukro', 'Cabinda Province', 'Komoe', 'Saint Martin', 'Cuanza Sul Province', 'North Sulawesi', 'San Fernando', 'Encamp', 'Ganja', 'South Sumatra', 'Western Region', 'Diyala Governorate', 'County Offaly', 'Gambela Region', 'Zanzibar Urban', 'Kédougou Region', 'North Western Province', 'Thừa Thiên–Huế Province', 'West Kalimantan', 'Bắc Giang Province', 'Tunapuna-Piarco Regional Corporation', 'Kolda Region', 'Suceava County', 'Laâyoune-Boujdour-Sakia El Hamra', 'Nakhon Sawan', 'Shizuoka Prefecture', 'Ngozi Province', 'Gilgit-Baltistan', 'West Region', 'Sud-Est Department', 'Diego Martin Regional Corporation', 'Long An Province', 'Anjouan', 'Bukhara Region', 'Port Louis District', 'Woroba District', 'Boké Region', 'Vĩnh Long Province', 'Siem Reap Province', 'Andijan Region', 'Farwaniya Governorate', 'Suphan Buri', 'Dhamar Governorate', 'Nizhny Novgorod Oblast', 'Chaguanas', 'Krasnodar Krai', 'El Taref Province', 'Prachuap Khiri Khan', 'Nord-Est Department', 'Çorum Province', 'Morobe Province', 'East Nusa Tenggara', 'Kampot Province', 'Takhar Province', 'Helmand Province', 'Muyinga Province', 'Leeward Islands', 'Constanța County', 'Yunnan', 'Saint Andrew Parish', 'Bas-Congo', 'Wadi al Hayaa District', 'New Providence', 'Nimruz Province', 'Zinder Region', 'Attapeu Province', 'Enugu State', 'Kayah State', 'Ayutthaya', 'Far North Region', 'Federally Administered Tribal Areas', 'Tiris Zemmour Region', 'Jafara', 'Fergana Region', 'Keelung City', 'Saint Michael', 'Yunlin', 'Alytus County', 'Hà Giang Province', 'Trarza Region', 'Hiran', 'Edo State', 'Fujairah', 'Pskov Oblast', 'Ishikawa Prefecture', 'Adrar Region', 'Karaman Province', 'Hodh Ech Chargui Region', 'Hedmark', 'Ratchaburi', 'Lower Sava Statistical Region', 'Graubünden', 'Larnaca District', 'Wakiso District', 'Nunavut', 'Limpopo', 'Northwest Territories', 'Cà Mau Province', 'Karakalpakstan', 'Semigallia', 'Saint John Parish', 'Boeny', 'Khenchela Province', 'Montagnes District', 'Stara Zagora Province', 'Anhui', 'Viljandi County', 'Tekirdağ Province', 'Sihanoukville Province', 'Kano State', 'Samut Sakhon', 'East Kalimantan', 'South Kalimantan', 'Covasna County', 'Southeast Slovenia Statistical Region', 'Ruse Province', 'Domagnano', 'Río San Juan Department', 'Benishangul-Gumuz Region', 'Benguela Province', 'Jabal al Akhdar', 'Ivano-Frankivsk Oblast', 'Chachoengsao', 'Champasak Province', 'Lääne County', 'Alba County', 'Brod-Posavina County', 'North Eastern Province', 'Sanmatenga', 'South Sulawesi', 'Dodoma', 'Leribe District', 'Konya Province', 'Saitama Prefecture', 'Burgenland', 'Vitebsk Region', 'Aosta Valley', 'Pohnpei', 'Krasnoyarsk Krai', 'São Tomé Island', 'Nakhchivan Autonomous Republic', 'Morogoro', 'Karbala Governorate', 'Bình Thuận Province', 'Ömnögovi Province', 'Republika Srpska', 'Phú Thọ Province', 'Lamphun', 'Karlovy Vary Region', 'Comoé District', 'Gifu Prefecture', 'Podgorica Capital City', 'Thiès Region', 'Delta Amacuro', 'Ninh Bình Province', 'La Condamine', 'Utena County', 'Princes Town Regional Corporation', 'Fogo', 'Saint Lawrence', 'Maha Sarakham', 'Oued Ed-Dahab-Lagouira', 'Hưng Yên Province', 'San Juan-Laventille Regional Corporation', 'Bokeo Province', 'Gunma Prefecture', 'Lampang', 'Zaporizhia Oblast', 'Hải Dương Province', 'Mpumalanga', 'Chanthaburi', 'Kanchanaburi', 'Hokkaido', 'Guainia', 'Primorsky Krai', 'Fujian', 'Kherson Oblast', 'Ahal Region', 'Muthanna Governorate', 'South Kazakhstan Region', 'Chernivtsi Oblast', 'Mokhotlong District', 'Gôh-Djiboua District', 'São Vicente', 'Argeș County', 'Volyn Oblast', 'Oshana Region', 'Yilan', 'Northwestern Province', 'Luhansk Oblast', 'Kef Governorate', 'Mersin Province', 'Faetano', 'Krabi', 'Đắk Lắk Province', 'Arad County', 'Bolikhamsai Province', 'Vĩnh Phúc Province', 'Prachin Buri', 'Ailinglaplap Atoll', 'Mbarara District', 'Mie Prefecture', 'Donetsk Oblast', 'Huancavelica Region', 'Harghita County', 'Kalasin', 'Järva County', 'Haa Alif Atoll', 'Zhytomyr Oblast', 'Gotland County', 'Mzimba District', 'Hiroshima Prefecture', 'Kedah', 'Iringa', 'Kayes Region', 'Free State', 'Terengganu', 'Beqaa Governorate', 'Nevşehir Province', 'Sal', 'Gabrovo Province', 'Naâma Province', 'Mangochi District', 'Freeport', 'Miyagi Prefecture', 'Vlorë County', 'Chukha District', 'Surin', 'Silistra Province', 'Tyumen Oblast', 'Kunduz Province', 'Mae Hong Son', 'Maramureș County', 'Marijampolė County', 'Canton of Nidwalden', 'Ziguinchor Region', 'Imo State', 'Upper East Region', 'Hainan', 'Jeollabuk-do', 'Battambang Province', 'Troms', 'Kakheti', 'Amapá', 'Jämtland County', 'Seal Island', 'Carlow', 'Coastal–Karst Statistical Region', 'West Coast Division', 'Southern Peninsula', 'Roi Et', 'Salavan Province', 'Sabaragamuwa Province', 'Karnali Zone', 'Baghlan Province', 'Chaiyaphum', 'Saint Peter', 'Kaolack Region', 'Mondulkiri Province', 'East Kazakhstan Region', 'Stepanakert', 'Cayman Brac', 'Phayao', 'Loei', 'East Berbice-Corentyne', 'Diana Region', 'Shaanxi', 'Buada District', 'Tanga', 'Quảng Ngãi Province', 'Kagoshima Prefecture', 'Kunar Province', 'Paget Parish', 'Zabul Province', 'Vinnytsia Oblast', 'Dhawalagiri Zone', 'Tabuk Region', 'Ségou Region', 'Međimurje County', 'Sekong Province', 'Bauchi State', 'Sarpang District', 'Poni', 'Las Marías', 'Quảng Nam Province', 'Nord-Trøndelag', 'Inner Mongolia', 'Canillo', 'Haskovo Province', 'Little Cayman', 'East Sepik Province', 'Samangan Province', 'Central Ostrobothnia', 'Debar Municipality', 'Sliven Province', 'Sakon Nakhon', 'Wasit Governorate', 'Afar Region', 'Gwangju', 'Karaganda Region', 'Jura', 'Schaffhausen', 'Federal Capital Territory', 'Gorno-Badakhshan Autonomous Region', 'Kujalleq', 'Al Mahrah Governorate', 'Charlotte', 'Urozgan Province', 'Shabwah Governorate', 'Logone Oriental Region', 'Kahramanmaraş Province', 'Hatay Province', 'Kon Tum Province', 'Butnan District', 'Dobrich Province', 'Grand Port District', 'Phrae', 'Navoiy Region', 'Phetchabun', 'Huambo Province', 'Manisa Province', 'Surxondaryo Region', 'Jabal al Gharbi District', 'Uri', 'Nghệ An Province', 'Saint Barthélemy', 'Zakarpattia Oblast', 'Devonshire Parish', 'Perak', 'Pazardzhik Province', 'Trang', 'Yatenga', 'Sisak-Moslavina County', 'Monufia Governorate', 'Koulikoro Region', 'Autonomous Region in Muslim Mindanao', 'Dubrovnik-Neretva County', 'Bistrița-Năsăud County', 'Shiga Prefecture', 'Vukovar-Srijem County', 'Uttaradit', 'Sava Region', 'Port Said Governorate', 'Trat', 'Nagano Prefecture', 'Singida', 'Yala Province', 'Rarotonga', 'Tak', 'Dakhlet Nouadhibou Region', 'Penal-Debe Regional Corporation', 'Brăila County', 'Nong Khai', 'Rostov Oblast', 'Sukhothai', 'Sumqayit', 'Oppland', 'Sa Kaeo', 'Andaman and Nicobar Islands', 'Bacău County', 'Qashqadaryo Region', 'Tete Province', 'Sogn og Fjordane', 'Essequibo Islands-West Demerara', 'Tabora', 'Nan', 'Gaziantep Province', 'Pavlodar Region', 'Incheon', 'Riau', 'Nabatieh Governorate', 'Osh Region', 'Cavan', 'Phangnga', 'Otjozondjupa Region', 'Galați County', 'Samoa', 'Pattani', 'Daegu', 'Kandal Province', 'Teleorman County', 'Sainyabuli Province', 'Upper West Region', 'Kvemo Kartli', 'Hhohho Region', 'Ararat Province', 'Abkhazia', 'Luapula Province', 'Schwyz', 'Jinja District', 'Northern Cape', 'Tatarstan', 'Shinyanga', 'Sohag Governorate', 'Lacs District', 'Latgale', 'Samut Songkhram', 'South Governorate', 'Bắc Ninh Province', 'Mohéli', 'Eschen', 'Mopti Region', 'Astrakhan Oblast', 'Kampong Cham Province', 'Jambyl Region', 'Kyrenia District', 'Kratié Province', 'Phatthalung', 'Gracias a Dios Department', 'Luang Prabang Province', 'Vientiane Province', \"Smith's Parish\", 'Kigoma', \"Mohale's Hoek District\", 'Zomba District', 'Mbale District', 'Sumy Oblast', 'Telšiai County', 'Vratsa Province', 'Tiền Giang Province', 'Aktobe Region', 'Denizli Province', 'Volta Region', 'Vrancea County', 'Miaoli', 'County Leitrim', 'Belgorod Oblast', 'Canton of Obwalden', 'Shandong', 'Nickerie District', 'Lovech Province', 'Gourma', 'Boulgou', 'Hardap Region', 'Rivers State', 'Dâmbovița County', 'Nakhon Nayok', 'Narathiwat', 'Chungcheongnam-do', 'County Monaghan', 'Bari', 'Olt County', 'Pleven Province', 'Cabo Delgado Province', 'Mafeteng District', 'Thanh Hóa Province', 'Rapla County', 'Faiyum Governorate', 'Nong Bua Lam Phu', 'Trashigang District', 'Berea District', 'Khanty-Mansi Autonomous Okrug', 'Svay Rieng Province', 'Tongatapu', 'Călărași County', 'Moka District', 'Fukuoka Prefecture', 'West Sumatra', 'Suez Governorate', 'Orientale', 'Mukdahan', 'Vichada', 'Al Batinah North Governorate', 'Vâlcea County', 'Siparia Regional Corporation', 'Chai Nat', 'West Kazakhstan Region', 'Thái Nguyên Province', 'Kavango East', 'ǁKaras Region', 'Darién Province', 'Mukono District', 'Satun', 'Arua District', 'Yasothon', 'Kostanay Region', 'Đắk Nông Province', 'Tokat Province', 'Orenburg Oblast', 'Beni Suef Governorate', 'Yaroslavl Oblast', 'Amnat Charoen', 'Jizzakh Region', 'Tây Ninh Province', 'Kayseri Province', 'Ang Thong', 'Bong County', 'County Longford', 'Marlborough Region', 'Ternopil Oblast', 'Saint Saviour', 'Kouritenga', 'Çanakkale Province', 'Sing Buri', 'Thái Bình Province', 'Zanzan', 'Rukwa', 'Brest Region', 'Vladimir Oblast', 'Bashkortostan', 'Pernik Province', 'Kgalagadi District', 'Tianjin', 'Tasman District', 'Sughd Region', 'Savanne District', 'North Region', 'Diourbel Region', 'Canton of Glarus', 'Hebei', 'Manica Province', 'Fatick Region', 'Ismailia Governorate', 'Karlovac County', 'Harbour Island', 'Bueng Kan', 'Gros-Islet', 'North Province', 'Bimini', 'Paro District', 'Smolensk Oblast', 'Botoșani County', 'Saint James Parish', 'Alto Paraguay Department', 'Pingtung', 'Kagera', 'Ranong', 'Saint Brélade', 'Taitung', 'Shusha', 'Požega-Slavonia County', 'Quba Rayon', 'Gao Region', 'Western District', 'Oshikoto Region', 'Pwani', 'Saramacca District', 'Kumanovo Municipality', 'Oudomxay Province', 'Gangwon-do', 'Šibenik-Knin County', 'Kyzylorda Region', 'Bangka–Belitung Islands', 'Giurgiu County', 'Malatya Province', 'Ōita Prefecture', 'Satu Mare County', 'Diyarbakır Province', 'Ștefan Vodă District', 'Zabaykalsky Krai', 'Tbong Khmum Province', 'Mardin Province', 'Samara Oblast', 'Red Sea Governorate', 'Vaupes', 'Uthai Thani', 'Ehime Prefecture', 'Centre Department', 'Ruvuma', 'Tula Oblast', 'Upper Demerara-Berbice', 'Laghman Province', 'Kampong Speu Province', 'Gorj County', 'Targovishte Province', 'Gitega Province', 'Mara', 'Bjelovar-Bilogora County', 'Chuy Region', 'Tombouctou Region', 'Nord-Kivu', 'Vatovavy-Fitovinany', 'Gyeongsangbuk-do', 'Alaotra-Mangoro', 'Malanje Province', 'Kütahya Province', 'Daejeon', 'Samegrelo-Zemo Svaneti', 'Niigata Prefecture', 'Kgatleng District', 'Elazığ Province', 'Koh Kong Province', 'Tobago', 'Mingachevir', 'Boa Vista', 'Sơn La Province', 'Şanlıurfa Province', 'Ogun State', 'Omusati Region', 'Triesenberg', 'Voronezh Oblast', 'Cuyuni-Mazaruni', 'Masaka District', 'Nord-Ouest Department', 'Prey Veng Province', 'Lipetsk Oblast', 'Kampong Chhnang Province', 'Tambacounda Region', 'Wanica District', 'Zou Department', 'Ratanakiri Province', 'Lääne-Viru County', 'Mangystau Region', 'Tulcea County', 'Maryland County', 'Neamț County', 'Kainuu', 'Mogilev Region', 'Gomel Region', 'Castries', 'Nzérékoré Region', 'Gulu District', 'Zonguldak Province', 'Trabzon Province', 'Quthing District', 'Bururi Province', 'Yambol Province', 'North Kazakhstan Region', 'Takéo Province', 'Lạng Sơn Province', 'Louga Region', 'Thaba-Tseka District', 'Shaki District', 'Ghanzi District', 'Mtwara', 'Irkutsk Oblast', 'Grand Bassa County', 'Sissili', 'Santo Antão', 'Ohrid Municipality', 'Norfolk Island', 'Sofia Region', 'Elbasan County', 'Pursat Province', 'Yamagata Prefecture', 'Halabja Governorate', 'Agadez Region', 'Sangre Grande Regional Corporation', 'Hậu Giang Province', 'Madaba Governorate', 'Dhofar Governorate', 'Tetovo Municipality', 'Balqa Governorate', 'Xiangkhouang Province', 'Mouhoun', 'Hà Nam Province', 'Bolu Province', 'Nantou', 'Gaza Province', 'Uşak Province', 'Aceh', 'Triesen', 'Bạc Liêu Province', 'Shkodër County', 'Smolyan Province', 'Eastern Highlands Province', 'Hunan', 'Collines Department', 'Illizi Province', 'Magadan Oblast', 'Phú Yên Province', 'Irrawaddy', 'Al Wakrah', 'Kep Province', 'Gorontalo', 'Tauragė County', 'Kelantan', 'Wadi al Shatii District', 'Bié Province', 'Zanzibar Central', 'Sud Department', 'Mulanje District', 'Ohangwena Region', 'Trinity', 'Rio Claro-Mayaro Regional Corporation', 'Aksaray Province', 'Kasungu District', 'Kardzhali Province', 'Trinity Palmetto Point', 'Jõgeva County', 'Saint Paul Parish', 'Tver Oblast', 'Tomsk Oblast', 'Ivanovo Oblast', 'Saint James', 'Ialomița County', \"Qacha's Nek District\", 'Chungcheongbuk-do', 'Minsk Region', 'Ruggell', 'Tivat Municipality', 'Norðoyar', 'Shida Kartli', 'Quảng Bình Province', 'Fier County', 'Valga County', 'Kursk Oblast', 'Iganga District', 'Analanjirofo', 'Omsk Oblast', 'Northwestern Region', 'Sakarya Province', 'Delta State', 'Wangdue Phodrang District', 'Sirdaryo Region', 'Masally District', 'Qakh District', 'Çankırı Province', 'Kaduna State', 'Jozjan Province', 'Saint John Figtree', 'Borno State', 'Central Governorate', 'East New Britain Province', 'Aqaba Governorate', 'Bahr el Ghazal', 'Guria', 'Vaslui County', 'Rize Province', 'Kampong Thom Province', 'Guangxi', 'Ulyanovsk Oblast', 'Pailin', 'Al Bayda Governorate', 'Afyonkarahisar Province', 'Điện Biên Province', 'Anosy Region', 'Kinmen', 'Kotayk Province', 'Central Sulawesi', 'Kabarole District', 'Đồng Tháp Province', 'Lofa County', 'Shirak Province', 'Kurgan Oblast', 'Seno', 'Cacheu Region', 'Fukushima Prefecture', 'Altai Krai', 'Donga Department', 'Penza Oblast', 'Al Madinah Region', 'Luang Namtha Province', 'Lezhë County', 'Chuvashia', 'Ad Dakhiliyah Governorate', 'Tuy', \"'Asir Region\", 'Lindi', 'Karonga District', 'Tigray Region', 'Lira District', 'Maniema', 'Kwara State', 'Issyk Kul Region', 'Niger State', 'Gnagna', 'Ekiti State', 'Abia State', 'San Blas', 'Şırnak Province', 'Panjshir Province', 'North Maluku', 'Maluku', 'Kasese District', 'Butha-Buthe District', 'Volgograd Oblast', 'Central Kalimantan', 'Matam Region', 'Novgorod Oblast', 'Stavropol Krai', 'Denguélé', 'Karabük Province', 'Bam', 'Al Jawf Region', 'Nimba County', 'Sivas Province', 'Chuuk', 'Talas Region', 'North Sinai Governorate', 'Cao Bằng Province', 'Baie Sainte Anne', 'Saint Ann Parish', 'Para District', 'Midlands Province', 'Marquesas Islands', 'Sóc Trăng Province', 'Menabe', 'Awdal', \"Grand'Anse Department\", 'Inhambane Province', 'Passore', 'Houaphanh Province', 'Namibe Province', 'Veles Municipality', 'Gegharkunik Province', 'Emirate of Ajman', 'Giresun Province', 'Bryansk Oblast', 'Dagestan', 'Bến Tre Province', 'Yamanashi Prefecture', 'Jeollanam-do', 'Palau', 'Siirt Province', 'Bar Municipality', 'Plateau Department', 'Khachmaz District', 'Kırklareli Province', 'Agdam District', 'Agdash District', 'Agstafa District', 'Sinop Province', 'Saatly District', 'Muş Province', 'Goranboy District', 'Kırıkkale Province', 'Van Province', 'Kurdamir District', 'Kars Province', 'Melaky', 'Omaheke Region', 'Soroti District', 'Mahaica-Berbice', 'Logar Province', 'Cibitoke Province', 'Paktia Province', 'Okayama Prefecture', 'Municipality of Kočani', 'Syunik Province', 'Austral Islands', 'Iwate Prefecture', 'Karak Governorate', 'Düzce Province', 'Commewijne District', 'Tuyên Quang Province', 'Uva Province', 'Zaire Province', 'Saint Catherine Parish', 'Saint John', 'Chikwawa District', 'Kumamoto Prefecture', 'Androy', 'Atsimo-Atsinanana', 'Oubritenga', 'Transnistria', 'Mwanza District', 'Zambezi Region', 'Jaluit Atoll', 'Kaluga Oblast', 'Southampton Parish', 'Appenzell Ausserrhoden', 'Rumphi District', 'Al Khor', 'Hoima District', 'Atakora Department', 'Southern Governorate', 'West Papua', 'Kagawa Prefecture', 'Kōchi Prefecture', 'Akwa Ibom State', 'Leningrad Oblast', 'Northern Division', 'Marsh Harbour', 'Bale', 'Stung Treng Province', 'Zoundweogo', 'South Region', 'Gaafu Alif Atoll', 'Niari Department', 'Republic of Karelia', 'Khabarovsk Krai', 'Maio', 'Jamestown', 'Barima-Waini', 'Adjumani District', 'Kunene Region', 'Addu Atoll', 'Nasarawa State', 'Haut-Ogooué Province', 'Kasai-Oriental', 'Parwan Province', 'Jiangxi', 'Saint Patrick Parish', 'Tokushima Prefecture', \"Ma'an Governorate\", 'Loyalty Islands', 'Kufra District', 'Mashonaland Central Province', 'Balzers', 'Sandys Parish', 'Mafraq Governorate', 'Saint Ouen', 'Madang Province', 'Municipality of Probištip', 'Nichollstown and Berry Islands', 'Haa Dhaalu Atoll', 'Svalbard and Jan Mayen', 'Inchiri Region', 'Kuna de Wargandí', 'Razgrad Province', 'Niassa Province', 'Dornogovi Province', 'Taraba State', 'Upper Takutu-Upper Essequibo', 'Alibori Department', 'Mityana District', 'Tenasserim', 'Saada Governorate', 'Amasya Province', 'Adamawa Region', 'Erzincan Province', 'Tombali Region', 'East Region', 'Maradi Region', 'Paktika Province', 'Burdur Province', 'Bubanza Province', 'Căușeni District', 'Tsirang District', 'Masindi District', 'Point Fortin', 'Kenedougou', 'Mono Department', 'Katsina State', 'Kosrae', 'Aragatsotn Province', 'Ras al-Khaimah', 'Balkan Region', 'Eysturoy', 'Nikšić Municipality', 'Lào Cai Province', 'Bougouriba', 'Övörkhangai Province', 'Manchester Parish', 'Bushenyi District', 'Sakhalin Oblast', 'Grand Cape Mount County', 'Drochia District', 'Saint Mary Cayon', 'Töv Province', 'Chechnya', 'Mehedinți County', 'Lunda Sul Province', 'Uíge Province', 'Preah Vihear Province', 'Sédhiou Region', 'Lunda Norte Province', 'Kavadarci Municipality', \"St. George's Parish\", 'Ash Sharqiyah South Governorate', 'Luwero District', 'Southeast Sulawesi', 'Bongolava', 'Namentenga', 'Western Highlands Province', 'West New Britain Province', 'Kamuli District', 'Tororo District', 'Grand Gedeh County', 'Bălți', 'Salima District', 'Ioba', 'Krapina-Zagorje County', 'Dornod Province', 'Zondoma', 'Toyama Prefecture', 'Bulgan Province', 'Baa Atoll', 'Strumica Municipality', 'Clarendon Parish', 'Plateau State', 'Kabale District', 'Bayankhongor Province', 'Kastamonu Province', 'Imishli District', 'Goygol District', 'Salyan District', 'Samdrup Jongkhar District', 'Grenadines', 'Bitlis Province', 'Tunceli Province', 'Shirvan (city)', 'Southwest Region', 'Gümüşhane Province', 'Shamakhi District', 'North Bank Division', 'Ghor Province', 'Ağrı Province', 'Barda District', 'Tovuz District', 'Saint Patrick', 'Adıyaman Province', 'Laborie', 'Jalilabad District', 'Batman Province', 'Ghat District', 'Lankaran District', 'Hajjah Governorate', 'Lhaviyani Atoll', 'Greater Upper Nile', 'Niğde Province', 'Ad Dhahirah Governorate', 'Khatlon Region', 'Haa District', 'Beylagan District', 'Oghuz District', 'Kırşehir Province', 'Balakan District', 'Sabirabad District', 'Tartar District', 'Centrale Region', 'Saint Anne Sandy Point', 'Aghjabadi District', 'Abyan Governorate', 'Artvin Province', 'Sükhbaatar Province', 'Nana-Mambere', 'Grodno Region', 'Municipality of Delčevo', 'Bazega', 'Benué State', 'Naouri', 'Christ Church', 'Saint Thomas Middle Island', 'Schaan', 'Kossi', 'Busia District', 'Oddar Meanchey Province', 'Khovd Province', 'Ningxia', 'Sourou', 'Tapoa', 'Gevgelija Municipality', 'Nkhotakota District', 'Sakha Republic', 'Saint Peter Basseterre', 'Appenzell Innerrhoden', 'Sanguie', 'Ryazan Oblast', 'Dowa District', 'Zanzibar North', 'Hòa Bình Province', 'Masvingo Province', 'Erzurum Province', 'Machinga District', 'Cahul District', 'Moxico Province', 'Funafuti', 'Mubende District', 'Lori Province', 'Saint Andrew', 'Kabardino-Balkaria', 'Nara Prefecture', 'Trongsa District', 'Ulsan', \"Amoron'i Mania\", 'Marowijne District', 'Jambi', 'Mchinji District', 'Soum', 'Cuando Cubango Province', 'Kourweogo', 'Ntcheu District', 'Briceni District', 'Lower Juba', 'Ntungamo District', 'Leraba', 'Phongsaly Province', 'Haute-Kotto', 'Umm al-Quwain', 'Anse Etoile', 'Oudalan', 'Gagauzia', 'Kaffrine Region', 'Kogi State', 'Wakayama Prefecture', 'Ialoveni District', 'Balaka District', 'Wele-Nzas Province', 'Sinoe County', 'Bouenza Department', 'Osun State', 'Dedza District', 'Oryol Oblast', 'Koboko District', 'Lai Châu Province', 'Adygea', 'Shimane Prefecture', 'Itasy Region', 'Kostroma Oblast', 'Mpigi District', 'Chiayi', 'Bijelo Polje Municipality', 'Sokoto State', 'Makamba Province', 'Farah Province', 'Bamyan Province', 'Hela Province', 'Sandaun Province', 'Manus Province', 'Nugal', 'Kayanza Province', 'Bomi County', 'Isingiro District', 'Moyen-Ogooué Province', 'Potaro-Siparuni', 'La Digue and Inner Islands', 'Kapchorwa District', 'Struga Municipality', 'Îles Tuamotu-Gambier', 'Kidal Region', 'Raa Atoll', 'Rakai District', 'Rukungiri District', 'Selenge Province', 'Berat County', 'Brokopondo District', 'Gorgol Region', 'Nayala', 'Banwa', 'Thyolo District', 'Ziro', 'Kibale District', 'Schellenberg', 'Korçë County', 'Saint Mary Parish', 'Hanover Parish', 'Kyenjojo District', 'North Ossetia–Alania', 'Kayunga District', 'Tambov Oblast', 'Dolneni Municipality', 'Soufriere', 'Cunene Province', 'Yumbe District', 'Assaba Region', 'Noumbiel', 'Yozgat Province', 'Cross River State', 'Bundibugyo District', 'Ibanda District', 'Yalova Province', 'Moyo District', 'Kiboga District', 'Armavir Province', 'Nkhata Bay District', 'Kanungu District', 'Mongar District', 'Saint Thomas Parish', 'Sironko District', 'Lakshadweep', 'Sangha Department', 'São Nicolau', 'Loroum', 'Rîșcani District', 'Koulpelogo', \"Ha'il Region\", 'Maracha District', 'Apac District', 'Nakaseke District', 'Bắc Kạn Province', 'Criuleni District', 'Adamawa State', 'Acquaviva', 'Budva Municipality', 'Jufra District', 'Fălești District', 'Lyantonde District', 'Kisoro District', 'Kumi District', 'Khövsgöl Province', 'Mari El', 'Trelawny Parish', 'Ajloun Governorate', 'Khojavend District', 'Moyen-Chari Region', 'Vieux-Fort', 'Bugiri District', 'Jizan Region', 'Saint Thomas Lowland', 'Ulcinj Municipality', 'Pader District', 'Northern Borders Region', 'Heilongjiang', 'Hîncești District', 'Phalombe District', 'Neno District', 'Pallisa District', 'Mordovia', 'Kamchatka Krai', 'Taraclia District', 'Amur Oblast', 'Buryatia', 'Yamalo-Nenets Autonomous Okrug', 'Cimișlia District', 'Guidimaka Region', 'Chiradzulu District', 'Margibi County', 'Nebbi District', 'Nsanje District', 'Fiorentino', 'Amuru District', 'Mayuge District', 'Kiruhura District', 'Moroto District', 'Umm Salal', 'Antarctica', 'Plasnica Municipality', 'Kaliro District', 'Kouffo Department', 'Gostivar Municipality', 'Komondjari', 'Kitgum District', 'Kukës County', 'Saga Prefecture', 'Bukwo District', 'Ida-Viru County', 'Edineț District', 'Jilin', 'Karachay-Cherkessia', 'Lagunes', 'Prilep Municipality', 'Ingushetia', 'Gamprin', 'River Gee County', 'Ruyigi Province', 'Mandoul Region', 'Gjirokastër County', 'Orhei District', 'Lékoumou Department', 'Kirov Oblast', 'Miyazaki Prefecture', 'Brakna Region', 'Katakwi District', 'Kičevo Municipality', 'Long Island', 'Old Royal Capital Cetinje', 'Saint Joseph Parish', 'Al-Qassim Province', 'Al Bahah Region', 'Inagua', 'Vinica Municipality', 'Acklins and Crooked Islands', 'Lebap Region', 'Rezina District', 'Naryn Region', 'Glodeni District', 'Florești District', 'Chukotka Autonomous Okrug', 'Telenești District', 'Vayots Dzor Province', 'Anenii Noi District', 'Danilovgrad Municipality', 'Sîngerei District', 'Dondușeni District', 'Chitipa District', 'Kalangala District', 'Bel Ombre', 'Manafwa District', 'Bukedea District', 'Hodh El Gharbi Region', 'Dubăsari District', 'Chiesanuova', 'Nisporeni District', 'Noonu Atoll', 'Central River Division', 'Sipaliwini District', 'Nakasongola District', 'Basarabeasca District', 'Soroca District', 'Cantemir District', 'Plateaux Department', 'Ihorombe', 'Kamwenge District', 'Lika-Senj County', 'Coronie District', 'Jervis Bay Territory', 'Ntchisi District', 'Ungheni District', 'Negotino Municipality', 'Sembabule District', 'Cascade', 'Strășeni District', 'Kaabong District', 'Pemba North', 'Kotido District', 'Sheema District', 'Vavaʻu', 'Anse Boileau', 'Bayburt Province', 'Northern Governorate', 'Perlis', 'Jerash Governorate', 'Ebonyi State', 'Arkhangelsk Oblast', 'Tagant Region', 'Yagha', 'Udmurtia', 'Likouala Department', 'Dhaalu Atoll', 'Dokolo District', 'Penghu', 'Gombe State', 'Pemba South', 'Rubirizi District', 'Príncipe', 'Bengo Province', 'Zamfara State', 'Yobe State', 'Kebbi State', 'Samtskhe-Javakheti', 'Radoviš Municipality', 'Najran Region', 'Cuvette Department', 'New Ireland Province', 'Bayan-Ölgii Province', 'Nippes Department', 'Herceg Novi Municipality', 'Cuvette-Ouest Department', 'Leova District', 'Nakapiripirit District', 'Sandy Bay', 'Saint Elizabeth Parish', 'Kaberamaido District', 'Westmoreland Parish', 'Abim District', 'Rivercess County', 'Grand Kru County', 'Gbarpolu County', 'Betsiboka', 'Amuria District']\n"
     ]
    },
    {
     "name": "stderr",
     "output_type": "stream",
     "text": [
      "                                                                                \r"
     ]
    }
   ],
   "source": [
    "z = df_region_12.select(\"region\").rdd.flatMap(lambda x: x).collect()\n",
    "print(z)"
   ]
  },
  {
   "cell_type": "code",
   "execution_count": 72,
   "id": "9a6405ca",
   "metadata": {},
   "outputs": [
    {
     "name": "stderr",
     "output_type": "stream",
     "text": [
      "                                                                                \r"
     ]
    },
    {
     "data": {
      "text/plain": [
       "{'Georgia': 26079.984713999904,\n",
       " 'California': 313.5507540000001,\n",
       " 'Texas': 205.9812960000004,\n",
       " 'Florida': 177.1716649999999,\n",
       " 'New York': 175.28483799999992,\n",
       " 'Pennsylvania': 145.19182699999988,\n",
       " 'New Jersey': 136.94606599999992,\n",
       " 'Washington': 111.04802800000016,\n",
       " 'Ohio': 108.77681799999999,\n",
       " 'Alabama': 106.12985800000003,\n",
       " 'Tennessee': 94.6330399999999,\n",
       " 'Kentucky': 83.98667499999996,\n",
       " 'Massachusetts': 83.88824299999999,\n",
       " 'Colorado': 81.84181099999986,\n",
       " 'Connecticut': 80.457387,\n",
       " 'Oklahoma': 79.31084500000004,\n",
       " 'Missouri': 77.963374,\n",
       " 'Illinois': 75.75543700000009,\n",
       " 'Mississippi': 71.40323499999992,\n",
       " 'Wisconsin': 67.6053869999999,\n",
       " 'North Carolina': 67.28144899999998,\n",
       " 'Virginia': 67.12572699999994,\n",
       " 'Arizona': 66.24205300000004,\n",
       " 'North Dakota': 62.30849300000002,\n",
       " 'Michigan': 62.08257299999994,\n",
       " 'Indiana': 56.32621499999996,\n",
       " 'Louisiana': 53.24334499999996,\n",
       " 'Maryland': 51.51655200000005,\n",
       " 'Maine': 50.55539699999996,\n",
       " 'Minnesota': 47.07674700000004,\n",
       " 'Idaho': 43.606348000000025,\n",
       " 'Oregon': 40.558496,\n",
       " 'Arkansas': 37.06438599999999,\n",
       " 'South Carolina': 36.72014799999998,\n",
       " 'Nebraska': 35.24308400000004,\n",
       " 'New Hampshire': 31.27436100000001,\n",
       " 'Iowa': 29.729822000000002,\n",
       " 'South Dakota': 28.43542300000002,\n",
       " 'Vermont': 28.307054,\n",
       " 'Delaware': 27.894057000000025,\n",
       " 'Utah': 26.182306000000008,\n",
       " 'Kansas': 26.068304000000023,\n",
       " 'Nevada': 20.645417000000005,\n",
       " 'New Mexico': 16.137474999999984,\n",
       " 'West Virginia': 15.334432000000012,\n",
       " 'Hawaii': 13.211298999999997,\n",
       " 'Montana': 10.410028999999994,\n",
       " 'Alaska': 8.873220000000007,\n",
       " 'Wyoming': 8.017165000000004,\n",
       " 'Rhode Island': 7.171780000000003}"
      ]
     },
     "execution_count": 72,
     "metadata": {},
     "output_type": "execute_result"
    }
   ],
   "source": [
    "df_US_region_1 = df_region_1.select(\"region\",\"sum(percentage)\").where('region = \"Alabama\" or region = \"Alaska\" or region = \"Arizona\" or region = \"Arkansas\" or region = \"California\" or region = \"Colorado\" or region = \"Connecticut\" or region = \"Delaware\" or region = \"Florida\" or region = \"Georgia\" or region = \"Hawaii\" or region = \"Idaho\" or region = \"Illinois\" or region = \"Indiana\" or region = \"Iowa\" or region = \"Kansas\" or region = \"Kentucky\" or region = \"Louisiana\" or region = \"Maine\" or region = \"Maryland\" or region = \"Massachusetts\" or region = \"Michigan\" or region = \"Minnesota\" or region = \"Mississippi\" or region = \"Missouri\" or region = \"Montana\" or region = \"Nebraska\" or region = \"Nevada\" or region = \"New Hampshire\" or region = \"New Jersey\" or region = \"New Mexico\" or region = \"New York\" or region = \"North Carolina\" or region = \"North Dakota\" or region = \"Ohio\" or region = \"Oklahoma\" or region = \"Oregon\" or region = \"Pennsylvania\" or region = \"Rhode Island\" or region = \"South Carolina\" or region = \"South Dakota\" or region = \"Tennessee\" or region = \"Texas\" or region = \"Utah\" or region = \"Vermont\" or region = \"Virginia\" or region = \"Washington\" or region = \"West Virginia\" or region = \"Wisconsin\" or region = \"Wyoming\"')\n",
    "temp_dict_US_1 = df_US_region_1.rdd.map(lambda row: row.asDict()).collect()\n",
    "dict_US_1 = {d['region']: d['sum(percentage)'] for d in temp_dict_US_1}\n",
    "dict_US_1"
   ]
  },
  {
   "cell_type": "code",
   "execution_count": 73,
   "id": "d66187f5",
   "metadata": {},
   "outputs": [
    {
     "name": "stderr",
     "output_type": "stream",
     "text": [
      "                                                                                \r"
     ]
    },
    {
     "data": {
      "text/plain": [
       "{'Georgia': 204.893847,\n",
       " 'Texas': 112.658489,\n",
       " 'Pennsylvania': 93.56943000000001,\n",
       " 'Washington': 89.60202799999998,\n",
       " 'Florida': 88.57675099999999,\n",
       " 'New Jersey': 75.029555,\n",
       " 'North Carolina': 74.19804400000001,\n",
       " 'New York': 69.24729400000002,\n",
       " 'California': 62.363732000000006,\n",
       " 'Virginia': 59.000882000000004,\n",
       " 'Indiana': 57.83094299999998,\n",
       " 'Tennessee': 57.77667300000001,\n",
       " 'Colorado': 56.58316000000001,\n",
       " 'Alabama': 51.861135,\n",
       " 'Ohio': 51.78692399999999,\n",
       " 'Kentucky': 42.362889,\n",
       " 'South Carolina': 42.275814999999994,\n",
       " 'Wisconsin': 40.84297500000001,\n",
       " 'Missouri': 40.21193199999999,\n",
       " 'Illinois': 39.072915999999985,\n",
       " 'Massachusetts': 38.148084000000004,\n",
       " 'Michigan': 36.808192999999996,\n",
       " 'Utah': 31.740859,\n",
       " 'Arizona': 30.596745999999996,\n",
       " 'Maryland': 28.309504,\n",
       " 'Oklahoma': 26.950750999999993,\n",
       " 'Louisiana': 26.577168,\n",
       " 'Idaho': 21.525736,\n",
       " 'Mississippi': 21.280549999999998,\n",
       " 'Oregon': 21.004375999999997,\n",
       " 'Nebraska': 18.698732,\n",
       " 'Connecticut': 18.418805000000003,\n",
       " 'Minnesota': 17.668010000000002,\n",
       " 'North Dakota': 17.621595999999997,\n",
       " 'Arkansas': 17.354221000000003,\n",
       " 'Iowa': 15.579665000000002,\n",
       " 'Nevada': 15.307372000000003,\n",
       " 'Delaware': 15.167472,\n",
       " 'Kansas': 14.069512999999995,\n",
       " 'Vermont': 13.783111999999996,\n",
       " 'West Virginia': 9.966522999999999,\n",
       " 'New Hampshire': 9.764389000000001,\n",
       " 'Maine': 7.904336000000002,\n",
       " 'New Mexico': 7.531492999999999,\n",
       " 'Rhode Island': 5.825195000000001,\n",
       " 'Montana': 4.04401,\n",
       " 'Alaska': 3.7644320000000002,\n",
       " 'South Dakota': 3.5604309999999995,\n",
       " 'Hawaii': 3.418784000000001,\n",
       " 'Wyoming': 2.09563}"
      ]
     },
     "execution_count": 73,
     "metadata": {},
     "output_type": "execute_result"
    }
   ],
   "source": [
    "df_US_region_2 = df_region_2.select(\"region\",\"sum(percentage)\").where('region = \"Alabama\" or region = \"Alaska\" or region = \"Arizona\" or region = \"Arkansas\" or region = \"California\" or region = \"Colorado\" or region = \"Connecticut\" or region = \"Delaware\" or region = \"Florida\" or region = \"Georgia\" or region = \"Hawaii\" or region = \"Idaho\" or region = \"Illinois\" or region = \"Indiana\" or region = \"Iowa\" or region = \"Kansas\" or region = \"Kentucky\" or region = \"Louisiana\" or region = \"Maine\" or region = \"Maryland\" or region = \"Massachusetts\" or region = \"Michigan\" or region = \"Minnesota\" or region = \"Mississippi\" or region = \"Missouri\" or region = \"Montana\" or region = \"Nebraska\" or region = \"Nevada\" or region = \"New Hampshire\" or region = \"New Jersey\" or region = \"New Mexico\" or region = \"New York\" or region = \"North Carolina\" or region = \"North Dakota\" or region = \"Ohio\" or region = \"Oklahoma\" or region = \"Oregon\" or region = \"Pennsylvania\" or region = \"Rhode Island\" or region = \"South Carolina\" or region = \"South Dakota\" or region = \"Tennessee\" or region = \"Texas\" or region = \"Utah\" or region = \"Vermont\" or region = \"Virginia\" or region = \"Washington\" or region = \"West Virginia\" or region = \"Wisconsin\" or region = \"Wyoming\"')\n",
    "temp_dict_US_2 = df_US_region_2.rdd.map(lambda row: row.asDict()).collect()\n",
    "dict_US_2 = {d['region']: d['sum(percentage)'] for d in temp_dict_US_2}\n",
    "dict_US_2"
   ]
  },
  {
   "cell_type": "code",
   "execution_count": 74,
   "id": "d374d4f4",
   "metadata": {},
   "outputs": [
    {
     "name": "stderr",
     "output_type": "stream",
     "text": [
      "                                                                                \r"
     ]
    },
    {
     "data": {
      "text/plain": [
       "{'California': 122508.35652200019,\n",
       " 'Texas': 99782.17428900019,\n",
       " 'New York': 72904.38195800016,\n",
       " 'Illinois': 66725.55082500025,\n",
       " 'Florida': 65636.39886400026,\n",
       " 'Pennsylvania': 50423.19810800021,\n",
       " 'Virginia': 40665.27519300011,\n",
       " 'North Carolina': 39094.49179200013,\n",
       " 'Ohio': 35106.70256500005,\n",
       " 'Washington': 34154.2267200001,\n",
       " 'Michigan': 33176.991800000076,\n",
       " 'Georgia': 32822.641575000096,\n",
       " 'Wisconsin': 32585.518530000092,\n",
       " 'New Jersey': 28160.91632800005,\n",
       " 'Arizona': 27341.392702000034,\n",
       " 'Missouri': 27259.88384400001,\n",
       " 'Massachusetts': 26836.80534200004,\n",
       " 'Colorado': 26573.70410600004,\n",
       " 'Maryland': 24170.974587999997,\n",
       " 'Oregon': 23275.042314000006,\n",
       " 'Minnesota': 22745.420994000004,\n",
       " 'Tennessee': 19530.493545000012,\n",
       " 'Alabama': 18987.99745200001,\n",
       " 'Indiana': 16906.614887999986,\n",
       " 'Connecticut': 16377.526891999974,\n",
       " 'Louisiana': 15549.903306999975,\n",
       " 'South Carolina': 15428.186787999966,\n",
       " 'Oklahoma': 15116.366447999986,\n",
       " 'Kentucky': 13395.09830199998,\n",
       " 'New Mexico': 12980.128512999969,\n",
       " 'Mississippi': 12572.069807999991,\n",
       " 'Iowa': 12433.709785999956,\n",
       " 'Nevada': 10704.186155999965,\n",
       " 'West Virginia': 10579.20911199997,\n",
       " 'Maine': 10489.714540999958,\n",
       " 'Kansas': 9515.960986999948,\n",
       " 'Arkansas': 9391.79503699996,\n",
       " 'Utah': 8592.323705999956,\n",
       " 'New Hampshire': 8061.143405999954,\n",
       " 'Alaska': 7215.8953989999645,\n",
       " 'Montana': 6339.782311999957,\n",
       " 'Nebraska': 5988.412897999955,\n",
       " 'Idaho': 5879.93008099996,\n",
       " 'Rhode Island': 4218.900627999977,\n",
       " 'Delaware': 4159.2751629999775,\n",
       " 'Hawaii': 4096.767610999977,\n",
       " 'Vermont': 3637.0250769999893,\n",
       " 'Wyoming': 3416.4118449999883,\n",
       " 'South Dakota': 3223.543261999992,\n",
       " 'North Dakota': 2742.5988389999975}"
      ]
     },
     "execution_count": 74,
     "metadata": {},
     "output_type": "execute_result"
    }
   ],
   "source": [
    "df_US_region_3 = df_region_3.select(\"region\",\"sum(percentage)\").where('region = \"Alabama\" or region = \"Alaska\" or region = \"Arizona\" or region = \"Arkansas\" or region = \"California\" or region = \"Colorado\" or region = \"Connecticut\" or region = \"Delaware\" or region = \"Florida\" or region = \"Georgia\" or region = \"Hawaii\" or region = \"Idaho\" or region = \"Illinois\" or region = \"Indiana\" or region = \"Iowa\" or region = \"Kansas\" or region = \"Kentucky\" or region = \"Louisiana\" or region = \"Maine\" or region = \"Maryland\" or region = \"Massachusetts\" or region = \"Michigan\" or region = \"Minnesota\" or region = \"Mississippi\" or region = \"Missouri\" or region = \"Montana\" or region = \"Nebraska\" or region = \"Nevada\" or region = \"New Hampshire\" or region = \"New Jersey\" or region = \"New Mexico\" or region = \"New York\" or region = \"North Carolina\" or region = \"North Dakota\" or region = \"Ohio\" or region = \"Oklahoma\" or region = \"Oregon\" or region = \"Pennsylvania\" or region = \"Rhode Island\" or region = \"South Carolina\" or region = \"South Dakota\" or region = \"Tennessee\" or region = \"Texas\" or region = \"Utah\" or region = \"Vermont\" or region = \"Virginia\" or region = \"Washington\" or region = \"West Virginia\" or region = \"Wisconsin\" or region = \"Wyoming\"')\n",
    "temp_dict_US_3 = df_US_region_3.rdd.map(lambda row: row.asDict()).collect()\n",
    "dict_US_3 = {d['region']: d['sum(percentage)'] for d in temp_dict_US_3}\n",
    "dict_US_3"
   ]
  },
  {
   "cell_type": "code",
   "execution_count": 75,
   "id": "a4810e26",
   "metadata": {
    "scrolled": false
   },
   "outputs": [
    {
     "name": "stderr",
     "output_type": "stream",
     "text": [
      "                                                                                \r"
     ]
    },
    {
     "data": {
      "text/plain": [
       "{'California': 391382.4246330007,\n",
       " 'Texas': 363413.88943200046,\n",
       " 'New York': 243610.1431340003,\n",
       " 'Florida': 225830.41031100068,\n",
       " 'Pennsylvania': 178350.34806200038,\n",
       " 'Illinois': 161493.14645200045,\n",
       " 'Virginia': 139491.29110000058,\n",
       " 'Washington': 130919.21464700048,\n",
       " 'Ohio': 124048.22757900042,\n",
       " 'Michigan': 113774.25765600022,\n",
       " 'North Carolina': 109502.73120600029,\n",
       " 'Georgia': 105717.04025000024,\n",
       " 'New Jersey': 100385.51049700032,\n",
       " 'Arizona': 97618.91255900025,\n",
       " 'Minnesota': 90128.84778800003,\n",
       " 'Colorado': 84003.77927499996,\n",
       " 'Oregon': 83917.41390600006,\n",
       " 'Maryland': 82298.66872899998,\n",
       " 'Massachusetts': 81984.72256499984,\n",
       " 'Wisconsin': 79110.61072600016,\n",
       " 'Missouri': 69661.65267699992,\n",
       " 'Tennessee': 61976.19161799998,\n",
       " 'Indiana': 61004.32861399994,\n",
       " 'Louisiana': 53949.17172699991,\n",
       " 'Connecticut': 50831.64967499986,\n",
       " 'Alabama': 47936.067505999905,\n",
       " 'South Carolina': 46558.15289299997,\n",
       " 'Oklahoma': 46494.790191999906,\n",
       " 'Kentucky': 41319.6597019999,\n",
       " 'Nevada': 38821.45054999986,\n",
       " 'Iowa': 38000.728212999886,\n",
       " 'West Virginia': 36218.12069399993,\n",
       " 'Kansas': 34964.032046999855,\n",
       " 'Maine': 34958.575939999915,\n",
       " 'New Mexico': 32164.722615999868,\n",
       " 'Mississippi': 32018.190076999912,\n",
       " 'Utah': 30153.72244999988,\n",
       " 'New Hampshire': 29481.833020999908,\n",
       " 'Montana': 29254.50796399992,\n",
       " 'Arkansas': 28070.32595199989,\n",
       " 'Idaho': 25371.922180999863,\n",
       " 'Alaska': 23356.748047999885,\n",
       " 'Nebraska': 19425.34558999988,\n",
       " 'Delaware': 14532.043092999937,\n",
       " 'Rhode Island': 14258.744699999945,\n",
       " 'South Dakota': 12422.091443999949,\n",
       " 'Hawaii': 11393.693633999936,\n",
       " 'North Dakota': 11241.501419999951,\n",
       " 'Wyoming': 10648.018876999964,\n",
       " 'Vermont': 10478.540288999933}"
      ]
     },
     "execution_count": 75,
     "metadata": {},
     "output_type": "execute_result"
    }
   ],
   "source": [
    "df_US_region_4 = df_region_4.select(\"region\",\"sum(percentage)\").where('region = \"Alabama\" or region = \"Alaska\" or region = \"Arizona\" or region = \"Arkansas\" or region = \"California\" or region = \"Colorado\" or region = \"Connecticut\" or region = \"Delaware\" or region = \"Florida\" or region = \"Georgia\" or region = \"Hawaii\" or region = \"Idaho\" or region = \"Illinois\" or region = \"Indiana\" or region = \"Iowa\" or region = \"Kansas\" or region = \"Kentucky\" or region = \"Louisiana\" or region = \"Maine\" or region = \"Maryland\" or region = \"Massachusetts\" or region = \"Michigan\" or region = \"Minnesota\" or region = \"Mississippi\" or region = \"Missouri\" or region = \"Montana\" or region = \"Nebraska\" or region = \"Nevada\" or region = \"New Hampshire\" or region = \"New Jersey\" or region = \"New Mexico\" or region = \"New York\" or region = \"North Carolina\" or region = \"North Dakota\" or region = \"Ohio\" or region = \"Oklahoma\" or region = \"Oregon\" or region = \"Pennsylvania\" or region = \"Rhode Island\" or region = \"South Carolina\" or region = \"South Dakota\" or region = \"Tennessee\" or region = \"Texas\" or region = \"Utah\" or region = \"Vermont\" or region = \"Virginia\" or region = \"Washington\" or region = \"West Virginia\" or region = \"Wisconsin\" or region = \"Wyoming\"')\n",
    "temp_dict_US_4 = df_US_region_4.rdd.map(lambda row: row.asDict()).collect()\n",
    "dict_US_4 = {d['region']: d['sum(percentage)'] for d in temp_dict_US_4}\n",
    "dict_US_4"
   ]
  },
  {
   "cell_type": "code",
   "execution_count": 76,
   "id": "3a34445e",
   "metadata": {},
   "outputs": [
    {
     "name": "stderr",
     "output_type": "stream",
     "text": [
      "2022-05-24 04:00:21,113 ERROR cluster.YarnScheduler: Lost executor 954 on ip-100-64-74-130.ap-southeast-2.compute.internal: Container marked as failed: container_1652753568617_1728_01_001045 on host: ip-100-64-74-130.ap-southeast-2.compute.internal. Exit status: -100. Diagnostics: Container released on a *lost* node.\n",
      "2022-05-24 04:00:21,115 WARN cluster.YarnSchedulerBackend$YarnSchedulerEndpoint: Requesting driver to remove executor 954 for reason Container marked as failed: container_1652753568617_1728_01_001045 on host: ip-100-64-74-130.ap-southeast-2.compute.internal. Exit status: -100. Diagnostics: Container released on a *lost* node.\n",
      "                                                                                \r"
     ]
    },
    {
     "data": {
      "text/plain": [
       "{'California': 264205.6636660003,\n",
       " 'New York': 207224.31806200038,\n",
       " 'Texas': 197595.6910410005,\n",
       " 'Pennsylvania': 132262.94148700035,\n",
       " 'Florida': 130558.3364920005,\n",
       " 'Virginia': 103176.08130200053,\n",
       " 'Illinois': 88799.50502300018,\n",
       " 'New Jersey': 81758.35710900028,\n",
       " 'Michigan': 75984.21998900016,\n",
       " 'Ohio': 73344.04532700015,\n",
       " 'North Carolina': 68504.85121100009,\n",
       " 'Georgia': 67446.22190200014,\n",
       " 'Colorado': 63165.746453000145,\n",
       " 'Arizona': 58764.26123500017,\n",
       " 'Washington': 57905.72972900014,\n",
       " 'Oregon': 54756.06171600006,\n",
       " 'Massachusetts': 49008.53105700004,\n",
       " 'Maryland': 48515.70681300003,\n",
       " 'Minnesota': 48234.98134900001,\n",
       " 'Wisconsin': 42926.395414000006,\n",
       " 'Indiana': 36550.476276000016,\n",
       " 'Missouri': 35627.369773999984,\n",
       " 'Connecticut': 33501.81913199999,\n",
       " 'Tennessee': 32130.41355199995,\n",
       " 'Kentucky': 30567.984453999976,\n",
       " 'Nevada': 29855.42233399998,\n",
       " 'New Mexico': 29237.93782099996,\n",
       " 'Louisiana': 28374.70110099995,\n",
       " 'South Carolina': 27685.309217999915,\n",
       " 'Oklahoma': 26467.31181399994,\n",
       " 'Iowa': 23648.205919999942,\n",
       " 'Alabama': 22905.429765999943,\n",
       " 'West Virginia': 22308.931172999975,\n",
       " 'Utah': 21951.691731999934,\n",
       " 'New Hampshire': 21004.837122999972,\n",
       " 'Kansas': 20625.57053199991,\n",
       " 'Maine': 18791.4807749999,\n",
       " 'Idaho': 17760.104821999954,\n",
       " 'Mississippi': 17675.327935999947,\n",
       " 'Montana': 16574.685445999945,\n",
       " 'Arkansas': 14766.777020999914,\n",
       " 'Nebraska': 12490.903559999919,\n",
       " 'Rhode Island': 11734.914322999955,\n",
       " 'Alaska': 11600.221347999954,\n",
       " 'Delaware': 8824.351014999962,\n",
       " 'South Dakota': 7321.565820999982,\n",
       " 'Hawaii': 7174.893565999972,\n",
       " 'North Dakota': 6774.751677999985,\n",
       " 'Wyoming': 5712.54432899999,\n",
       " 'Vermont': 4548.627042999992}"
      ]
     },
     "execution_count": 76,
     "metadata": {},
     "output_type": "execute_result"
    }
   ],
   "source": [
    "df_US_region_5 = df_region_5.select(\"region\",\"sum(percentage)\").where('region = \"Alabama\" or region = \"Alaska\" or region = \"Arizona\" or region = \"Arkansas\" or region = \"California\" or region = \"Colorado\" or region = \"Connecticut\" or region = \"Delaware\" or region = \"Florida\" or region = \"Georgia\" or region = \"Hawaii\" or region = \"Idaho\" or region = \"Illinois\" or region = \"Indiana\" or region = \"Iowa\" or region = \"Kansas\" or region = \"Kentucky\" or region = \"Louisiana\" or region = \"Maine\" or region = \"Maryland\" or region = \"Massachusetts\" or region = \"Michigan\" or region = \"Minnesota\" or region = \"Mississippi\" or region = \"Missouri\" or region = \"Montana\" or region = \"Nebraska\" or region = \"Nevada\" or region = \"New Hampshire\" or region = \"New Jersey\" or region = \"New Mexico\" or region = \"New York\" or region = \"North Carolina\" or region = \"North Dakota\" or region = \"Ohio\" or region = \"Oklahoma\" or region = \"Oregon\" or region = \"Pennsylvania\" or region = \"Rhode Island\" or region = \"South Carolina\" or region = \"South Dakota\" or region = \"Tennessee\" or region = \"Texas\" or region = \"Utah\" or region = \"Vermont\" or region = \"Virginia\" or region = \"Washington\" or region = \"West Virginia\" or region = \"Wisconsin\" or region = \"Wyoming\"')\n",
    "temp_dict_US_5 = df_US_region_5.rdd.map(lambda row: row.asDict()).collect()\n",
    "dict_US_5 = {d['region']: d['sum(percentage)'] for d in temp_dict_US_5}\n",
    "dict_US_5"
   ]
  },
  {
   "cell_type": "code",
   "execution_count": 77,
   "id": "f89ee932",
   "metadata": {},
   "outputs": [
    {
     "name": "stderr",
     "output_type": "stream",
     "text": [
      "                                                                                \r"
     ]
    },
    {
     "data": {
      "text/plain": [
       "{'California': 334619.7972590006,\n",
       " 'New York': 311628.4904420007,\n",
       " 'Texas': 209242.88424600093,\n",
       " 'Florida': 164842.79785500054,\n",
       " 'Pennsylvania': 148388.36773000046,\n",
       " 'Virginia': 111337.73031000057,\n",
       " 'Illinois': 105723.27258400035,\n",
       " 'New Jersey': 104051.38541000038,\n",
       " 'Ohio': 95398.43588000031,\n",
       " 'North Carolina': 92815.18233700033,\n",
       " 'Michigan': 91455.80078900029,\n",
       " 'Georgia': 87815.5325110003,\n",
       " 'Arizona': 81778.85722600034,\n",
       " 'Colorado': 76632.28890200015,\n",
       " 'Washington': 70409.34460100028,\n",
       " 'Oregon': 65901.18613000006,\n",
       " 'Maryland': 64993.28678300003,\n",
       " 'Minnesota': 57371.83930600004,\n",
       " 'Massachusetts': 55356.37875000013,\n",
       " 'Wisconsin': 51915.15647000003,\n",
       " 'Indiana': 47790.88590400007,\n",
       " 'Missouri': 44878.76935700001,\n",
       " 'Tennessee': 41059.42909300001,\n",
       " 'South Carolina': 39058.38062299994,\n",
       " 'Kentucky': 38364.45219099996,\n",
       " 'Louisiana': 34136.201546999975,\n",
       " 'Connecticut': 33231.90848199997,\n",
       " 'Nevada': 33022.599116999925,\n",
       " 'Alabama': 32745.044944999965,\n",
       " 'Iowa': 32107.036483999964,\n",
       " 'Oklahoma': 31764.31711699991,\n",
       " 'New Mexico': 29070.04890999992,\n",
       " 'Maine': 27148.247422999993,\n",
       " 'Kansas': 25643.982036999907,\n",
       " 'Utah': 24776.55177399989,\n",
       " 'Mississippi': 24011.238608999938,\n",
       " 'New Hampshire': 20256.998851999906,\n",
       " 'West Virginia': 19923.553333999906,\n",
       " 'Arkansas': 18746.578444999883,\n",
       " 'Idaho': 17593.235738999923,\n",
       " 'Nebraska': 14891.399549999904,\n",
       " 'Montana': 13238.410554999924,\n",
       " 'Delaware': 12710.766954999926,\n",
       " 'Alaska': 12266.187796999924,\n",
       " 'Rhode Island': 9921.459549999936,\n",
       " 'Hawaii': 9461.584623999943,\n",
       " 'South Dakota': 8491.315710999968,\n",
       " 'North Dakota': 7960.560643999972,\n",
       " 'Wyoming': 6981.638253999979,\n",
       " 'Vermont': 6347.897443999968}"
      ]
     },
     "execution_count": 77,
     "metadata": {},
     "output_type": "execute_result"
    }
   ],
   "source": [
    "df_US_region_6 = df_region_6.select(\"region\",\"sum(percentage)\").where('region = \"Alabama\" or region = \"Alaska\" or region = \"Arizona\" or region = \"Arkansas\" or region = \"California\" or region = \"Colorado\" or region = \"Connecticut\" or region = \"Delaware\" or region = \"Florida\" or region = \"Georgia\" or region = \"Hawaii\" or region = \"Idaho\" or region = \"Illinois\" or region = \"Indiana\" or region = \"Iowa\" or region = \"Kansas\" or region = \"Kentucky\" or region = \"Louisiana\" or region = \"Maine\" or region = \"Maryland\" or region = \"Massachusetts\" or region = \"Michigan\" or region = \"Minnesota\" or region = \"Mississippi\" or region = \"Missouri\" or region = \"Montana\" or region = \"Nebraska\" or region = \"Nevada\" or region = \"New Hampshire\" or region = \"New Jersey\" or region = \"New Mexico\" or region = \"New York\" or region = \"North Carolina\" or region = \"North Dakota\" or region = \"Ohio\" or region = \"Oklahoma\" or region = \"Oregon\" or region = \"Pennsylvania\" or region = \"Rhode Island\" or region = \"South Carolina\" or region = \"South Dakota\" or region = \"Tennessee\" or region = \"Texas\" or region = \"Utah\" or region = \"Vermont\" or region = \"Virginia\" or region = \"Washington\" or region = \"West Virginia\" or region = \"Wisconsin\" or region = \"Wyoming\"')\n",
    "temp_dict_US_6 = df_US_region_6.rdd.map(lambda row: row.asDict()).collect()\n",
    "dict_US_6 = {d['region']: d['sum(percentage)'] for d in temp_dict_US_6}\n",
    "dict_US_6"
   ]
  },
  {
   "cell_type": "code",
   "execution_count": 78,
   "id": "9b3090c9",
   "metadata": {},
   "outputs": [
    {
     "name": "stderr",
     "output_type": "stream",
     "text": [
      "                                                                                \r"
     ]
    },
    {
     "data": {
      "text/plain": [
       "{'California': 277752.7468130006,\n",
       " 'Texas': 183083.0451910011,\n",
       " 'Florida': 154936.8474310004,\n",
       " 'New York': 135728.51462500065,\n",
       " 'Pennsylvania': 104797.49024500036,\n",
       " 'Michigan': 99893.9290190004,\n",
       " 'Virginia': 94743.98661900034,\n",
       " 'Ohio': 91236.80202000018,\n",
       " 'Arizona': 89966.23071500046,\n",
       " 'Illinois': 88764.08655300023,\n",
       " 'North Carolina': 81789.42472400035,\n",
       " 'Georgia': 81460.6611060003,\n",
       " 'Washington': 68739.66913700021,\n",
       " 'New Jersey': 64972.97179600007,\n",
       " 'Colorado': 61075.08623300013,\n",
       " 'Maryland': 59117.66695600009,\n",
       " 'Massachusetts': 54199.258960000094,\n",
       " 'Oregon': 50524.81009200001,\n",
       " 'Wisconsin': 46030.619799000015,\n",
       " 'Minnesota': 45790.191221000045,\n",
       " 'Indiana': 44467.21405000002,\n",
       " 'Missouri': 41656.146928999995,\n",
       " 'Tennessee': 40049.64619900006,\n",
       " 'Kentucky': 37525.47205900002,\n",
       " 'South Carolina': 34175.25821799993,\n",
       " 'Iowa': 31157.663714999948,\n",
       " 'Nevada': 30454.184369999915,\n",
       " 'Louisiana': 30451.74565899995,\n",
       " 'Alabama': 29832.72090999993,\n",
       " 'Oklahoma': 28665.090883999925,\n",
       " 'Kansas': 27495.847602999893,\n",
       " 'Maine': 23781.731235999894,\n",
       " 'New Mexico': 23210.498761999916,\n",
       " 'Utah': 22696.966253999923,\n",
       " 'West Virginia': 22186.136065999937,\n",
       " 'Connecticut': 21477.167422999937,\n",
       " 'Arkansas': 19294.194419999883,\n",
       " 'Mississippi': 18903.368175999924,\n",
       " 'New Hampshire': 18064.616940999924,\n",
       " 'Montana': 15896.392650999886,\n",
       " 'Idaho': 13513.102617999899,\n",
       " 'Nebraska': 12915.753334999898,\n",
       " 'Delaware': 10737.845213999932,\n",
       " 'Alaska': 9631.61487999994,\n",
       " 'Hawaii': 9364.702942999953,\n",
       " 'South Dakota': 7540.831697999967,\n",
       " 'Rhode Island': 7232.916842999959,\n",
       " 'Wyoming': 7208.72941899997,\n",
       " 'Vermont': 6875.127704999977,\n",
       " 'North Dakota': 5999.653817999985}"
      ]
     },
     "execution_count": 78,
     "metadata": {},
     "output_type": "execute_result"
    }
   ],
   "source": [
    "df_US_region_7 = df_region_7.select(\"region\",\"sum(percentage)\").where('region = \"Alabama\" or region = \"Alaska\" or region = \"Arizona\" or region = \"Arkansas\" or region = \"California\" or region = \"Colorado\" or region = \"Connecticut\" or region = \"Delaware\" or region = \"Florida\" or region = \"Georgia\" or region = \"Hawaii\" or region = \"Idaho\" or region = \"Illinois\" or region = \"Indiana\" or region = \"Iowa\" or region = \"Kansas\" or region = \"Kentucky\" or region = \"Louisiana\" or region = \"Maine\" or region = \"Maryland\" or region = \"Massachusetts\" or region = \"Michigan\" or region = \"Minnesota\" or region = \"Mississippi\" or region = \"Missouri\" or region = \"Montana\" or region = \"Nebraska\" or region = \"Nevada\" or region = \"New Hampshire\" or region = \"New Jersey\" or region = \"New Mexico\" or region = \"New York\" or region = \"North Carolina\" or region = \"North Dakota\" or region = \"Ohio\" or region = \"Oklahoma\" or region = \"Oregon\" or region = \"Pennsylvania\" or region = \"Rhode Island\" or region = \"South Carolina\" or region = \"South Dakota\" or region = \"Tennessee\" or region = \"Texas\" or region = \"Utah\" or region = \"Vermont\" or region = \"Virginia\" or region = \"Washington\" or region = \"West Virginia\" or region = \"Wisconsin\" or region = \"Wyoming\"')\n",
    "temp_dict_US_7 = df_US_region_7.rdd.map(lambda row: row.asDict()).collect()\n",
    "dict_US_7 = {d['region']: d['sum(percentage)'] for d in temp_dict_US_7}\n",
    "dict_US_7"
   ]
  },
  {
   "cell_type": "code",
   "execution_count": 79,
   "id": "fc465b54",
   "metadata": {},
   "outputs": [
    {
     "name": "stderr",
     "output_type": "stream",
     "text": [
      "                                                                                \r"
     ]
    },
    {
     "data": {
      "text/plain": [
       "{'California': 273119.2187660002,\n",
       " 'Texas': 170281.1410990005,\n",
       " 'Florida': 138569.37975000034,\n",
       " 'New York': 121566.11938600036,\n",
       " 'Pennsylvania': 98218.78825900015,\n",
       " 'Virginia': 95699.45013000048,\n",
       " 'Illinois': 90283.13089200018,\n",
       " 'Ohio': 83330.58722400019,\n",
       " 'Arizona': 80974.18951600036,\n",
       " 'Georgia': 80352.54971100023,\n",
       " 'North Carolina': 77432.95388400015,\n",
       " 'Michigan': 77427.59831900027,\n",
       " 'New Jersey': 62889.28790500005,\n",
       " 'Washington': 62598.36091800015,\n",
       " 'Colorado': 58432.20988600005,\n",
       " 'Massachusetts': 50044.829383999975,\n",
       " 'Wisconsin': 48493.11305599999,\n",
       " 'Maryland': 48219.47489999993,\n",
       " 'Oregon': 45031.78003799993,\n",
       " 'Minnesota': 41404.67568299998,\n",
       " 'Indiana': 40079.048635999985,\n",
       " 'Missouri': 38834.31311800001,\n",
       " 'Kentucky': 38110.30297999999,\n",
       " 'Tennessee': 36856.23797899997,\n",
       " 'Alabama': 31643.124157999944,\n",
       " 'Nevada': 31051.94597099995,\n",
       " 'South Carolina': 31006.902479999902,\n",
       " 'New Hampshire': 30566.40744799999,\n",
       " 'Iowa': 29487.340526999917,\n",
       " 'Louisiana': 29199.27174399996,\n",
       " 'Oklahoma': 28889.274981999904,\n",
       " 'Kansas': 23183.335397999916,\n",
       " 'West Virginia': 22992.352922999962,\n",
       " 'Maine': 21551.9535399999,\n",
       " 'Connecticut': 21176.053006999937,\n",
       " 'New Mexico': 19863.545685999896,\n",
       " 'Utah': 19779.989201999906,\n",
       " 'Arkansas': 19397.070404999893,\n",
       " 'Mississippi': 16232.718435999941,\n",
       " 'Montana': 14825.379205999916,\n",
       " 'Idaho': 14773.032580999909,\n",
       " 'Nebraska': 12748.757698999914,\n",
       " 'Delaware': 11210.603830999944,\n",
       " 'Alaska': 10826.16147899993,\n",
       " 'Hawaii': 8537.169025999963,\n",
       " 'South Dakota': 7030.885106999968,\n",
       " 'Wyoming': 6678.253755999968,\n",
       " 'Rhode Island': 6507.600484999966,\n",
       " 'Vermont': 6125.0677069999765,\n",
       " 'North Dakota': 5959.626438999985}"
      ]
     },
     "execution_count": 79,
     "metadata": {},
     "output_type": "execute_result"
    }
   ],
   "source": [
    "df_US_region_8 = df_region_8.select(\"region\",\"sum(percentage)\").where('region = \"Alabama\" or region = \"Alaska\" or region = \"Arizona\" or region = \"Arkansas\" or region = \"California\" or region = \"Colorado\" or region = \"Connecticut\" or region = \"Delaware\" or region = \"Florida\" or region = \"Georgia\" or region = \"Hawaii\" or region = \"Idaho\" or region = \"Illinois\" or region = \"Indiana\" or region = \"Iowa\" or region = \"Kansas\" or region = \"Kentucky\" or region = \"Louisiana\" or region = \"Maine\" or region = \"Maryland\" or region = \"Massachusetts\" or region = \"Michigan\" or region = \"Minnesota\" or region = \"Mississippi\" or region = \"Missouri\" or region = \"Montana\" or region = \"Nebraska\" or region = \"Nevada\" or region = \"New Hampshire\" or region = \"New Jersey\" or region = \"New Mexico\" or region = \"New York\" or region = \"North Carolina\" or region = \"North Dakota\" or region = \"Ohio\" or region = \"Oklahoma\" or region = \"Oregon\" or region = \"Pennsylvania\" or region = \"Rhode Island\" or region = \"South Carolina\" or region = \"South Dakota\" or region = \"Tennessee\" or region = \"Texas\" or region = \"Utah\" or region = \"Vermont\" or region = \"Virginia\" or region = \"Washington\" or region = \"West Virginia\" or region = \"Wisconsin\" or region = \"Wyoming\"')\n",
    "temp_dict_US_8 = df_US_region_8.rdd.map(lambda row: row.asDict()).collect()\n",
    "dict_US_8 = {d['region']: d['sum(percentage)'] for d in temp_dict_US_8}\n",
    "dict_US_8"
   ]
  },
  {
   "cell_type": "code",
   "execution_count": 80,
   "id": "d43c4b66",
   "metadata": {},
   "outputs": [
    {
     "name": "stderr",
     "output_type": "stream",
     "text": [
      "                                                                                \r"
     ]
    },
    {
     "data": {
      "text/plain": [
       "{'California': 258616.54933800027,\n",
       " 'Texas': 163175.16815700007,\n",
       " 'Florida': 127670.70988400021,\n",
       " 'New York': 124719.20474300017,\n",
       " 'Virginia': 103970.48239400034,\n",
       " 'Pennsylvania': 97231.79627900015,\n",
       " 'Ohio': 87024.97830300017,\n",
       " 'Georgia': 84867.8004410003,\n",
       " 'New Jersey': 82330.65815200022,\n",
       " 'Michigan': 74130.46756699999,\n",
       " 'Arizona': 72897.98663300015,\n",
       " 'Illinois': 72724.47949700002,\n",
       " 'North Carolina': 71495.76629700005,\n",
       " 'Washington': 61597.302721000044,\n",
       " 'Colorado': 50930.94101599998,\n",
       " 'Wisconsin': 47980.855422999935,\n",
       " 'Massachusetts': 46547.73010700007,\n",
       " 'Minnesota': 44526.45405299995,\n",
       " 'Maryland': 44344.26851799996,\n",
       " 'Oregon': 43975.27198799994,\n",
       " 'Indiana': 43240.236876999945,\n",
       " 'Missouri': 36321.74978399993,\n",
       " 'South Carolina': 34239.76165699993,\n",
       " 'Tennessee': 33638.82179499995,\n",
       " 'Nevada': 32505.283610999923,\n",
       " 'New Hampshire': 28699.838274999947,\n",
       " 'Iowa': 28688.29327599992,\n",
       " 'Kansas': 26201.999164999903,\n",
       " 'Kentucky': 25122.713704999904,\n",
       " 'Oklahoma': 25012.55201299996,\n",
       " 'Louisiana': 24377.562925999897,\n",
       " 'Maine': 23077.357677999913,\n",
       " 'Connecticut': 22869.1149149999,\n",
       " 'Alabama': 22306.771527999943,\n",
       " 'New Mexico': 20698.834120999905,\n",
       " 'West Virginia': 20302.172108999956,\n",
       " 'Arkansas': 19412.90090399993,\n",
       " 'Utah': 18484.4182849999,\n",
       " 'Idaho': 15263.598386999898,\n",
       " 'Mississippi': 14625.622961999929,\n",
       " 'Montana': 11756.25090599993,\n",
       " 'Nebraska': 11372.822826999934,\n",
       " 'Alaska': 9866.629739999944,\n",
       " 'Delaware': 7875.623179999961,\n",
       " 'Hawaii': 7256.866832999972,\n",
       " 'Rhode Island': 6767.092388999966,\n",
       " 'Vermont': 5442.12546799999,\n",
       " 'South Dakota': 5407.549387999992,\n",
       " 'North Dakota': 5343.481568999991,\n",
       " 'Wyoming': 5264.009354999991}"
      ]
     },
     "execution_count": 80,
     "metadata": {},
     "output_type": "execute_result"
    }
   ],
   "source": [
    "df_US_region_9 = df_region_9.select(\"region\",\"sum(percentage)\").where('region = \"Alabama\" or region = \"Alaska\" or region = \"Arizona\" or region = \"Arkansas\" or region = \"California\" or region = \"Colorado\" or region = \"Connecticut\" or region = \"Delaware\" or region = \"Florida\" or region = \"Georgia\" or region = \"Hawaii\" or region = \"Idaho\" or region = \"Illinois\" or region = \"Indiana\" or region = \"Iowa\" or region = \"Kansas\" or region = \"Kentucky\" or region = \"Louisiana\" or region = \"Maine\" or region = \"Maryland\" or region = \"Massachusetts\" or region = \"Michigan\" or region = \"Minnesota\" or region = \"Mississippi\" or region = \"Missouri\" or region = \"Montana\" or region = \"Nebraska\" or region = \"Nevada\" or region = \"New Hampshire\" or region = \"New Jersey\" or region = \"New Mexico\" or region = \"New York\" or region = \"North Carolina\" or region = \"North Dakota\" or region = \"Ohio\" or region = \"Oklahoma\" or region = \"Oregon\" or region = \"Pennsylvania\" or region = \"Rhode Island\" or region = \"South Carolina\" or region = \"South Dakota\" or region = \"Tennessee\" or region = \"Texas\" or region = \"Utah\" or region = \"Vermont\" or region = \"Virginia\" or region = \"Washington\" or region = \"West Virginia\" or region = \"Wisconsin\" or region = \"Wyoming\"')\n",
    "temp_dict_US_9 = df_US_region_9.rdd.map(lambda row: row.asDict()).collect()\n",
    "dict_US_9 = {d['region']: d['sum(percentage)'] for d in temp_dict_US_9}\n",
    "dict_US_9"
   ]
  },
  {
   "cell_type": "code",
   "execution_count": 81,
   "id": "4920e8d0",
   "metadata": {},
   "outputs": [
    {
     "name": "stderr",
     "output_type": "stream",
     "text": [
      "                                                                                \r"
     ]
    },
    {
     "data": {
      "text/plain": [
       "{'California': 222221.73289200012,\n",
       " 'New York': 183004.36150600007,\n",
       " 'Texas': 179591.4272890004,\n",
       " 'Virginia': 179059.63189400025,\n",
       " 'Florida': 139019.2153880003,\n",
       " 'Pennsylvania': 137393.64342600008,\n",
       " 'New Jersey': 118480.27307800017,\n",
       " 'Ohio': 114923.5448120001,\n",
       " 'Georgia': 93724.38841700013,\n",
       " 'Michigan': 88008.39265300005,\n",
       " 'Arizona': 73816.36581500007,\n",
       " 'North Carolina': 71751.77968700007,\n",
       " 'Illinois': 68979.46481900003,\n",
       " 'Colorado': 64897.373025000044,\n",
       " 'Washington': 63758.65598000003,\n",
       " 'Minnesota': 56694.754149000015,\n",
       " 'Massachusetts': 50223.81004900005,\n",
       " 'Wisconsin': 47521.274568999914,\n",
       " 'Indiana': 45459.76467799995,\n",
       " 'Maryland': 40596.10421199997,\n",
       " 'Oregon': 39909.64380799993,\n",
       " 'South Carolina': 39842.16444099994,\n",
       " 'Connecticut': 36890.87963399993,\n",
       " 'Missouri': 36651.6421709999,\n",
       " 'Tennessee': 34422.506026999916,\n",
       " 'Nevada': 32731.619297999914,\n",
       " 'Louisiana': 32053.87139799992,\n",
       " 'Kansas': 31853.585814999955,\n",
       " 'Iowa': 31019.44441199992,\n",
       " 'Kentucky': 28330.91975299991,\n",
       " 'Utah': 27395.562078999912,\n",
       " 'New Hampshire': 27185.892858999963,\n",
       " 'Oklahoma': 24873.082332999908,\n",
       " 'Maine': 24712.905262999884,\n",
       " 'Alabama': 23771.522822999934,\n",
       " 'Idaho': 23363.4050289999,\n",
       " 'West Virginia': 22701.728156999943,\n",
       " 'New Mexico': 20341.190863999935,\n",
       " 'Arkansas': 16846.21091699993,\n",
       " 'Mississippi': 16578.75200799992,\n",
       " 'Montana': 14257.726224999922,\n",
       " 'Nebraska': 13183.43964699993,\n",
       " 'Alaska': 10479.50874699995,\n",
       " 'Delaware': 8101.77117299997,\n",
       " 'Hawaii': 7259.188360999988,\n",
       " 'North Dakota': 5723.339068999995,\n",
       " 'South Dakota': 5293.160824999997,\n",
       " 'Rhode Island': 5257.64090299999,\n",
       " 'Wyoming': 5204.234520999992,\n",
       " 'Vermont': 5202.467393999997}"
      ]
     },
     "execution_count": 81,
     "metadata": {},
     "output_type": "execute_result"
    }
   ],
   "source": [
    "df_US_region_10 = df_region_10.select(\"region\",\"sum(percentage)\").where('region = \"Alabama\" or region = \"Alaska\" or region = \"Arizona\" or region = \"Arkansas\" or region = \"California\" or region = \"Colorado\" or region = \"Connecticut\" or region = \"Delaware\" or region = \"Florida\" or region = \"Georgia\" or region = \"Hawaii\" or region = \"Idaho\" or region = \"Illinois\" or region = \"Indiana\" or region = \"Iowa\" or region = \"Kansas\" or region = \"Kentucky\" or region = \"Louisiana\" or region = \"Maine\" or region = \"Maryland\" or region = \"Massachusetts\" or region = \"Michigan\" or region = \"Minnesota\" or region = \"Mississippi\" or region = \"Missouri\" or region = \"Montana\" or region = \"Nebraska\" or region = \"Nevada\" or region = \"New Hampshire\" or region = \"New Jersey\" or region = \"New Mexico\" or region = \"New York\" or region = \"North Carolina\" or region = \"North Dakota\" or region = \"Ohio\" or region = \"Oklahoma\" or region = \"Oregon\" or region = \"Pennsylvania\" or region = \"Rhode Island\" or region = \"South Carolina\" or region = \"South Dakota\" or region = \"Tennessee\" or region = \"Texas\" or region = \"Utah\" or region = \"Vermont\" or region = \"Virginia\" or region = \"Washington\" or region = \"West Virginia\" or region = \"Wisconsin\" or region = \"Wyoming\"')\n",
    "temp_dict_US_10 = df_US_region_10.rdd.map(lambda row: row.asDict()).collect()\n",
    "dict_US_10 = {d['region']: d['sum(percentage)'] for d in temp_dict_US_10}\n",
    "dict_US_10"
   ]
  },
  {
   "cell_type": "code",
   "execution_count": 82,
   "id": "96b0d5db",
   "metadata": {},
   "outputs": [
    {
     "name": "stderr",
     "output_type": "stream",
     "text": [
      "                                                                                \r"
     ]
    },
    {
     "data": {
      "text/plain": [
       "{'California': 391053.9342650006,\n",
       " 'Texas': 303801.4630510009,\n",
       " 'New York': 218174.5071109999,\n",
       " 'Florida': 214715.86697700023,\n",
       " 'Pennsylvania': 176613.35967499996,\n",
       " 'New Jersey': 124172.88049700015,\n",
       " 'Georgia': 124108.98280400016,\n",
       " 'Ohio': 124035.64568499998,\n",
       " 'Michigan': 123603.31997700018,\n",
       " 'Illinois': 116045.6948419999,\n",
       " 'Virginia': 115808.3132820001,\n",
       " 'Arizona': 114626.85167300024,\n",
       " 'North Carolina': 111773.58232499998,\n",
       " 'Washington': 96312.5351160001,\n",
       " 'Maryland': 79245.55748200013,\n",
       " 'Indiana': 73408.00278799997,\n",
       " 'Wisconsin': 72950.8519359999,\n",
       " 'Colorado': 70737.77742799991,\n",
       " 'Missouri': 67918.53748699997,\n",
       " 'Oregon': 64826.85190199997,\n",
       " 'Massachusetts': 61799.11901799992,\n",
       " 'Minnesota': 60636.5205159999,\n",
       " 'South Carolina': 60199.271504999946,\n",
       " 'Tennessee': 58786.19980399989,\n",
       " 'Louisiana': 55948.50761799994,\n",
       " 'Nevada': 48926.74010299991,\n",
       " 'Kentucky': 45402.139167999936,\n",
       " 'Iowa': 44819.85264099984,\n",
       " 'Oklahoma': 43359.3243859999,\n",
       " 'Alabama': 43280.75666999994,\n",
       " 'New Hampshire': 40493.728042999996,\n",
       " 'Connecticut': 37996.69711399988,\n",
       " 'Kansas': 34667.92074899988,\n",
       " 'New Mexico': 32901.95966699984,\n",
       " 'Mississippi': 32542.529488999895,\n",
       " 'Arkansas': 31134.24025599987,\n",
       " 'West Virginia': 29051.356550999873,\n",
       " 'Maine': 28935.849638999873,\n",
       " 'Idaho': 27741.216675999876,\n",
       " 'Utah': 27227.585039999834,\n",
       " 'Nebraska': 20773.045615999883,\n",
       " 'Montana': 20480.031616999888,\n",
       " 'Alaska': 15063.524803999906,\n",
       " 'Hawaii': 12574.971047999956,\n",
       " 'Delaware': 11299.853406999959,\n",
       " 'Wyoming': 9939.44866999996,\n",
       " 'South Dakota': 9849.187008999967,\n",
       " 'North Dakota': 9685.69589999997,\n",
       " 'Vermont': 9578.18127499996,\n",
       " 'Rhode Island': 8313.85870199999}"
      ]
     },
     "execution_count": 82,
     "metadata": {},
     "output_type": "execute_result"
    }
   ],
   "source": [
    "df_US_region_11 = df_region_11.select(\"region\",\"sum(percentage)\").where('region = \"Alabama\" or region = \"Alaska\" or region = \"Arizona\" or region = \"Arkansas\" or region = \"California\" or region = \"Colorado\" or region = \"Connecticut\" or region = \"Delaware\" or region = \"Florida\" or region = \"Georgia\" or region = \"Hawaii\" or region = \"Idaho\" or region = \"Illinois\" or region = \"Indiana\" or region = \"Iowa\" or region = \"Kansas\" or region = \"Kentucky\" or region = \"Louisiana\" or region = \"Maine\" or region = \"Maryland\" or region = \"Massachusetts\" or region = \"Michigan\" or region = \"Minnesota\" or region = \"Mississippi\" or region = \"Missouri\" or region = \"Montana\" or region = \"Nebraska\" or region = \"Nevada\" or region = \"New Hampshire\" or region = \"New Jersey\" or region = \"New Mexico\" or region = \"New York\" or region = \"North Carolina\" or region = \"North Dakota\" or region = \"Ohio\" or region = \"Oklahoma\" or region = \"Oregon\" or region = \"Pennsylvania\" or region = \"Rhode Island\" or region = \"South Carolina\" or region = \"South Dakota\" or region = \"Tennessee\" or region = \"Texas\" or region = \"Utah\" or region = \"Vermont\" or region = \"Virginia\" or region = \"Washington\" or region = \"West Virginia\" or region = \"Wisconsin\" or region = \"Wyoming\"')\n",
    "temp_dict_US_11 = df_US_region_11.rdd.map(lambda row: row.asDict()).collect()\n",
    "dict_US_11 = {d['region']: d['sum(percentage)'] for d in temp_dict_US_11}\n",
    "dict_US_11"
   ]
  },
  {
   "cell_type": "code",
   "execution_count": 84,
   "id": "ee1a9fdf",
   "metadata": {},
   "outputs": [
    {
     "name": "stderr",
     "output_type": "stream",
     "text": [
      "                                                                                \r"
     ]
    },
    {
     "data": {
      "text/plain": [
       "{'California': 868967.6006620013,\n",
       " 'Texas': 705217.3655630001,\n",
       " 'Florida': 509900.598671001,\n",
       " 'New York': 410235.61598399986,\n",
       " 'Pennsylvania': 378541.8156609991,\n",
       " 'Michigan': 290629.75776200026,\n",
       " 'Ohio': 264571.6957829999,\n",
       " 'Georgia': 260412.8222620002,\n",
       " 'Illinois': 250478.36880300022,\n",
       " 'North Carolina': 249662.43273099978,\n",
       " 'Arizona': 241321.331258001,\n",
       " 'Washington': 237188.81765799978,\n",
       " 'Virginia': 233981.26176800017,\n",
       " 'New Jersey': 203838.67170200046,\n",
       " 'South Carolina': 166785.77958800018,\n",
       " 'Wisconsin': 156122.59390899976,\n",
       " 'Colorado': 155910.242638,\n",
       " 'Indiana': 154488.7792439998,\n",
       " 'Missouri': 153397.12664399995,\n",
       " 'Maryland': 149063.8915959998,\n",
       " 'Tennessee': 141432.65383399988,\n",
       " 'Oregon': 136999.46366799984,\n",
       " 'Massachusetts': 129065.7752949999,\n",
       " 'Minnesota': 128812.07111299953,\n",
       " 'Louisiana': 121174.59234599971,\n",
       " 'Nevada': 106401.82474899958,\n",
       " 'Kentucky': 101955.76889699983,\n",
       " 'Oklahoma': 98657.04085199982,\n",
       " 'Alabama': 97515.52472599986,\n",
       " 'Iowa': 94454.82118899985,\n",
       " 'Kansas': 83783.13988499982,\n",
       " 'New Hampshire': 80274.13608099984,\n",
       " 'Arkansas': 74844.31213399961,\n",
       " 'Connecticut': 74719.23013799965,\n",
       " 'New Mexico': 74151.53252399982,\n",
       " 'Idaho': 67482.83379499974,\n",
       " 'Mississippi': 66872.08486699978,\n",
       " 'Utah': 63314.31563199967,\n",
       " 'Maine': 61931.62522999958,\n",
       " 'West Virginia': 59049.91156699969,\n",
       " 'Montana': 54186.49487099977,\n",
       " 'Nebraska': 45180.88670099969,\n",
       " 'Alaska': 34491.98490899985,\n",
       " 'Delaware': 27137.327220999865,\n",
       " 'Hawaii': 25825.93705899988,\n",
       " 'South Dakota': 23619.260276999932,\n",
       " 'Vermont': 22253.422149999955,\n",
       " 'Wyoming': 20749.066927999953,\n",
       " 'North Dakota': 19180.471770999997,\n",
       " 'Rhode Island': 18701.266946999964}"
      ]
     },
     "execution_count": 84,
     "metadata": {},
     "output_type": "execute_result"
    }
   ],
   "source": [
    "df_US_region_12 = df_region_12.select(\"region\",\"sum(percentage)\").where('region = \"Alabama\" or region = \"Alaska\" or region = \"Arizona\" or region = \"Arkansas\" or region = \"California\" or region = \"Colorado\" or region = \"Connecticut\" or region = \"Delaware\" or region = \"Florida\" or region = \"Georgia\" or region = \"Hawaii\" or region = \"Idaho\" or region = \"Illinois\" or region = \"Indiana\" or region = \"Iowa\" or region = \"Kansas\" or region = \"Kentucky\" or region = \"Louisiana\" or region = \"Maine\" or region = \"Maryland\" or region = \"Massachusetts\" or region = \"Michigan\" or region = \"Minnesota\" or region = \"Mississippi\" or region = \"Missouri\" or region = \"Montana\" or region = \"Nebraska\" or region = \"Nevada\" or region = \"New Hampshire\" or region = \"New Jersey\" or region = \"New Mexico\" or region = \"New York\" or region = \"North Carolina\" or region = \"North Dakota\" or region = \"Ohio\" or region = \"Oklahoma\" or region = \"Oregon\" or region = \"Pennsylvania\" or region = \"Rhode Island\" or region = \"South Carolina\" or region = \"South Dakota\" or region = \"Tennessee\" or region = \"Texas\" or region = \"Utah\" or region = \"Vermont\" or region = \"Virginia\" or region = \"Washington\" or region = \"West Virginia\" or region = \"Wisconsin\" or region = \"Wyoming\"')\n",
    "temp_dict_US_12 = df_US_region_12.rdd.map(lambda row: row.asDict()).collect()\n",
    "dict_US_12 = {d['region']: d['sum(percentage)'] for d in temp_dict_US_12}\n",
    "dict_US_12"
   ]
  },
  {
   "cell_type": "code",
   "execution_count": null,
   "id": "35f5f4a7",
   "metadata": {},
   "outputs": [],
   "source": [
    "dict_US_list = [dict_US_1, dict_US_2, dict_US_3, dict_US_4, dict_US_5, dict_US_6, dict_US_7, dict_US_8, dict_US_9, dict_US_10, dict_US_11, dict_US_12]"
   ]
  },
  {
   "cell_type": "code",
   "execution_count": 111,
   "id": "7def3b36",
   "metadata": {},
   "outputs": [
    {
     "name": "stdout",
     "output_type": "stream",
     "text": [
      "['California', 'Texas', 'New York', 'Florida', 'Pennsylvania']\n"
     ]
    }
   ],
   "source": [
    "dict_state_count = {}\n",
    "dict_state_sum = {}\n",
    "for dict_US in dict_US_list[1:]:\n",
    "    ad_sum = 0\n",
    "    for state in US_states:\n",
    "        ad_sum += dict_US[state]\n",
    "    \n",
    "    for state in US_states:\n",
    "        if state in dict_state_count.keys():\n",
    "            dict_state_count[state].append(dict_US[state]/ad_sum)\n",
    "            dict_state_sum[state] += dict_US[state]/ad_sum\n",
    "        else:\n",
    "            dict_state_count[state] = [dict_US[state]/ad_sum]\n",
    "            dict_state_sum[state] = dict_US[state]/ad_sum\n",
    "\n",
    "dict_state_sum_order = dict(sorted(dict_state_sum.items(), key=lambda item: item[1], reverse=True))\n",
    "dict_state_top_5 = list(dict_state_sum_order.keys())[:5]\n",
    "print(dict_state_top_5)"
   ]
  },
  {
   "cell_type": "code",
   "execution_count": 129,
   "id": "fb60069a",
   "metadata": {},
   "outputs": [
    {
     "data": {
      "image/png": "[encoded data removed]",
      "text/plain": [
       "<Figure size 1500x1000 with 1 Axes>"
      ]
     },
     "metadata": {
      "needs_background": "light"
     },
     "output_type": "display_data"
    }
   ],
   "source": [
    "import matplotlib.pyplot as plt\n",
    "from matplotlib.font_manager import FontProperties\n",
    "\n",
    "myfont = FontProperties(size=40)\n",
    "months = ['February','March', 'April', 'May', 'June', 'July', 'August', 'September', 'October', 'November', 'December']\n",
    "colors = ['r', 'b', 'g', 'y', 'gold']\n",
    "\n",
    "plt.figure(figsize=(15,10),dpi=100,linewidth = 2)\n",
    "\n",
    "color_change = 0\n",
    "for state in dict_state_top_5:\n",
    "    plt.plot(months,dict_state_count[state],'x-',color = colors[color_change], label = state)\n",
    "    color_change += 1\n",
    "    \n",
    "plt.title(\"Ads in top 5 US states.\", fontproperties = myfont, x=0.5, y=1.03)\n",
    "plt.xticks(rotation = 315)\n",
    "plt.xticks(fontsize=20)\n",
    "plt.yticks(fontsize=20)\n",
    "plt.xlabel(\"month\", fontsize=30, labelpad = 15)\n",
    "plt.ylabel(\"ads' percentage in each state \", fontsize=30, labelpad = 20)\n",
    "plt.legend(loc = \"best\", fontsize=20)\n",
    "plt.show()"
   ]
  },
  {
   "cell_type": "code",
   "execution_count": 158,
   "id": "3a63a9cc",
   "metadata": {},
   "outputs": [
    {
     "ename": "NameError",
     "evalue": "name 'dict_US_list' is not defined",
     "output_type": "error",
     "traceback": [
      "\u001b[0;31m---------------------------------------------------------------------------\u001b[0m",
      "\u001b[0;31mNameError\u001b[0m                                 Traceback (most recent call last)",
      "\u001b[0;32m/tmp/ipykernel_123692/2977542482.py\u001b[0m in \u001b[0;36m<module>\u001b[0;34m\u001b[0m\n\u001b[1;32m      1\u001b[0m \u001b[0mmonth_count\u001b[0m \u001b[0;34m=\u001b[0m \u001b[0;36m0\u001b[0m\u001b[0;34m\u001b[0m\u001b[0;34m\u001b[0m\u001b[0m\n\u001b[0;32m----> 2\u001b[0;31m \u001b[0;32mfor\u001b[0m \u001b[0mdict_US\u001b[0m \u001b[0;32min\u001b[0m \u001b[0mdict_US_list\u001b[0m\u001b[0;34m:\u001b[0m\u001b[0;34m\u001b[0m\u001b[0;34m\u001b[0m\u001b[0m\n\u001b[0m\u001b[1;32m      3\u001b[0m     \u001b[0;31m# Get the Keys and store them in a list\u001b[0m\u001b[0;34m\u001b[0m\u001b[0;34m\u001b[0m\u001b[0;34m\u001b[0m\u001b[0m\n\u001b[1;32m      4\u001b[0m     \u001b[0mlabels\u001b[0m \u001b[0;34m=\u001b[0m \u001b[0;34m[\u001b[0m\u001b[0mstr\u001b[0m\u001b[0;34m(\u001b[0m\u001b[0mk\u001b[0m\u001b[0;34m)\u001b[0m \u001b[0;32mfor\u001b[0m \u001b[0mk\u001b[0m \u001b[0;32min\u001b[0m \u001b[0mdict_US\u001b[0m\u001b[0;34m]\u001b[0m\u001b[0;34m\u001b[0m\u001b[0;34m\u001b[0m\u001b[0m\n\u001b[1;32m      5\u001b[0m     \u001b[0;31m# Get the Values and store them in a list\u001b[0m\u001b[0;34m\u001b[0m\u001b[0;34m\u001b[0m\u001b[0;34m\u001b[0m\u001b[0m\n",
      "\u001b[0;31mNameError\u001b[0m: name 'dict_US_list' is not defined"
     ]
    }
   ],
   "source": [
    "month_count = 0\n",
    "for dict_US in dict_US_list:    \n",
    "    # Get the Keys and store them in a list\n",
    "    labels = [str(k) for k in dict_US]\n",
    "    # Get the Values and store them in a list\n",
    "    values = [float(dict_US[v]) for v in dict_US]\n",
    "\n",
    "    value_other = 0\n",
    "    for value in values[10:len(values)]:\n",
    "        value_other += value\n",
    "\n",
    "    labels = labels[0:10]\n",
    "    labels.append(\"others\")\n",
    "    values = values[0:10]\n",
    "    values.append(value_other)\n",
    "    \n",
    "    plt.figure(figsize=(17,10))                # 顯示圖框架大小\n",
    "    separeted = [0.1,0.1,0.1,0,0,0,0,0,0,0,0]  # 依據類別數量，分別設定要突出的區塊\n",
    "    colors = ['gold','silver','chocolate','y','g','b','r','blueviolet','cyan','deepskyblue','coral']\n",
    "    months = ['January','February','March', 'April', 'May', 'June', 'July', 'August', 'September', 'October', 'November', 'December']\n",
    "\n",
    "    plt.pie(values,                            # 數值\n",
    "            labels = labels,                   # 標籤 \n",
    "            colors = colors,                   # 區塊顏色\n",
    "            autopct = \"%1.1f%%\",               # 將數值百分比並留到小數點一位\n",
    "            explode = separeted,               # 設定分隔的區塊位置\n",
    "            pctdistance = 0.6,                 # 數字距圓心的距離\n",
    "            textprops = {\"fontsize\" :18},     # 文字大小\n",
    "            shadow = False)                    # 設定陰影\n",
    "\n",
    " \n",
    "    plt.axis('equal')                                                      # 使圓餅圖比例相等\n",
    "    plt.title(\"Ads in each state in {}\".format(months[month_count]), {\"fontsize\" : 24}) # 設定標題及其文字大小\n",
    "    plt.legend(loc = \"best\")                                               # 設定圖例及其位置為最佳\n",
    "\n",
    "    plt.plot()\n",
    "\n",
    "    plt.show()\n",
    "    month_count += 1"
   ]
  },
  {
   "cell_type": "code",
   "execution_count": 124,
   "id": "263533e7",
   "metadata": {},
   "outputs": [
    {
     "name": "stderr",
     "output_type": "stream",
     "text": [
      "                                                                                \r"
     ]
    },
    {
     "data": {
      "text/plain": [
       "[0, 1631]"
      ]
     },
     "execution_count": 124,
     "metadata": {},
     "output_type": "execute_result"
    }
   ],
   "source": [
    "#US_states = ['California', 'Texas', 'Florida', 'New York', 'Pennsylvania', 'Michigan', 'Ohio', 'Georgia', 'Illinois', 'North Carolina', 'Arizona', 'Washington', 'Virginia', 'New Jersey', 'South Carolina', 'Wisconsin', 'Colorado', 'Indiana', 'Missouri', 'Maryland', 'Tennessee', 'Oregon', 'Massachusetts', 'Minnesota', 'Louisiana', 'Nevada', 'Kentucky', 'Oklahoma', 'Alabama', 'Iowa', 'Kansas', 'New Hampshire', 'Arkansas', 'Connecticut', 'New Mexico', 'Idaho', 'Mississippi', 'Utah', 'Maine', 'West Virginia', 'Montana', 'Nebraska', 'Alaska', 'Delaware', 'Hawaii', 'South Dakota', 'Vermont', 'Wyoming', 'North Dakota', 'Rhode Island']\n",
    "df_r_1 = df_1.where('ad_creative_link_caption = \"winred.com\"')\n",
    "df_b_1 = df_1.where('ad_creative_link_caption = \"secure.actblue.com\"')\n",
    "[df_r_1.count(),df_b_1.count()]"
   ]
  },
  {
   "cell_type": "code",
   "execution_count": 172,
   "id": "5c84f66d",
   "metadata": {},
   "outputs": [
    {
     "name": "stderr",
     "output_type": "stream",
     "text": [
      "                                                                                \r"
     ]
    },
    {
     "data": {
      "text/plain": [
       "[0, 1631]"
      ]
     },
     "execution_count": 172,
     "metadata": {},
     "output_type": "execute_result"
    }
   ],
   "source": [
    "df_r_1_count = df_r_1.count()\n",
    "df_b_1_count = df_b_1.count()\n",
    "[df_r_1_count,df_b_1_count]"
   ]
  },
  {
   "cell_type": "code",
   "execution_count": 125,
   "id": "1b7c0116",
   "metadata": {},
   "outputs": [
    {
     "name": "stderr",
     "output_type": "stream",
     "text": [
      "                                                                                \r"
     ]
    },
    {
     "data": {
      "text/plain": [
       "[0, 147]"
      ]
     },
     "execution_count": 125,
     "metadata": {},
     "output_type": "execute_result"
    }
   ],
   "source": [
    "df_r_2 = df_2.where('ad_creative_link_caption = \"winred.com\"')\n",
    "df_b_2 = df_2.where('ad_creative_link_caption = \"secure.actblue.com\"')\n",
    "[df_r_2.count(),df_b_2.count()]"
   ]
  },
  {
   "cell_type": "code",
   "execution_count": 173,
   "id": "ecce9757",
   "metadata": {},
   "outputs": [
    {
     "name": "stderr",
     "output_type": "stream",
     "text": [
      "                                                                                \r"
     ]
    },
    {
     "data": {
      "text/plain": [
       "[0, 147]"
      ]
     },
     "execution_count": 173,
     "metadata": {},
     "output_type": "execute_result"
    }
   ],
   "source": [
    "df_r_2_count = df_r_2.count()\n",
    "df_b_2_count = df_b_2.count()\n",
    "[df_r_2_count,df_b_2_count]"
   ]
  },
  {
   "cell_type": "code",
   "execution_count": 126,
   "id": "e5997074",
   "metadata": {},
   "outputs": [
    {
     "name": "stderr",
     "output_type": "stream",
     "text": [
      "                                                                                \r"
     ]
    },
    {
     "data": {
      "text/plain": [
       "[1225, 143473]"
      ]
     },
     "execution_count": 126,
     "metadata": {},
     "output_type": "execute_result"
    }
   ],
   "source": [
    "df_r_3 = df_3.where('ad_creative_link_caption = \"winred.com\"')\n",
    "df_b_3 = df_3.where('ad_creative_link_caption = \"secure.actblue.com\"')\n",
    "[df_r_3.count(),df_b_3.count()]"
   ]
  },
  {
   "cell_type": "code",
   "execution_count": 127,
   "id": "91fe9110",
   "metadata": {},
   "outputs": [
    {
     "name": "stderr",
     "output_type": "stream",
     "text": [
      "                                                                                \r"
     ]
    },
    {
     "data": {
      "text/plain": [
       "[26017, 361374]"
      ]
     },
     "execution_count": 127,
     "metadata": {},
     "output_type": "execute_result"
    }
   ],
   "source": [
    "df_r_4 = df_4.where('ad_creative_link_caption = \"winred.com\"')\n",
    "df_b_4 = df_4.where('ad_creative_link_caption = \"secure.actblue.com\"')\n",
    "[df_r_4.count(),df_b_4.count()]"
   ]
  },
  {
   "cell_type": "code",
   "execution_count": 128,
   "id": "b9d2e7a0",
   "metadata": {},
   "outputs": [
    {
     "name": "stderr",
     "output_type": "stream",
     "text": [
      "                                                                                \r"
     ]
    },
    {
     "data": {
      "text/plain": [
       "[6327, 207865]"
      ]
     },
     "execution_count": 128,
     "metadata": {},
     "output_type": "execute_result"
    }
   ],
   "source": [
    "df_r_5 = df_5.where('ad_creative_link_caption = \"winred.com\"')\n",
    "df_b_5 = df_5.where('ad_creative_link_caption = \"secure.actblue.com\"')\n",
    "[df_r_5.count(),df_b_5.count()]"
   ]
  },
  {
   "cell_type": "code",
   "execution_count": 129,
   "id": "82dc27b0",
   "metadata": {},
   "outputs": [
    {
     "name": "stderr",
     "output_type": "stream",
     "text": [
      "                                                                                \r"
     ]
    },
    {
     "data": {
      "text/plain": [
       "[19339, 383529]"
      ]
     },
     "execution_count": 129,
     "metadata": {},
     "output_type": "execute_result"
    }
   ],
   "source": [
    "df_r_6 = df_6.where('ad_creative_link_caption = \"winred.com\"')\n",
    "df_b_6 = df_6.where('ad_creative_link_caption = \"secure.actblue.com\"')\n",
    "[df_r_6.count(),df_b_6.count()]"
   ]
  },
  {
   "cell_type": "code",
   "execution_count": 174,
   "id": "8fc673cf",
   "metadata": {},
   "outputs": [
    {
     "name": "stderr",
     "output_type": "stream",
     "text": [
      "                                                                                \r"
     ]
    },
    {
     "data": {
      "text/plain": [
       "[19339, 383529]"
      ]
     },
     "execution_count": 174,
     "metadata": {},
     "output_type": "execute_result"
    }
   ],
   "source": [
    "df_r_3_count = df_r_3.count()\n",
    "df_b_3_count = df_b_3.count()\n",
    "[df_r_3_count,df_b_3_count]\n",
    "\n",
    "df_r_4_count = df_r_4.count()\n",
    "df_b_4_count = df_b_4.count()\n",
    "[df_r_4_count,df_b_4_count]\n",
    "\n",
    "df_r_5_count = df_r_5.count()\n",
    "df_b_5_count = df_b_5.count()\n",
    "[df_r_5_count,df_b_5_count]\n",
    "\n",
    "df_r_6_count = df_r_6.count()\n",
    "df_b_6_count = df_b_6.count()\n",
    "[df_r_6_count,df_b_6_count]"
   ]
  },
  {
   "cell_type": "code",
   "execution_count": 130,
   "id": "1fb02bcd",
   "metadata": {},
   "outputs": [
    {
     "name": "stderr",
     "output_type": "stream",
     "text": [
      "                                                                                \r"
     ]
    },
    {
     "data": {
      "text/plain": [
       "[9406, 270943]"
      ]
     },
     "execution_count": 130,
     "metadata": {},
     "output_type": "execute_result"
    }
   ],
   "source": [
    "df_r_7 = df_7.where('ad_creative_link_caption = \"winred.com\"')\n",
    "df_b_7 = df_7.where('ad_creative_link_caption = \"secure.actblue.com\"')\n",
    "df_r_7_count = df_r_7.count()\n",
    "df_b_7_count = df_b_7.count()\n",
    "[df_r_7_count,df_b_7_count]"
   ]
  },
  {
   "cell_type": "code",
   "execution_count": 131,
   "id": "d2c166a0",
   "metadata": {},
   "outputs": [
    {
     "name": "stderr",
     "output_type": "stream",
     "text": [
      "                                                                                \r"
     ]
    },
    {
     "data": {
      "text/plain": [
       "[6538, 253630]"
      ]
     },
     "execution_count": 131,
     "metadata": {},
     "output_type": "execute_result"
    }
   ],
   "source": [
    "df_r_8 = df_8.where('ad_creative_link_caption = \"winred.com\"')\n",
    "df_b_8 = df_8.where('ad_creative_link_caption = \"secure.actblue.com\"')\n",
    "df_r_8_count = df_r_8.count()\n",
    "df_b_8_count = df_b_8.count()\n",
    "[df_r_8_count,df_b_8_count]"
   ]
  },
  {
   "cell_type": "code",
   "execution_count": 132,
   "id": "8ee685f8",
   "metadata": {},
   "outputs": [
    {
     "name": "stderr",
     "output_type": "stream",
     "text": [
      "                                                                                \r"
     ]
    },
    {
     "data": {
      "text/plain": [
       "[4485, 308662]"
      ]
     },
     "execution_count": 132,
     "metadata": {},
     "output_type": "execute_result"
    }
   ],
   "source": [
    "df_r_9 = df_9.where('ad_creative_link_caption = \"winred.com\"')\n",
    "df_b_9 = df_9.where('ad_creative_link_caption = \"secure.actblue.com\"')\n",
    "df_r_9_count = df_r_9.count()\n",
    "df_b_9_count = df_b_9.count()\n",
    "[df_r_9_count,df_b_9_count]"
   ]
  },
  {
   "cell_type": "code",
   "execution_count": 133,
   "id": "15c60946",
   "metadata": {},
   "outputs": [
    {
     "name": "stderr",
     "output_type": "stream",
     "text": [
      "                                                                                \r"
     ]
    },
    {
     "data": {
      "text/plain": [
       "[4762, 256759]"
      ]
     },
     "execution_count": 133,
     "metadata": {},
     "output_type": "execute_result"
    }
   ],
   "source": [
    "df_r_10 = df_10.where('ad_creative_link_caption = \"winred.com\"')\n",
    "df_b_10 = df_10.where('ad_creative_link_caption = \"secure.actblue.com\"')\n",
    "df_r_10_count = df_r_10.count()\n",
    "df_b_10_count = df_b_10.count()\n",
    "[df_r_10_count,df_b_10_count]"
   ]
  },
  {
   "cell_type": "code",
   "execution_count": 134,
   "id": "126fb972",
   "metadata": {},
   "outputs": [
    {
     "name": "stderr",
     "output_type": "stream",
     "text": [
      "                                                                                \r"
     ]
    },
    {
     "data": {
      "text/plain": [
       "[14800, 420295]"
      ]
     },
     "execution_count": 134,
     "metadata": {},
     "output_type": "execute_result"
    }
   ],
   "source": [
    "df_r_11 = df_11.where('ad_creative_link_caption = \"winred.com\"')\n",
    "df_b_11 = df_11.where('ad_creative_link_caption = \"secure.actblue.com\"')\n",
    "df_r_11_count = df_r_11.count()\n",
    "df_b_11_count = df_b_11.count()\n",
    "[df_r_11_count,df_b_11_count]"
   ]
  },
  {
   "cell_type": "code",
   "execution_count": 162,
   "id": "67de56c6",
   "metadata": {},
   "outputs": [
    {
     "name": "stderr",
     "output_type": "stream",
     "text": [
      "                                                                                \r"
     ]
    },
    {
     "data": {
      "text/plain": [
       "[13372, 846020]"
      ]
     },
     "execution_count": 162,
     "metadata": {},
     "output_type": "execute_result"
    }
   ],
   "source": [
    "df_r_12 = df_12.where('ad_creative_link_caption = \"winred.com\"')\n",
    "df_b_12 = df_12.where('ad_creative_link_caption = \"secure.actblue.com\"')\n",
    "df_r_12_count = df_r_12.count()\n",
    "df_b_12_count = df_b_12.count()\n",
    "[df_r_12_count,df_b_12_count]"
   ]
  },
  {
   "cell_type": "code",
   "execution_count": 175,
   "id": "e95e0bea",
   "metadata": {},
   "outputs": [
    {
     "data": {
      "text/plain": [
       "[0, 0, 1225, 26017, 6327, 19339, 9406, 6538, 4485, 4762, 14800, 13372]"
      ]
     },
     "execution_count": 175,
     "metadata": {},
     "output_type": "execute_result"
    }
   ],
   "source": [
    "df_r_count = [globals()['df_r_'+str(n)+'_count'] for n in range(1,13)]\n",
    "df_r_count"
   ]
  },
  {
   "cell_type": "code",
   "execution_count": 176,
   "id": "851b9d9c",
   "metadata": {},
   "outputs": [
    {
     "data": {
      "text/plain": [
       "[1631,\n",
       " 147,\n",
       " 143473,\n",
       " 361374,\n",
       " 207865,\n",
       " 383529,\n",
       " 270943,\n",
       " 253630,\n",
       " 308662,\n",
       " 256759,\n",
       " 420295,\n",
       " 846020]"
      ]
     },
     "execution_count": 176,
     "metadata": {},
     "output_type": "execute_result"
    }
   ],
   "source": [
    "df_b_count = [globals()['df_b_'+str(n)+'_count'] for n in range(1,13)]\n",
    "df_b_count"
   ]
  },
  {
   "cell_type": "code",
   "execution_count": 209,
   "id": "8ef7cd99",
   "metadata": {},
   "outputs": [
    {
     "data": {
      "image/png": "[encoded data removed]",
      "text/plain": [
       "<Figure size 1080x720 with 1 Axes>"
      ]
     },
     "metadata": {
      "needs_background": "light"
     },
     "output_type": "display_data"
    }
   ],
   "source": [
    "import numpy as np\n",
    "import matplotlib.pyplot as plt\n",
    "\n",
    "# 构建数据\n",
    "x_data = ['2021.01','2021.02','2021.03','2021.04','2021.05','2021.06','2021.07','2021.08','2021.09','2021.10','2021.11','2021.12']\n",
    "y_data = df_b_count\n",
    "y_data2 = df_r_count\n",
    "\n",
    "plt.figure(figsize = (15,10))\n",
    "\n",
    "bar_width=0.3\n",
    "# 将X轴数据改为使用range(len(x_data), 就是0、1、2...\n",
    "plt.bar(x=range(len(x_data)), height=y_data, label='ActBlue',\n",
    "color='steelblue', alpha=0.8, width=bar_width)\n",
    "# 将X轴数据改为使用np.arange(len(x_data))+bar_width,\n",
    "# 就是bar_width、1+bar_width、2+bar_width...这样就和第一个柱状图并列了\n",
    "plt.bar(x=np.arange(len(x_data))+bar_width, height=y_data2,\n",
    "label='WinRed', color='indianred', alpha=0.8, width=bar_width)\n",
    "# 在柱状图上显示具体数值, ha参数控制水平对齐方式, va控制垂直对齐方式\n",
    "for x, y in enumerate(y_data):\n",
    "    plt.text(x, y + 100, '%s' % y, ha='center', va='bottom')\n",
    "for x, y in enumerate(y_data2):\n",
    "    plt.text(x+bar_width, y + 100, '%s' % y, ha='center', va='top')\n",
    "plt.xticks(np.arange(len(x_data))+bar_width/2, x_data)\n",
    "# 设置标题\n",
    "plt.title(\"ActBlue VS WinRed\")\n",
    "# 为两条坐标轴设置名称\n",
    "plt.xlabel(\"months in 2021\")\n",
    "plt.ylabel(\"Ads Posted\")\n",
    "# 显示图例\n",
    "plt.legend()\n",
    "plt.show()"
   ]
  },
  {
   "cell_type": "code",
   "execution_count": 211,
   "id": "b88a4cf5",
   "metadata": {},
   "outputs": [
    {
     "data": {
      "image/png": "[encoded data removed]",
      "text/plain": [
       "<Figure size 1080x720 with 2 Axes>"
      ]
     },
     "metadata": {
      "needs_background": "light"
     },
     "output_type": "display_data"
    }
   ],
   "source": [
    "months_2021 = ['2021.01','2021.02','2021.03','2021.04','2021.05','2021.06','2021.07','2021.08','2021.09','2021.10','2021.11','2021.12']\n",
    "\n",
    "import pandas as pd\n",
    "import matplotlib.pyplot as plt\n",
    "\n",
    "plt.figure(figsize = (15,10))\n",
    "plt.rcParams['axes.unicode_minus'] = False\n",
    "\n",
    "x = months_2021\n",
    "y1 = df_b_count\n",
    "y2 = df_r_count\n",
    "plt.plot(x, y1, color = 'b', linewidth = 3, label = 'ActBlue')  \n",
    "plt.legend(loc = 'upper left', fontsize = 15)  \n",
    "plt.xticks(rotation = 315)\n",
    "plt.title(label='ActBlue VS WinRed', fontdict={'color': 'k', 'size': 30}, loc='center')\n",
    "\n",
    "# 使用twinx()函式為圖表新增次座標軸\n",
    "plt.twinx()  \n",
    "plt.plot(x, y2, color = 'r', linewidth = 3, label = 'WinRed')  \n",
    "plt.legend(loc = 'upper right', fontsize = 15)  \n",
    "\n",
    "plt.show()"
   ]
  },
  {
   "cell_type": "code",
   "execution_count": 194,
   "id": "8ffe4cf4",
   "metadata": {},
   "outputs": [
    {
     "name": "stderr",
     "output_type": "stream",
     "text": [
      "                                                                                \r"
     ]
    },
    {
     "name": "stdout",
     "output_type": "stream",
     "text": [
      "+------+---------------+\n",
      "|region|sum(percentage)|\n",
      "+------+---------------+\n",
      "+------+---------------+\n",
      "\n"
     ]
    },
    {
     "name": "stderr",
     "output_type": "stream",
     "text": [
      "[Stage 324:=============================>                       (113 + 4) / 200]\r"
     ]
    },
    {
     "name": "stdout",
     "output_type": "stream",
     "text": [
      "+-------+---------------+\n",
      "|region |sum(percentage)|\n",
      "+-------+---------------+\n",
      "|Georgia|1631.0         |\n",
      "+-------+---------------+\n",
      "\n"
     ]
    },
    {
     "name": "stderr",
     "output_type": "stream",
     "text": [
      "                                                                                \r"
     ]
    }
   ],
   "source": [
    "df_r_US_1 = df_r_1.withColumn(\"region_distribution_x\", arrays_zip(\"region_distribution.percentage\",\"region_distribution.region\")).select(\"ad_creative_link_title\", explode(\"region_distribution\").alias(\"t_region_distribution\")).select(\"ad_creative_link_title\", \"t_region_distribution.percentage\", \"t_region_distribution.region\").withColumn(\"percentage\",col(\"percentage\").cast('double')).groupby(\"region\").sum('percentage').orderBy(\"sum(percentage)\", ascending=False).where('region = \"Alabama\" or region = \"Alaska\" or region = \"Arizona\" or region = \"Arkansas\" or region = \"California\" or region = \"Colorado\" or region = \"Connecticut\" or region = \"Delaware\" or region = \"Florida\" or region = \"Georgia\" or region = \"Hawaii\" or region = \"Idaho\" or region = \"Illinois\" or region = \"Indiana\" or region = \"Iowa\" or region = \"Kansas\" or region = \"Kentucky\" or region = \"Louisiana\" or region = \"Maine\" or region = \"Maryland\" or region = \"Massachusetts\" or region = \"Michigan\" or region = \"Minnesota\" or region = \"Mississippi\" or region = \"Missouri\" or region = \"Montana\" or region = \"Nebraska\" or region = \"Nevada\" or region = \"New Hampshire\" or region = \"New Jersey\" or region = \"New Mexico\" or region = \"New York\" or region = \"North Carolina\" or region = \"North Dakota\" or region = \"Ohio\" or region = \"Oklahoma\" or region = \"Oregon\" or region = \"Pennsylvania\" or region = \"Rhode Island\" or region = \"South Carolina\" or region = \"South Dakota\" or region = \"Tennessee\" or region = \"Texas\" or region = \"Utah\" or region = \"Vermont\" or region = \"Virginia\" or region = \"Washington\" or region = \"West Virginia\" or region = \"Wisconsin\" or region = \"Wyoming\"')\n",
    "df_r_US_1.show(truncate=False)\n",
    "df_b_US_1 = df_b_1.withColumn(\"region_distribution_x\", arrays_zip(\"region_distribution.percentage\",\"region_distribution.region\")).select(\"ad_creative_link_title\", explode(\"region_distribution\").alias(\"t_region_distribution\")).select(\"ad_creative_link_title\", \"t_region_distribution.percentage\", \"t_region_distribution.region\").withColumn(\"percentage\",col(\"percentage\").cast('double')).groupby(\"region\").sum('percentage').orderBy(\"sum(percentage)\", ascending=False).where('region = \"Alabama\" or region = \"Alaska\" or region = \"Arizona\" or region = \"Arkansas\" or region = \"California\" or region = \"Colorado\" or region = \"Connecticut\" or region = \"Delaware\" or region = \"Florida\" or region = \"Georgia\" or region = \"Hawaii\" or region = \"Idaho\" or region = \"Illinois\" or region = \"Indiana\" or region = \"Iowa\" or region = \"Kansas\" or region = \"Kentucky\" or region = \"Louisiana\" or region = \"Maine\" or region = \"Maryland\" or region = \"Massachusetts\" or region = \"Michigan\" or region = \"Minnesota\" or region = \"Mississippi\" or region = \"Missouri\" or region = \"Montana\" or region = \"Nebraska\" or region = \"Nevada\" or region = \"New Hampshire\" or region = \"New Jersey\" or region = \"New Mexico\" or region = \"New York\" or region = \"North Carolina\" or region = \"North Dakota\" or region = \"Ohio\" or region = \"Oklahoma\" or region = \"Oregon\" or region = \"Pennsylvania\" or region = \"Rhode Island\" or region = \"South Carolina\" or region = \"South Dakota\" or region = \"Tennessee\" or region = \"Texas\" or region = \"Utah\" or region = \"Vermont\" or region = \"Virginia\" or region = \"Washington\" or region = \"West Virginia\" or region = \"Wisconsin\" or region = \"Wyoming\"')\n",
    "df_b_US_1.show(truncate=False)"
   ]
  },
  {
   "cell_type": "code",
   "execution_count": 150,
   "id": "41cc954a",
   "metadata": {},
   "outputs": [
    {
     "name": "stderr",
     "output_type": "stream",
     "text": [
      "                                                                                \r"
     ]
    },
    {
     "name": "stdout",
     "output_type": "stream",
     "text": [
      "+------+---------------+\n",
      "|region|sum(percentage)|\n",
      "+------+---------------+\n",
      "+------+---------------+\n",
      "\n"
     ]
    },
    {
     "name": "stderr",
     "output_type": "stream",
     "text": [
      "[Stage 252:====================================================>(198 + 2) / 200]\r"
     ]
    },
    {
     "name": "stdout",
     "output_type": "stream",
     "text": [
      "+-------+---------------+\n",
      "|region |sum(percentage)|\n",
      "+-------+---------------+\n",
      "|Georgia|147.0          |\n",
      "+-------+---------------+\n",
      "\n"
     ]
    },
    {
     "name": "stderr",
     "output_type": "stream",
     "text": [
      "                                                                                \r"
     ]
    }
   ],
   "source": [
    "df_r_US_2 = df_r_2.withColumn(\"region_distribution_x\", arrays_zip(\"region_distribution.percentage\",\"region_distribution.region\")).select(\"ad_creative_link_title\", explode(\"region_distribution\").alias(\"t_region_distribution\")).select(\"ad_creative_link_title\", \"t_region_distribution.percentage\", \"t_region_distribution.region\").withColumn(\"percentage\",col(\"percentage\").cast('double')).groupby(\"region\").sum('percentage').orderBy(\"sum(percentage)\", ascending=False).where('region = \"Alabama\" or region = \"Alaska\" or region = \"Arizona\" or region = \"Arkansas\" or region = \"California\" or region = \"Colorado\" or region = \"Connecticut\" or region = \"Delaware\" or region = \"Florida\" or region = \"Georgia\" or region = \"Hawaii\" or region = \"Idaho\" or region = \"Illinois\" or region = \"Indiana\" or region = \"Iowa\" or region = \"Kansas\" or region = \"Kentucky\" or region = \"Louisiana\" or region = \"Maine\" or region = \"Maryland\" or region = \"Massachusetts\" or region = \"Michigan\" or region = \"Minnesota\" or region = \"Mississippi\" or region = \"Missouri\" or region = \"Montana\" or region = \"Nebraska\" or region = \"Nevada\" or region = \"New Hampshire\" or region = \"New Jersey\" or region = \"New Mexico\" or region = \"New York\" or region = \"North Carolina\" or region = \"North Dakota\" or region = \"Ohio\" or region = \"Oklahoma\" or region = \"Oregon\" or region = \"Pennsylvania\" or region = \"Rhode Island\" or region = \"South Carolina\" or region = \"South Dakota\" or region = \"Tennessee\" or region = \"Texas\" or region = \"Utah\" or region = \"Vermont\" or region = \"Virginia\" or region = \"Washington\" or region = \"West Virginia\" or region = \"Wisconsin\" or region = \"Wyoming\"')\n",
    "df_r_US_2.show(truncate=False)\n",
    "df_b_US_2 = df_b_2.withColumn(\"region_distribution_x\", arrays_zip(\"region_distribution.percentage\",\"region_distribution.region\")).select(\"ad_creative_link_title\", explode(\"region_distribution\").alias(\"t_region_distribution\")).select(\"ad_creative_link_title\", \"t_region_distribution.percentage\", \"t_region_distribution.region\").withColumn(\"percentage\",col(\"percentage\").cast('double')).groupby(\"region\").sum('percentage').orderBy(\"sum(percentage)\", ascending=False).where('region = \"Alabama\" or region = \"Alaska\" or region = \"Arizona\" or region = \"Arkansas\" or region = \"California\" or region = \"Colorado\" or region = \"Connecticut\" or region = \"Delaware\" or region = \"Florida\" or region = \"Georgia\" or region = \"Hawaii\" or region = \"Idaho\" or region = \"Illinois\" or region = \"Indiana\" or region = \"Iowa\" or region = \"Kansas\" or region = \"Kentucky\" or region = \"Louisiana\" or region = \"Maine\" or region = \"Maryland\" or region = \"Massachusetts\" or region = \"Michigan\" or region = \"Minnesota\" or region = \"Mississippi\" or region = \"Missouri\" or region = \"Montana\" or region = \"Nebraska\" or region = \"Nevada\" or region = \"New Hampshire\" or region = \"New Jersey\" or region = \"New Mexico\" or region = \"New York\" or region = \"North Carolina\" or region = \"North Dakota\" or region = \"Ohio\" or region = \"Oklahoma\" or region = \"Oregon\" or region = \"Pennsylvania\" or region = \"Rhode Island\" or region = \"South Carolina\" or region = \"South Dakota\" or region = \"Tennessee\" or region = \"Texas\" or region = \"Utah\" or region = \"Vermont\" or region = \"Virginia\" or region = \"Washington\" or region = \"West Virginia\" or region = \"Wisconsin\" or region = \"Wyoming\"')\n",
    "df_b_US_2.show(truncate=False)"
   ]
  },
  {
   "cell_type": "code",
   "execution_count": 151,
   "id": "8779601f",
   "metadata": {},
   "outputs": [
    {
     "name": "stderr",
     "output_type": "stream",
     "text": [
      "                                                                                \r"
     ]
    },
    {
     "name": "stdout",
     "output_type": "stream",
     "text": [
      "+------+---------------+\n",
      "|region|sum(percentage)|\n",
      "+------+---------------+\n",
      "|Texas |1225.0         |\n",
      "+------+---------------+\n",
      "\n"
     ]
    },
    {
     "name": "stderr",
     "output_type": "stream",
     "text": [
      "[Stage 256:====================================================>(198 + 2) / 200]\r"
     ]
    },
    {
     "name": "stdout",
     "output_type": "stream",
     "text": [
      "+--------------+------------------+\n",
      "|region        |sum(percentage)   |\n",
      "+--------------+------------------+\n",
      "|California    |19442.777468000008|\n",
      "|New York      |11607.343504000006|\n",
      "|Virginia      |9883.730692999992 |\n",
      "|Texas         |8245.584385999995 |\n",
      "|North Carolina|7196.833353999994 |\n",
      "|Pennsylvania  |6930.814407999993 |\n",
      "|Illinois      |5710.049732999996 |\n",
      "|Florida       |5704.76767499999  |\n",
      "|Massachusetts |4909.936997999995 |\n",
      "|Washington    |4895.214706999993 |\n",
      "|Michigan      |4354.803126999996 |\n",
      "|Minnesota     |4151.509117999993 |\n",
      "|Georgia       |3861.4932219999964|\n",
      "|Arizona       |3601.9271899999967|\n",
      "|New Jersey    |3517.1275919999957|\n",
      "|Colorado      |3495.222928999996 |\n",
      "|Ohio          |3075.907704999996 |\n",
      "|Maryland      |2963.3501829999973|\n",
      "|Missouri      |2908.4918679999973|\n",
      "|Oregon        |2745.216389999996 |\n",
      "+--------------+------------------+\n",
      "only showing top 20 rows\n",
      "\n"
     ]
    },
    {
     "name": "stderr",
     "output_type": "stream",
     "text": [
      "                                                                                \r"
     ]
    }
   ],
   "source": [
    "df_r_US_3 = df_r_3.withColumn(\"region_distribution_x\", arrays_zip(\"region_distribution.percentage\",\"region_distribution.region\")).select(\"ad_creative_link_title\", explode(\"region_distribution\").alias(\"t_region_distribution\")).select(\"ad_creative_link_title\", \"t_region_distribution.percentage\", \"t_region_distribution.region\").withColumn(\"percentage\",col(\"percentage\").cast('double')).groupby(\"region\").sum('percentage').orderBy(\"sum(percentage)\", ascending=False).where('region = \"Alabama\" or region = \"Alaska\" or region = \"Arizona\" or region = \"Arkansas\" or region = \"California\" or region = \"Colorado\" or region = \"Connecticut\" or region = \"Delaware\" or region = \"Florida\" or region = \"Georgia\" or region = \"Hawaii\" or region = \"Idaho\" or region = \"Illinois\" or region = \"Indiana\" or region = \"Iowa\" or region = \"Kansas\" or region = \"Kentucky\" or region = \"Louisiana\" or region = \"Maine\" or region = \"Maryland\" or region = \"Massachusetts\" or region = \"Michigan\" or region = \"Minnesota\" or region = \"Mississippi\" or region = \"Missouri\" or region = \"Montana\" or region = \"Nebraska\" or region = \"Nevada\" or region = \"New Hampshire\" or region = \"New Jersey\" or region = \"New Mexico\" or region = \"New York\" or region = \"North Carolina\" or region = \"North Dakota\" or region = \"Ohio\" or region = \"Oklahoma\" or region = \"Oregon\" or region = \"Pennsylvania\" or region = \"Rhode Island\" or region = \"South Carolina\" or region = \"South Dakota\" or region = \"Tennessee\" or region = \"Texas\" or region = \"Utah\" or region = \"Vermont\" or region = \"Virginia\" or region = \"Washington\" or region = \"West Virginia\" or region = \"Wisconsin\" or region = \"Wyoming\"')\n",
    "df_r_US_3.show(truncate=False)\n",
    "df_b_US_3 = df_b_3.withColumn(\"region_distribution_x\", arrays_zip(\"region_distribution.percentage\",\"region_distribution.region\")).select(\"ad_creative_link_title\", explode(\"region_distribution\").alias(\"t_region_distribution\")).select(\"ad_creative_link_title\", \"t_region_distribution.percentage\", \"t_region_distribution.region\").withColumn(\"percentage\",col(\"percentage\").cast('double')).groupby(\"region\").sum('percentage').orderBy(\"sum(percentage)\", ascending=False).where('region = \"Alabama\" or region = \"Alaska\" or region = \"Arizona\" or region = \"Arkansas\" or region = \"California\" or region = \"Colorado\" or region = \"Connecticut\" or region = \"Delaware\" or region = \"Florida\" or region = \"Georgia\" or region = \"Hawaii\" or region = \"Idaho\" or region = \"Illinois\" or region = \"Indiana\" or region = \"Iowa\" or region = \"Kansas\" or region = \"Kentucky\" or region = \"Louisiana\" or region = \"Maine\" or region = \"Maryland\" or region = \"Massachusetts\" or region = \"Michigan\" or region = \"Minnesota\" or region = \"Mississippi\" or region = \"Missouri\" or region = \"Montana\" or region = \"Nebraska\" or region = \"Nevada\" or region = \"New Hampshire\" or region = \"New Jersey\" or region = \"New Mexico\" or region = \"New York\" or region = \"North Carolina\" or region = \"North Dakota\" or region = \"Ohio\" or region = \"Oklahoma\" or region = \"Oregon\" or region = \"Pennsylvania\" or region = \"Rhode Island\" or region = \"South Carolina\" or region = \"South Dakota\" or region = \"Tennessee\" or region = \"Texas\" or region = \"Utah\" or region = \"Vermont\" or region = \"Virginia\" or region = \"Washington\" or region = \"West Virginia\" or region = \"Wisconsin\" or region = \"Wyoming\"')\n",
    "df_b_US_3.show(truncate=False)"
   ]
  },
  {
   "cell_type": "code",
   "execution_count": 152,
   "id": "a92c4fa4",
   "metadata": {},
   "outputs": [
    {
     "name": "stderr",
     "output_type": "stream",
     "text": [
      "                                                                                \r"
     ]
    },
    {
     "name": "stdout",
     "output_type": "stream",
     "text": [
      "+--------------+------------------+\n",
      "|region        |sum(percentage)   |\n",
      "+--------------+------------------+\n",
      "|Texas         |3284.3135840000004|\n",
      "|California    |2529.9307000000013|\n",
      "|Florida       |1991.5772680000002|\n",
      "|Pennsylvania  |1184.2264190000003|\n",
      "|New York      |1103.3936530000003|\n",
      "|Ohio          |929.7176649999997 |\n",
      "|Michigan      |877.525986        |\n",
      "|Illinois      |844.5111019999998 |\n",
      "|Arizona       |802.6859789999999 |\n",
      "|Georgia       |714.2304940000004 |\n",
      "|New Jersey    |631.4742640000001 |\n",
      "|Washington    |627.8516569999998 |\n",
      "|Missouri      |561.9260739999999 |\n",
      "|North Carolina|550.260417        |\n",
      "|Virginia      |527.5993649999998 |\n",
      "|Indiana       |514.878626        |\n",
      "|Oklahoma      |417.58269399999995|\n",
      "|South Carolina|416.01077100000003|\n",
      "|Massachusetts |414.21421899999984|\n",
      "|Oregon        |399.11294199999986|\n",
      "+--------------+------------------+\n",
      "only showing top 20 rows\n",
      "\n"
     ]
    },
    {
     "name": "stderr",
     "output_type": "stream",
     "text": [
      "[Stage 260:===================================>                (136 + 10) / 200]\r"
     ]
    },
    {
     "name": "stdout",
     "output_type": "stream",
     "text": [
      "+--------------+------------------+\n",
      "|region        |sum(percentage)   |\n",
      "+--------------+------------------+\n",
      "|California    |48687.855944999974|\n",
      "|Illinois      |38172.46467700003 |\n",
      "|New York      |26841.783957999985|\n",
      "|Texas         |24661.267622999985|\n",
      "|Virginia      |15369.612459      |\n",
      "|Florida       |15162.227890999979|\n",
      "|Pennsylvania  |15116.822450999989|\n",
      "|Washington    |14428.602353999988|\n",
      "|Arizona       |10401.46186199999 |\n",
      "|North Carolina|9932.95607999999  |\n",
      "|Wisconsin     |9573.921769999983 |\n",
      "|Massachusetts |9315.79152799999  |\n",
      "|Colorado      |8962.78844999999  |\n",
      "|Georgia       |8947.865345999984 |\n",
      "|Michigan      |8737.255285999985 |\n",
      "|Minnesota     |8494.904075999999 |\n",
      "|Oregon        |7935.708980999988 |\n",
      "|New Jersey    |7454.361625999994 |\n",
      "|Ohio          |7357.794305999991 |\n",
      "|Maryland      |6681.661013999992 |\n",
      "+--------------+------------------+\n",
      "only showing top 20 rows\n",
      "\n"
     ]
    },
    {
     "name": "stderr",
     "output_type": "stream",
     "text": [
      "                                                                                \r"
     ]
    }
   ],
   "source": [
    "df_r_US_4 = df_r_4.withColumn(\"region_distribution_x\", arrays_zip(\"region_distribution.percentage\",\"region_distribution.region\")).select(\"ad_creative_link_title\", explode(\"region_distribution\").alias(\"t_region_distribution\")).select(\"ad_creative_link_title\", \"t_region_distribution.percentage\", \"t_region_distribution.region\").withColumn(\"percentage\",col(\"percentage\").cast('double')).groupby(\"region\").sum('percentage').orderBy(\"sum(percentage)\", ascending=False).where('region = \"Alabama\" or region = \"Alaska\" or region = \"Arizona\" or region = \"Arkansas\" or region = \"California\" or region = \"Colorado\" or region = \"Connecticut\" or region = \"Delaware\" or region = \"Florida\" or region = \"Georgia\" or region = \"Hawaii\" or region = \"Idaho\" or region = \"Illinois\" or region = \"Indiana\" or region = \"Iowa\" or region = \"Kansas\" or region = \"Kentucky\" or region = \"Louisiana\" or region = \"Maine\" or region = \"Maryland\" or region = \"Massachusetts\" or region = \"Michigan\" or region = \"Minnesota\" or region = \"Mississippi\" or region = \"Missouri\" or region = \"Montana\" or region = \"Nebraska\" or region = \"Nevada\" or region = \"New Hampshire\" or region = \"New Jersey\" or region = \"New Mexico\" or region = \"New York\" or region = \"North Carolina\" or region = \"North Dakota\" or region = \"Ohio\" or region = \"Oklahoma\" or region = \"Oregon\" or region = \"Pennsylvania\" or region = \"Rhode Island\" or region = \"South Carolina\" or region = \"South Dakota\" or region = \"Tennessee\" or region = \"Texas\" or region = \"Utah\" or region = \"Vermont\" or region = \"Virginia\" or region = \"Washington\" or region = \"West Virginia\" or region = \"Wisconsin\" or region = \"Wyoming\"')\n",
    "df_r_US_4.show(truncate=False)\n",
    "df_b_US_4 = df_b_4.withColumn(\"region_distribution_x\", arrays_zip(\"region_distribution.percentage\",\"region_distribution.region\")).select(\"ad_creative_link_title\", explode(\"region_distribution\").alias(\"t_region_distribution\")).select(\"ad_creative_link_title\", \"t_region_distribution.percentage\", \"t_region_distribution.region\").withColumn(\"percentage\",col(\"percentage\").cast('double')).groupby(\"region\").sum('percentage').orderBy(\"sum(percentage)\", ascending=False).where('region = \"Alabama\" or region = \"Alaska\" or region = \"Arizona\" or region = \"Arkansas\" or region = \"California\" or region = \"Colorado\" or region = \"Connecticut\" or region = \"Delaware\" or region = \"Florida\" or region = \"Georgia\" or region = \"Hawaii\" or region = \"Idaho\" or region = \"Illinois\" or region = \"Indiana\" or region = \"Iowa\" or region = \"Kansas\" or region = \"Kentucky\" or region = \"Louisiana\" or region = \"Maine\" or region = \"Maryland\" or region = \"Massachusetts\" or region = \"Michigan\" or region = \"Minnesota\" or region = \"Mississippi\" or region = \"Missouri\" or region = \"Montana\" or region = \"Nebraska\" or region = \"Nevada\" or region = \"New Hampshire\" or region = \"New Jersey\" or region = \"New Mexico\" or region = \"New York\" or region = \"North Carolina\" or region = \"North Dakota\" or region = \"Ohio\" or region = \"Oklahoma\" or region = \"Oregon\" or region = \"Pennsylvania\" or region = \"Rhode Island\" or region = \"South Carolina\" or region = \"South Dakota\" or region = \"Tennessee\" or region = \"Texas\" or region = \"Utah\" or region = \"Vermont\" or region = \"Virginia\" or region = \"Washington\" or region = \"West Virginia\" or region = \"Wisconsin\" or region = \"Wyoming\"')\n",
    "df_b_US_4.show(truncate=False)"
   ]
  },
  {
   "cell_type": "code",
   "execution_count": 153,
   "id": "ed687026",
   "metadata": {},
   "outputs": [
    {
     "name": "stderr",
     "output_type": "stream",
     "text": [
      "                                                                                \r"
     ]
    },
    {
     "name": "stdout",
     "output_type": "stream",
     "text": [
      "+--------------+------------------+\n",
      "|region        |sum(percentage)   |\n",
      "+--------------+------------------+\n",
      "|Texas         |1295.862253       |\n",
      "|Pennsylvania  |513.5439430000001 |\n",
      "|California    |449.7308479999999 |\n",
      "|Florida       |372.0058159999999 |\n",
      "|Michigan      |220.63865200000006|\n",
      "|Arizona       |211.15502400000005|\n",
      "|New York      |201.7317610000001 |\n",
      "|Ohio          |198.78694600000006|\n",
      "|Illinois      |189.25429400000002|\n",
      "|Tennessee     |154.33822599999996|\n",
      "|North Carolina|142.24664600000003|\n",
      "|Georgia       |140.222085        |\n",
      "|Alabama       |130.137698        |\n",
      "|Indiana       |128.53230399999998|\n",
      "|Missouri      |128.02764099999996|\n",
      "|Virginia      |109.20130900000002|\n",
      "|Washington    |107.92996899999997|\n",
      "|Massachusetts |104.75088399999997|\n",
      "|South Carolina|104.54144200000002|\n",
      "|New Jersey    |87.44138200000003 |\n",
      "+--------------+------------------+\n",
      "only showing top 20 rows\n",
      "\n"
     ]
    },
    {
     "name": "stderr",
     "output_type": "stream",
     "text": [
      "[Stage 264:==================================================>  (191 + 2) / 200]\r"
     ]
    },
    {
     "name": "stdout",
     "output_type": "stream",
     "text": [
      "+--------------+------------------+\n",
      "|region        |sum(percentage)   |\n",
      "+--------------+------------------+\n",
      "|California    |32479.218888      |\n",
      "|New York      |15266.17798299998 |\n",
      "|Texas         |13872.04150099998 |\n",
      "|Florida       |10993.298219999984|\n",
      "|Pennsylvania  |9856.824060999985 |\n",
      "|Washington    |8925.82246099999  |\n",
      "|Virginia      |8701.53101899999  |\n",
      "|Illinois      |7976.834289999985 |\n",
      "|Oregon        |6006.751994999995 |\n",
      "|Colorado      |5967.360150999993 |\n",
      "|North Carolina|5963.357042999989 |\n",
      "|Massachusetts |5790.216167999993 |\n",
      "|Ohio          |5621.506999999992 |\n",
      "|New Jersey    |5559.209470999995 |\n",
      "|Michigan      |5245.796229999993 |\n",
      "|Arizona       |4769.478117999996 |\n",
      "|Georgia       |4696.957837999992 |\n",
      "|Maryland      |4688.169677999996 |\n",
      "|Minnesota     |4681.766050999997 |\n",
      "|Wisconsin     |3461.9057889999985|\n",
      "+--------------+------------------+\n",
      "only showing top 20 rows\n",
      "\n"
     ]
    },
    {
     "name": "stderr",
     "output_type": "stream",
     "text": [
      "                                                                                \r"
     ]
    }
   ],
   "source": [
    "df_r_US_5 = df_r_5.withColumn(\"region_distribution_x\", arrays_zip(\"region_distribution.percentage\",\"region_distribution.region\")).select(\"ad_creative_link_title\", explode(\"region_distribution\").alias(\"t_region_distribution\")).select(\"ad_creative_link_title\", \"t_region_distribution.percentage\", \"t_region_distribution.region\").withColumn(\"percentage\",col(\"percentage\").cast('double')).groupby(\"region\").sum('percentage').orderBy(\"sum(percentage)\", ascending=False).where('region = \"Alabama\" or region = \"Alaska\" or region = \"Arizona\" or region = \"Arkansas\" or region = \"California\" or region = \"Colorado\" or region = \"Connecticut\" or region = \"Delaware\" or region = \"Florida\" or region = \"Georgia\" or region = \"Hawaii\" or region = \"Idaho\" or region = \"Illinois\" or region = \"Indiana\" or region = \"Iowa\" or region = \"Kansas\" or region = \"Kentucky\" or region = \"Louisiana\" or region = \"Maine\" or region = \"Maryland\" or region = \"Massachusetts\" or region = \"Michigan\" or region = \"Minnesota\" or region = \"Mississippi\" or region = \"Missouri\" or region = \"Montana\" or region = \"Nebraska\" or region = \"Nevada\" or region = \"New Hampshire\" or region = \"New Jersey\" or region = \"New Mexico\" or region = \"New York\" or region = \"North Carolina\" or region = \"North Dakota\" or region = \"Ohio\" or region = \"Oklahoma\" or region = \"Oregon\" or region = \"Pennsylvania\" or region = \"Rhode Island\" or region = \"South Carolina\" or region = \"South Dakota\" or region = \"Tennessee\" or region = \"Texas\" or region = \"Utah\" or region = \"Vermont\" or region = \"Virginia\" or region = \"Washington\" or region = \"West Virginia\" or region = \"Wisconsin\" or region = \"Wyoming\"')\n",
    "df_r_US_5.show(truncate=False)\n",
    "df_b_US_5 = df_b_5.withColumn(\"region_distribution_x\", arrays_zip(\"region_distribution.percentage\",\"region_distribution.region\")).select(\"ad_creative_link_title\", explode(\"region_distribution\").alias(\"t_region_distribution\")).select(\"ad_creative_link_title\", \"t_region_distribution.percentage\", \"t_region_distribution.region\").withColumn(\"percentage\",col(\"percentage\").cast('double')).groupby(\"region\").sum('percentage').orderBy(\"sum(percentage)\", ascending=False).where('region = \"Alabama\" or region = \"Alaska\" or region = \"Arizona\" or region = \"Arkansas\" or region = \"California\" or region = \"Colorado\" or region = \"Connecticut\" or region = \"Delaware\" or region = \"Florida\" or region = \"Georgia\" or region = \"Hawaii\" or region = \"Idaho\" or region = \"Illinois\" or region = \"Indiana\" or region = \"Iowa\" or region = \"Kansas\" or region = \"Kentucky\" or region = \"Louisiana\" or region = \"Maine\" or region = \"Maryland\" or region = \"Massachusetts\" or region = \"Michigan\" or region = \"Minnesota\" or region = \"Mississippi\" or region = \"Missouri\" or region = \"Montana\" or region = \"Nebraska\" or region = \"Nevada\" or region = \"New Hampshire\" or region = \"New Jersey\" or region = \"New Mexico\" or region = \"New York\" or region = \"North Carolina\" or region = \"North Dakota\" or region = \"Ohio\" or region = \"Oklahoma\" or region = \"Oregon\" or region = \"Pennsylvania\" or region = \"Rhode Island\" or region = \"South Carolina\" or region = \"South Dakota\" or region = \"Tennessee\" or region = \"Texas\" or region = \"Utah\" or region = \"Vermont\" or region = \"Virginia\" or region = \"Washington\" or region = \"West Virginia\" or region = \"Wisconsin\" or region = \"Wyoming\"')\n",
    "df_b_US_5.show(truncate=False)"
   ]
  },
  {
   "cell_type": "code",
   "execution_count": 154,
   "id": "0ac2ffb6",
   "metadata": {},
   "outputs": [
    {
     "name": "stderr",
     "output_type": "stream",
     "text": [
      "                                                                                \r"
     ]
    },
    {
     "name": "stdout",
     "output_type": "stream",
     "text": [
      "+--------------+------------------+\n",
      "|region        |sum(percentage)   |\n",
      "+--------------+------------------+\n",
      "|Texas         |2446.881236       |\n",
      "|Florida       |1157.3199020000004|\n",
      "|Indiana       |1124.4110619999994|\n",
      "|California    |1074.2574380000005|\n",
      "|Pennsylvania  |1033.5764970000002|\n",
      "|Ohio          |973.0044600000001 |\n",
      "|Michigan      |739.0524589999999 |\n",
      "|New York      |657.3766869999998 |\n",
      "|North Carolina|631.224301        |\n",
      "|Tennessee     |551.8716780000001 |\n",
      "|Georgia       |543.4285689999997 |\n",
      "|Arizona       |517.281119        |\n",
      "|Illinois      |513.1270999999998 |\n",
      "|Missouri      |502.60756099999963|\n",
      "|Alabama       |442.510331        |\n",
      "|Virginia      |416.73786600000017|\n",
      "|Kentucky      |387.3990699999998 |\n",
      "|South Carolina|354.7140900000003 |\n",
      "|Washington    |332.21163999999993|\n",
      "|Wisconsin     |328.01335699999987|\n",
      "+--------------+------------------+\n",
      "only showing top 20 rows\n",
      "\n"
     ]
    },
    {
     "name": "stderr",
     "output_type": "stream",
     "text": [
      "[Stage 268:===============================================>     (179 + 2) / 200]\r"
     ]
    },
    {
     "name": "stdout",
     "output_type": "stream",
     "text": [
      "+--------------+------------------+\n",
      "|region        |sum(percentage)   |\n",
      "+--------------+------------------+\n",
      "|California    |55187.930734000125|\n",
      "|Texas         |26776.825923      |\n",
      "|New York      |24038.960045999993|\n",
      "|Florida       |20923.480085999996|\n",
      "|Pennsylvania  |19030.96847500002 |\n",
      "|Arizona       |17892.90988599999 |\n",
      "|Washington    |14131.520833999977|\n",
      "|North Carolina|13392.589597999988|\n",
      "|Illinois      |13335.256629999978|\n",
      "|Virginia      |12848.056527999988|\n",
      "|Ohio          |11207.806811999983|\n",
      "|Colorado      |11021.148113999981|\n",
      "|Massachusetts |10861.226162999985|\n",
      "|Michigan      |9981.05608899998  |\n",
      "|Oregon        |9897.521769999987 |\n",
      "|New Jersey    |9445.360340999976 |\n",
      "|Maryland      |8505.388560999987 |\n",
      "|Minnesota     |7969.929726999987 |\n",
      "|Georgia       |7787.424013999985 |\n",
      "|Missouri      |7382.776465999985 |\n",
      "+--------------+------------------+\n",
      "only showing top 20 rows\n",
      "\n"
     ]
    },
    {
     "name": "stderr",
     "output_type": "stream",
     "text": [
      "                                                                                \r"
     ]
    }
   ],
   "source": [
    "df_r_US_6 = df_r_6.withColumn(\"region_distribution_x\", arrays_zip(\"region_distribution.percentage\",\"region_distribution.region\")).select(\"ad_creative_link_title\", explode(\"region_distribution\").alias(\"t_region_distribution\")).select(\"ad_creative_link_title\", \"t_region_distribution.percentage\", \"t_region_distribution.region\").withColumn(\"percentage\",col(\"percentage\").cast('double')).groupby(\"region\").sum('percentage').orderBy(\"sum(percentage)\", ascending=False).where('region = \"Alabama\" or region = \"Alaska\" or region = \"Arizona\" or region = \"Arkansas\" or region = \"California\" or region = \"Colorado\" or region = \"Connecticut\" or region = \"Delaware\" or region = \"Florida\" or region = \"Georgia\" or region = \"Hawaii\" or region = \"Idaho\" or region = \"Illinois\" or region = \"Indiana\" or region = \"Iowa\" or region = \"Kansas\" or region = \"Kentucky\" or region = \"Louisiana\" or region = \"Maine\" or region = \"Maryland\" or region = \"Massachusetts\" or region = \"Michigan\" or region = \"Minnesota\" or region = \"Mississippi\" or region = \"Missouri\" or region = \"Montana\" or region = \"Nebraska\" or region = \"Nevada\" or region = \"New Hampshire\" or region = \"New Jersey\" or region = \"New Mexico\" or region = \"New York\" or region = \"North Carolina\" or region = \"North Dakota\" or region = \"Ohio\" or region = \"Oklahoma\" or region = \"Oregon\" or region = \"Pennsylvania\" or region = \"Rhode Island\" or region = \"South Carolina\" or region = \"South Dakota\" or region = \"Tennessee\" or region = \"Texas\" or region = \"Utah\" or region = \"Vermont\" or region = \"Virginia\" or region = \"Washington\" or region = \"West Virginia\" or region = \"Wisconsin\" or region = \"Wyoming\"')\n",
    "df_r_US_6.show(truncate=False)\n",
    "df_b_US_6 = df_b_6.withColumn(\"region_distribution_x\", arrays_zip(\"region_distribution.percentage\",\"region_distribution.region\")).select(\"ad_creative_link_title\", explode(\"region_distribution\").alias(\"t_region_distribution\")).select(\"ad_creative_link_title\", \"t_region_distribution.percentage\", \"t_region_distribution.region\").withColumn(\"percentage\",col(\"percentage\").cast('double')).groupby(\"region\").sum('percentage').orderBy(\"sum(percentage)\", ascending=False).where('region = \"Alabama\" or region = \"Alaska\" or region = \"Arizona\" or region = \"Arkansas\" or region = \"California\" or region = \"Colorado\" or region = \"Connecticut\" or region = \"Delaware\" or region = \"Florida\" or region = \"Georgia\" or region = \"Hawaii\" or region = \"Idaho\" or region = \"Illinois\" or region = \"Indiana\" or region = \"Iowa\" or region = \"Kansas\" or region = \"Kentucky\" or region = \"Louisiana\" or region = \"Maine\" or region = \"Maryland\" or region = \"Massachusetts\" or region = \"Michigan\" or region = \"Minnesota\" or region = \"Mississippi\" or region = \"Missouri\" or region = \"Montana\" or region = \"Nebraska\" or region = \"Nevada\" or region = \"New Hampshire\" or region = \"New Jersey\" or region = \"New Mexico\" or region = \"New York\" or region = \"North Carolina\" or region = \"North Dakota\" or region = \"Ohio\" or region = \"Oklahoma\" or region = \"Oregon\" or region = \"Pennsylvania\" or region = \"Rhode Island\" or region = \"South Carolina\" or region = \"South Dakota\" or region = \"Tennessee\" or region = \"Texas\" or region = \"Utah\" or region = \"Vermont\" or region = \"Virginia\" or region = \"Washington\" or region = \"West Virginia\" or region = \"Wisconsin\" or region = \"Wyoming\"')\n",
    "df_b_US_6.show(truncate=False)"
   ]
  },
  {
   "cell_type": "code",
   "execution_count": 155,
   "id": "79d0c12d",
   "metadata": {},
   "outputs": [
    {
     "name": "stderr",
     "output_type": "stream",
     "text": [
      "                                                                                \r"
     ]
    },
    {
     "name": "stdout",
     "output_type": "stream",
     "text": [
      "+--------------+------------------+\n",
      "|region        |sum(percentage)   |\n",
      "+--------------+------------------+\n",
      "|Texas         |1647.1411289999999|\n",
      "|Indiana       |834.450645        |\n",
      "|Pennsylvania  |579.8460510000001 |\n",
      "|Arizona       |524.668786        |\n",
      "|California    |468.86799400000007|\n",
      "|Florida       |460.72286199999996|\n",
      "|Ohio          |354.9128490000001 |\n",
      "|Michigan      |312.124138        |\n",
      "|New York      |260.90937299999996|\n",
      "|North Carolina|228.32582         |\n",
      "|Illinois      |221.22732299999998|\n",
      "|Georgia       |219.86901400000005|\n",
      "|Tennessee     |215.91484799999995|\n",
      "|Missouri      |195.57658800000004|\n",
      "|Alabama       |184.69339099999996|\n",
      "|Virginia      |167.11052199999995|\n",
      "|South Carolina|151.67963899999998|\n",
      "|Kentucky      |150.40636300000003|\n",
      "|Washington    |147.66782000000003|\n",
      "|Oklahoma      |132.43132500000002|\n",
      "+--------------+------------------+\n",
      "only showing top 20 rows\n",
      "\n"
     ]
    },
    {
     "name": "stderr",
     "output_type": "stream",
     "text": [
      "[Stage 272:===============================================>     (180 + 3) / 200]\r"
     ]
    },
    {
     "name": "stdout",
     "output_type": "stream",
     "text": [
      "+--------------+------------------+\n",
      "|region        |sum(percentage)   |\n",
      "+--------------+------------------+\n",
      "|California    |42586.546871000035|\n",
      "|Texas         |19816.005422999995|\n",
      "|New York      |15691.155493999975|\n",
      "|Arizona       |15597.316187999986|\n",
      "|Florida       |14990.642006999977|\n",
      "|Virginia      |10303.840811999988|\n",
      "|Washington    |9629.650937999982 |\n",
      "|Pennsylvania  |9618.509772999982 |\n",
      "|Colorado      |8929.703646999988 |\n",
      "|Illinois      |8473.336302999987 |\n",
      "|Massachusetts |8411.831095999985 |\n",
      "|Maryland      |7252.919651999989 |\n",
      "|North Carolina|7250.439387999986 |\n",
      "|Ohio          |7132.286689999991 |\n",
      "|Michigan      |6437.1171009999925|\n",
      "|New Jersey    |6348.5390259999895|\n",
      "|Oregon        |6251.191845999995 |\n",
      "|Georgia       |6011.8123019999975|\n",
      "|Minnesota     |4802.568373999997 |\n",
      "|Missouri      |4638.851973999996 |\n",
      "+--------------+------------------+\n",
      "only showing top 20 rows\n",
      "\n"
     ]
    },
    {
     "name": "stderr",
     "output_type": "stream",
     "text": [
      "                                                                                \r"
     ]
    }
   ],
   "source": [
    "df_r_US_7 = df_r_7.withColumn(\"region_distribution_x\", arrays_zip(\"region_distribution.percentage\",\"region_distribution.region\")).select(\"ad_creative_link_title\", explode(\"region_distribution\").alias(\"t_region_distribution\")).select(\"ad_creative_link_title\", \"t_region_distribution.percentage\", \"t_region_distribution.region\").withColumn(\"percentage\",col(\"percentage\").cast('double')).groupby(\"region\").sum('percentage').orderBy(\"sum(percentage)\", ascending=False).where('region = \"Alabama\" or region = \"Alaska\" or region = \"Arizona\" or region = \"Arkansas\" or region = \"California\" or region = \"Colorado\" or region = \"Connecticut\" or region = \"Delaware\" or region = \"Florida\" or region = \"Georgia\" or region = \"Hawaii\" or region = \"Idaho\" or region = \"Illinois\" or region = \"Indiana\" or region = \"Iowa\" or region = \"Kansas\" or region = \"Kentucky\" or region = \"Louisiana\" or region = \"Maine\" or region = \"Maryland\" or region = \"Massachusetts\" or region = \"Michigan\" or region = \"Minnesota\" or region = \"Mississippi\" or region = \"Missouri\" or region = \"Montana\" or region = \"Nebraska\" or region = \"Nevada\" or region = \"New Hampshire\" or region = \"New Jersey\" or region = \"New Mexico\" or region = \"New York\" or region = \"North Carolina\" or region = \"North Dakota\" or region = \"Ohio\" or region = \"Oklahoma\" or region = \"Oregon\" or region = \"Pennsylvania\" or region = \"Rhode Island\" or region = \"South Carolina\" or region = \"South Dakota\" or region = \"Tennessee\" or region = \"Texas\" or region = \"Utah\" or region = \"Vermont\" or region = \"Virginia\" or region = \"Washington\" or region = \"West Virginia\" or region = \"Wisconsin\" or region = \"Wyoming\"')\n",
    "df_r_US_7.show(truncate=False)\n",
    "df_b_US_7 = df_b_7.withColumn(\"region_distribution_x\", arrays_zip(\"region_distribution.percentage\",\"region_distribution.region\")).select(\"ad_creative_link_title\", explode(\"region_distribution\").alias(\"t_region_distribution\")).select(\"ad_creative_link_title\", \"t_region_distribution.percentage\", \"t_region_distribution.region\").withColumn(\"percentage\",col(\"percentage\").cast('double')).groupby(\"region\").sum('percentage').orderBy(\"sum(percentage)\", ascending=False).where('region = \"Alabama\" or region = \"Alaska\" or region = \"Arizona\" or region = \"Arkansas\" or region = \"California\" or region = \"Colorado\" or region = \"Connecticut\" or region = \"Delaware\" or region = \"Florida\" or region = \"Georgia\" or region = \"Hawaii\" or region = \"Idaho\" or region = \"Illinois\" or region = \"Indiana\" or region = \"Iowa\" or region = \"Kansas\" or region = \"Kentucky\" or region = \"Louisiana\" or region = \"Maine\" or region = \"Maryland\" or region = \"Massachusetts\" or region = \"Michigan\" or region = \"Minnesota\" or region = \"Mississippi\" or region = \"Missouri\" or region = \"Montana\" or region = \"Nebraska\" or region = \"Nevada\" or region = \"New Hampshire\" or region = \"New Jersey\" or region = \"New Mexico\" or region = \"New York\" or region = \"North Carolina\" or region = \"North Dakota\" or region = \"Ohio\" or region = \"Oklahoma\" or region = \"Oregon\" or region = \"Pennsylvania\" or region = \"Rhode Island\" or region = \"South Carolina\" or region = \"South Dakota\" or region = \"Tennessee\" or region = \"Texas\" or region = \"Utah\" or region = \"Vermont\" or region = \"Virginia\" or region = \"Washington\" or region = \"West Virginia\" or region = \"Wisconsin\" or region = \"Wyoming\"')\n",
    "df_b_US_7.show(truncate=False)"
   ]
  },
  {
   "cell_type": "code",
   "execution_count": 156,
   "id": "7adee835",
   "metadata": {},
   "outputs": [
    {
     "name": "stderr",
     "output_type": "stream",
     "text": [
      "                                                                                \r"
     ]
    },
    {
     "name": "stdout",
     "output_type": "stream",
     "text": [
      "+--------------+------------------+\n",
      "|region        |sum(percentage)   |\n",
      "+--------------+------------------+\n",
      "|Indiana       |969.7117860000002 |\n",
      "|Texas         |805.3712139999998 |\n",
      "|Pennsylvania  |288.3442830000001 |\n",
      "|California    |275.923225        |\n",
      "|Florida       |254.104547        |\n",
      "|Michigan      |161.62719600000003|\n",
      "|Ohio          |154.22623599999994|\n",
      "|New York      |139.00634499999998|\n",
      "|North Carolina|112.07082699999998|\n",
      "|Illinois      |111.30702500000004|\n",
      "|Georgia       |107.577793        |\n",
      "|Tennessee     |101.17041199999994|\n",
      "|Missouri      |95.53016099999999 |\n",
      "|Washington    |92.861318         |\n",
      "|Arizona       |85.45161000000003 |\n",
      "|Massachusetts |79.070252         |\n",
      "|Virginia      |77.07478499999998 |\n",
      "|Kentucky      |71.171499         |\n",
      "|New Jersey    |70.472817         |\n",
      "|South Carolina|68.17003999999999 |\n",
      "+--------------+------------------+\n",
      "only showing top 20 rows\n",
      "\n"
     ]
    },
    {
     "name": "stderr",
     "output_type": "stream",
     "text": [
      "[Stage 276:====================================================>(199 + 1) / 200]\r"
     ]
    },
    {
     "name": "stdout",
     "output_type": "stream",
     "text": [
      "+--------------+------------------+\n",
      "|region        |sum(percentage)   |\n",
      "+--------------+------------------+\n",
      "|California    |33812.711665999996|\n",
      "|Texas         |15767.698270999994|\n",
      "|Florida       |14271.67498399999 |\n",
      "|New York      |12747.442123999966|\n",
      "|Arizona       |10966.16474099999 |\n",
      "|North Carolina|9366.855821999985 |\n",
      "|Virginia      |8925.975587999992 |\n",
      "|Washington    |8800.726845999992 |\n",
      "|Pennsylvania  |8202.902387999993 |\n",
      "|Massachusetts |6655.4574349999975|\n",
      "|Illinois      |6540.723452999993 |\n",
      "|Ohio          |6056.139494999993 |\n",
      "|Colorado      |5737.810289999995 |\n",
      "|Michigan      |5664.147185999994 |\n",
      "|Maryland      |5540.705210999995 |\n",
      "|New Jersey    |5005.206722999995 |\n",
      "|Oregon        |4928.288079999996 |\n",
      "|Georgia       |4459.007956999999 |\n",
      "|Missouri      |4317.297437999998 |\n",
      "|Iowa          |4151.831270999997 |\n",
      "+--------------+------------------+\n",
      "only showing top 20 rows\n",
      "\n"
     ]
    },
    {
     "name": "stderr",
     "output_type": "stream",
     "text": [
      "                                                                                \r"
     ]
    }
   ],
   "source": [
    "df_r_US_8 = df_r_8.withColumn(\"region_distribution_x\", arrays_zip(\"region_distribution.percentage\",\"region_distribution.region\")).select(\"ad_creative_link_title\", explode(\"region_distribution\").alias(\"t_region_distribution\")).select(\"ad_creative_link_title\", \"t_region_distribution.percentage\", \"t_region_distribution.region\").withColumn(\"percentage\",col(\"percentage\").cast('double')).groupby(\"region\").sum('percentage').orderBy(\"sum(percentage)\", ascending=False).where('region = \"Alabama\" or region = \"Alaska\" or region = \"Arizona\" or region = \"Arkansas\" or region = \"California\" or region = \"Colorado\" or region = \"Connecticut\" or region = \"Delaware\" or region = \"Florida\" or region = \"Georgia\" or region = \"Hawaii\" or region = \"Idaho\" or region = \"Illinois\" or region = \"Indiana\" or region = \"Iowa\" or region = \"Kansas\" or region = \"Kentucky\" or region = \"Louisiana\" or region = \"Maine\" or region = \"Maryland\" or region = \"Massachusetts\" or region = \"Michigan\" or region = \"Minnesota\" or region = \"Mississippi\" or region = \"Missouri\" or region = \"Montana\" or region = \"Nebraska\" or region = \"Nevada\" or region = \"New Hampshire\" or region = \"New Jersey\" or region = \"New Mexico\" or region = \"New York\" or region = \"North Carolina\" or region = \"North Dakota\" or region = \"Ohio\" or region = \"Oklahoma\" or region = \"Oregon\" or region = \"Pennsylvania\" or region = \"Rhode Island\" or region = \"South Carolina\" or region = \"South Dakota\" or region = \"Tennessee\" or region = \"Texas\" or region = \"Utah\" or region = \"Vermont\" or region = \"Virginia\" or region = \"Washington\" or region = \"West Virginia\" or region = \"Wisconsin\" or region = \"Wyoming\"')\n",
    "df_r_US_8.show(truncate=False)\n",
    "df_b_US_8 = df_b_8.withColumn(\"region_distribution_x\", arrays_zip(\"region_distribution.percentage\",\"region_distribution.region\")).select(\"ad_creative_link_title\", explode(\"region_distribution\").alias(\"t_region_distribution\")).select(\"ad_creative_link_title\", \"t_region_distribution.percentage\", \"t_region_distribution.region\").withColumn(\"percentage\",col(\"percentage\").cast('double')).groupby(\"region\").sum('percentage').orderBy(\"sum(percentage)\", ascending=False).where('region = \"Alabama\" or region = \"Alaska\" or region = \"Arizona\" or region = \"Arkansas\" or region = \"California\" or region = \"Colorado\" or region = \"Connecticut\" or region = \"Delaware\" or region = \"Florida\" or region = \"Georgia\" or region = \"Hawaii\" or region = \"Idaho\" or region = \"Illinois\" or region = \"Indiana\" or region = \"Iowa\" or region = \"Kansas\" or region = \"Kentucky\" or region = \"Louisiana\" or region = \"Maine\" or region = \"Maryland\" or region = \"Massachusetts\" or region = \"Michigan\" or region = \"Minnesota\" or region = \"Mississippi\" or region = \"Missouri\" or region = \"Montana\" or region = \"Nebraska\" or region = \"Nevada\" or region = \"New Hampshire\" or region = \"New Jersey\" or region = \"New Mexico\" or region = \"New York\" or region = \"North Carolina\" or region = \"North Dakota\" or region = \"Ohio\" or region = \"Oklahoma\" or region = \"Oregon\" or region = \"Pennsylvania\" or region = \"Rhode Island\" or region = \"South Carolina\" or region = \"South Dakota\" or region = \"Tennessee\" or region = \"Texas\" or region = \"Utah\" or region = \"Vermont\" or region = \"Virginia\" or region = \"Washington\" or region = \"West Virginia\" or region = \"Wisconsin\" or region = \"Wyoming\"')\n",
    "df_b_US_8.show(truncate=False)"
   ]
  },
  {
   "cell_type": "code",
   "execution_count": 157,
   "id": "6de81680",
   "metadata": {},
   "outputs": [
    {
     "name": "stderr",
     "output_type": "stream",
     "text": [
      "                                                                                \r"
     ]
    },
    {
     "name": "stdout",
     "output_type": "stream",
     "text": [
      "+--------------+------------------+\n",
      "|region        |sum(percentage)   |\n",
      "+--------------+------------------+\n",
      "|Florida       |197.14821799999993|\n",
      "|Texas         |194.486392        |\n",
      "|California    |181.22170200000002|\n",
      "|Indiana       |179.94753400000002|\n",
      "|Pennsylvania  |113.08143799999996|\n",
      "|Ohio          |105.52817699999997|\n",
      "|New York      |104.34491         |\n",
      "|Michigan      |85.30513700000002 |\n",
      "|Georgia       |78.1326           |\n",
      "|North Carolina|73.115395         |\n",
      "|Illinois      |69.81359500000002 |\n",
      "|Washington    |66.25116100000001 |\n",
      "|Virginia      |64.843131         |\n",
      "|Arizona       |64.50831700000003 |\n",
      "|New Jersey    |60.462392         |\n",
      "|Missouri      |59.45880200000001 |\n",
      "|Tennessee     |58.16733299999997 |\n",
      "|South Carolina|45.49101300000002 |\n",
      "|Alabama       |38.099638999999996|\n",
      "|Colorado      |37.956139000000015|\n",
      "+--------------+------------------+\n",
      "only showing top 20 rows\n",
      "\n"
     ]
    },
    {
     "name": "stderr",
     "output_type": "stream",
     "text": [
      "2022-05-26 14:40:00,644 ERROR cluster.YarnScheduler: Lost executor 701 on ip-100-64-74-246.ap-southeast-2.compute.internal: Container from a bad node: container_1652753568617_3440_01_000948 on host: ip-100-64-74-246.ap-southeast-2.compute.internal. Exit status: 143. Diagnostics: [2022-05-26 14:39:48.472]Container killed on request. Exit code is 143\n",
      "[2022-05-26 14:39:48.543]Container exited with a non-zero exit code 143. \n",
      "[2022-05-26 14:39:48.543]Killed by external signal\n",
      ".\n",
      "2022-05-26 14:40:00,647 WARN scheduler.TaskSetManager: Lost task 16.0 in stage 279.0 (TID 11818) (ip-100-64-74-246.ap-southeast-2.compute.internal executor 701): ExecutorLostFailure (executor 701 exited caused by one of the running tasks) Reason: Container from a bad node: container_1652753568617_3440_01_000948 on host: ip-100-64-74-246.ap-southeast-2.compute.internal. Exit status: 143. Diagnostics: [2022-05-26 14:39:48.472]Container killed on request. Exit code is 143\n",
      "[2022-05-26 14:39:48.543]Container exited with a non-zero exit code 143. \n",
      "[2022-05-26 14:39:48.543]Killed by external signal\n",
      ".\n",
      "2022-05-26 14:40:00,649 WARN scheduler.TaskSetManager: Lost task 13.0 in stage 279.0 (TID 11817) (ip-100-64-74-246.ap-southeast-2.compute.internal executor 701): ExecutorLostFailure (executor 701 exited caused by one of the running tasks) Reason: Container from a bad node: container_1652753568617_3440_01_000948 on host: ip-100-64-74-246.ap-southeast-2.compute.internal. Exit status: 143. Diagnostics: [2022-05-26 14:39:48.472]Container killed on request. Exit code is 143\n",
      "[2022-05-26 14:39:48.543]Container exited with a non-zero exit code 143. \n",
      "[2022-05-26 14:39:48.543]Killed by external signal\n",
      ".\n",
      "2022-05-26 14:40:00,649 WARN cluster.YarnSchedulerBackend$YarnSchedulerEndpoint: Requesting driver to remove executor 701 for reason Container from a bad node: container_1652753568617_3440_01_000948 on host: ip-100-64-74-246.ap-southeast-2.compute.internal. Exit status: 143. Diagnostics: [2022-05-26 14:39:48.472]Container killed on request. Exit code is 143\n",
      "[2022-05-26 14:39:48.543]Container exited with a non-zero exit code 143. \n",
      "[2022-05-26 14:39:48.543]Killed by external signal\n",
      ".\n",
      "2022-05-26 14:42:09,496 ERROR cluster.YarnScheduler: Lost executor 693 on ip-100-64-74-31.ap-southeast-2.compute.internal: Container from a bad node: container_1652753568617_3440_01_000941 on host: ip-100-64-74-31.ap-southeast-2.compute.internal. Exit status: 143. Diagnostics: [2022-05-26 14:42:00.989]Container killed on request. Exit code is 143\n",
      "[2022-05-26 14:42:01.002]Container exited with a non-zero exit code 143. \n",
      "[2022-05-26 14:42:01.009]Killed by external signal\n",
      ".\n",
      "2022-05-26 14:42:09,497 WARN cluster.YarnSchedulerBackend$YarnSchedulerEndpoint: Requesting driver to remove executor 693 for reason Container from a bad node: container_1652753568617_3440_01_000941 on host: ip-100-64-74-31.ap-southeast-2.compute.internal. Exit status: 143. Diagnostics: [2022-05-26 14:42:00.989]Container killed on request. Exit code is 143\n",
      "[2022-05-26 14:42:01.002]Container exited with a non-zero exit code 143. \n",
      "[2022-05-26 14:42:01.009]Killed by external signal\n",
      ".\n",
      "2022-05-26 14:42:09,497 WARN scheduler.TaskSetManager: Lost task 11.0 in stage 279.0 (TID 11783) (ip-100-64-74-31.ap-southeast-2.compute.internal executor 693): ExecutorLostFailure (executor 693 exited caused by one of the running tasks) Reason: Container from a bad node: container_1652753568617_3440_01_000941 on host: ip-100-64-74-31.ap-southeast-2.compute.internal. Exit status: 143. Diagnostics: [2022-05-26 14:42:00.989]Container killed on request. Exit code is 143\n",
      "[2022-05-26 14:42:01.002]Container exited with a non-zero exit code 143. \n",
      "[2022-05-26 14:42:01.009]Killed by external signal\n",
      ".\n",
      "2022-05-26 14:42:09,498 WARN scheduler.TaskSetManager: Lost task 5.0 in stage 279.0 (TID 11780) (ip-100-64-74-31.ap-southeast-2.compute.internal executor 693): ExecutorLostFailure (executor 693 exited caused by one of the running tasks) Reason: Container from a bad node: container_1652753568617_3440_01_000941 on host: ip-100-64-74-31.ap-southeast-2.compute.internal. Exit status: 143. Diagnostics: [2022-05-26 14:42:00.989]Container killed on request. Exit code is 143\n",
      "[2022-05-26 14:42:01.002]Container exited with a non-zero exit code 143. \n",
      "[2022-05-26 14:42:01.009]Killed by external signal\n",
      ".\n",
      "[Stage 280:====================================================>(199 + 1) / 200]\r"
     ]
    },
    {
     "name": "stdout",
     "output_type": "stream",
     "text": [
      "+--------------+------------------+\n",
      "|region        |sum(percentage)   |\n",
      "+--------------+------------------+\n",
      "|California    |31924.743169999998|\n",
      "|Texas         |15619.895928      |\n",
      "|Florida       |13542.565962999992|\n",
      "|New York      |12135.06519999999 |\n",
      "|North Carolina|9268.075888999989 |\n",
      "|Pennsylvania  |8657.926717999995 |\n",
      "|Washington    |8358.272109999996 |\n",
      "|Arizona       |7383.251734999996 |\n",
      "|Ohio          |6868.459636999992 |\n",
      "|Virginia      |6516.285060999996 |\n",
      "|Illinois      |5971.081433999996 |\n",
      "|Michigan      |5826.019118999998 |\n",
      "|Massachusetts |5596.738913999999 |\n",
      "|Oregon        |5583.287769999995 |\n",
      "|New Jersey    |4806.674085999999 |\n",
      "|Iowa          |4705.557338999997 |\n",
      "|Colorado      |4603.993758999997 |\n",
      "|Maryland      |4173.030025999999 |\n",
      "|Georgia       |3874.06535        |\n",
      "|Missouri      |3731.3452759999986|\n",
      "+--------------+------------------+\n",
      "only showing top 20 rows\n",
      "\n"
     ]
    },
    {
     "name": "stderr",
     "output_type": "stream",
     "text": [
      "                                                                                \r"
     ]
    }
   ],
   "source": [
    "df_r_US_9 = df_r_9.withColumn(\"region_distribution_x\", arrays_zip(\"region_distribution.percentage\",\"region_distribution.region\")).select(\"ad_creative_link_title\", explode(\"region_distribution\").alias(\"t_region_distribution\")).select(\"ad_creative_link_title\", \"t_region_distribution.percentage\", \"t_region_distribution.region\").withColumn(\"percentage\",col(\"percentage\").cast('double')).groupby(\"region\").sum('percentage').orderBy(\"sum(percentage)\", ascending=False).where('region = \"Alabama\" or region = \"Alaska\" or region = \"Arizona\" or region = \"Arkansas\" or region = \"California\" or region = \"Colorado\" or region = \"Connecticut\" or region = \"Delaware\" or region = \"Florida\" or region = \"Georgia\" or region = \"Hawaii\" or region = \"Idaho\" or region = \"Illinois\" or region = \"Indiana\" or region = \"Iowa\" or region = \"Kansas\" or region = \"Kentucky\" or region = \"Louisiana\" or region = \"Maine\" or region = \"Maryland\" or region = \"Massachusetts\" or region = \"Michigan\" or region = \"Minnesota\" or region = \"Mississippi\" or region = \"Missouri\" or region = \"Montana\" or region = \"Nebraska\" or region = \"Nevada\" or region = \"New Hampshire\" or region = \"New Jersey\" or region = \"New Mexico\" or region = \"New York\" or region = \"North Carolina\" or region = \"North Dakota\" or region = \"Ohio\" or region = \"Oklahoma\" or region = \"Oregon\" or region = \"Pennsylvania\" or region = \"Rhode Island\" or region = \"South Carolina\" or region = \"South Dakota\" or region = \"Tennessee\" or region = \"Texas\" or region = \"Utah\" or region = \"Vermont\" or region = \"Virginia\" or region = \"Washington\" or region = \"West Virginia\" or region = \"Wisconsin\" or region = \"Wyoming\"')\n",
    "df_r_US_9.show(truncate=False)\n",
    "df_b_US_9 = df_b_9.withColumn(\"region_distribution_x\", arrays_zip(\"region_distribution.percentage\",\"region_distribution.region\")).select(\"ad_creative_link_title\", explode(\"region_distribution\").alias(\"t_region_distribution\")).select(\"ad_creative_link_title\", \"t_region_distribution.percentage\", \"t_region_distribution.region\").withColumn(\"percentage\",col(\"percentage\").cast('double')).groupby(\"region\").sum('percentage').orderBy(\"sum(percentage)\", ascending=False).where('region = \"Alabama\" or region = \"Alaska\" or region = \"Arizona\" or region = \"Arkansas\" or region = \"California\" or region = \"Colorado\" or region = \"Connecticut\" or region = \"Delaware\" or region = \"Florida\" or region = \"Georgia\" or region = \"Hawaii\" or region = \"Idaho\" or region = \"Illinois\" or region = \"Indiana\" or region = \"Iowa\" or region = \"Kansas\" or region = \"Kentucky\" or region = \"Louisiana\" or region = \"Maine\" or region = \"Maryland\" or region = \"Massachusetts\" or region = \"Michigan\" or region = \"Minnesota\" or region = \"Mississippi\" or region = \"Missouri\" or region = \"Montana\" or region = \"Nebraska\" or region = \"Nevada\" or region = \"New Hampshire\" or region = \"New Jersey\" or region = \"New Mexico\" or region = \"New York\" or region = \"North Carolina\" or region = \"North Dakota\" or region = \"Ohio\" or region = \"Oklahoma\" or region = \"Oregon\" or region = \"Pennsylvania\" or region = \"Rhode Island\" or region = \"South Carolina\" or region = \"South Dakota\" or region = \"Tennessee\" or region = \"Texas\" or region = \"Utah\" or region = \"Vermont\" or region = \"Virginia\" or region = \"Washington\" or region = \"West Virginia\" or region = \"Wisconsin\" or region = \"Wyoming\"')\n",
    "df_b_US_9.show(truncate=False)"
   ]
  },
  {
   "cell_type": "code",
   "execution_count": 159,
   "id": "88cc5c56",
   "metadata": {},
   "outputs": [
    {
     "name": "stderr",
     "output_type": "stream",
     "text": [
      "                                                                                \r"
     ]
    },
    {
     "name": "stdout",
     "output_type": "stream",
     "text": [
      "+--------------+------------------+\n",
      "|region        |sum(percentage)   |\n",
      "+--------------+------------------+\n",
      "|Pennsylvania  |436.1288439999999 |\n",
      "|Florida       |207.59063600000002|\n",
      "|Texas         |206.99009099999998|\n",
      "|California    |182.99658800000014|\n",
      "|Ohio          |108.69880300000003|\n",
      "|New York      |99.01582200000003 |\n",
      "|Michigan      |89.34344200000001 |\n",
      "|Georgia       |84.28334799999996 |\n",
      "|North Carolina|74.09045499999999 |\n",
      "|Illinois      |72.903161         |\n",
      "|New Jersey    |65.69312199999999 |\n",
      "|Arizona       |63.84744400000001 |\n",
      "|Washington    |60.417667000000016|\n",
      "|Missouri      |58.95353399999999 |\n",
      "|Indiana       |57.540803         |\n",
      "|Virginia      |55.74137399999999 |\n",
      "|Tennessee     |54.46271600000001 |\n",
      "|Alabama       |48.00403299999998 |\n",
      "|South Carolina|43.994995000000024|\n",
      "|Minnesota     |38.074415         |\n",
      "+--------------+------------------+\n",
      "only showing top 20 rows\n",
      "\n"
     ]
    },
    {
     "name": "stderr",
     "output_type": "stream",
     "text": [
      "[Stage 284:==================================================>  (189 + 2) / 200]\r"
     ]
    },
    {
     "name": "stdout",
     "output_type": "stream",
     "text": [
      "+--------------+------------------+\n",
      "|region        |sum(percentage)   |\n",
      "+--------------+------------------+\n",
      "|California    |25804.658716999988|\n",
      "|Florida       |11461.795583999996|\n",
      "|Texas         |11206.349627999989|\n",
      "|New York      |10510.300424999994|\n",
      "|Washington    |9198.166511999998 |\n",
      "|Pennsylvania  |9134.626186999996 |\n",
      "|North Carolina|8130.611122999994 |\n",
      "|Virginia      |6610.946558000001 |\n",
      "|Ohio          |6135.914266999995 |\n",
      "|Arizona       |5947.511197999997 |\n",
      "|Michigan      |5309.175140999995 |\n",
      "|Illinois      |5060.6315429999995|\n",
      "|Massachusetts |4730.400447999998 |\n",
      "|New Jersey    |4500.576927999997 |\n",
      "|Oregon        |4066.8441639999987|\n",
      "|Colorado      |3882.209626999998 |\n",
      "|Maryland      |3830.193946999998 |\n",
      "|Kentucky      |3501.1640199999993|\n",
      "|Wisconsin     |3390.4512599999994|\n",
      "|Georgia       |3273.2971900000007|\n",
      "+--------------+------------------+\n",
      "only showing top 20 rows\n",
      "\n"
     ]
    },
    {
     "name": "stderr",
     "output_type": "stream",
     "text": [
      "                                                                                \r"
     ]
    }
   ],
   "source": [
    "df_r_US_10 = df_r_10.withColumn(\"region_distribution_x\", arrays_zip(\"region_distribution.percentage\",\"region_distribution.region\")).select(\"ad_creative_link_title\", explode(\"region_distribution\").alias(\"t_region_distribution\")).select(\"ad_creative_link_title\", \"t_region_distribution.percentage\", \"t_region_distribution.region\").withColumn(\"percentage\",col(\"percentage\").cast('double')).groupby(\"region\").sum('percentage').orderBy(\"sum(percentage)\", ascending=False).where('region = \"Alabama\" or region = \"Alaska\" or region = \"Arizona\" or region = \"Arkansas\" or region = \"California\" or region = \"Colorado\" or region = \"Connecticut\" or region = \"Delaware\" or region = \"Florida\" or region = \"Georgia\" or region = \"Hawaii\" or region = \"Idaho\" or region = \"Illinois\" or region = \"Indiana\" or region = \"Iowa\" or region = \"Kansas\" or region = \"Kentucky\" or region = \"Louisiana\" or region = \"Maine\" or region = \"Maryland\" or region = \"Massachusetts\" or region = \"Michigan\" or region = \"Minnesota\" or region = \"Mississippi\" or region = \"Missouri\" or region = \"Montana\" or region = \"Nebraska\" or region = \"Nevada\" or region = \"New Hampshire\" or region = \"New Jersey\" or region = \"New Mexico\" or region = \"New York\" or region = \"North Carolina\" or region = \"North Dakota\" or region = \"Ohio\" or region = \"Oklahoma\" or region = \"Oregon\" or region = \"Pennsylvania\" or region = \"Rhode Island\" or region = \"South Carolina\" or region = \"South Dakota\" or region = \"Tennessee\" or region = \"Texas\" or region = \"Utah\" or region = \"Vermont\" or region = \"Virginia\" or region = \"Washington\" or region = \"West Virginia\" or region = \"Wisconsin\" or region = \"Wyoming\"')\n",
    "df_r_US_10.show(truncate=False)\n",
    "df_b_US_10 = df_b_10.withColumn(\"region_distribution_x\", arrays_zip(\"region_distribution.percentage\",\"region_distribution.region\")).select(\"ad_creative_link_title\", explode(\"region_distribution\").alias(\"t_region_distribution\")).select(\"ad_creative_link_title\", \"t_region_distribution.percentage\", \"t_region_distribution.region\").withColumn(\"percentage\",col(\"percentage\").cast('double')).groupby(\"region\").sum('percentage').orderBy(\"sum(percentage)\", ascending=False).where('region = \"Alabama\" or region = \"Alaska\" or region = \"Arizona\" or region = \"Arkansas\" or region = \"California\" or region = \"Colorado\" or region = \"Connecticut\" or region = \"Delaware\" or region = \"Florida\" or region = \"Georgia\" or region = \"Hawaii\" or region = \"Idaho\" or region = \"Illinois\" or region = \"Indiana\" or region = \"Iowa\" or region = \"Kansas\" or region = \"Kentucky\" or region = \"Louisiana\" or region = \"Maine\" or region = \"Maryland\" or region = \"Massachusetts\" or region = \"Michigan\" or region = \"Minnesota\" or region = \"Mississippi\" or region = \"Missouri\" or region = \"Montana\" or region = \"Nebraska\" or region = \"Nevada\" or region = \"New Hampshire\" or region = \"New Jersey\" or region = \"New Mexico\" or region = \"New York\" or region = \"North Carolina\" or region = \"North Dakota\" or region = \"Ohio\" or region = \"Oklahoma\" or region = \"Oregon\" or region = \"Pennsylvania\" or region = \"Rhode Island\" or region = \"South Carolina\" or region = \"South Dakota\" or region = \"Tennessee\" or region = \"Texas\" or region = \"Utah\" or region = \"Vermont\" or region = \"Virginia\" or region = \"Washington\" or region = \"West Virginia\" or region = \"Wisconsin\" or region = \"Wyoming\"')\n",
    "df_b_US_10.show(truncate=False)"
   ]
  },
  {
   "cell_type": "code",
   "execution_count": 160,
   "id": "77d9e27c",
   "metadata": {},
   "outputs": [
    {
     "name": "stderr",
     "output_type": "stream",
     "text": [
      "                                                                                \r"
     ]
    },
    {
     "name": "stdout",
     "output_type": "stream",
     "text": [
      "+--------------+------------------+\n",
      "|region        |sum(percentage)   |\n",
      "+--------------+------------------+\n",
      "|Pennsylvania  |3503.3399649999983|\n",
      "|Texas         |421.2494689999998 |\n",
      "|Florida       |398.5987810000001 |\n",
      "|California    |371.1181730000001 |\n",
      "|New York      |201.775202        |\n",
      "|Michigan      |175.62091999999998|\n",
      "|Ohio          |174.2885400000001 |\n",
      "|Georgia       |150.85957400000004|\n",
      "|North Carolina|139.419323        |\n",
      "|Illinois      |135.47316600000002|\n",
      "|New Jersey    |130.21208600000003|\n",
      "|Arizona       |120.80621         |\n",
      "|Virginia      |119.34910500000001|\n",
      "|Washington    |113.18689799999999|\n",
      "|Tennessee     |111.85360000000003|\n",
      "|Missouri      |105.37721         |\n",
      "|Indiana       |96.74973199999998 |\n",
      "|Alabama       |93.38005700000002 |\n",
      "|Louisiana     |77.19467999999999 |\n",
      "|South Carolina|74.41285000000002 |\n",
      "+--------------+------------------+\n",
      "only showing top 20 rows\n",
      "\n"
     ]
    },
    {
     "name": "stderr",
     "output_type": "stream",
     "text": [
      "[Stage 288:=======================================>            (151 + 10) / 200]\r"
     ]
    },
    {
     "name": "stdout",
     "output_type": "stream",
     "text": [
      "+--------------+------------------+\n",
      "|region        |sum(percentage)   |\n",
      "+--------------+------------------+\n",
      "|California    |43357.07188999998 |\n",
      "|Texas         |21300.84411       |\n",
      "|Florida       |17832.56336199999 |\n",
      "|New York      |17038.11189699999 |\n",
      "|Washington    |15228.726317999994|\n",
      "|Pennsylvania  |13248.478418999983|\n",
      "|Michigan      |12704.746906999995|\n",
      "|North Carolina|12320.408722999993|\n",
      "|Ohio          |10988.669788999989|\n",
      "|Illinois      |9475.557083999998 |\n",
      "|Colorado      |8990.803471       |\n",
      "|Virginia      |8504.060063999992 |\n",
      "|Arizona       |7824.459754999989 |\n",
      "|Massachusetts |7672.441394999993 |\n",
      "|New Jersey    |7461.319326999999 |\n",
      "|Oregon        |7277.506440999995 |\n",
      "|Maryland      |6644.817529000001 |\n",
      "|Kentucky      |6506.829466999999 |\n",
      "|Wisconsin     |6365.6796030000005|\n",
      "|Iowa          |5696.526629       |\n",
      "+--------------+------------------+\n",
      "only showing top 20 rows\n",
      "\n"
     ]
    },
    {
     "name": "stderr",
     "output_type": "stream",
     "text": [
      "                                                                                \r"
     ]
    }
   ],
   "source": [
    "df_r_US_11 = df_r_11.withColumn(\"region_distribution_x\", arrays_zip(\"region_distribution.percentage\",\"region_distribution.region\")).select(\"ad_creative_link_title\", explode(\"region_distribution\").alias(\"t_region_distribution\")).select(\"ad_creative_link_title\", \"t_region_distribution.percentage\", \"t_region_distribution.region\").withColumn(\"percentage\",col(\"percentage\").cast('double')).groupby(\"region\").sum('percentage').orderBy(\"sum(percentage)\", ascending=False).where('region = \"Alabama\" or region = \"Alaska\" or region = \"Arizona\" or region = \"Arkansas\" or region = \"California\" or region = \"Colorado\" or region = \"Connecticut\" or region = \"Delaware\" or region = \"Florida\" or region = \"Georgia\" or region = \"Hawaii\" or region = \"Idaho\" or region = \"Illinois\" or region = \"Indiana\" or region = \"Iowa\" or region = \"Kansas\" or region = \"Kentucky\" or region = \"Louisiana\" or region = \"Maine\" or region = \"Maryland\" or region = \"Massachusetts\" or region = \"Michigan\" or region = \"Minnesota\" or region = \"Mississippi\" or region = \"Missouri\" or region = \"Montana\" or region = \"Nebraska\" or region = \"Nevada\" or region = \"New Hampshire\" or region = \"New Jersey\" or region = \"New Mexico\" or region = \"New York\" or region = \"North Carolina\" or region = \"North Dakota\" or region = \"Ohio\" or region = \"Oklahoma\" or region = \"Oregon\" or region = \"Pennsylvania\" or region = \"Rhode Island\" or region = \"South Carolina\" or region = \"South Dakota\" or region = \"Tennessee\" or region = \"Texas\" or region = \"Utah\" or region = \"Vermont\" or region = \"Virginia\" or region = \"Washington\" or region = \"West Virginia\" or region = \"Wisconsin\" or region = \"Wyoming\"')\n",
    "df_r_US_11.show(truncate=False)\n",
    "df_b_US_11 = df_b_11.withColumn(\"region_distribution_x\", arrays_zip(\"region_distribution.percentage\",\"region_distribution.region\")).select(\"ad_creative_link_title\", explode(\"region_distribution\").alias(\"t_region_distribution\")).select(\"ad_creative_link_title\", \"t_region_distribution.percentage\", \"t_region_distribution.region\").withColumn(\"percentage\",col(\"percentage\").cast('double')).groupby(\"region\").sum('percentage').orderBy(\"sum(percentage)\", ascending=False).where('region = \"Alabama\" or region = \"Alaska\" or region = \"Arizona\" or region = \"Arkansas\" or region = \"California\" or region = \"Colorado\" or region = \"Connecticut\" or region = \"Delaware\" or region = \"Florida\" or region = \"Georgia\" or region = \"Hawaii\" or region = \"Idaho\" or region = \"Illinois\" or region = \"Indiana\" or region = \"Iowa\" or region = \"Kansas\" or region = \"Kentucky\" or region = \"Louisiana\" or region = \"Maine\" or region = \"Maryland\" or region = \"Massachusetts\" or region = \"Michigan\" or region = \"Minnesota\" or region = \"Mississippi\" or region = \"Missouri\" or region = \"Montana\" or region = \"Nebraska\" or region = \"Nevada\" or region = \"New Hampshire\" or region = \"New Jersey\" or region = \"New Mexico\" or region = \"New York\" or region = \"North Carolina\" or region = \"North Dakota\" or region = \"Ohio\" or region = \"Oklahoma\" or region = \"Oregon\" or region = \"Pennsylvania\" or region = \"Rhode Island\" or region = \"South Carolina\" or region = \"South Dakota\" or region = \"Tennessee\" or region = \"Texas\" or region = \"Utah\" or region = \"Vermont\" or region = \"Virginia\" or region = \"Washington\" or region = \"West Virginia\" or region = \"Wisconsin\" or region = \"Wyoming\"')\n",
    "df_b_US_11.show(truncate=False)"
   ]
  },
  {
   "cell_type": "code",
   "execution_count": 163,
   "id": "4791675f",
   "metadata": {},
   "outputs": [
    {
     "name": "stderr",
     "output_type": "stream",
     "text": [
      "                                                                                \r"
     ]
    },
    {
     "name": "stdout",
     "output_type": "stream",
     "text": [
      "+--------------+------------------+\n",
      "|region        |sum(percentage)   |\n",
      "+--------------+------------------+\n",
      "|Pennsylvania  |4379.692432       |\n",
      "|Texas         |309.1436449999999 |\n",
      "|Florida       |308.063597        |\n",
      "|California    |280.1975110000001 |\n",
      "|Arizona       |172.26728999999992|\n",
      "|New York      |159.651659        |\n",
      "|Ohio          |141.99499899999995|\n",
      "|Michigan      |137.35531         |\n",
      "|Georgia       |118.57725199999999|\n",
      "|North Carolina|112.25143300000006|\n",
      "|Illinois      |111.662302        |\n",
      "|Virginia      |102.63671499999997|\n",
      "|New Jersey    |95.46697800000004 |\n",
      "|Washington    |88.73330000000003 |\n",
      "|Tennessee     |85.11652999999988 |\n",
      "|Indiana       |82.10532800000003 |\n",
      "|Missouri      |80.43873099999996 |\n",
      "|Wisconsin     |67.76976499999999 |\n",
      "|Minnesota     |64.19633400000001 |\n",
      "|Colorado      |61.467597         |\n",
      "+--------------+------------------+\n",
      "only showing top 20 rows\n",
      "\n"
     ]
    },
    {
     "name": "stderr",
     "output_type": "stream",
     "text": [
      "[Stage 296:==============================================>     (177 + 23) / 200]\r"
     ]
    },
    {
     "name": "stdout",
     "output_type": "stream",
     "text": [
      "+--------------+------------------+\n",
      "|region        |sum(percentage)   |\n",
      "+--------------+------------------+\n",
      "|California    |89241.62325999989 |\n",
      "|Texas         |46788.736555999974|\n",
      "|Florida       |46591.99829500002 |\n",
      "|New York      |36747.94055599997 |\n",
      "|Michigan      |31382.48476499997 |\n",
      "|Washington    |26997.37990699997 |\n",
      "|Pennsylvania  |26814.270001999987|\n",
      "|Ohio          |23791.000245999967|\n",
      "|North Carolina|23411.90763899999 |\n",
      "|Illinois      |20481.543868999994|\n",
      "|Virginia      |18549.343976999993|\n",
      "|Arizona       |17146.00111699999 |\n",
      "|Massachusetts |16650.001347999994|\n",
      "|Colorado      |16466.774609999993|\n",
      "|Oregon        |15311.23885799998 |\n",
      "|New Jersey    |15072.948141999981|\n",
      "|Maryland      |13862.881076000001|\n",
      "|Georgia       |13113.539220999995|\n",
      "|Wisconsin     |12734.770271000005|\n",
      "|Missouri      |11010.033597      |\n",
      "+--------------+------------------+\n",
      "only showing top 20 rows\n",
      "\n"
     ]
    },
    {
     "name": "stderr",
     "output_type": "stream",
     "text": [
      "                                                                                \r"
     ]
    }
   ],
   "source": [
    "df_r_US_12 = df_r_12.withColumn(\"region_distribution_x\", arrays_zip(\"region_distribution.percentage\",\"region_distribution.region\")).select(\"ad_creative_link_title\", explode(\"region_distribution\").alias(\"t_region_distribution\")).select(\"ad_creative_link_title\", \"t_region_distribution.percentage\", \"t_region_distribution.region\").withColumn(\"percentage\",col(\"percentage\").cast('double')).groupby(\"region\").sum('percentage').orderBy(\"sum(percentage)\", ascending=False).where('region = \"Alabama\" or region = \"Alaska\" or region = \"Arizona\" or region = \"Arkansas\" or region = \"California\" or region = \"Colorado\" or region = \"Connecticut\" or region = \"Delaware\" or region = \"Florida\" or region = \"Georgia\" or region = \"Hawaii\" or region = \"Idaho\" or region = \"Illinois\" or region = \"Indiana\" or region = \"Iowa\" or region = \"Kansas\" or region = \"Kentucky\" or region = \"Louisiana\" or region = \"Maine\" or region = \"Maryland\" or region = \"Massachusetts\" or region = \"Michigan\" or region = \"Minnesota\" or region = \"Mississippi\" or region = \"Missouri\" or region = \"Montana\" or region = \"Nebraska\" or region = \"Nevada\" or region = \"New Hampshire\" or region = \"New Jersey\" or region = \"New Mexico\" or region = \"New York\" or region = \"North Carolina\" or region = \"North Dakota\" or region = \"Ohio\" or region = \"Oklahoma\" or region = \"Oregon\" or region = \"Pennsylvania\" or region = \"Rhode Island\" or region = \"South Carolina\" or region = \"South Dakota\" or region = \"Tennessee\" or region = \"Texas\" or region = \"Utah\" or region = \"Vermont\" or region = \"Virginia\" or region = \"Washington\" or region = \"West Virginia\" or region = \"Wisconsin\" or region = \"Wyoming\"')\n",
    "df_r_US_12.show(truncate=False)\n",
    "df_b_US_12 = df_b_12.withColumn(\"region_distribution_x\", arrays_zip(\"region_distribution.percentage\",\"region_distribution.region\")).select(\"ad_creative_link_title\", explode(\"region_distribution\").alias(\"t_region_distribution\")).select(\"ad_creative_link_title\", \"t_region_distribution.percentage\", \"t_region_distribution.region\").withColumn(\"percentage\",col(\"percentage\").cast('double')).groupby(\"region\").sum('percentage').orderBy(\"sum(percentage)\", ascending=False).where('region = \"Alabama\" or region = \"Alaska\" or region = \"Arizona\" or region = \"Arkansas\" or region = \"California\" or region = \"Colorado\" or region = \"Connecticut\" or region = \"Delaware\" or region = \"Florida\" or region = \"Georgia\" or region = \"Hawaii\" or region = \"Idaho\" or region = \"Illinois\" or region = \"Indiana\" or region = \"Iowa\" or region = \"Kansas\" or region = \"Kentucky\" or region = \"Louisiana\" or region = \"Maine\" or region = \"Maryland\" or region = \"Massachusetts\" or region = \"Michigan\" or region = \"Minnesota\" or region = \"Mississippi\" or region = \"Missouri\" or region = \"Montana\" or region = \"Nebraska\" or region = \"Nevada\" or region = \"New Hampshire\" or region = \"New Jersey\" or region = \"New Mexico\" or region = \"New York\" or region = \"North Carolina\" or region = \"North Dakota\" or region = \"Ohio\" or region = \"Oklahoma\" or region = \"Oregon\" or region = \"Pennsylvania\" or region = \"Rhode Island\" or region = \"South Carolina\" or region = \"South Dakota\" or region = \"Tennessee\" or region = \"Texas\" or region = \"Utah\" or region = \"Vermont\" or region = \"Virginia\" or region = \"Washington\" or region = \"West Virginia\" or region = \"Wisconsin\" or region = \"Wyoming\"')\n",
    "df_b_US_12.show(truncate=False)"
   ]
  },
  {
   "cell_type": "code",
   "execution_count": 212,
   "id": "d69008b9",
   "metadata": {},
   "outputs": [
    {
     "name": "stderr",
     "output_type": "stream",
     "text": [
      "                                                                                \r"
     ]
    },
    {
     "data": {
      "text/plain": [
       "{}"
      ]
     },
     "execution_count": 212,
     "metadata": {},
     "output_type": "execute_result"
    }
   ],
   "source": [
    "df_r_US_1 = df_r_US_1.rdd.map(lambda row: row.asDict()).collect()\n",
    "dict_US_1 = {d['region']: d['sum(percentage)'] for d in df_r_US_1}\n",
    "dict_US_1"
   ]
  },
  {
   "cell_type": "code",
   "execution_count": 216,
   "id": "b956f9eb",
   "metadata": {},
   "outputs": [
    {
     "name": "stderr",
     "output_type": "stream",
     "text": [
      "                                                                                \r"
     ]
    },
    {
     "data": {
      "text/plain": [
       "{}"
      ]
     },
     "execution_count": 216,
     "metadata": {},
     "output_type": "execute_result"
    }
   ],
   "source": [
    "Tmp_df_r_US_2 = df_r_US_2.rdd.map(lambda row: row.asDict()).collect()\n",
    "dict_US_2 = {d['region']: d['sum(percentage)'] for d in Tmp_df_r_US_2}\n",
    "dict_US_2"
   ]
  },
  {
   "cell_type": "code",
   "execution_count": 217,
   "id": "b68b298b",
   "metadata": {},
   "outputs": [
    {
     "name": "stderr",
     "output_type": "stream",
     "text": [
      "                                                                                \r"
     ]
    },
    {
     "data": {
      "text/plain": [
       "{'Texas': 1225.0}"
      ]
     },
     "execution_count": 217,
     "metadata": {},
     "output_type": "execute_result"
    }
   ],
   "source": [
    "Tmp_df_r_US_3 = df_r_US_3.rdd.map(lambda row: row.asDict()).collect()\n",
    "dict_US_3 = {d['region']: d['sum(percentage)'] for d in Tmp_df_r_US_3}\n",
    "dict_US_3"
   ]
  },
  {
   "cell_type": "code",
   "execution_count": 218,
   "id": "0938cb3e",
   "metadata": {},
   "outputs": [
    {
     "name": "stderr",
     "output_type": "stream",
     "text": [
      "                                                                                \r"
     ]
    },
    {
     "data": {
      "text/plain": [
       "{'Texas': 3284.3135840000004,\n",
       " 'California': 2529.9307000000013,\n",
       " 'Florida': 1991.5772680000002,\n",
       " 'Pennsylvania': 1184.2264189999999,\n",
       " 'New York': 1103.3936530000003,\n",
       " 'Ohio': 929.7176649999998,\n",
       " 'Michigan': 877.5259860000002,\n",
       " 'Illinois': 844.511102,\n",
       " 'Arizona': 802.685979,\n",
       " 'Georgia': 714.2304939999999,\n",
       " 'New Jersey': 631.4742639999998,\n",
       " 'Washington': 627.8516569999996,\n",
       " 'Missouri': 561.9260739999999,\n",
       " 'North Carolina': 550.2604170000001,\n",
       " 'Virginia': 527.5993649999998,\n",
       " 'Indiana': 514.8786259999999,\n",
       " 'Oklahoma': 417.58269399999995,\n",
       " 'South Carolina': 416.010771,\n",
       " 'Massachusetts': 414.21421900000007,\n",
       " 'Oregon': 399.1129420000001,\n",
       " 'Minnesota': 397.803466,\n",
       " 'Alabama': 393.7582229999999,\n",
       " 'Tennessee': 392.01365999999996,\n",
       " 'Louisiana': 390.8818869999998,\n",
       " 'Maryland': 376.57544199999984,\n",
       " 'Iowa': 373.74717199999986,\n",
       " 'Colorado': 357.9108379999999,\n",
       " 'Wisconsin': 349.4926200000001,\n",
       " 'Kentucky': 320.46671999999995,\n",
       " 'Utah': 287.629149,\n",
       " 'Mississippi': 283.51696799999996,\n",
       " 'Arkansas': 271.24539899999996,\n",
       " 'Kansas': 269.01019,\n",
       " 'Connecticut': 233.08745000000005,\n",
       " 'Nebraska': 206.92026,\n",
       " 'Nevada': 192.6046379999999,\n",
       " 'Wyoming': 168.55527700000005,\n",
       " 'Alaska': 157.11032600000007,\n",
       " 'South Dakota': 146.15441299999995,\n",
       " 'New Mexico': 140.49072400000003,\n",
       " 'Montana': 139.620082,\n",
       " 'Idaho': 138.29036700000012,\n",
       " 'West Virginia': 136.59307299999998,\n",
       " 'Maine': 130.86959199999995,\n",
       " 'New Hampshire': 127.41237000000002,\n",
       " 'Hawaii': 94.897829,\n",
       " 'North Dakota': 77.96906899999999,\n",
       " 'Rhode Island': 52.10157800000001,\n",
       " 'Delaware': 34.914342999999995,\n",
       " 'Vermont': 29.307976999999994}"
      ]
     },
     "execution_count": 218,
     "metadata": {},
     "output_type": "execute_result"
    }
   ],
   "source": [
    "Tmp_df_r_US_4 = df_r_US_4.rdd.map(lambda row: row.asDict()).collect()\n",
    "dict_US_4 = {d['region']: d['sum(percentage)'] for d in Tmp_df_r_US_4}\n",
    "dict_US_4"
   ]
  },
  {
   "cell_type": "code",
   "execution_count": 219,
   "id": "3470f954",
   "metadata": {},
   "outputs": [
    {
     "name": "stderr",
     "output_type": "stream",
     "text": [
      "                                                                                \r"
     ]
    },
    {
     "data": {
      "text/plain": [
       "{'Texas': 1295.862253,\n",
       " 'Pennsylvania': 513.543943,\n",
       " 'California': 449.7308480000001,\n",
       " 'Florida': 372.00581599999987,\n",
       " 'Michigan': 220.63865200000006,\n",
       " 'Arizona': 211.15502400000008,\n",
       " 'New York': 201.73176099999998,\n",
       " 'Ohio': 198.78694599999997,\n",
       " 'Illinois': 189.25429400000004,\n",
       " 'Tennessee': 154.33822600000002,\n",
       " 'North Carolina': 142.24664600000006,\n",
       " 'Georgia': 140.22208500000002,\n",
       " 'Alabama': 130.137698,\n",
       " 'Indiana': 128.53230399999998,\n",
       " 'Missouri': 128.02764099999996,\n",
       " 'Virginia': 109.20130900000007,\n",
       " 'Washington': 107.92996899999997,\n",
       " 'Massachusetts': 104.75088399999996,\n",
       " 'South Carolina': 104.54144199999999,\n",
       " 'New Jersey': 87.441382,\n",
       " 'Kansas': 84.79754000000001,\n",
       " 'Wisconsin': 81.86636299999998,\n",
       " 'Oregon': 79.08703100000001,\n",
       " 'Oklahoma': 78.64629400000004,\n",
       " 'Louisiana': 78.381948,\n",
       " 'Minnesota': 77.95572200000001,\n",
       " 'Arkansas': 77.58589399999998,\n",
       " 'Colorado': 73.18093599999999,\n",
       " 'Kentucky': 72.48960200000002,\n",
       " 'Maryland': 60.50167600000002,\n",
       " 'Iowa': 53.777699999999996,\n",
       " 'Nevada': 46.053824999999996,\n",
       " 'Mississippi': 44.17447000000001,\n",
       " 'Nebraska': 43.26692,\n",
       " 'Utah': 38.155860000000004,\n",
       " 'Connecticut': 35.95533199999999,\n",
       " 'Wyoming': 33.38172,\n",
       " 'Idaho': 33.10377900000001,\n",
       " 'West Virginia': 31.68668,\n",
       " 'Montana': 31.309441000000003,\n",
       " 'Alaska': 31.128584000000004,\n",
       " 'New Mexico': 29.598387999999996,\n",
       " 'South Dakota': 28.815445999999987,\n",
       " 'Maine': 23.992627999999996,\n",
       " 'New Hampshire': 16.346206999999996,\n",
       " 'North Dakota': 12.377975999999999,\n",
       " 'Delaware': 11.580744,\n",
       " 'Hawaii': 10.355137000000001,\n",
       " 'Rhode Island': 9.252788999999998,\n",
       " 'Vermont': 5.182950000000001}"
      ]
     },
     "execution_count": 219,
     "metadata": {},
     "output_type": "execute_result"
    }
   ],
   "source": [
    "Tmp_df_r_US_5 = df_r_US_5.rdd.map(lambda row: row.asDict()).collect()\n",
    "dict_US_5 = {d['region']: d['sum(percentage)'] for d in Tmp_df_r_US_5}\n",
    "dict_US_5"
   ]
  },
  {
   "cell_type": "code",
   "execution_count": 220,
   "id": "74336754",
   "metadata": {},
   "outputs": [
    {
     "name": "stderr",
     "output_type": "stream",
     "text": [
      "                                                                                \r"
     ]
    },
    {
     "data": {
      "text/plain": [
       "{'Texas': 2446.881236,\n",
       " 'Florida': 1157.3199020000004,\n",
       " 'Indiana': 1124.411062,\n",
       " 'California': 1074.2574379999994,\n",
       " 'Pennsylvania': 1033.576497,\n",
       " 'Ohio': 973.0044600000002,\n",
       " 'Michigan': 739.0524590000001,\n",
       " 'New York': 657.3766869999998,\n",
       " 'North Carolina': 631.2243010000001,\n",
       " 'Tennessee': 551.8716779999999,\n",
       " 'Georgia': 543.4285689999996,\n",
       " 'Arizona': 517.2811189999999,\n",
       " 'Illinois': 513.1270999999998,\n",
       " 'Missouri': 502.6075609999998,\n",
       " 'Alabama': 442.5103309999998,\n",
       " 'Virginia': 416.73786600000005,\n",
       " 'Kentucky': 387.39906999999994,\n",
       " 'South Carolina': 354.71409000000006,\n",
       " 'Washington': 332.21163999999993,\n",
       " 'Wisconsin': 328.01335700000004,\n",
       " 'Oklahoma': 298.951463,\n",
       " 'Louisiana': 294.403711,\n",
       " 'New Jersey': 292.85762100000005,\n",
       " 'Minnesota': 287.68441399999995,\n",
       " 'Oregon': 257.5251469999999,\n",
       " 'Arkansas': 244.27539399999995,\n",
       " 'Massachusetts': 243.38210800000002,\n",
       " 'Colorado': 239.08058100000005,\n",
       " 'Iowa': 219.51574799999995,\n",
       " 'Mississippi': 210.018541,\n",
       " 'Kansas': 201.07367499999995,\n",
       " 'Maryland': 191.30311800000004,\n",
       " 'West Virginia': 183.489681,\n",
       " 'Nebraska': 143.63071099999996,\n",
       " 'Nevada': 142.057007,\n",
       " 'Idaho': 129.683091,\n",
       " 'Utah': 120.15062799999997,\n",
       " 'Connecticut': 111.849442,\n",
       " 'New Mexico': 111.56682,\n",
       " 'Montana': 106.85743199999995,\n",
       " 'Maine': 94.56495199999999,\n",
       " 'New Hampshire': 82.73962600000002,\n",
       " 'South Dakota': 76.524295,\n",
       " 'Wyoming': 75.67153500000002,\n",
       " 'Alaska': 67.31766999999999,\n",
       " 'Delaware': 48.77450299999999,\n",
       " 'North Dakota': 47.02806400000001,\n",
       " 'Hawaii': 31.031733999999997,\n",
       " 'Rhode Island': 30.272363000000006,\n",
       " 'Vermont': 26.757421000000004}"
      ]
     },
     "execution_count": 220,
     "metadata": {},
     "output_type": "execute_result"
    }
   ],
   "source": [
    "Tmp_df_r_US_6 = df_r_US_6.rdd.map(lambda row: row.asDict()).collect()\n",
    "dict_US_6 = {d['region']: d['sum(percentage)'] for d in Tmp_df_r_US_6}\n",
    "dict_US_6"
   ]
  },
  {
   "cell_type": "code",
   "execution_count": 221,
   "id": "610c7424",
   "metadata": {},
   "outputs": [
    {
     "name": "stderr",
     "output_type": "stream",
     "text": [
      "                                                                                \r"
     ]
    },
    {
     "data": {
      "text/plain": [
       "{'Texas': 1647.141129,\n",
       " 'Indiana': 834.4506449999998,\n",
       " 'Pennsylvania': 579.8460510000001,\n",
       " 'Arizona': 524.6687859999998,\n",
       " 'California': 468.86799400000007,\n",
       " 'Florida': 460.7228620000001,\n",
       " 'Ohio': 354.9128490000001,\n",
       " 'Michigan': 312.1241380000001,\n",
       " 'New York': 260.909373,\n",
       " 'North Carolina': 228.32581999999994,\n",
       " 'Illinois': 221.22732299999993,\n",
       " 'Georgia': 219.869014,\n",
       " 'Tennessee': 215.91484799999998,\n",
       " 'Missouri': 195.57658800000004,\n",
       " 'Alabama': 184.693391,\n",
       " 'Virginia': 167.110522,\n",
       " 'South Carolina': 151.67963899999998,\n",
       " 'Kentucky': 150.40636299999997,\n",
       " 'Washington': 147.66782000000003,\n",
       " 'Oklahoma': 132.43132499999996,\n",
       " 'Wisconsin': 130.02014099999997,\n",
       " 'Massachusetts': 129.591355,\n",
       " 'Minnesota': 114.96274000000003,\n",
       " 'Louisiana': 110.67832400000003,\n",
       " 'New Jersey': 109.4888,\n",
       " 'Colorado': 102.727409,\n",
       " 'Arkansas': 100.96866999999997,\n",
       " 'Oregon': 97.82083199999998,\n",
       " 'Mississippi': 82.611601,\n",
       " 'Nebraska': 80.92716399999998,\n",
       " 'Iowa': 79.60646200000002,\n",
       " 'Kansas': 79.064281,\n",
       " 'Maryland': 74.798707,\n",
       " 'Idaho': 62.98221900000003,\n",
       " 'Nevada': 60.25877800000002,\n",
       " 'Utah': 59.525189999999995,\n",
       " 'West Virginia': 57.89213099999999,\n",
       " 'Connecticut': 47.410491,\n",
       " 'New Mexico': 45.67119,\n",
       " 'Montana': 43.984423,\n",
       " 'Maine': 42.59899599999998,\n",
       " 'Alaska': 40.36711200000001,\n",
       " 'Wyoming': 38.81073399999998,\n",
       " 'New Hampshire': 38.054044000000005,\n",
       " 'South Dakota': 25.715221000000007,\n",
       " 'Delaware': 23.786524000000014,\n",
       " 'North Dakota': 22.612519999999996,\n",
       " 'Hawaii': 16.063405000000003,\n",
       " 'Rhode Island': 12.918888000000003,\n",
       " 'Vermont': 12.685020999999999}"
      ]
     },
     "execution_count": 221,
     "metadata": {},
     "output_type": "execute_result"
    }
   ],
   "source": [
    "Tmp_df_r_US_7 = df_r_US_7.rdd.map(lambda row: row.asDict()).collect()\n",
    "dict_US_7 = {d['region']: d['sum(percentage)'] for d in Tmp_df_r_US_7}\n",
    "dict_US_7"
   ]
  },
  {
   "cell_type": "code",
   "execution_count": 222,
   "id": "89cab028",
   "metadata": {},
   "outputs": [
    {
     "name": "stderr",
     "output_type": "stream",
     "text": [
      "                                                                                \r"
     ]
    },
    {
     "data": {
      "text/plain": [
       "{'Indiana': 969.7117860000001,\n",
       " 'Texas': 805.371214,\n",
       " 'Pennsylvania': 288.34428299999996,\n",
       " 'California': 275.92322499999995,\n",
       " 'Florida': 254.104547,\n",
       " 'Michigan': 161.62719600000003,\n",
       " 'Ohio': 154.22623600000003,\n",
       " 'New York': 139.006345,\n",
       " 'North Carolina': 112.070827,\n",
       " 'Illinois': 111.30702500000004,\n",
       " 'Georgia': 107.57779300000003,\n",
       " 'Tennessee': 101.17041199999998,\n",
       " 'Missouri': 95.53016099999996,\n",
       " 'Washington': 92.86131799999998,\n",
       " 'Arizona': 85.45161,\n",
       " 'Massachusetts': 79.07025199999998,\n",
       " 'Virginia': 77.07478499999999,\n",
       " 'Kentucky': 71.17149900000001,\n",
       " 'New Jersey': 70.472817,\n",
       " 'South Carolina': 68.17004,\n",
       " 'Alabama': 66.13807099999998,\n",
       " 'Oklahoma': 64.022846,\n",
       " 'Wisconsin': 58.597398999999996,\n",
       " 'Oregon': 57.210589,\n",
       " 'Louisiana': 55.71636300000001,\n",
       " 'Minnesota': 54.334281,\n",
       " 'Colorado': 51.909341000000005,\n",
       " 'Arkansas': 51.844213999999994,\n",
       " 'Maryland': 48.27310100000002,\n",
       " 'Mississippi': 41.86953400000001,\n",
       " 'Nevada': 39.29509400000002,\n",
       " 'Iowa': 39.222365,\n",
       " 'Kansas': 37.885789,\n",
       " 'Utah': 37.254522999999985,\n",
       " 'Idaho': 30.297169,\n",
       " 'New Mexico': 27.62069999999999,\n",
       " 'Connecticut': 27.523166999999997,\n",
       " 'Nebraska': 25.83000999999999,\n",
       " 'West Virginia': 23.644850999999992,\n",
       " 'Montana': 21.542012000000003,\n",
       " 'Alaska': 20.824465000000004,\n",
       " 'Maine': 19.972394,\n",
       " 'New Hampshire': 19.96479400000001,\n",
       " 'Delaware': 16.286294999999996,\n",
       " 'South Dakota': 14.114652,\n",
       " 'Wyoming': 12.667633999999994,\n",
       " 'North Dakota': 10.936687,\n",
       " 'Hawaii': 10.898174000000003,\n",
       " 'Vermont': 6.162099999999999,\n",
       " 'Rhode Island': 6.137829000000001}"
      ]
     },
     "execution_count": 222,
     "metadata": {},
     "output_type": "execute_result"
    }
   ],
   "source": [
    "Tmp_df_r_US_8 = df_r_US_8.rdd.map(lambda row: row.asDict()).collect()\n",
    "dict_US_8 = {d['region']: d['sum(percentage)'] for d in Tmp_df_r_US_8}\n",
    "dict_US_8"
   ]
  },
  {
   "cell_type": "code",
   "execution_count": 223,
   "id": "d9f78c83",
   "metadata": {},
   "outputs": [
    {
     "name": "stderr",
     "output_type": "stream",
     "text": [
      "                                                                                \r"
     ]
    },
    {
     "data": {
      "text/plain": [
       "{'Florida': 197.14821799999984,\n",
       " 'Texas': 194.486392,\n",
       " 'California': 181.22170199999996,\n",
       " 'Indiana': 179.94753399999996,\n",
       " 'Pennsylvania': 113.08143799999998,\n",
       " 'Ohio': 105.52817699999999,\n",
       " 'New York': 104.34491,\n",
       " 'Michigan': 85.305137,\n",
       " 'Georgia': 78.13259999999995,\n",
       " 'North Carolina': 73.115395,\n",
       " 'Illinois': 69.813595,\n",
       " 'Washington': 66.25116100000002,\n",
       " 'Virginia': 64.84313099999999,\n",
       " 'Arizona': 64.508317,\n",
       " 'New Jersey': 60.462391999999994,\n",
       " 'Missouri': 59.45880200000001,\n",
       " 'Tennessee': 58.167332999999985,\n",
       " 'South Carolina': 45.49101300000003,\n",
       " 'Alabama': 38.09963900000001,\n",
       " 'Colorado': 37.95613900000001,\n",
       " 'Wisconsin': 37.858806,\n",
       " 'Minnesota': 37.56945600000001,\n",
       " 'Massachusetts': 36.76494500000001,\n",
       " 'Oklahoma': 35.42501500000001,\n",
       " 'Oregon': 33.969238,\n",
       " 'Maryland': 33.703337,\n",
       " 'Kentucky': 33.555276000000006,\n",
       " 'Arkansas': 28.368130999999998,\n",
       " 'Kansas': 27.117538999999994,\n",
       " 'Louisiana': 25.294650999999995,\n",
       " 'Iowa': 25.088535000000004,\n",
       " 'Nevada': 22.307910999999997,\n",
       " 'Utah': 21.152883000000003,\n",
       " 'Connecticut': 20.572666,\n",
       " 'Nebraska': 20.51772,\n",
       " 'New Mexico': 19.653988000000002,\n",
       " 'Idaho': 18.66897200000001,\n",
       " 'Mississippi': 18.343238000000014,\n",
       " 'West Virginia': 14.921856,\n",
       " 'Montana': 13.191008999999992,\n",
       " 'Maine': 13.056994000000001,\n",
       " 'New Hampshire': 12.665032999999998,\n",
       " 'Alaska': 8.618770000000001,\n",
       " 'Delaware': 8.578226,\n",
       " 'North Dakota': 7.543726999999995,\n",
       " 'Wyoming': 7.486352,\n",
       " 'South Dakota': 7.150497,\n",
       " 'Hawaii': 5.541450000000002,\n",
       " 'Vermont': 5.168625,\n",
       " 'Rhode Island': 4.51811}"
      ]
     },
     "execution_count": 223,
     "metadata": {},
     "output_type": "execute_result"
    }
   ],
   "source": [
    "Tmp_df_r_US_9 = df_r_US_9.rdd.map(lambda row: row.asDict()).collect()\n",
    "dict_US_9 = {d['region']: d['sum(percentage)'] for d in Tmp_df_r_US_9}\n",
    "dict_US_9"
   ]
  },
  {
   "cell_type": "code",
   "execution_count": 224,
   "id": "b162dbd9",
   "metadata": {},
   "outputs": [
    {
     "name": "stderr",
     "output_type": "stream",
     "text": [
      "                                                                                \r"
     ]
    },
    {
     "data": {
      "text/plain": [
       "{'Pennsylvania': 436.1288440000001,\n",
       " 'Florida': 207.59063599999996,\n",
       " 'Texas': 206.99009100000004,\n",
       " 'California': 182.996588,\n",
       " 'Ohio': 108.69880300000003,\n",
       " 'New York': 99.01582200000001,\n",
       " 'Michigan': 89.34344200000001,\n",
       " 'Georgia': 84.28334799999996,\n",
       " 'North Carolina': 74.09045500000002,\n",
       " 'Illinois': 72.90316100000001,\n",
       " 'New Jersey': 65.69312199999999,\n",
       " 'Arizona': 63.847443999999996,\n",
       " 'Washington': 60.417666999999994,\n",
       " 'Missouri': 58.953534000000005,\n",
       " 'Indiana': 57.540803,\n",
       " 'Virginia': 55.74137400000001,\n",
       " 'Tennessee': 54.462715999999986,\n",
       " 'Alabama': 48.00403299999999,\n",
       " 'South Carolina': 43.99499500000002,\n",
       " 'Minnesota': 38.07441500000001,\n",
       " 'Wisconsin': 36.535082,\n",
       " 'Colorado': 36.450577000000024,\n",
       " 'Louisiana': 36.42911099999999,\n",
       " 'Oklahoma': 35.694961,\n",
       " 'Kentucky': 35.20749400000002,\n",
       " 'Maryland': 32.939862,\n",
       " 'Oregon': 32.45353400000001,\n",
       " 'Massachusetts': 31.032985,\n",
       " 'Kansas': 29.360692999999994,\n",
       " 'Arkansas': 28.614569999999983,\n",
       " 'Iowa': 28.535731,\n",
       " 'Mississippi': 25.619021999999998,\n",
       " 'Idaho': 23.728325999999992,\n",
       " 'Nevada': 23.615798,\n",
       " 'Utah': 21.58413200000001,\n",
       " 'Nebraska': 19.837113000000002,\n",
       " 'Connecticut': 19.823224000000003,\n",
       " 'New Mexico': 17.116808,\n",
       " 'Montana': 14.813907999999993,\n",
       " 'West Virginia': 13.466965,\n",
       " 'New Hampshire': 12.008772000000002,\n",
       " 'Maine': 10.336802000000004,\n",
       " 'Delaware': 9.941603999999998,\n",
       " 'Alaska': 8.695775000000001,\n",
       " 'Wyoming': 8.157914999999997,\n",
       " 'North Dakota': 7.592902,\n",
       " 'Hawaii': 6.365501000000002,\n",
       " 'South Dakota': 5.896553999999998,\n",
       " 'Vermont': 5.160407,\n",
       " 'Rhode Island': 4.932631}"
      ]
     },
     "execution_count": 224,
     "metadata": {},
     "output_type": "execute_result"
    }
   ],
   "source": [
    "Tmp_df_r_US_10 = df_r_US_10.rdd.map(lambda row: row.asDict()).collect()\n",
    "dict_US_10 = {d['region']: d['sum(percentage)'] for d in Tmp_df_r_US_10}\n",
    "dict_US_10"
   ]
  },
  {
   "cell_type": "code",
   "execution_count": 225,
   "id": "b47cc7d3",
   "metadata": {},
   "outputs": [
    {
     "name": "stderr",
     "output_type": "stream",
     "text": [
      "                                                                                \r"
     ]
    },
    {
     "data": {
      "text/plain": [
       "{'Pennsylvania': 3503.3399649999974,\n",
       " 'Texas': 421.2494689999999,\n",
       " 'Florida': 398.5987809999998,\n",
       " 'California': 371.1181730000001,\n",
       " 'New York': 201.77520200000006,\n",
       " 'Michigan': 175.62091999999998,\n",
       " 'Ohio': 174.28854,\n",
       " 'Georgia': 150.85957399999995,\n",
       " 'North Carolina': 139.41932300000002,\n",
       " 'Illinois': 135.47316600000005,\n",
       " 'New Jersey': 130.21208600000003,\n",
       " 'Arizona': 120.80620999999998,\n",
       " 'Virginia': 119.34910499999998,\n",
       " 'Washington': 113.18689799999997,\n",
       " 'Tennessee': 111.85359999999997,\n",
       " 'Missouri': 105.37720999999996,\n",
       " 'Indiana': 96.74973199999998,\n",
       " 'Alabama': 93.38005700000002,\n",
       " 'Louisiana': 77.19467999999998,\n",
       " 'South Carolina': 74.41285000000002,\n",
       " 'Colorado': 71.235673,\n",
       " 'Kentucky': 68.948981,\n",
       " 'Minnesota': 68.19621399999998,\n",
       " 'Oklahoma': 67.291402,\n",
       " 'Oregon': 66.21411900000003,\n",
       " 'Wisconsin': 65.94637200000001,\n",
       " 'Massachusetts': 61.26364599999999,\n",
       " 'Arkansas': 59.04701999999998,\n",
       " 'Kansas': 57.58401200000001,\n",
       " 'Maryland': 56.048113,\n",
       " 'Mississippi': 53.981333,\n",
       " 'Iowa': 52.788288,\n",
       " 'Nevada': 46.623457999999985,\n",
       " 'Utah': 44.846071000000016,\n",
       " 'Nebraska': 43.81555699999998,\n",
       " 'Idaho': 41.943324,\n",
       " 'Connecticut': 41.53560299999999,\n",
       " 'New Mexico': 36.47947300000003,\n",
       " 'Montana': 33.625273,\n",
       " 'West Virginia': 29.813066,\n",
       " 'New Hampshire': 26.115446999999996,\n",
       " 'Maine': 18.33736100000001,\n",
       " 'Alaska': 17.914492999999997,\n",
       " 'Wyoming': 16.912307,\n",
       " 'North Dakota': 13.794817000000002,\n",
       " 'Delaware': 13.649650000000003,\n",
       " 'South Dakota': 12.112686999999994,\n",
       " 'Hawaii': 11.879877999999996,\n",
       " 'Rhode Island': 10.407764999999996,\n",
       " 'Vermont': 7.263313}"
      ]
     },
     "execution_count": 225,
     "metadata": {},
     "output_type": "execute_result"
    }
   ],
   "source": [
    "Tmp_df_r_US_11 = df_r_US_11.rdd.map(lambda row: row.asDict()).collect()\n",
    "dict_US_11 = {d['region']: d['sum(percentage)'] for d in Tmp_df_r_US_11}\n",
    "dict_US_11"
   ]
  },
  {
   "cell_type": "code",
   "execution_count": 215,
   "id": "e5a6bc4d",
   "metadata": {},
   "outputs": [
    {
     "name": "stderr",
     "output_type": "stream",
     "text": [
      "                                                                                \r"
     ]
    },
    {
     "data": {
      "text/plain": [
       "{'Pennsylvania': 4379.692432000003,\n",
       " 'Texas': 309.14364500000016,\n",
       " 'Florida': 308.06359700000013,\n",
       " 'California': 280.19751100000036,\n",
       " 'Arizona': 172.26728999999986,\n",
       " 'New York': 159.6516590000001,\n",
       " 'Ohio': 141.99499899999995,\n",
       " 'Michigan': 137.35531000000006,\n",
       " 'Georgia': 118.57725200000003,\n",
       " 'North Carolina': 112.251433,\n",
       " 'Illinois': 111.66230199999995,\n",
       " 'Virginia': 102.63671499999998,\n",
       " 'New Jersey': 95.46697799999993,\n",
       " 'Washington': 88.73330000000004,\n",
       " 'Tennessee': 85.11652999999994,\n",
       " 'Indiana': 82.10532800000001,\n",
       " 'Missouri': 80.4387309999999,\n",
       " 'Wisconsin': 67.769765,\n",
       " 'Minnesota': 64.19633400000001,\n",
       " 'Colorado': 61.467597000000005,\n",
       " 'South Carolina': 60.49550600000003,\n",
       " 'Alabama': 59.056982999999995,\n",
       " 'Kentucky': 58.27851500000004,\n",
       " 'Oregon': 57.831552000000066,\n",
       " 'Louisiana': 56.46597200000005,\n",
       " 'Oklahoma': 52.558541000000005,\n",
       " 'Massachusetts': 52.464619000000035,\n",
       " 'Maryland': 49.40787099999997,\n",
       " 'Arkansas': 45.366017999999976,\n",
       " 'Iowa': 44.562772000000045,\n",
       " 'Kansas': 44.37562099999999,\n",
       " 'Mississippi': 36.40960100000003,\n",
       " 'Nevada': 34.258758000000014,\n",
       " 'Utah': 33.45149500000001,\n",
       " 'Connecticut': 30.73445999999998,\n",
       " 'Nebraska': 30.730106999999993,\n",
       " 'Idaho': 29.77028900000003,\n",
       " 'West Virginia': 27.746855999999973,\n",
       " 'Montana': 24.297808000000032,\n",
       " 'New Mexico': 22.31333400000002,\n",
       " 'New Hampshire': 18.993245000000016,\n",
       " 'Maine': 18.206568999999995,\n",
       " 'Wyoming': 14.607821000000001,\n",
       " 'Alaska': 13.469518,\n",
       " 'South Dakota': 12.031833000000017,\n",
       " 'Delaware': 9.798591999999985,\n",
       " 'Rhode Island': 9.48239500000001,\n",
       " 'North Dakota': 9.029078999999992,\n",
       " 'Hawaii': 8.287927999999996,\n",
       " 'Vermont': 6.459730999999999}"
      ]
     },
     "execution_count": 215,
     "metadata": {},
     "output_type": "execute_result"
    }
   ],
   "source": [
    "Tmp_df_r_US_12 = df_r_US_12.rdd.map(lambda row: row.asDict()).collect()\n",
    "dict_US_12 = {d['region']: d['sum(percentage)'] for d in Tmp_df_r_US_12}\n",
    "dict_US_12"
   ]
  },
  {
   "cell_type": "code",
   "execution_count": 238,
   "id": "a81ba3e5",
   "metadata": {},
   "outputs": [
    {
     "name": "stderr",
     "output_type": "stream",
     "text": [
      "                                                                                \r"
     ]
    },
    {
     "data": {
      "text/plain": [
       "{'Georgia': 1631.0}"
      ]
     },
     "execution_count": 238,
     "metadata": {},
     "output_type": "execute_result"
    }
   ],
   "source": [
    "Tmp_df_b_US_1 = df_b_US_1.rdd.map(lambda row: row.asDict()).collect()\n",
    "dict_US_b_1 = {d['region']: d['sum(percentage)'] for d in Tmp_df_b_US_1}\n",
    "dict_US_b_1"
   ]
  },
  {
   "cell_type": "code",
   "execution_count": 239,
   "id": "ff04eb5f",
   "metadata": {},
   "outputs": [
    {
     "name": "stderr",
     "output_type": "stream",
     "text": [
      "                                                                                \r"
     ]
    },
    {
     "data": {
      "text/plain": [
       "{'Georgia': 147.0}"
      ]
     },
     "execution_count": 239,
     "metadata": {},
     "output_type": "execute_result"
    }
   ],
   "source": [
    "Tmp_df_b_US_2 = df_b_US_2.rdd.map(lambda row: row.asDict()).collect()\n",
    "dict_US_b_2 = {d['region']: d['sum(percentage)'] for d in Tmp_df_b_US_2}\n",
    "dict_US_b_2"
   ]
  },
  {
   "cell_type": "code",
   "execution_count": 240,
   "id": "f69228f7",
   "metadata": {},
   "outputs": [
    {
     "name": "stderr",
     "output_type": "stream",
     "text": [
      "                                                                                \r"
     ]
    },
    {
     "data": {
      "text/plain": [
       "{'California': 19442.777468000008,\n",
       " 'New York': 11607.343504000006,\n",
       " 'Virginia': 9883.730692999994,\n",
       " 'Texas': 8245.584385999995,\n",
       " 'North Carolina': 7196.833353999994,\n",
       " 'Pennsylvania': 6930.814407999991,\n",
       " 'Illinois': 5710.049732999994,\n",
       " 'Florida': 5704.76767499999,\n",
       " 'Massachusetts': 4909.936997999993,\n",
       " 'Washington': 4895.214706999994,\n",
       " 'Michigan': 4354.8031269999965,\n",
       " 'Minnesota': 4151.509117999994,\n",
       " 'Georgia': 3861.493221999996,\n",
       " 'Arizona': 3601.927189999996,\n",
       " 'New Jersey': 3517.127591999996,\n",
       " 'Colorado': 3495.222928999996,\n",
       " 'Ohio': 3075.907704999996,\n",
       " 'Maryland': 2963.350182999997,\n",
       " 'Missouri': 2908.4918679999973,\n",
       " 'Oregon': 2745.2163899999955,\n",
       " 'Wisconsin': 2566.6183569999976,\n",
       " 'Connecticut': 1625.072241,\n",
       " 'Indiana': 1564.879541999999,\n",
       " 'New Mexico': 1319.9460630000005,\n",
       " 'Tennessee': 1237.6990620000004,\n",
       " 'Iowa': 1199.538228,\n",
       " 'Nevada': 1011.7267179999998,\n",
       " 'South Carolina': 925.0055540000001,\n",
       " 'Kentucky': 890.4588310000001,\n",
       " 'Kansas': 829.8517149999997,\n",
       " 'Maine': 822.4441400000002,\n",
       " 'Oklahoma': 744.2245820000003,\n",
       " 'Louisiana': 730.7641340000004,\n",
       " 'Alabama': 719.4461420000002,\n",
       " 'New Hampshire': 712.022966,\n",
       " 'Montana': 648.9191750000005,\n",
       " 'Utah': 636.7484800000003,\n",
       " 'Hawaii': 635.6742650000002,\n",
       " 'Vermont': 580.5752980000002,\n",
       " 'Arkansas': 540.1137500000004,\n",
       " 'Idaho': 483.7816490000002,\n",
       " 'Nebraska': 459.60646800000006,\n",
       " 'Rhode Island': 417.41178200000013,\n",
       " 'Alaska': 378.7068170000002,\n",
       " 'West Virginia': 377.699996,\n",
       " 'Delaware': 371.4099720000001,\n",
       " 'Mississippi': 307.93577200000016,\n",
       " 'South Dakota': 196.290137,\n",
       " 'Wyoming': 166.31054400000005,\n",
       " 'North Dakota': 149.036808}"
      ]
     },
     "execution_count": 240,
     "metadata": {},
     "output_type": "execute_result"
    }
   ],
   "source": [
    "Tmp_df_b_US_3 = df_b_US_3.rdd.map(lambda row: row.asDict()).collect()\n",
    "dict_US_b_3 = {d['region']: d['sum(percentage)'] for d in Tmp_df_b_US_3}\n",
    "dict_US_b_3"
   ]
  },
  {
   "cell_type": "code",
   "execution_count": 241,
   "id": "d234b522",
   "metadata": {},
   "outputs": [
    {
     "name": "stderr",
     "output_type": "stream",
     "text": [
      "                                                                                \r"
     ]
    },
    {
     "data": {
      "text/plain": [
       "{'California': 48687.85594499997,\n",
       " 'Illinois': 38172.464677,\n",
       " 'New York': 26841.78395799997,\n",
       " 'Texas': 24661.267622999985,\n",
       " 'Virginia': 15369.612458999996,\n",
       " 'Florida': 15162.227890999973,\n",
       " 'Pennsylvania': 15116.822450999989,\n",
       " 'Washington': 14428.602353999977,\n",
       " 'Arizona': 10401.461861999991,\n",
       " 'North Carolina': 9932.956079999987,\n",
       " 'Wisconsin': 9573.921769999988,\n",
       " 'Massachusetts': 9315.791527999985,\n",
       " 'Colorado': 8962.78844999999,\n",
       " 'Georgia': 8947.865345999986,\n",
       " 'Michigan': 8737.255285999989,\n",
       " 'Minnesota': 8494.904075999999,\n",
       " 'Oregon': 7935.708980999987,\n",
       " 'New Jersey': 7454.361625999993,\n",
       " 'Ohio': 7357.7943059999925,\n",
       " 'Maryland': 6681.661013999992,\n",
       " 'Missouri': 5244.451959999999,\n",
       " 'Indiana': 4063.6130200000016,\n",
       " 'Connecticut': 3969.9512740000023,\n",
       " 'Tennessee': 3299.851248999999,\n",
       " 'Kentucky': 3207.9595700000023,\n",
       " 'New Mexico': 2821.8362050000005,\n",
       " 'Kansas': 2758.5697790000013,\n",
       " 'Iowa': 2758.2522820000013,\n",
       " 'Nevada': 2437.331076999999,\n",
       " 'South Carolina': 2242.203237000001,\n",
       " 'Oklahoma': 2038.5697080000007,\n",
       " 'Maine': 2015.254226000001,\n",
       " 'Utah': 1725.0430730000007,\n",
       " 'Alabama': 1661.4346140000016,\n",
       " 'Hawaii': 1659.4094580000012,\n",
       " 'Louisiana': 1653.9688260000019,\n",
       " 'Arkansas': 1589.7845890000008,\n",
       " 'Montana': 1400.435646000002,\n",
       " 'New Hampshire': 1319.0526540000012,\n",
       " 'Idaho': 1313.6547200000002,\n",
       " 'Vermont': 1186.1669820000013,\n",
       " 'Rhode Island': 1060.9649760000002,\n",
       " 'Nebraska': 1043.5727500000005,\n",
       " 'Alaska': 946.6859340000005,\n",
       " 'Delaware': 863.4280920000004,\n",
       " 'West Virginia': 799.5478499999999,\n",
       " 'Mississippi': 667.9698660000001,\n",
       " 'South Dakota': 648.3422830000001,\n",
       " 'North Dakota': 519.294199,\n",
       " 'Wyoming': 401.31068400000004}"
      ]
     },
     "execution_count": 241,
     "metadata": {},
     "output_type": "execute_result"
    }
   ],
   "source": [
    "Tmp_df_b_US_4 = df_b_US_4.rdd.map(lambda row: row.asDict()).collect()\n",
    "dict_US_b_4 = {d['region']: d['sum(percentage)'] for d in Tmp_df_b_US_4}\n",
    "dict_US_b_4"
   ]
  },
  {
   "cell_type": "code",
   "execution_count": 242,
   "id": "e83de7a6",
   "metadata": {},
   "outputs": [
    {
     "name": "stderr",
     "output_type": "stream",
     "text": [
      "                                                                                \r"
     ]
    },
    {
     "data": {
      "text/plain": [
       "{'California': 32479.21888799999,\n",
       " 'New York': 15266.177982999976,\n",
       " 'Texas': 13872.04150099998,\n",
       " 'Florida': 10993.298219999984,\n",
       " 'Pennsylvania': 9856.824060999985,\n",
       " 'Washington': 8925.822460999989,\n",
       " 'Virginia': 8701.531018999991,\n",
       " 'Illinois': 7976.834289999987,\n",
       " 'Oregon': 6006.751994999998,\n",
       " 'Colorado': 5967.360150999993,\n",
       " 'North Carolina': 5963.35704299999,\n",
       " 'Massachusetts': 5790.216167999997,\n",
       " 'Ohio': 5621.506999999992,\n",
       " 'New Jersey': 5559.209470999993,\n",
       " 'Michigan': 5245.7962299999945,\n",
       " 'Arizona': 4769.478117999994,\n",
       " 'Georgia': 4696.957837999994,\n",
       " 'Maryland': 4688.169677999996,\n",
       " 'Minnesota': 4681.766050999998,\n",
       " 'Wisconsin': 3461.905788999998,\n",
       " 'Missouri': 3021.0315069999992,\n",
       " 'Indiana': 2582.9462809999977,\n",
       " 'Connecticut': 2188.598129000001,\n",
       " 'Kansas': 2153.126619000001,\n",
       " 'Tennessee': 2144.231013,\n",
       " 'New Mexico': 1976.466529,\n",
       " 'Iowa': 1828.0875890000004,\n",
       " 'Kentucky': 1819.5158889999989,\n",
       " 'Nevada': 1753.1464859999994,\n",
       " 'South Carolina': 1504.595136,\n",
       " 'Maine': 1339.877207,\n",
       " 'Alabama': 1124.0056090000007,\n",
       " 'Oklahoma': 1100.2976720000004,\n",
       " 'Hawaii': 1068.1809030000002,\n",
       " 'Louisiana': 987.0013510000005,\n",
       " 'Montana': 968.7603100000001,\n",
       " 'Utah': 927.4731910000003,\n",
       " 'New Hampshire': 914.3177610000005,\n",
       " 'Arkansas': 841.8090590000004,\n",
       " 'Vermont': 720.2163470000007,\n",
       " 'Idaho': 700.6206190000001,\n",
       " 'Rhode Island': 669.3518920000001,\n",
       " 'Nebraska': 659.2353210000002,\n",
       " 'Alaska': 614.1748030000005,\n",
       " 'West Virginia': 599.8737110000004,\n",
       " 'Delaware': 568.8780540000004,\n",
       " 'Mississippi': 428.4556999999997,\n",
       " 'South Dakota': 326.529793,\n",
       " 'Wyoming': 301.89809199999996,\n",
       " 'North Dakota': 220.24481500000002}"
      ]
     },
     "execution_count": 242,
     "metadata": {},
     "output_type": "execute_result"
    }
   ],
   "source": [
    "Tmp_df_b_US_5 = df_b_US_5.rdd.map(lambda row: row.asDict()).collect()\n",
    "dict_US_b_5 = {d['region']: d['sum(percentage)'] for d in Tmp_df_b_US_5}\n",
    "dict_US_b_5"
   ]
  },
  {
   "cell_type": "code",
   "execution_count": 243,
   "id": "f1a64f31",
   "metadata": {},
   "outputs": [
    {
     "name": "stderr",
     "output_type": "stream",
     "text": [
      "                                                                                \r"
     ]
    },
    {
     "data": {
      "text/plain": [
       "{'California': 55187.9307340001,\n",
       " 'Texas': 26776.82592300001,\n",
       " 'New York': 24038.960045999986,\n",
       " 'Florida': 20923.480086,\n",
       " 'Pennsylvania': 19030.96847500002,\n",
       " 'Arizona': 17892.909885999998,\n",
       " 'Washington': 14131.520833999975,\n",
       " 'North Carolina': 13392.589597999986,\n",
       " 'Illinois': 13335.256629999976,\n",
       " 'Virginia': 12848.056527999988,\n",
       " 'Ohio': 11207.806811999983,\n",
       " 'Colorado': 11021.14811399998,\n",
       " 'Massachusetts': 10861.226162999983,\n",
       " 'Michigan': 9981.056088999985,\n",
       " 'Oregon': 9897.52176999998,\n",
       " 'New Jersey': 9445.360340999976,\n",
       " 'Maryland': 8505.388560999983,\n",
       " 'Minnesota': 7969.929726999987,\n",
       " 'Georgia': 7787.424013999982,\n",
       " 'Missouri': 7382.776465999985,\n",
       " 'South Carolina': 6711.445244999988,\n",
       " 'Wisconsin': 5769.96061299999,\n",
       " 'Indiana': 4630.357748999995,\n",
       " 'Tennessee': 4004.166467999999,\n",
       " 'Connecticut': 3935.0661189999996,\n",
       " 'Kentucky': 3524.8510109999984,\n",
       " 'Iowa': 3403.8962159999987,\n",
       " 'New Mexico': 3305.004702,\n",
       " 'Nevada': 3064.978630000001,\n",
       " 'Kansas': 2932.404805,\n",
       " 'Maine': 2575.922237000001,\n",
       " 'Alabama': 2170.648030000001,\n",
       " 'Oklahoma': 2104.367044,\n",
       " 'New Hampshire': 1972.475179999999,\n",
       " 'Montana': 1925.2713729999984,\n",
       " 'Arkansas': 1850.0208149999992,\n",
       " 'Louisiana': 1786.9283469999996,\n",
       " 'Utah': 1777.1460719999993,\n",
       " 'Hawaii': 1648.2032309999995,\n",
       " 'Vermont': 1277.0966770000002,\n",
       " 'Rhode Island': 1266.9371469999994,\n",
       " 'Idaho': 1207.5142040000012,\n",
       " 'Nebraska': 1195.7324500000009,\n",
       " 'West Virginia': 1164.5427470000006,\n",
       " 'Alaska': 1040.7103670000006,\n",
       " 'Delaware': 1015.180006000001,\n",
       " 'Mississippi': 780.5653830000007,\n",
       " 'South Dakota': 634.692073,\n",
       " 'Wyoming': 472.65397999999993,\n",
       " 'North Dakota': 471.89794000000023}"
      ]
     },
     "execution_count": 243,
     "metadata": {},
     "output_type": "execute_result"
    }
   ],
   "source": [
    "Tmp_df_b_US_6 = df_b_US_6.rdd.map(lambda row: row.asDict()).collect()\n",
    "dict_US_b_6 = {d['region']: d['sum(percentage)'] for d in Tmp_df_b_US_6}\n",
    "dict_US_b_6"
   ]
  },
  {
   "cell_type": "code",
   "execution_count": 244,
   "id": "fb247171",
   "metadata": {},
   "outputs": [
    {
     "name": "stderr",
     "output_type": "stream",
     "text": [
      "                                                                                \r"
     ]
    },
    {
     "data": {
      "text/plain": [
       "{'California': 42586.546871000035,\n",
       " 'Texas': 19816.005422999988,\n",
       " 'New York': 15691.155493999979,\n",
       " 'Arizona': 15597.31618799999,\n",
       " 'Florida': 14990.642006999984,\n",
       " 'Virginia': 10303.84081199999,\n",
       " 'Washington': 9629.650937999984,\n",
       " 'Pennsylvania': 9618.509772999985,\n",
       " 'Colorado': 8929.703646999991,\n",
       " 'Illinois': 8473.336302999985,\n",
       " 'Massachusetts': 8411.831095999987,\n",
       " 'Maryland': 7252.9196519999905,\n",
       " 'North Carolina': 7250.439387999989,\n",
       " 'Ohio': 7132.286689999988,\n",
       " 'Michigan': 6437.117100999992,\n",
       " 'New Jersey': 6348.5390259999895,\n",
       " 'Oregon': 6251.191845999995,\n",
       " 'Georgia': 6011.812301999995,\n",
       " 'Minnesota': 4802.5683739999995,\n",
       " 'Missouri': 4638.8519739999965,\n",
       " 'Wisconsin': 4174.347148999997,\n",
       " 'South Carolina': 3034.469093000001,\n",
       " 'Indiana': 2908.173506,\n",
       " 'Nevada': 2905.7062699999956,\n",
       " 'Iowa': 2893.026964999996,\n",
       " 'Tennessee': 2747.8497360000006,\n",
       " 'Kentucky': 2738.382902999998,\n",
       " 'Connecticut': 2737.819028999999,\n",
       " 'New Mexico': 2372.4680010000006,\n",
       " 'Maine': 2134.044554999999,\n",
       " 'Kansas': 2003.6974270000007,\n",
       " 'Rhode Island': 1466.7062209999995,\n",
       " 'Oklahoma': 1413.1953090000004,\n",
       " 'Alabama': 1404.3052350000003,\n",
       " 'Arkansas': 1361.7893470000008,\n",
       " 'Utah': 1293.1683440000006,\n",
       " 'Hawaii': 1280.3910460000002,\n",
       " 'Louisiana': 1279.3942560000003,\n",
       " 'Montana': 1251.598379,\n",
       " 'New Hampshire': 1140.1630880000002,\n",
       " 'Vermont': 938.5385759999998,\n",
       " 'Idaho': 927.8666690000003,\n",
       " 'Nebraska': 880.4569620000002,\n",
       " 'Delaware': 775.7846970000004,\n",
       " 'West Virginia': 767.7712880000001,\n",
       " 'Alaska': 751.0719170000009,\n",
       " 'Mississippi': 581.0842520000001,\n",
       " 'South Dakota': 431.4650010000002,\n",
       " 'Wyoming': 360.73709999999994,\n",
       " 'North Dakota': 299.09646799999973}"
      ]
     },
     "execution_count": 244,
     "metadata": {},
     "output_type": "execute_result"
    }
   ],
   "source": [
    "Tmp_df_b_US_7 = df_b_US_7.rdd.map(lambda row: row.asDict()).collect()\n",
    "dict_US_b_7 = {d['region']: d['sum(percentage)'] for d in Tmp_df_b_US_7}\n",
    "dict_US_b_7"
   ]
  },
  {
   "cell_type": "code",
   "execution_count": 245,
   "id": "d2188d95",
   "metadata": {},
   "outputs": [
    {
     "name": "stderr",
     "output_type": "stream",
     "text": [
      "                                                                                \r"
     ]
    },
    {
     "data": {
      "text/plain": [
       "{'California': 33812.71166600001,\n",
       " 'Texas': 15767.698270999996,\n",
       " 'Florida': 14271.674983999987,\n",
       " 'New York': 12747.442123999976,\n",
       " 'Arizona': 10966.16474099999,\n",
       " 'North Carolina': 9366.855821999987,\n",
       " 'Virginia': 8925.97558799999,\n",
       " 'Washington': 8800.726845999992,\n",
       " 'Pennsylvania': 8202.902387999995,\n",
       " 'Massachusetts': 6655.4574349999975,\n",
       " 'Illinois': 6540.723452999996,\n",
       " 'Ohio': 6056.139494999993,\n",
       " 'Colorado': 5737.810289999994,\n",
       " 'Michigan': 5664.147185999994,\n",
       " 'Maryland': 5540.705210999996,\n",
       " 'New Jersey': 5005.206722999996,\n",
       " 'Oregon': 4928.288079999995,\n",
       " 'Georgia': 4459.007956999998,\n",
       " 'Missouri': 4317.297437999999,\n",
       " 'Iowa': 4151.831270999996,\n",
       " 'Minnesota': 3743.2029889999994,\n",
       " 'Wisconsin': 3474.0916119999997,\n",
       " 'Nevada': 2945.9580779999974,\n",
       " 'Tennessee': 2888.5199140000004,\n",
       " 'Indiana': 2424.902205,\n",
       " 'South Carolina': 2384.2101040000007,\n",
       " 'Kentucky': 2319.1764770000023,\n",
       " 'Connecticut': 2277.9450710000006,\n",
       " 'Kansas': 2264.2865699999998,\n",
       " 'New Mexico': 1826.3980760000002,\n",
       " 'Maine': 1753.9279470000015,\n",
       " 'Arkansas': 1476.0716570000006,\n",
       " 'Oklahoma': 1230.9873420000008,\n",
       " 'New Hampshire': 1230.9693450000004,\n",
       " 'Louisiana': 1098.907793000001,\n",
       " 'Alabama': 1063.4412340000008,\n",
       " 'Rhode Island': 1046.547374,\n",
       " 'Hawaii': 1042.0511700000006,\n",
       " 'Utah': 990.0865890000002,\n",
       " 'Montana': 908.9878699999999,\n",
       " 'Vermont': 840.7835890000008,\n",
       " 'Idaho': 780.3321270000009,\n",
       " 'Nebraska': 685.2933410000005,\n",
       " 'Delaware': 660.0567800000003,\n",
       " 'Alaska': 639.7330540000003,\n",
       " 'West Virginia': 624.3452480000004,\n",
       " 'Mississippi': 483.32985999999966,\n",
       " 'South Dakota': 339.3579299999999,\n",
       " 'Wyoming': 290.4340850000001,\n",
       " 'North Dakota': 254.33863199999988}"
      ]
     },
     "execution_count": 245,
     "metadata": {},
     "output_type": "execute_result"
    }
   ],
   "source": [
    "Tmp_df_b_US_8 = df_b_US_8.rdd.map(lambda row: row.asDict()).collect()\n",
    "dict_US_b_8 = {d['region']: d['sum(percentage)'] for d in Tmp_df_b_US_8}\n",
    "dict_US_b_8"
   ]
  },
  {
   "cell_type": "code",
   "execution_count": 246,
   "id": "2953d53f",
   "metadata": {},
   "outputs": [
    {
     "name": "stderr",
     "output_type": "stream",
     "text": [
      "                                                                                \r"
     ]
    },
    {
     "data": {
      "text/plain": [
       "{'California': 31924.743169999998,\n",
       " 'Texas': 15619.895927999993,\n",
       " 'Florida': 13542.565962999994,\n",
       " 'New York': 12135.065199999994,\n",
       " 'North Carolina': 9268.075888999987,\n",
       " 'Pennsylvania': 8657.926717999993,\n",
       " 'Washington': 8358.272109999996,\n",
       " 'Arizona': 7383.251734999994,\n",
       " 'Ohio': 6868.459636999993,\n",
       " 'Virginia': 6516.285060999994,\n",
       " 'Illinois': 5971.081433999995,\n",
       " 'Michigan': 5826.019118999997,\n",
       " 'Massachusetts': 5596.738914,\n",
       " 'Oregon': 5583.287769999996,\n",
       " 'New Jersey': 4806.674085999998,\n",
       " 'Iowa': 4705.557338999998,\n",
       " 'Colorado': 4603.993758999997,\n",
       " 'Maryland': 4173.030025999999,\n",
       " 'Georgia': 3874.0653499999985,\n",
       " 'Missouri': 3731.345275999998,\n",
       " 'Wisconsin': 3672.3506539999976,\n",
       " 'Minnesota': 3539.2742169999997,\n",
       " 'Tennessee': 3146.5301859999977,\n",
       " 'Indiana': 2372.4154320000002,\n",
       " 'Connecticut': 2220.899516000001,\n",
       " 'South Carolina': 2119.443222000001,\n",
       " 'Nevada': 2099.0136020000004,\n",
       " 'Kentucky': 1890.4060820000004,\n",
       " 'Arkansas': 1879.3515979999997,\n",
       " 'New Mexico': 1712.1535969999998,\n",
       " 'Kansas': 1631.1713070000014,\n",
       " 'Montana': 1573.2679190000008,\n",
       " 'Maine': 1483.7701380000003,\n",
       " 'Oklahoma': 1237.2748290000006,\n",
       " 'Rhode Island': 1224.6365289999999,\n",
       " 'Alabama': 1125.8927760000004,\n",
       " 'New Hampshire': 1087.9190060000003,\n",
       " 'Utah': 970.159760000001,\n",
       " 'Hawaii': 958.7279790000007,\n",
       " 'Louisiana': 927.8051960000003,\n",
       " 'Idaho': 826.1142410000009,\n",
       " 'Vermont': 791.1897810000006,\n",
       " 'Nebraska': 672.1376210000004,\n",
       " 'West Virginia': 658.586104,\n",
       " 'Alaska': 643.1463950000003,\n",
       " 'Delaware': 628.0192050000006,\n",
       " 'Mississippi': 456.584758,\n",
       " 'South Dakota': 341.2237079999999,\n",
       " 'Wyoming': 294.72521700000016,\n",
       " 'North Dakota': 259.41808}"
      ]
     },
     "execution_count": 246,
     "metadata": {},
     "output_type": "execute_result"
    }
   ],
   "source": [
    "Tmp_df_b_US_9 = df_b_US_9.rdd.map(lambda row: row.asDict()).collect()\n",
    "dict_US_b_9 = {d['region']: d['sum(percentage)'] for d in Tmp_df_b_US_9}\n",
    "dict_US_b_9"
   ]
  },
  {
   "cell_type": "code",
   "execution_count": 247,
   "id": "74e130e5",
   "metadata": {},
   "outputs": [
    {
     "name": "stderr",
     "output_type": "stream",
     "text": [
      "                                                                                \r"
     ]
    },
    {
     "data": {
      "text/plain": [
       "{'California': 25804.658716999988,\n",
       " 'Florida': 11461.795583999992,\n",
       " 'Texas': 11206.349627999993,\n",
       " 'New York': 10510.300424999994,\n",
       " 'Washington': 9198.166511999996,\n",
       " 'Pennsylvania': 9134.626186999996,\n",
       " 'North Carolina': 8130.611122999996,\n",
       " 'Virginia': 6610.946557999999,\n",
       " 'Ohio': 6135.9142669999965,\n",
       " 'Arizona': 5947.511197999998,\n",
       " 'Michigan': 5309.175140999997,\n",
       " 'Illinois': 5060.631543,\n",
       " 'Massachusetts': 4730.400447999999,\n",
       " 'New Jersey': 4500.5769279999995,\n",
       " 'Oregon': 4066.844163999999,\n",
       " 'Colorado': 3882.2096269999984,\n",
       " 'Maryland': 3830.1939469999993,\n",
       " 'Kentucky': 3501.164019999999,\n",
       " 'Wisconsin': 3390.4512599999994,\n",
       " 'Georgia': 3273.2971900000002,\n",
       " 'Iowa': 3099.8520569999987,\n",
       " 'Minnesota': 2848.986284,\n",
       " 'Missouri': 2754.3228339999996,\n",
       " 'Kansas': 2508.3111649999996,\n",
       " 'Tennessee': 2208.3475890000004,\n",
       " 'Indiana': 2108.3068120000003,\n",
       " 'Connecticut': 1874.3154620000012,\n",
       " 'South Carolina': 1786.9201860000007,\n",
       " 'Nevada': 1559.2556410000009,\n",
       " 'Arkansas': 1504.322341,\n",
       " 'New Mexico': 1461.6593610000002,\n",
       " 'Maine': 1265.5246790000008,\n",
       " 'Oklahoma': 1076.6360740000007,\n",
       " 'Montana': 1015.6669450000009,\n",
       " 'New Hampshire': 993.2332690000005,\n",
       " 'Alabama': 987.4876430000011,\n",
       " 'Louisiana': 860.076646,\n",
       " 'Utah': 831.6630250000004,\n",
       " 'Hawaii': 806.0330980000008,\n",
       " 'Delaware': 739.125403,\n",
       " 'Idaho': 733.2926390000003,\n",
       " 'Rhode Island': 700.9005179999998,\n",
       " 'Vermont': 685.2765619999999,\n",
       " 'Alaska': 614.6873089999999,\n",
       " 'Nebraska': 601.031619,\n",
       " 'West Virginia': 596.702964,\n",
       " 'Mississippi': 426.44284800000014,\n",
       " 'South Dakota': 295.32289799999995,\n",
       " 'Wyoming': 264.677727,\n",
       " 'North Dakota': 197.0564739999998}"
      ]
     },
     "execution_count": 247,
     "metadata": {},
     "output_type": "execute_result"
    }
   ],
   "source": [
    "Tmp_df_b_US_10 = df_b_US_10.rdd.map(lambda row: row.asDict()).collect()\n",
    "dict_US_b_10 = {d['region']: d['sum(percentage)'] for d in Tmp_df_b_US_10}\n",
    "dict_US_b_10"
   ]
  },
  {
   "cell_type": "code",
   "execution_count": 248,
   "id": "d2ad3a66",
   "metadata": {},
   "outputs": [
    {
     "name": "stderr",
     "output_type": "stream",
     "text": [
      "                                                                                \r"
     ]
    },
    {
     "data": {
      "text/plain": [
       "{'California': 43357.07189000001,\n",
       " 'Texas': 21300.844110000005,\n",
       " 'Florida': 17832.56336199999,\n",
       " 'New York': 17038.111896999988,\n",
       " 'Washington': 15228.72631799998,\n",
       " 'Pennsylvania': 13248.478418999994,\n",
       " 'Michigan': 12704.74690699999,\n",
       " 'North Carolina': 12320.40872299999,\n",
       " 'Ohio': 10988.669788999987,\n",
       " 'Illinois': 9475.557083999993,\n",
       " 'Colorado': 8990.803471,\n",
       " 'Virginia': 8504.060063999994,\n",
       " 'Arizona': 7824.459754999993,\n",
       " 'Massachusetts': 7672.441394999989,\n",
       " 'New Jersey': 7461.3193269999965,\n",
       " 'Oregon': 7277.506440999997,\n",
       " 'Maryland': 6644.817529000001,\n",
       " 'Kentucky': 6506.829467000001,\n",
       " 'Wisconsin': 6365.679602999997,\n",
       " 'Iowa': 5696.526629000001,\n",
       " 'Georgia': 5310.536280999999,\n",
       " 'Minnesota': 5098.670972999999,\n",
       " 'Missouri': 5022.851958999998,\n",
       " 'Tennessee': 3941.9750699999995,\n",
       " 'Indiana': 3856.5056859999986,\n",
       " 'Connecticut': 3388.584510999999,\n",
       " 'Kansas': 2971.3639809999995,\n",
       " 'Nevada': 2933.3090460000017,\n",
       " 'New Mexico': 2791.2900570000024,\n",
       " 'South Carolina': 2582.364146999999,\n",
       " 'Arkansas': 2560.2611620000007,\n",
       " 'Maine': 2546.924016000001,\n",
       " 'Oklahoma': 1965.9144790000014,\n",
       " 'Montana': 1741.5324830000004,\n",
       " 'Alabama': 1674.7812380000007,\n",
       " 'New Hampshire': 1643.5868190000003,\n",
       " 'Utah': 1593.5047900000009,\n",
       " 'Hawaii': 1510.3319340000016,\n",
       " 'Louisiana': 1499.322029000001,\n",
       " 'Idaho': 1353.7234710000018,\n",
       " 'Vermont': 1288.3187150000012,\n",
       " 'Delaware': 1254.794205,\n",
       " 'Nebraska': 1169.1424820000007,\n",
       " 'Alaska': 1098.225196000001,\n",
       " 'West Virginia': 1027.5063299999997,\n",
       " 'Rhode Island': 991.0835579999998,\n",
       " 'Mississippi': 733.4164959999998,\n",
       " 'South Dakota': 585.0566729999999,\n",
       " 'Wyoming': 526.1024480000002,\n",
       " 'North Dakota': 377.68007900000003}"
      ]
     },
     "execution_count": 248,
     "metadata": {},
     "output_type": "execute_result"
    }
   ],
   "source": [
    "Tmp_df_b_US_11 = df_b_US_11.rdd.map(lambda row: row.asDict()).collect()\n",
    "dict_US_b_11 = {d['region']: d['sum(percentage)'] for d in Tmp_df_b_US_11}\n",
    "dict_US_b_11"
   ]
  },
  {
   "cell_type": "code",
   "execution_count": 249,
   "id": "80d3a2ea",
   "metadata": {},
   "outputs": [
    {
     "name": "stderr",
     "output_type": "stream",
     "text": [
      "                                                                                \r"
     ]
    },
    {
     "data": {
      "text/plain": [
       "{'California': 89241.62325999985,\n",
       " 'Texas': 46788.73655599998,\n",
       " 'Florida': 46591.99829499999,\n",
       " 'New York': 36747.94055599999,\n",
       " 'Michigan': 31382.48476499996,\n",
       " 'Washington': 26997.379906999995,\n",
       " 'Pennsylvania': 26814.270001999997,\n",
       " 'Ohio': 23791.00024599996,\n",
       " 'North Carolina': 23411.907639,\n",
       " 'Illinois': 20481.543868999997,\n",
       " 'Virginia': 18549.343976999986,\n",
       " 'Arizona': 17146.001116999993,\n",
       " 'Massachusetts': 16650.00134799999,\n",
       " 'Colorado': 16466.774609999982,\n",
       " 'Oregon': 15311.238857999986,\n",
       " 'New Jersey': 15072.948141999985,\n",
       " 'Maryland': 13862.881076000001,\n",
       " 'Georgia': 13113.53922099999,\n",
       " 'Wisconsin': 12734.77027099999,\n",
       " 'Missouri': 11010.033597,\n",
       " 'Minnesota': 10942.568279000021,\n",
       " 'Iowa': 10301.942650000003,\n",
       " 'Kentucky': 9867.130796999996,\n",
       " 'Tennessee': 8769.121075,\n",
       " 'Indiana': 8604.087258000005,\n",
       " 'Nevada': 8602.974745,\n",
       " 'Connecticut': 7322.777530000003,\n",
       " 'Kansas': 7038.204752999996,\n",
       " 'Maine': 6946.297590000007,\n",
       " 'Montana': 6434.897359000005,\n",
       " 'New Mexico': 6178.544226999999,\n",
       " 'South Carolina': 6138.012161999999,\n",
       " 'Arkansas': 4914.562729,\n",
       " 'New Hampshire': 4574.272292999999,\n",
       " 'Oklahoma': 4428.876036000004,\n",
       " 'Alabama': 3850.4557470000013,\n",
       " 'Utah': 3427.861340000003,\n",
       " 'Hawaii': 3164.249391000001,\n",
       " 'Louisiana': 3137.318478000004,\n",
       " 'Idaho': 2910.0562580000033,\n",
       " 'Vermont': 2892.8462180000006,\n",
       " 'Delaware': 2850.3994330000005,\n",
       " 'Nebraska': 2505.7671559999994,\n",
       " 'Alaska': 2211.4880859999994,\n",
       " 'Rhode Island': 2190.4586950000007,\n",
       " 'West Virginia': 2125.603364999999,\n",
       " 'Mississippi': 1640.8878460000005,\n",
       " 'South Dakota': 1248.7244379999995,\n",
       " 'Wyoming': 1127.992418,\n",
       " 'North Dakota': 764.2167359999997}"
      ]
     },
     "execution_count": 249,
     "metadata": {},
     "output_type": "execute_result"
    }
   ],
   "source": [
    "Tmp_df_b_US_12 = df_b_US_12.rdd.map(lambda row: row.asDict()).collect()\n",
    "dict_US_b_12 = {d['region']: d['sum(percentage)'] for d in Tmp_df_b_US_12}\n",
    "dict_US_b_12"
   ]
  },
  {
   "cell_type": "code",
   "execution_count": 254,
   "id": "1f9ddbb5",
   "metadata": {},
   "outputs": [
    {
     "name": "stdout",
     "output_type": "stream",
     "text": [
      "['Texas', 'Pennsylvania', 'California', 'Florida', 'Indiana']\n",
      "{'Texas': 2.036594190903603, 'Pennsylvania': 1.4975947355422057, 'California': 0.5499399909304682, 'Florida': 0.5385088095720413, 'Indiana': 0.4926186850823992, 'Ohio': 0.30760812018150796, 'New York': 0.28713216798130053, 'Michigan': 0.27819866105404845, 'Arizona': 0.24984515449003242, 'Illinois': 0.22021851123971606, 'Georgia': 0.21847913003120026, 'North Carolina': 0.210814017962952, 'Tennessee': 0.17897585210200334, 'Missouri': 0.1762978360646986, 'Washington': 0.16653172087760076, 'Virginia': 0.16648110200110902, 'New Jersey': 0.15555712593032556, 'Alabama': 0.14332850407704548, 'South Carolina': 0.13178262860654033, 'Kentucky': 0.11618401816043471, 'Massachusetts': 0.11483604425937723, 'Wisconsin': 0.11412606129725783, 'Oklahoma': 0.11301289980810904, 'Minnesota': 0.11112660440518095, 'Louisiana': 0.1057009271073838, 'Colorado': 0.10414874429300382, 'Oregon': 0.10397350934260768, 'Arkansas': 0.09127951847389469, 'Maryland': 0.09027516150330804, 'Kansas': 0.08450299438211512, 'Iowa': 0.0831989015631052, 'Mississippi': 0.07389102172245665, 'Nevada': 0.06396087167773852, 'Utah': 0.06322270631610172, 'Nebraska': 0.060815328844685684, 'Connecticut': 0.05551878469375911, 'Idaho': 0.055134049623552436, 'West Virginia': 0.04873370747681507, 'New Mexico': 0.04770996988892148, 'Montana': 0.0427792403730399, 'Maine': 0.03580635007358172, 'New Hampshire': 0.03490229229548427, 'Alaska': 0.033424265046123156, 'Wyoming': 0.03225755555703319, 'South Dakota': 0.02771432298579568, 'Delaware': 0.021462533706699666, 'North Dakota': 0.020628875510166473, 'Hawaii': 0.017837793158700023, 'Rhode Island': 0.013741255438009454, 'Vermont': 0.011586746384758494}\n"
     ]
    }
   ],
   "source": [
    "dict_US_list = [dict_US_1, dict_US_2, dict_US_3, dict_US_4, dict_US_5, dict_US_6, dict_US_7, dict_US_8, dict_US_9, dict_US_10, dict_US_11, dict_US_12]\n",
    "dict_r_count = {}\n",
    "dict_r_sum = {}\n",
    "for dict_US in dict_US_list:\n",
    "    ad_sum = 0\n",
    "    for state in US_states:\n",
    "        if state in dict_US.keys():\n",
    "            ad_sum += dict_US[state]\n",
    "    \n",
    "    for state in US_states:\n",
    "        if state in dict_r_count.keys():\n",
    "            dict_r_count[state].append(dict_US[state]/ad_sum)\n",
    "            dict_r_sum[state] += dict_US[state]/ad_sum\n",
    "        elif state in dict_US.keys():\n",
    "            dict_r_count[state] = [dict_US[state]/ad_sum]\n",
    "            dict_r_sum[state] = dict_US[state]/ad_sum\n",
    "\n",
    "dict_r_sum_order = dict(sorted(dict_r_sum.items(), key=lambda item: item[1], reverse=True))\n",
    "dict_r_top_5 = list(dict_r_sum_order.keys())[:5]\n",
    "print(dict_r_top_5)\n",
    "print(dict_r_sum_order)"
   ]
  },
  {
   "cell_type": "code",
   "execution_count": 253,
   "id": "a22a8e12",
   "metadata": {},
   "outputs": [
    {
     "name": "stdout",
     "output_type": "stream",
     "text": [
      "['California', 'Texas', 'New York', 'Florida', 'Pennsylvania']\n"
     ]
    }
   ],
   "source": [
    "dict_US_list = [dict_US_b_1, dict_US_b_2, dict_US_b_3, dict_US_b_4, dict_US_b_5, dict_US_b_6, dict_US_b_7, dict_US_b_8, dict_US_b_9, dict_US_b_10, dict_US_b_11, dict_US_b_12]\n",
    "dict_b_count = {}\n",
    "dict_b_sum = {}\n",
    "for dict_US in dict_US_list[2:]:\n",
    "    ad_sum = 0\n",
    "    for state in US_states:\n",
    "        if state in dict_US.keys():\n",
    "            ad_sum += dict_US[state]\n",
    "    \n",
    "    for state in US_states:\n",
    "        if state in dict_b_count.keys():\n",
    "            dict_b_count[state].append(dict_US[state]/ad_sum)\n",
    "            dict_b_sum[state] += dict_US[state]/ad_sum\n",
    "        elif state in dict_US.keys():\n",
    "            dict_b_count[state] = [dict_US[state]/ad_sum]\n",
    "            dict_b_sum[state] = dict_US[state]/ad_sum\n",
    "\n",
    "dict_b_sum_order = dict(sorted(dict_b_sum.items(), key=lambda item: item[1], reverse=True))\n",
    "dict_b_top_5 = list(dict_b_sum_order.keys())[:5]\n",
    "print(dict_b_top_5)"
   ]
  },
  {
   "cell_type": "code",
   "execution_count": 259,
   "id": "854b427a",
   "metadata": {},
   "outputs": [
    {
     "data": {
      "text/html": [
       "<div>\n",
       "<style scoped>\n",
       "    .dataframe tbody tr th:only-of-type {\n",
       "        vertical-align: middle;\n",
       "    }\n",
       "\n",
       "    .dataframe tbody tr th {\n",
       "        vertical-align: top;\n",
       "    }\n",
       "\n",
       "    .dataframe thead th {\n",
       "        text-align: right;\n",
       "    }\n",
       "</style>\n",
       "<table border=\"1\" class=\"dataframe\">\n",
       "  <thead>\n",
       "    <tr style=\"text-align: right;\">\n",
       "      <th></th>\n",
       "      <th>State</th>\n",
       "      <th>Percentage</th>\n",
       "    </tr>\n",
       "  </thead>\n",
       "  <tbody>\n",
       "    <tr>\n",
       "      <th>0</th>\n",
       "      <td>Texas</td>\n",
       "      <td>2.036594</td>\n",
       "    </tr>\n",
       "    <tr>\n",
       "      <th>1</th>\n",
       "      <td>Pennsylvania</td>\n",
       "      <td>1.497595</td>\n",
       "    </tr>\n",
       "    <tr>\n",
       "      <th>2</th>\n",
       "      <td>California</td>\n",
       "      <td>0.549940</td>\n",
       "    </tr>\n",
       "    <tr>\n",
       "      <th>3</th>\n",
       "      <td>Florida</td>\n",
       "      <td>0.538509</td>\n",
       "    </tr>\n",
       "    <tr>\n",
       "      <th>4</th>\n",
       "      <td>Indiana</td>\n",
       "      <td>0.492619</td>\n",
       "    </tr>\n",
       "    <tr>\n",
       "      <th>5</th>\n",
       "      <td>Ohio</td>\n",
       "      <td>0.307608</td>\n",
       "    </tr>\n",
       "    <tr>\n",
       "      <th>6</th>\n",
       "      <td>New York</td>\n",
       "      <td>0.287132</td>\n",
       "    </tr>\n",
       "    <tr>\n",
       "      <th>7</th>\n",
       "      <td>Michigan</td>\n",
       "      <td>0.278199</td>\n",
       "    </tr>\n",
       "    <tr>\n",
       "      <th>8</th>\n",
       "      <td>Arizona</td>\n",
       "      <td>0.249845</td>\n",
       "    </tr>\n",
       "    <tr>\n",
       "      <th>9</th>\n",
       "      <td>Illinois</td>\n",
       "      <td>0.220219</td>\n",
       "    </tr>\n",
       "    <tr>\n",
       "      <th>10</th>\n",
       "      <td>Georgia</td>\n",
       "      <td>0.218479</td>\n",
       "    </tr>\n",
       "    <tr>\n",
       "      <th>11</th>\n",
       "      <td>North Carolina</td>\n",
       "      <td>0.210814</td>\n",
       "    </tr>\n",
       "    <tr>\n",
       "      <th>12</th>\n",
       "      <td>Tennessee</td>\n",
       "      <td>0.178976</td>\n",
       "    </tr>\n",
       "    <tr>\n",
       "      <th>13</th>\n",
       "      <td>Missouri</td>\n",
       "      <td>0.176298</td>\n",
       "    </tr>\n",
       "    <tr>\n",
       "      <th>14</th>\n",
       "      <td>Washington</td>\n",
       "      <td>0.166532</td>\n",
       "    </tr>\n",
       "    <tr>\n",
       "      <th>15</th>\n",
       "      <td>Virginia</td>\n",
       "      <td>0.166481</td>\n",
       "    </tr>\n",
       "    <tr>\n",
       "      <th>16</th>\n",
       "      <td>New Jersey</td>\n",
       "      <td>0.155557</td>\n",
       "    </tr>\n",
       "    <tr>\n",
       "      <th>17</th>\n",
       "      <td>Alabama</td>\n",
       "      <td>0.143329</td>\n",
       "    </tr>\n",
       "    <tr>\n",
       "      <th>18</th>\n",
       "      <td>South Carolina</td>\n",
       "      <td>0.131783</td>\n",
       "    </tr>\n",
       "    <tr>\n",
       "      <th>19</th>\n",
       "      <td>Kentucky</td>\n",
       "      <td>0.116184</td>\n",
       "    </tr>\n",
       "    <tr>\n",
       "      <th>20</th>\n",
       "      <td>Massachusetts</td>\n",
       "      <td>0.114836</td>\n",
       "    </tr>\n",
       "    <tr>\n",
       "      <th>21</th>\n",
       "      <td>Wisconsin</td>\n",
       "      <td>0.114126</td>\n",
       "    </tr>\n",
       "    <tr>\n",
       "      <th>22</th>\n",
       "      <td>Oklahoma</td>\n",
       "      <td>0.113013</td>\n",
       "    </tr>\n",
       "    <tr>\n",
       "      <th>23</th>\n",
       "      <td>Minnesota</td>\n",
       "      <td>0.111127</td>\n",
       "    </tr>\n",
       "    <tr>\n",
       "      <th>24</th>\n",
       "      <td>Louisiana</td>\n",
       "      <td>0.105701</td>\n",
       "    </tr>\n",
       "    <tr>\n",
       "      <th>25</th>\n",
       "      <td>Colorado</td>\n",
       "      <td>0.104149</td>\n",
       "    </tr>\n",
       "    <tr>\n",
       "      <th>26</th>\n",
       "      <td>Oregon</td>\n",
       "      <td>0.103974</td>\n",
       "    </tr>\n",
       "    <tr>\n",
       "      <th>27</th>\n",
       "      <td>Arkansas</td>\n",
       "      <td>0.091280</td>\n",
       "    </tr>\n",
       "    <tr>\n",
       "      <th>28</th>\n",
       "      <td>Maryland</td>\n",
       "      <td>0.090275</td>\n",
       "    </tr>\n",
       "    <tr>\n",
       "      <th>29</th>\n",
       "      <td>Kansas</td>\n",
       "      <td>0.084503</td>\n",
       "    </tr>\n",
       "    <tr>\n",
       "      <th>30</th>\n",
       "      <td>Iowa</td>\n",
       "      <td>0.083199</td>\n",
       "    </tr>\n",
       "    <tr>\n",
       "      <th>31</th>\n",
       "      <td>Mississippi</td>\n",
       "      <td>0.073891</td>\n",
       "    </tr>\n",
       "    <tr>\n",
       "      <th>32</th>\n",
       "      <td>Nevada</td>\n",
       "      <td>0.063961</td>\n",
       "    </tr>\n",
       "    <tr>\n",
       "      <th>33</th>\n",
       "      <td>Utah</td>\n",
       "      <td>0.063223</td>\n",
       "    </tr>\n",
       "    <tr>\n",
       "      <th>34</th>\n",
       "      <td>Nebraska</td>\n",
       "      <td>0.060815</td>\n",
       "    </tr>\n",
       "    <tr>\n",
       "      <th>35</th>\n",
       "      <td>Connecticut</td>\n",
       "      <td>0.055519</td>\n",
       "    </tr>\n",
       "    <tr>\n",
       "      <th>36</th>\n",
       "      <td>Idaho</td>\n",
       "      <td>0.055134</td>\n",
       "    </tr>\n",
       "    <tr>\n",
       "      <th>37</th>\n",
       "      <td>West Virginia</td>\n",
       "      <td>0.048734</td>\n",
       "    </tr>\n",
       "    <tr>\n",
       "      <th>38</th>\n",
       "      <td>New Mexico</td>\n",
       "      <td>0.047710</td>\n",
       "    </tr>\n",
       "    <tr>\n",
       "      <th>39</th>\n",
       "      <td>Montana</td>\n",
       "      <td>0.042779</td>\n",
       "    </tr>\n",
       "    <tr>\n",
       "      <th>40</th>\n",
       "      <td>Maine</td>\n",
       "      <td>0.035806</td>\n",
       "    </tr>\n",
       "    <tr>\n",
       "      <th>41</th>\n",
       "      <td>New Hampshire</td>\n",
       "      <td>0.034902</td>\n",
       "    </tr>\n",
       "    <tr>\n",
       "      <th>42</th>\n",
       "      <td>Alaska</td>\n",
       "      <td>0.033424</td>\n",
       "    </tr>\n",
       "    <tr>\n",
       "      <th>43</th>\n",
       "      <td>Wyoming</td>\n",
       "      <td>0.032258</td>\n",
       "    </tr>\n",
       "    <tr>\n",
       "      <th>44</th>\n",
       "      <td>South Dakota</td>\n",
       "      <td>0.027714</td>\n",
       "    </tr>\n",
       "    <tr>\n",
       "      <th>45</th>\n",
       "      <td>Delaware</td>\n",
       "      <td>0.021463</td>\n",
       "    </tr>\n",
       "    <tr>\n",
       "      <th>46</th>\n",
       "      <td>North Dakota</td>\n",
       "      <td>0.020629</td>\n",
       "    </tr>\n",
       "    <tr>\n",
       "      <th>47</th>\n",
       "      <td>Hawaii</td>\n",
       "      <td>0.017838</td>\n",
       "    </tr>\n",
       "    <tr>\n",
       "      <th>48</th>\n",
       "      <td>Rhode Island</td>\n",
       "      <td>0.013741</td>\n",
       "    </tr>\n",
       "    <tr>\n",
       "      <th>49</th>\n",
       "      <td>Vermont</td>\n",
       "      <td>0.011587</td>\n",
       "    </tr>\n",
       "  </tbody>\n",
       "</table>\n",
       "</div>"
      ],
      "text/plain": [
       "             State  Percentage\n",
       "0            Texas    2.036594\n",
       "1     Pennsylvania    1.497595\n",
       "2       California    0.549940\n",
       "3          Florida    0.538509\n",
       "4          Indiana    0.492619\n",
       "5             Ohio    0.307608\n",
       "6         New York    0.287132\n",
       "7         Michigan    0.278199\n",
       "8          Arizona    0.249845\n",
       "9         Illinois    0.220219\n",
       "10         Georgia    0.218479\n",
       "11  North Carolina    0.210814\n",
       "12       Tennessee    0.178976\n",
       "13        Missouri    0.176298\n",
       "14      Washington    0.166532\n",
       "15        Virginia    0.166481\n",
       "16      New Jersey    0.155557\n",
       "17         Alabama    0.143329\n",
       "18  South Carolina    0.131783\n",
       "19        Kentucky    0.116184\n",
       "20   Massachusetts    0.114836\n",
       "21       Wisconsin    0.114126\n",
       "22        Oklahoma    0.113013\n",
       "23       Minnesota    0.111127\n",
       "24       Louisiana    0.105701\n",
       "25        Colorado    0.104149\n",
       "26          Oregon    0.103974\n",
       "27        Arkansas    0.091280\n",
       "28        Maryland    0.090275\n",
       "29          Kansas    0.084503\n",
       "30            Iowa    0.083199\n",
       "31     Mississippi    0.073891\n",
       "32          Nevada    0.063961\n",
       "33            Utah    0.063223\n",
       "34        Nebraska    0.060815\n",
       "35     Connecticut    0.055519\n",
       "36           Idaho    0.055134\n",
       "37   West Virginia    0.048734\n",
       "38      New Mexico    0.047710\n",
       "39         Montana    0.042779\n",
       "40           Maine    0.035806\n",
       "41   New Hampshire    0.034902\n",
       "42          Alaska    0.033424\n",
       "43         Wyoming    0.032258\n",
       "44    South Dakota    0.027714\n",
       "45        Delaware    0.021463\n",
       "46    North Dakota    0.020629\n",
       "47          Hawaii    0.017838\n",
       "48    Rhode Island    0.013741\n",
       "49         Vermont    0.011587"
      ]
     },
     "execution_count": 259,
     "metadata": {},
     "output_type": "execute_result"
    }
   ],
   "source": [
    "df_r_sum_order = pd.DataFrame(dict_r_sum_order.items(), columns=['State', 'Percentage'])\n",
    "df_r_sum_order"
   ]
  },
  {
   "cell_type": "code",
   "execution_count": 263,
   "id": "53fa205f",
   "metadata": {},
   "outputs": [
    {
     "data": {
      "text/html": [
       "<div>\n",
       "<style scoped>\n",
       "    .dataframe tbody tr th:only-of-type {\n",
       "        vertical-align: middle;\n",
       "    }\n",
       "\n",
       "    .dataframe tbody tr th {\n",
       "        vertical-align: top;\n",
       "    }\n",
       "\n",
       "    .dataframe thead th {\n",
       "        text-align: right;\n",
       "    }\n",
       "</style>\n",
       "<table border=\"1\" class=\"dataframe\">\n",
       "  <thead>\n",
       "    <tr style=\"text-align: right;\">\n",
       "      <th></th>\n",
       "      <th>State</th>\n",
       "      <th>Percentage</th>\n",
       "    </tr>\n",
       "  </thead>\n",
       "  <tbody>\n",
       "    <tr>\n",
       "      <th>0</th>\n",
       "      <td>California</td>\n",
       "      <td>1.445977</td>\n",
       "    </tr>\n",
       "    <tr>\n",
       "      <th>1</th>\n",
       "      <td>Texas</td>\n",
       "      <td>0.680528</td>\n",
       "    </tr>\n",
       "    <tr>\n",
       "      <th>2</th>\n",
       "      <td>New York</td>\n",
       "      <td>0.632121</td>\n",
       "    </tr>\n",
       "    <tr>\n",
       "      <th>3</th>\n",
       "      <td>Florida</td>\n",
       "      <td>0.562601</td>\n",
       "    </tr>\n",
       "    <tr>\n",
       "      <th>4</th>\n",
       "      <td>Pennsylvania</td>\n",
       "      <td>0.433749</td>\n",
       "    </tr>\n",
       "    <tr>\n",
       "      <th>5</th>\n",
       "      <td>Washington</td>\n",
       "      <td>0.408437</td>\n",
       "    </tr>\n",
       "    <tr>\n",
       "      <th>6</th>\n",
       "      <td>Illinois</td>\n",
       "      <td>0.397129</td>\n",
       "    </tr>\n",
       "    <tr>\n",
       "      <th>7</th>\n",
       "      <td>Virginia</td>\n",
       "      <td>0.387629</td>\n",
       "    </tr>\n",
       "    <tr>\n",
       "      <th>8</th>\n",
       "      <td>North Carolina</td>\n",
       "      <td>0.373262</td>\n",
       "    </tr>\n",
       "    <tr>\n",
       "      <th>9</th>\n",
       "      <td>Arizona</td>\n",
       "      <td>0.348786</td>\n",
       "    </tr>\n",
       "    <tr>\n",
       "      <th>10</th>\n",
       "      <td>Michigan</td>\n",
       "      <td>0.299620</td>\n",
       "    </tr>\n",
       "    <tr>\n",
       "      <th>11</th>\n",
       "      <td>Ohio</td>\n",
       "      <td>0.288747</td>\n",
       "    </tr>\n",
       "    <tr>\n",
       "      <th>12</th>\n",
       "      <td>Massachusetts</td>\n",
       "      <td>0.279374</td>\n",
       "    </tr>\n",
       "    <tr>\n",
       "      <th>13</th>\n",
       "      <td>Colorado</td>\n",
       "      <td>0.262233</td>\n",
       "    </tr>\n",
       "    <tr>\n",
       "      <th>14</th>\n",
       "      <td>New Jersey</td>\n",
       "      <td>0.236601</td>\n",
       "    </tr>\n",
       "    <tr>\n",
       "      <th>15</th>\n",
       "      <td>Oregon</td>\n",
       "      <td>0.236239</td>\n",
       "    </tr>\n",
       "    <tr>\n",
       "      <th>16</th>\n",
       "      <td>Maryland</td>\n",
       "      <td>0.218524</td>\n",
       "    </tr>\n",
       "    <tr>\n",
       "      <th>17</th>\n",
       "      <td>Georgia</td>\n",
       "      <td>0.210039</td>\n",
       "    </tr>\n",
       "    <tr>\n",
       "      <th>18</th>\n",
       "      <td>Minnesota</td>\n",
       "      <td>0.195739</td>\n",
       "    </tr>\n",
       "    <tr>\n",
       "      <th>19</th>\n",
       "      <td>Wisconsin</td>\n",
       "      <td>0.182748</td>\n",
       "    </tr>\n",
       "    <tr>\n",
       "      <th>20</th>\n",
       "      <td>Missouri</td>\n",
       "      <td>0.170576</td>\n",
       "    </tr>\n",
       "    <tr>\n",
       "      <th>21</th>\n",
       "      <td>Iowa</td>\n",
       "      <td>0.135837</td>\n",
       "    </tr>\n",
       "    <tr>\n",
       "      <th>22</th>\n",
       "      <td>Kentucky</td>\n",
       "      <td>0.117346</td>\n",
       "    </tr>\n",
       "    <tr>\n",
       "      <th>23</th>\n",
       "      <td>Indiana</td>\n",
       "      <td>0.116429</td>\n",
       "    </tr>\n",
       "    <tr>\n",
       "      <th>24</th>\n",
       "      <td>Tennessee</td>\n",
       "      <td>0.114424</td>\n",
       "    </tr>\n",
       "    <tr>\n",
       "      <th>25</th>\n",
       "      <td>Connecticut</td>\n",
       "      <td>0.106164</td>\n",
       "    </tr>\n",
       "    <tr>\n",
       "      <th>26</th>\n",
       "      <td>South Carolina</td>\n",
       "      <td>0.096672</td>\n",
       "    </tr>\n",
       "    <tr>\n",
       "      <th>27</th>\n",
       "      <td>Nevada</td>\n",
       "      <td>0.094940</td>\n",
       "    </tr>\n",
       "    <tr>\n",
       "      <th>28</th>\n",
       "      <td>Kansas</td>\n",
       "      <td>0.090537</td>\n",
       "    </tr>\n",
       "    <tr>\n",
       "      <th>29</th>\n",
       "      <td>New Mexico</td>\n",
       "      <td>0.086509</td>\n",
       "    </tr>\n",
       "    <tr>\n",
       "      <th>30</th>\n",
       "      <td>Maine</td>\n",
       "      <td>0.072786</td>\n",
       "    </tr>\n",
       "    <tr>\n",
       "      <th>31</th>\n",
       "      <td>Arkansas</td>\n",
       "      <td>0.061390</td>\n",
       "    </tr>\n",
       "    <tr>\n",
       "      <th>32</th>\n",
       "      <td>Oklahoma</td>\n",
       "      <td>0.057091</td>\n",
       "    </tr>\n",
       "    <tr>\n",
       "      <th>33</th>\n",
       "      <td>Montana</td>\n",
       "      <td>0.055048</td>\n",
       "    </tr>\n",
       "    <tr>\n",
       "      <th>34</th>\n",
       "      <td>Alabama</td>\n",
       "      <td>0.052570</td>\n",
       "    </tr>\n",
       "    <tr>\n",
       "      <th>35</th>\n",
       "      <td>New Hampshire</td>\n",
       "      <td>0.050625</td>\n",
       "    </tr>\n",
       "    <tr>\n",
       "      <th>36</th>\n",
       "      <td>Louisiana</td>\n",
       "      <td>0.047392</td>\n",
       "    </tr>\n",
       "    <tr>\n",
       "      <th>37</th>\n",
       "      <td>Utah</td>\n",
       "      <td>0.046966</td>\n",
       "    </tr>\n",
       "    <tr>\n",
       "      <th>38</th>\n",
       "      <td>Hawaii</td>\n",
       "      <td>0.046447</td>\n",
       "    </tr>\n",
       "    <tr>\n",
       "      <th>39</th>\n",
       "      <td>Rhode Island</td>\n",
       "      <td>0.038591</td>\n",
       "    </tr>\n",
       "    <tr>\n",
       "      <th>40</th>\n",
       "      <td>Vermont</td>\n",
       "      <td>0.037357</td>\n",
       "    </tr>\n",
       "    <tr>\n",
       "      <th>41</th>\n",
       "      <td>Idaho</td>\n",
       "      <td>0.037110</td>\n",
       "    </tr>\n",
       "    <tr>\n",
       "      <th>42</th>\n",
       "      <td>Nebraska</td>\n",
       "      <td>0.032715</td>\n",
       "    </tr>\n",
       "    <tr>\n",
       "      <th>43</th>\n",
       "      <td>Delaware</td>\n",
       "      <td>0.031519</td>\n",
       "    </tr>\n",
       "    <tr>\n",
       "      <th>44</th>\n",
       "      <td>Alaska</td>\n",
       "      <td>0.029841</td>\n",
       "    </tr>\n",
       "    <tr>\n",
       "      <th>45</th>\n",
       "      <td>West Virginia</td>\n",
       "      <td>0.029293</td>\n",
       "    </tr>\n",
       "    <tr>\n",
       "      <th>46</th>\n",
       "      <td>Mississippi</td>\n",
       "      <td>0.021731</td>\n",
       "    </tr>\n",
       "    <tr>\n",
       "      <th>47</th>\n",
       "      <td>South Dakota</td>\n",
       "      <td>0.016500</td>\n",
       "    </tr>\n",
       "    <tr>\n",
       "      <th>48</th>\n",
       "      <td>Wyoming</td>\n",
       "      <td>0.013822</td>\n",
       "    </tr>\n",
       "    <tr>\n",
       "      <th>49</th>\n",
       "      <td>North Dakota</td>\n",
       "      <td>0.011687</td>\n",
       "    </tr>\n",
       "  </tbody>\n",
       "</table>\n",
       "</div>"
      ],
      "text/plain": [
       "             State  Percentage\n",
       "0       California    1.445977\n",
       "1            Texas    0.680528\n",
       "2         New York    0.632121\n",
       "3          Florida    0.562601\n",
       "4     Pennsylvania    0.433749\n",
       "5       Washington    0.408437\n",
       "6         Illinois    0.397129\n",
       "7         Virginia    0.387629\n",
       "8   North Carolina    0.373262\n",
       "9          Arizona    0.348786\n",
       "10        Michigan    0.299620\n",
       "11            Ohio    0.288747\n",
       "12   Massachusetts    0.279374\n",
       "13        Colorado    0.262233\n",
       "14      New Jersey    0.236601\n",
       "15          Oregon    0.236239\n",
       "16        Maryland    0.218524\n",
       "17         Georgia    0.210039\n",
       "18       Minnesota    0.195739\n",
       "19       Wisconsin    0.182748\n",
       "20        Missouri    0.170576\n",
       "21            Iowa    0.135837\n",
       "22        Kentucky    0.117346\n",
       "23         Indiana    0.116429\n",
       "24       Tennessee    0.114424\n",
       "25     Connecticut    0.106164\n",
       "26  South Carolina    0.096672\n",
       "27          Nevada    0.094940\n",
       "28          Kansas    0.090537\n",
       "29      New Mexico    0.086509\n",
       "30           Maine    0.072786\n",
       "31        Arkansas    0.061390\n",
       "32        Oklahoma    0.057091\n",
       "33         Montana    0.055048\n",
       "34         Alabama    0.052570\n",
       "35   New Hampshire    0.050625\n",
       "36       Louisiana    0.047392\n",
       "37            Utah    0.046966\n",
       "38          Hawaii    0.046447\n",
       "39    Rhode Island    0.038591\n",
       "40         Vermont    0.037357\n",
       "41           Idaho    0.037110\n",
       "42        Nebraska    0.032715\n",
       "43        Delaware    0.031519\n",
       "44          Alaska    0.029841\n",
       "45   West Virginia    0.029293\n",
       "46     Mississippi    0.021731\n",
       "47    South Dakota    0.016500\n",
       "48         Wyoming    0.013822\n",
       "49    North Dakota    0.011687"
      ]
     },
     "execution_count": 263,
     "metadata": {},
     "output_type": "execute_result"
    }
   ],
   "source": [
    "df_b_sum_order = pd.DataFrame(dict_b_sum_order.items(), columns=['State', 'Percentage'])\n",
    "df_b_sum_order"
   ]
  },
  {
   "cell_type": "code",
   "execution_count": null,
   "id": "f5a587e0",
   "metadata": {},
   "outputs": [],
   "source": []
  }
 ],
 "metadata": {
  "kernelspec": {
   "display_name": "PySpark",
   "language": "python",
   "name": "pyspark"
  },
  "language_info": {
   "codemirror_mode": {
    "name": "ipython",
    "version": 3
   },
   "file_extension": ".py",
   "mimetype": "text/x-python",
   "name": "python",
   "nbconvert_exporter": "python",
   "pygments_lexer": "ipython3",
   "version": "3.7.11"
  }
 },
 "nbformat": 4,
 "nbformat_minor": 5
}
